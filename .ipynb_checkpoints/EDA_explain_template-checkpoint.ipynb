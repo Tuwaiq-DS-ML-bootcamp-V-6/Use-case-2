{
 "cells": [
  {
   "cell_type": "code",
   "execution_count": 162,
   "id": "e69c4ba1-85f3-4a02-ae37-c64347a01803",
   "metadata": {
    "ExecuteTime": {
     "end_time": "2024-05-07T21:49:30.284680Z",
     "start_time": "2024-05-07T21:49:30.279805Z"
    }
   },
   "outputs": [],
   "source": [
    "#Import all relevant libraries\n",
    "import numpy as np\n",
    "import pandas as pd\n",
    "import matplotlib.pyplot as plt\n",
    "import seaborn as sns\n",
    "from scipy.stats import zscore # Outliers\n",
    " \n",
    "## This statement allows the visuals to render within your Jupyter Notebook.\n",
    "%matplotlib inline"
   ]
  },
  {
   "cell_type": "markdown",
   "id": "e395e8bf-b530-4720-8d0f-26811e927d6e",
   "metadata": {
    "jp-MarkdownHeadingCollapsed": true
   },
   "source": [
    "## Loading the data\n",
    "We can now load the dataset into pandas using the read_csv() function. This converts the CSV file into a Pandas dataframe."
   ]
  },
  {
   "cell_type": "code",
   "execution_count": 163,
   "id": "cf4030b0-aa7f-4bd7-8e9c-c1b7f4d202d0",
   "metadata": {
    "ExecuteTime": {
     "end_time": "2024-05-07T21:49:30.605209Z",
     "start_time": "2024-05-07T21:49:30.590105Z"
    }
   },
   "outputs": [],
   "source": [
    "# Read in the csv file and convert to a Pandas dataframe\n",
    "df_2015 = pd.read_csv('data_h/2015.csv')\n",
    "df_2016 = pd.read_csv('data_h/2016.csv')\n",
    "df_2017 = pd.read_csv('data_h/2017.csv')\n",
    "df_2018 = pd.read_csv('data_h/2018.csv')\n",
    "df_2019 = pd.read_csv('data_h/2019.csv')"
   ]
  },
  {
   "cell_type": "markdown",
   "id": "ca5ed983-0f72-43eb-8168-6fafd48c562e",
   "metadata": {
    "jp-MarkdownHeadingCollapsed": true
   },
   "source": [
    "### Viewing the dataframe\n",
    "We can get a quick sense of the size of our dataset by using the shape method. This returns a tuple with the number of rows and columns in the dataset."
   ]
  },
  {
   "cell_type": "code",
   "execution_count": 164,
   "id": "bfde0b69-613c-4dd1-8ebf-e4d2e570e653",
   "metadata": {
    "ExecuteTime": {
     "end_time": "2024-05-07T21:49:30.631491Z",
     "start_time": "2024-05-07T21:49:30.625982Z"
    }
   },
   "outputs": [
    {
     "name": "stdout",
     "output_type": "stream",
     "text": [
      "data 2015: (158, 12)\n",
      "data 2016: (157, 13)\n",
      "data 2017: (155, 12)\n",
      "data 2018: (156, 9)\n",
      "data 2019: (156, 9)\n"
     ]
    }
   ],
   "source": [
    "print('data 2015:', df_2015.shape)\n",
    "print('data 2016:', df_2016.shape)\n",
    "print('data 2017:', df_2017.shape)\n",
    "print('data 2018:', df_2018.shape)\n",
    "print('data 2019:', df_2019.shape)"
   ]
  },
  {
   "cell_type": "markdown",
   "id": "bd2b5bc4-db37-4432-b666-0714afd0c4ca",
   "metadata": {},
   "source": [
    "## 1. Data Profiling:\n",
    "Data profiling is a comprehensive process of examining the data available in an existing dataset and collecting statistics and information about that data. "
   ]
  },
  {
   "cell_type": "code",
   "execution_count": 165,
   "id": "87fe441d-07e1-4a1a-b17e-154c9ff2eb60",
   "metadata": {
    "scrolled": true,
    "ExecuteTime": {
     "end_time": "2024-05-07T21:49:30.894377Z",
     "start_time": "2024-05-07T21:49:30.685956Z"
    }
   },
   "outputs": [
    {
     "name": "stdout",
     "output_type": "stream",
     "text": [
      "<class 'pandas.core.frame.DataFrame'>\n",
      "RangeIndex: 158 entries, 0 to 157\n",
      "Data columns (total 12 columns):\n",
      " #   Column                         Non-Null Count  Dtype  \n",
      "---  ------                         --------------  -----  \n",
      " 0   Country                        158 non-null    object \n",
      " 1   Region                         158 non-null    object \n",
      " 2   Happiness Rank                 158 non-null    int64  \n",
      " 3   Happiness Score                158 non-null    float64\n",
      " 4   Standard Error                 158 non-null    float64\n",
      " 5   Economy (GDP per Capita)       158 non-null    float64\n",
      " 6   Family                         158 non-null    float64\n",
      " 7   Health (Life Expectancy)       158 non-null    float64\n",
      " 8   Freedom                        158 non-null    float64\n",
      " 9   Trust (Government Corruption)  158 non-null    float64\n",
      " 10  Generosity                     158 non-null    float64\n",
      " 11  Dystopia Residual              158 non-null    float64\n",
      "dtypes: float64(9), int64(1), object(2)\n",
      "memory usage: 14.9+ KB\n",
      "data 2015: None\n"
     ]
    },
    {
     "data": {
      "text/plain": "       Happiness Rank  Happiness Score  Standard Error  \\\ncount      158.000000       158.000000      158.000000   \nmean        79.493671         5.375734        0.047885   \nstd         45.754363         1.145010        0.017146   \nmin          1.000000         2.839000        0.018480   \n25%         40.250000         4.526000        0.037268   \n50%         79.500000         5.232500        0.043940   \n75%        118.750000         6.243750        0.052300   \nmax        158.000000         7.587000        0.136930   \n\n       Economy (GDP per Capita)      Family  Health (Life Expectancy)  \\\ncount                158.000000  158.000000                158.000000   \nmean                   0.846137    0.991046                  0.630259   \nstd                    0.403121    0.272369                  0.247078   \nmin                    0.000000    0.000000                  0.000000   \n25%                    0.545808    0.856823                  0.439185   \n50%                    0.910245    1.029510                  0.696705   \n75%                    1.158448    1.214405                  0.811013   \nmax                    1.690420    1.402230                  1.025250   \n\n          Freedom  Trust (Government Corruption)  Generosity  \\\ncount  158.000000                     158.000000  158.000000   \nmean     0.428615                       0.143422    0.237296   \nstd      0.150693                       0.120034    0.126685   \nmin      0.000000                       0.000000    0.000000   \n25%      0.328330                       0.061675    0.150553   \n50%      0.435515                       0.107220    0.216130   \n75%      0.549092                       0.180255    0.309883   \nmax      0.669730                       0.551910    0.795880   \n\n       Dystopia Residual  \ncount         158.000000  \nmean            2.098977  \nstd             0.553550  \nmin             0.328580  \n25%             1.759410  \n50%             2.095415  \n75%             2.462415  \nmax             3.602140  ",
      "text/html": "<div>\n<style scoped>\n    .dataframe tbody tr th:only-of-type {\n        vertical-align: middle;\n    }\n\n    .dataframe tbody tr th {\n        vertical-align: top;\n    }\n\n    .dataframe thead th {\n        text-align: right;\n    }\n</style>\n<table border=\"1\" class=\"dataframe\">\n  <thead>\n    <tr style=\"text-align: right;\">\n      <th></th>\n      <th>Happiness Rank</th>\n      <th>Happiness Score</th>\n      <th>Standard Error</th>\n      <th>Economy (GDP per Capita)</th>\n      <th>Family</th>\n      <th>Health (Life Expectancy)</th>\n      <th>Freedom</th>\n      <th>Trust (Government Corruption)</th>\n      <th>Generosity</th>\n      <th>Dystopia Residual</th>\n    </tr>\n  </thead>\n  <tbody>\n    <tr>\n      <th>count</th>\n      <td>158.000000</td>\n      <td>158.000000</td>\n      <td>158.000000</td>\n      <td>158.000000</td>\n      <td>158.000000</td>\n      <td>158.000000</td>\n      <td>158.000000</td>\n      <td>158.000000</td>\n      <td>158.000000</td>\n      <td>158.000000</td>\n    </tr>\n    <tr>\n      <th>mean</th>\n      <td>79.493671</td>\n      <td>5.375734</td>\n      <td>0.047885</td>\n      <td>0.846137</td>\n      <td>0.991046</td>\n      <td>0.630259</td>\n      <td>0.428615</td>\n      <td>0.143422</td>\n      <td>0.237296</td>\n      <td>2.098977</td>\n    </tr>\n    <tr>\n      <th>std</th>\n      <td>45.754363</td>\n      <td>1.145010</td>\n      <td>0.017146</td>\n      <td>0.403121</td>\n      <td>0.272369</td>\n      <td>0.247078</td>\n      <td>0.150693</td>\n      <td>0.120034</td>\n      <td>0.126685</td>\n      <td>0.553550</td>\n    </tr>\n    <tr>\n      <th>min</th>\n      <td>1.000000</td>\n      <td>2.839000</td>\n      <td>0.018480</td>\n      <td>0.000000</td>\n      <td>0.000000</td>\n      <td>0.000000</td>\n      <td>0.000000</td>\n      <td>0.000000</td>\n      <td>0.000000</td>\n      <td>0.328580</td>\n    </tr>\n    <tr>\n      <th>25%</th>\n      <td>40.250000</td>\n      <td>4.526000</td>\n      <td>0.037268</td>\n      <td>0.545808</td>\n      <td>0.856823</td>\n      <td>0.439185</td>\n      <td>0.328330</td>\n      <td>0.061675</td>\n      <td>0.150553</td>\n      <td>1.759410</td>\n    </tr>\n    <tr>\n      <th>50%</th>\n      <td>79.500000</td>\n      <td>5.232500</td>\n      <td>0.043940</td>\n      <td>0.910245</td>\n      <td>1.029510</td>\n      <td>0.696705</td>\n      <td>0.435515</td>\n      <td>0.107220</td>\n      <td>0.216130</td>\n      <td>2.095415</td>\n    </tr>\n    <tr>\n      <th>75%</th>\n      <td>118.750000</td>\n      <td>6.243750</td>\n      <td>0.052300</td>\n      <td>1.158448</td>\n      <td>1.214405</td>\n      <td>0.811013</td>\n      <td>0.549092</td>\n      <td>0.180255</td>\n      <td>0.309883</td>\n      <td>2.462415</td>\n    </tr>\n    <tr>\n      <th>max</th>\n      <td>158.000000</td>\n      <td>7.587000</td>\n      <td>0.136930</td>\n      <td>1.690420</td>\n      <td>1.402230</td>\n      <td>1.025250</td>\n      <td>0.669730</td>\n      <td>0.551910</td>\n      <td>0.795880</td>\n      <td>3.602140</td>\n    </tr>\n  </tbody>\n</table>\n</div>"
     },
     "execution_count": 165,
     "metadata": {},
     "output_type": "execute_result"
    }
   ],
   "source": [
    "print('data 2015:', df_2015.info())\n",
    "df_2015.describe()"
   ]
  },
  {
   "cell_type": "code",
   "outputs": [
    {
     "name": "stdout",
     "output_type": "stream",
     "text": [
      "<class 'pandas.core.frame.DataFrame'>\n",
      "RangeIndex: 157 entries, 0 to 156\n",
      "Data columns (total 13 columns):\n",
      " #   Column                         Non-Null Count  Dtype  \n",
      "---  ------                         --------------  -----  \n",
      " 0   Country                        157 non-null    object \n",
      " 1   Region                         157 non-null    object \n",
      " 2   Happiness Rank                 157 non-null    int64  \n",
      " 3   Happiness Score                157 non-null    float64\n",
      " 4   Lower Confidence Interval      157 non-null    float64\n",
      " 5   Upper Confidence Interval      157 non-null    float64\n",
      " 6   Economy (GDP per Capita)       157 non-null    float64\n",
      " 7   Family                         157 non-null    float64\n",
      " 8   Health (Life Expectancy)       157 non-null    float64\n",
      " 9   Freedom                        157 non-null    float64\n",
      " 10  Trust (Government Corruption)  157 non-null    float64\n",
      " 11  Generosity                     157 non-null    float64\n",
      " 12  Dystopia Residual              157 non-null    float64\n",
      "dtypes: float64(10), int64(1), object(2)\n",
      "memory usage: 16.1+ KB\n",
      "data 2016: None\n"
     ]
    },
    {
     "data": {
      "text/plain": "       Happiness Rank  Happiness Score  Lower Confidence Interval  \\\ncount      157.000000       157.000000                 157.000000   \nmean        78.980892         5.382185                   5.282395   \nstd         45.466030         1.141674                   1.148043   \nmin          1.000000         2.905000                   2.732000   \n25%         40.000000         4.404000                   4.327000   \n50%         79.000000         5.314000                   5.237000   \n75%        118.000000         6.269000                   6.154000   \nmax        157.000000         7.526000                   7.460000   \n\n       Upper Confidence Interval  Economy (GDP per Capita)      Family  \\\ncount                 157.000000                157.000000  157.000000   \nmean                    5.481975                  0.953880    0.793621   \nstd                     1.136493                  0.412595    0.266706   \nmin                     3.078000                  0.000000    0.000000   \n25%                     4.465000                  0.670240    0.641840   \n50%                     5.419000                  1.027800    0.841420   \n75%                     6.434000                  1.279640    1.021520   \nmax                     7.669000                  1.824270    1.183260   \n\n       Health (Life Expectancy)     Freedom  Trust (Government Corruption)  \\\ncount                157.000000  157.000000                     157.000000   \nmean                   0.557619    0.370994                       0.137624   \nstd                    0.229349    0.145507                       0.111038   \nmin                    0.000000    0.000000                       0.000000   \n25%                    0.382910    0.257480                       0.061260   \n50%                    0.596590    0.397470                       0.105470   \n75%                    0.729930    0.484530                       0.175540   \nmax                    0.952770    0.608480                       0.505210   \n\n       Generosity  Dystopia Residual  \ncount  157.000000         157.000000  \nmean     0.242635           2.325807  \nstd      0.133756           0.542220  \nmin      0.000000           0.817890  \n25%      0.154570           2.031710  \n50%      0.222450           2.290740  \n75%      0.311850           2.664650  \nmax      0.819710           3.837720  ",
      "text/html": "<div>\n<style scoped>\n    .dataframe tbody tr th:only-of-type {\n        vertical-align: middle;\n    }\n\n    .dataframe tbody tr th {\n        vertical-align: top;\n    }\n\n    .dataframe thead th {\n        text-align: right;\n    }\n</style>\n<table border=\"1\" class=\"dataframe\">\n  <thead>\n    <tr style=\"text-align: right;\">\n      <th></th>\n      <th>Happiness Rank</th>\n      <th>Happiness Score</th>\n      <th>Lower Confidence Interval</th>\n      <th>Upper Confidence Interval</th>\n      <th>Economy (GDP per Capita)</th>\n      <th>Family</th>\n      <th>Health (Life Expectancy)</th>\n      <th>Freedom</th>\n      <th>Trust (Government Corruption)</th>\n      <th>Generosity</th>\n      <th>Dystopia Residual</th>\n    </tr>\n  </thead>\n  <tbody>\n    <tr>\n      <th>count</th>\n      <td>157.000000</td>\n      <td>157.000000</td>\n      <td>157.000000</td>\n      <td>157.000000</td>\n      <td>157.000000</td>\n      <td>157.000000</td>\n      <td>157.000000</td>\n      <td>157.000000</td>\n      <td>157.000000</td>\n      <td>157.000000</td>\n      <td>157.000000</td>\n    </tr>\n    <tr>\n      <th>mean</th>\n      <td>78.980892</td>\n      <td>5.382185</td>\n      <td>5.282395</td>\n      <td>5.481975</td>\n      <td>0.953880</td>\n      <td>0.793621</td>\n      <td>0.557619</td>\n      <td>0.370994</td>\n      <td>0.137624</td>\n      <td>0.242635</td>\n      <td>2.325807</td>\n    </tr>\n    <tr>\n      <th>std</th>\n      <td>45.466030</td>\n      <td>1.141674</td>\n      <td>1.148043</td>\n      <td>1.136493</td>\n      <td>0.412595</td>\n      <td>0.266706</td>\n      <td>0.229349</td>\n      <td>0.145507</td>\n      <td>0.111038</td>\n      <td>0.133756</td>\n      <td>0.542220</td>\n    </tr>\n    <tr>\n      <th>min</th>\n      <td>1.000000</td>\n      <td>2.905000</td>\n      <td>2.732000</td>\n      <td>3.078000</td>\n      <td>0.000000</td>\n      <td>0.000000</td>\n      <td>0.000000</td>\n      <td>0.000000</td>\n      <td>0.000000</td>\n      <td>0.000000</td>\n      <td>0.817890</td>\n    </tr>\n    <tr>\n      <th>25%</th>\n      <td>40.000000</td>\n      <td>4.404000</td>\n      <td>4.327000</td>\n      <td>4.465000</td>\n      <td>0.670240</td>\n      <td>0.641840</td>\n      <td>0.382910</td>\n      <td>0.257480</td>\n      <td>0.061260</td>\n      <td>0.154570</td>\n      <td>2.031710</td>\n    </tr>\n    <tr>\n      <th>50%</th>\n      <td>79.000000</td>\n      <td>5.314000</td>\n      <td>5.237000</td>\n      <td>5.419000</td>\n      <td>1.027800</td>\n      <td>0.841420</td>\n      <td>0.596590</td>\n      <td>0.397470</td>\n      <td>0.105470</td>\n      <td>0.222450</td>\n      <td>2.290740</td>\n    </tr>\n    <tr>\n      <th>75%</th>\n      <td>118.000000</td>\n      <td>6.269000</td>\n      <td>6.154000</td>\n      <td>6.434000</td>\n      <td>1.279640</td>\n      <td>1.021520</td>\n      <td>0.729930</td>\n      <td>0.484530</td>\n      <td>0.175540</td>\n      <td>0.311850</td>\n      <td>2.664650</td>\n    </tr>\n    <tr>\n      <th>max</th>\n      <td>157.000000</td>\n      <td>7.526000</td>\n      <td>7.460000</td>\n      <td>7.669000</td>\n      <td>1.824270</td>\n      <td>1.183260</td>\n      <td>0.952770</td>\n      <td>0.608480</td>\n      <td>0.505210</td>\n      <td>0.819710</td>\n      <td>3.837720</td>\n    </tr>\n  </tbody>\n</table>\n</div>"
     },
     "execution_count": 166,
     "metadata": {},
     "output_type": "execute_result"
    }
   ],
   "source": [
    "print('data 2016:', df_2016.info())\n",
    "df_2016.describe()"
   ],
   "metadata": {
    "collapsed": false,
    "ExecuteTime": {
     "end_time": "2024-05-07T21:49:30.922721Z",
     "start_time": "2024-05-07T21:49:30.895385Z"
    }
   },
   "id": "d98de81705b58660",
   "execution_count": 166
  },
  {
   "cell_type": "code",
   "outputs": [
    {
     "name": "stdout",
     "output_type": "stream",
     "text": [
      "<class 'pandas.core.frame.DataFrame'>\n",
      "RangeIndex: 155 entries, 0 to 154\n",
      "Data columns (total 12 columns):\n",
      " #   Column                         Non-Null Count  Dtype  \n",
      "---  ------                         --------------  -----  \n",
      " 0   Country                        155 non-null    object \n",
      " 1   Happiness.Rank                 155 non-null    int64  \n",
      " 2   Happiness.Score                155 non-null    float64\n",
      " 3   Whisker.high                   155 non-null    float64\n",
      " 4   Whisker.low                    155 non-null    float64\n",
      " 5   Economy..GDP.per.Capita.       155 non-null    float64\n",
      " 6   Family                         155 non-null    float64\n",
      " 7   Health..Life.Expectancy.       155 non-null    float64\n",
      " 8   Freedom                        155 non-null    float64\n",
      " 9   Generosity                     155 non-null    float64\n",
      " 10  Trust..Government.Corruption.  155 non-null    float64\n",
      " 11  Dystopia.Residual              155 non-null    float64\n",
      "dtypes: float64(10), int64(1), object(1)\n",
      "memory usage: 14.7+ KB\n",
      "data 2017: None\n"
     ]
    },
    {
     "data": {
      "text/plain": "       Happiness.Rank  Happiness.Score  Whisker.high  Whisker.low  \\\ncount      155.000000       155.000000    155.000000   155.000000   \nmean        78.000000         5.354019      5.452326     5.255713   \nstd         44.888751         1.131230      1.118542     1.145030   \nmin          1.000000         2.693000      2.864884     2.521116   \n25%         39.500000         4.505500      4.608172     4.374955   \n50%         78.000000         5.279000      5.370032     5.193152   \n75%        116.500000         6.101500      6.194600     6.006527   \nmax        155.000000         7.537000      7.622030     7.479556   \n\n       Economy..GDP.per.Capita.      Family  Health..Life.Expectancy.  \\\ncount                155.000000  155.000000                155.000000   \nmean                   0.984718    1.188898                  0.551341   \nstd                    0.420793    0.287263                  0.237073   \nmin                    0.000000    0.000000                  0.000000   \n25%                    0.663371    1.042635                  0.369866   \n50%                    1.064578    1.253918                  0.606042   \n75%                    1.318027    1.414316                  0.723008   \nmax                    1.870766    1.610574                  0.949492   \n\n          Freedom  Generosity  Trust..Government.Corruption.  \\\ncount  155.000000  155.000000                     155.000000   \nmean     0.408786    0.246883                       0.123120   \nstd      0.149997    0.134780                       0.101661   \nmin      0.000000    0.000000                       0.000000   \n25%      0.303677    0.154106                       0.057271   \n50%      0.437454    0.231538                       0.089848   \n75%      0.516561    0.323762                       0.153296   \nmax      0.658249    0.838075                       0.464308   \n\n       Dystopia.Residual  \ncount         155.000000  \nmean            1.850238  \nstd             0.500028  \nmin             0.377914  \n25%             1.591291  \n50%             1.832910  \n75%             2.144654  \nmax             3.117485  ",
      "text/html": "<div>\n<style scoped>\n    .dataframe tbody tr th:only-of-type {\n        vertical-align: middle;\n    }\n\n    .dataframe tbody tr th {\n        vertical-align: top;\n    }\n\n    .dataframe thead th {\n        text-align: right;\n    }\n</style>\n<table border=\"1\" class=\"dataframe\">\n  <thead>\n    <tr style=\"text-align: right;\">\n      <th></th>\n      <th>Happiness.Rank</th>\n      <th>Happiness.Score</th>\n      <th>Whisker.high</th>\n      <th>Whisker.low</th>\n      <th>Economy..GDP.per.Capita.</th>\n      <th>Family</th>\n      <th>Health..Life.Expectancy.</th>\n      <th>Freedom</th>\n      <th>Generosity</th>\n      <th>Trust..Government.Corruption.</th>\n      <th>Dystopia.Residual</th>\n    </tr>\n  </thead>\n  <tbody>\n    <tr>\n      <th>count</th>\n      <td>155.000000</td>\n      <td>155.000000</td>\n      <td>155.000000</td>\n      <td>155.000000</td>\n      <td>155.000000</td>\n      <td>155.000000</td>\n      <td>155.000000</td>\n      <td>155.000000</td>\n      <td>155.000000</td>\n      <td>155.000000</td>\n      <td>155.000000</td>\n    </tr>\n    <tr>\n      <th>mean</th>\n      <td>78.000000</td>\n      <td>5.354019</td>\n      <td>5.452326</td>\n      <td>5.255713</td>\n      <td>0.984718</td>\n      <td>1.188898</td>\n      <td>0.551341</td>\n      <td>0.408786</td>\n      <td>0.246883</td>\n      <td>0.123120</td>\n      <td>1.850238</td>\n    </tr>\n    <tr>\n      <th>std</th>\n      <td>44.888751</td>\n      <td>1.131230</td>\n      <td>1.118542</td>\n      <td>1.145030</td>\n      <td>0.420793</td>\n      <td>0.287263</td>\n      <td>0.237073</td>\n      <td>0.149997</td>\n      <td>0.134780</td>\n      <td>0.101661</td>\n      <td>0.500028</td>\n    </tr>\n    <tr>\n      <th>min</th>\n      <td>1.000000</td>\n      <td>2.693000</td>\n      <td>2.864884</td>\n      <td>2.521116</td>\n      <td>0.000000</td>\n      <td>0.000000</td>\n      <td>0.000000</td>\n      <td>0.000000</td>\n      <td>0.000000</td>\n      <td>0.000000</td>\n      <td>0.377914</td>\n    </tr>\n    <tr>\n      <th>25%</th>\n      <td>39.500000</td>\n      <td>4.505500</td>\n      <td>4.608172</td>\n      <td>4.374955</td>\n      <td>0.663371</td>\n      <td>1.042635</td>\n      <td>0.369866</td>\n      <td>0.303677</td>\n      <td>0.154106</td>\n      <td>0.057271</td>\n      <td>1.591291</td>\n    </tr>\n    <tr>\n      <th>50%</th>\n      <td>78.000000</td>\n      <td>5.279000</td>\n      <td>5.370032</td>\n      <td>5.193152</td>\n      <td>1.064578</td>\n      <td>1.253918</td>\n      <td>0.606042</td>\n      <td>0.437454</td>\n      <td>0.231538</td>\n      <td>0.089848</td>\n      <td>1.832910</td>\n    </tr>\n    <tr>\n      <th>75%</th>\n      <td>116.500000</td>\n      <td>6.101500</td>\n      <td>6.194600</td>\n      <td>6.006527</td>\n      <td>1.318027</td>\n      <td>1.414316</td>\n      <td>0.723008</td>\n      <td>0.516561</td>\n      <td>0.323762</td>\n      <td>0.153296</td>\n      <td>2.144654</td>\n    </tr>\n    <tr>\n      <th>max</th>\n      <td>155.000000</td>\n      <td>7.537000</td>\n      <td>7.622030</td>\n      <td>7.479556</td>\n      <td>1.870766</td>\n      <td>1.610574</td>\n      <td>0.949492</td>\n      <td>0.658249</td>\n      <td>0.838075</td>\n      <td>0.464308</td>\n      <td>3.117485</td>\n    </tr>\n  </tbody>\n</table>\n</div>"
     },
     "execution_count": 167,
     "metadata": {},
     "output_type": "execute_result"
    }
   ],
   "source": [
    "print('data 2017:', df_2017.info())\n",
    "df_2017.describe()"
   ],
   "metadata": {
    "collapsed": false,
    "ExecuteTime": {
     "end_time": "2024-05-07T21:49:30.953604Z",
     "start_time": "2024-05-07T21:49:30.923736Z"
    }
   },
   "id": "fdc5ded62ba89509",
   "execution_count": 167
  },
  {
   "cell_type": "code",
   "outputs": [
    {
     "name": "stdout",
     "output_type": "stream",
     "text": [
      "<class 'pandas.core.frame.DataFrame'>\n",
      "RangeIndex: 156 entries, 0 to 155\n",
      "Data columns (total 9 columns):\n",
      " #   Column                        Non-Null Count  Dtype  \n",
      "---  ------                        --------------  -----  \n",
      " 0   Overall rank                  156 non-null    int64  \n",
      " 1   Country or region             156 non-null    object \n",
      " 2   Score                         156 non-null    float64\n",
      " 3   GDP per capita                156 non-null    float64\n",
      " 4   Social support                156 non-null    float64\n",
      " 5   Healthy life expectancy       156 non-null    float64\n",
      " 6   Freedom to make life choices  156 non-null    float64\n",
      " 7   Generosity                    156 non-null    float64\n",
      " 8   Perceptions of corruption     155 non-null    float64\n",
      "dtypes: float64(7), int64(1), object(1)\n",
      "memory usage: 11.1+ KB\n",
      "data 2018: None\n"
     ]
    },
    {
     "data": {
      "text/plain": "       Overall rank       Score  GDP per capita  Social support  \\\ncount    156.000000  156.000000      156.000000      156.000000   \nmean      78.500000    5.375917        0.891449        1.213237   \nstd       45.177428    1.119506        0.391921        0.302372   \nmin        1.000000    2.905000        0.000000        0.000000   \n25%       39.750000    4.453750        0.616250        1.066750   \n50%       78.500000    5.378000        0.949500        1.255000   \n75%      117.250000    6.168500        1.197750        1.463000   \nmax      156.000000    7.632000        2.096000        1.644000   \n\n       Healthy life expectancy  Freedom to make life choices  Generosity  \\\ncount               156.000000                    156.000000  156.000000   \nmean                  0.597346                      0.454506    0.181006   \nstd                   0.247579                      0.162424    0.098471   \nmin                   0.000000                      0.000000    0.000000   \n25%                   0.422250                      0.356000    0.109500   \n50%                   0.644000                      0.487000    0.174000   \n75%                   0.777250                      0.578500    0.239000   \nmax                   1.030000                      0.724000    0.598000   \n\n       Perceptions of corruption  \ncount                 155.000000  \nmean                    0.112000  \nstd                     0.096492  \nmin                     0.000000  \n25%                     0.051000  \n50%                     0.082000  \n75%                     0.137000  \nmax                     0.457000  ",
      "text/html": "<div>\n<style scoped>\n    .dataframe tbody tr th:only-of-type {\n        vertical-align: middle;\n    }\n\n    .dataframe tbody tr th {\n        vertical-align: top;\n    }\n\n    .dataframe thead th {\n        text-align: right;\n    }\n</style>\n<table border=\"1\" class=\"dataframe\">\n  <thead>\n    <tr style=\"text-align: right;\">\n      <th></th>\n      <th>Overall rank</th>\n      <th>Score</th>\n      <th>GDP per capita</th>\n      <th>Social support</th>\n      <th>Healthy life expectancy</th>\n      <th>Freedom to make life choices</th>\n      <th>Generosity</th>\n      <th>Perceptions of corruption</th>\n    </tr>\n  </thead>\n  <tbody>\n    <tr>\n      <th>count</th>\n      <td>156.000000</td>\n      <td>156.000000</td>\n      <td>156.000000</td>\n      <td>156.000000</td>\n      <td>156.000000</td>\n      <td>156.000000</td>\n      <td>156.000000</td>\n      <td>155.000000</td>\n    </tr>\n    <tr>\n      <th>mean</th>\n      <td>78.500000</td>\n      <td>5.375917</td>\n      <td>0.891449</td>\n      <td>1.213237</td>\n      <td>0.597346</td>\n      <td>0.454506</td>\n      <td>0.181006</td>\n      <td>0.112000</td>\n    </tr>\n    <tr>\n      <th>std</th>\n      <td>45.177428</td>\n      <td>1.119506</td>\n      <td>0.391921</td>\n      <td>0.302372</td>\n      <td>0.247579</td>\n      <td>0.162424</td>\n      <td>0.098471</td>\n      <td>0.096492</td>\n    </tr>\n    <tr>\n      <th>min</th>\n      <td>1.000000</td>\n      <td>2.905000</td>\n      <td>0.000000</td>\n      <td>0.000000</td>\n      <td>0.000000</td>\n      <td>0.000000</td>\n      <td>0.000000</td>\n      <td>0.000000</td>\n    </tr>\n    <tr>\n      <th>25%</th>\n      <td>39.750000</td>\n      <td>4.453750</td>\n      <td>0.616250</td>\n      <td>1.066750</td>\n      <td>0.422250</td>\n      <td>0.356000</td>\n      <td>0.109500</td>\n      <td>0.051000</td>\n    </tr>\n    <tr>\n      <th>50%</th>\n      <td>78.500000</td>\n      <td>5.378000</td>\n      <td>0.949500</td>\n      <td>1.255000</td>\n      <td>0.644000</td>\n      <td>0.487000</td>\n      <td>0.174000</td>\n      <td>0.082000</td>\n    </tr>\n    <tr>\n      <th>75%</th>\n      <td>117.250000</td>\n      <td>6.168500</td>\n      <td>1.197750</td>\n      <td>1.463000</td>\n      <td>0.777250</td>\n      <td>0.578500</td>\n      <td>0.239000</td>\n      <td>0.137000</td>\n    </tr>\n    <tr>\n      <th>max</th>\n      <td>156.000000</td>\n      <td>7.632000</td>\n      <td>2.096000</td>\n      <td>1.644000</td>\n      <td>1.030000</td>\n      <td>0.724000</td>\n      <td>0.598000</td>\n      <td>0.457000</td>\n    </tr>\n  </tbody>\n</table>\n</div>"
     },
     "execution_count": 168,
     "metadata": {},
     "output_type": "execute_result"
    }
   ],
   "source": [
    "print('data 2018:', df_2018.info())\n",
    "df_2018.describe()"
   ],
   "metadata": {
    "collapsed": false,
    "ExecuteTime": {
     "end_time": "2024-05-07T21:49:30.979307Z",
     "start_time": "2024-05-07T21:49:30.955119Z"
    }
   },
   "id": "bfc594318905f0c1",
   "execution_count": 168
  },
  {
   "cell_type": "code",
   "outputs": [
    {
     "name": "stdout",
     "output_type": "stream",
     "text": [
      "<class 'pandas.core.frame.DataFrame'>\n",
      "RangeIndex: 156 entries, 0 to 155\n",
      "Data columns (total 9 columns):\n",
      " #   Column                        Non-Null Count  Dtype  \n",
      "---  ------                        --------------  -----  \n",
      " 0   Overall rank                  156 non-null    int64  \n",
      " 1   Country or region             156 non-null    object \n",
      " 2   Score                         156 non-null    float64\n",
      " 3   GDP per capita                156 non-null    float64\n",
      " 4   Social support                156 non-null    float64\n",
      " 5   Healthy life expectancy       156 non-null    float64\n",
      " 6   Freedom to make life choices  156 non-null    float64\n",
      " 7   Generosity                    156 non-null    float64\n",
      " 8   Perceptions of corruption     156 non-null    float64\n",
      "dtypes: float64(7), int64(1), object(1)\n",
      "memory usage: 11.1+ KB\n",
      "data 2019: None\n"
     ]
    },
    {
     "data": {
      "text/plain": "       Overall rank       Score  GDP per capita  Social support  \\\ncount    156.000000  156.000000      156.000000      156.000000   \nmean      78.500000    5.407096        0.905147        1.208814   \nstd       45.177428    1.113120        0.398389        0.299191   \nmin        1.000000    2.853000        0.000000        0.000000   \n25%       39.750000    4.544500        0.602750        1.055750   \n50%       78.500000    5.379500        0.960000        1.271500   \n75%      117.250000    6.184500        1.232500        1.452500   \nmax      156.000000    7.769000        1.684000        1.624000   \n\n       Healthy life expectancy  Freedom to make life choices  Generosity  \\\ncount               156.000000                    156.000000  156.000000   \nmean                  0.725244                      0.392571    0.184846   \nstd                   0.242124                      0.143289    0.095254   \nmin                   0.000000                      0.000000    0.000000   \n25%                   0.547750                      0.308000    0.108750   \n50%                   0.789000                      0.417000    0.177500   \n75%                   0.881750                      0.507250    0.248250   \nmax                   1.141000                      0.631000    0.566000   \n\n       Perceptions of corruption  \ncount                 156.000000  \nmean                    0.110603  \nstd                     0.094538  \nmin                     0.000000  \n25%                     0.047000  \n50%                     0.085500  \n75%                     0.141250  \nmax                     0.453000  ",
      "text/html": "<div>\n<style scoped>\n    .dataframe tbody tr th:only-of-type {\n        vertical-align: middle;\n    }\n\n    .dataframe tbody tr th {\n        vertical-align: top;\n    }\n\n    .dataframe thead th {\n        text-align: right;\n    }\n</style>\n<table border=\"1\" class=\"dataframe\">\n  <thead>\n    <tr style=\"text-align: right;\">\n      <th></th>\n      <th>Overall rank</th>\n      <th>Score</th>\n      <th>GDP per capita</th>\n      <th>Social support</th>\n      <th>Healthy life expectancy</th>\n      <th>Freedom to make life choices</th>\n      <th>Generosity</th>\n      <th>Perceptions of corruption</th>\n    </tr>\n  </thead>\n  <tbody>\n    <tr>\n      <th>count</th>\n      <td>156.000000</td>\n      <td>156.000000</td>\n      <td>156.000000</td>\n      <td>156.000000</td>\n      <td>156.000000</td>\n      <td>156.000000</td>\n      <td>156.000000</td>\n      <td>156.000000</td>\n    </tr>\n    <tr>\n      <th>mean</th>\n      <td>78.500000</td>\n      <td>5.407096</td>\n      <td>0.905147</td>\n      <td>1.208814</td>\n      <td>0.725244</td>\n      <td>0.392571</td>\n      <td>0.184846</td>\n      <td>0.110603</td>\n    </tr>\n    <tr>\n      <th>std</th>\n      <td>45.177428</td>\n      <td>1.113120</td>\n      <td>0.398389</td>\n      <td>0.299191</td>\n      <td>0.242124</td>\n      <td>0.143289</td>\n      <td>0.095254</td>\n      <td>0.094538</td>\n    </tr>\n    <tr>\n      <th>min</th>\n      <td>1.000000</td>\n      <td>2.853000</td>\n      <td>0.000000</td>\n      <td>0.000000</td>\n      <td>0.000000</td>\n      <td>0.000000</td>\n      <td>0.000000</td>\n      <td>0.000000</td>\n    </tr>\n    <tr>\n      <th>25%</th>\n      <td>39.750000</td>\n      <td>4.544500</td>\n      <td>0.602750</td>\n      <td>1.055750</td>\n      <td>0.547750</td>\n      <td>0.308000</td>\n      <td>0.108750</td>\n      <td>0.047000</td>\n    </tr>\n    <tr>\n      <th>50%</th>\n      <td>78.500000</td>\n      <td>5.379500</td>\n      <td>0.960000</td>\n      <td>1.271500</td>\n      <td>0.789000</td>\n      <td>0.417000</td>\n      <td>0.177500</td>\n      <td>0.085500</td>\n    </tr>\n    <tr>\n      <th>75%</th>\n      <td>117.250000</td>\n      <td>6.184500</td>\n      <td>1.232500</td>\n      <td>1.452500</td>\n      <td>0.881750</td>\n      <td>0.507250</td>\n      <td>0.248250</td>\n      <td>0.141250</td>\n    </tr>\n    <tr>\n      <th>max</th>\n      <td>156.000000</td>\n      <td>7.769000</td>\n      <td>1.684000</td>\n      <td>1.624000</td>\n      <td>1.141000</td>\n      <td>0.631000</td>\n      <td>0.566000</td>\n      <td>0.453000</td>\n    </tr>\n  </tbody>\n</table>\n</div>"
     },
     "execution_count": 169,
     "metadata": {},
     "output_type": "execute_result"
    }
   ],
   "source": [
    "print('data 2019:', df_2019.info())\n",
    "df_2019.describe()"
   ],
   "metadata": {
    "collapsed": false,
    "ExecuteTime": {
     "end_time": "2024-05-07T21:49:31.002328Z",
     "start_time": "2024-05-07T21:49:30.979821Z"
    }
   },
   "id": "23e6cde63f5b0630",
   "execution_count": 169
  },
  {
   "cell_type": "markdown",
   "id": "834929aa-fd6a-4ec5-84d4-77c4b3c1a506",
   "metadata": {},
   "source": [
    "The process of profiling differs slightly for categorical and numerical variables due to their inherent differences.\n",
    "\n",
    "**The two main types of data are:**\n",
    "- Quantitative (numerical) data\n",
    "- Qualitative (categorical) data"
   ]
  },
  {
   "cell_type": "markdown",
   "id": "3a9954f5-6fbc-45b4-ad86-3e21b6e0ca2d",
   "metadata": {},
   "source": [
    "### Data Quality Checks\n",
    "Data quality checks involve the process of ensuring that the data is accurate, complete, consistent, relevant, and reliable. \n",
    "\n",
    "\n",
    "**Here are typical steps involved in checking data quality:**"
   ]
  },
  {
   "cell_type": "markdown",
   "id": "4818c876-173d-4e56-9e7d-b4334d2def25",
   "metadata": {
    "jp-MarkdownHeadingCollapsed": true
   },
   "source": [
    "#### 1. Reliability:\n",
    "Evaluate the data's source and collection process to determine its trustworthiness."
   ]
  },
  {
   "cell_type": "code",
   "execution_count": 170,
   "id": "9034ae7b-dc1d-4cba-8f9e-bb499d021cde",
   "metadata": {
    "ExecuteTime": {
     "end_time": "2024-05-07T21:49:31.017102Z",
     "start_time": "2024-05-07T21:49:31.003336Z"
    }
   },
   "outputs": [
    {
     "name": "stdout",
     "output_type": "stream",
     "text": [
      "Number of NAN values in 2015:  0\n",
      "Number of NAN values in 2016:  0\n",
      "Number of NAN values in 2017:  0\n",
      "Number of NAN values in 2018:  1\n",
      "Number of NAN values in 2019:  0\n",
      "Columns with NAN values in 2018:  ['Perceptions of corruption']\n"
     ]
    },
    {
     "data": {
      "text/plain": "    Overall rank     Country or region  Score  GDP per capita  Social support  \\\n19            20  United Arab Emirates  6.774           2.096           0.776   \n\n    Healthy life expectancy  Freedom to make life choices  Generosity  \\\n19                     0.67                         0.284       0.186   \n\n    Perceptions of corruption  \n19                        NaN  ",
      "text/html": "<div>\n<style scoped>\n    .dataframe tbody tr th:only-of-type {\n        vertical-align: middle;\n    }\n\n    .dataframe tbody tr th {\n        vertical-align: top;\n    }\n\n    .dataframe thead th {\n        text-align: right;\n    }\n</style>\n<table border=\"1\" class=\"dataframe\">\n  <thead>\n    <tr style=\"text-align: right;\">\n      <th></th>\n      <th>Overall rank</th>\n      <th>Country or region</th>\n      <th>Score</th>\n      <th>GDP per capita</th>\n      <th>Social support</th>\n      <th>Healthy life expectancy</th>\n      <th>Freedom to make life choices</th>\n      <th>Generosity</th>\n      <th>Perceptions of corruption</th>\n    </tr>\n  </thead>\n  <tbody>\n    <tr>\n      <th>19</th>\n      <td>20</td>\n      <td>United Arab Emirates</td>\n      <td>6.774</td>\n      <td>2.096</td>\n      <td>0.776</td>\n      <td>0.67</td>\n      <td>0.284</td>\n      <td>0.186</td>\n      <td>NaN</td>\n    </tr>\n  </tbody>\n</table>\n</div>"
     },
     "execution_count": 170,
     "metadata": {},
     "output_type": "execute_result"
    }
   ],
   "source": [
    "# check for countries or regions that are not in the dataset\n",
    "# We can see that most of the variables are as good as it should be\n",
    "print('Number of NAN values in 2015: ', df_2015.isna().sum().sum())\n",
    "print('Number of NAN values in 2016: ', df_2016.isna().sum().sum())\n",
    "print('Number of NAN values in 2017: ', df_2017.isna().sum().sum())\n",
    "print('Number of NAN values in 2018: ', df_2018.isna().sum().sum())\n",
    "print('Number of NAN values in 2019: ', df_2019.isna().sum().sum())\n",
    "\n",
    "# 2018 has one column with a NAN value\n",
    "print('Columns with NAN values in 2018: ', df_2018.columns[df_2018.isna().any()].tolist())\n",
    "df_2018[df_2018.isna().any(axis=1)]"
   ]
  },
  {
   "cell_type": "markdown",
   "id": "2ce0cc59-8c92-4acc-8d07-c40764e1a86b",
   "metadata": {},
   "source": [
    "#### 2. Timeliness: \n",
    "Ensure the data is up-to-date and reflective of the current situation or the period of interest for the analysis."
   ]
  },
  {
   "cell_type": "code",
   "execution_count": 170,
   "id": "4b78ae35-7226-4cb6-b8b2-a46c2ed17cf9",
   "metadata": {
    "ExecuteTime": {
     "end_time": "2024-05-07T21:49:31.050017Z",
     "start_time": "2024-05-07T21:49:31.047208Z"
    }
   },
   "outputs": [],
   "source": []
  },
  {
   "cell_type": "markdown",
   "id": "7fab0fe2-6624-4615-b9d8-3c3669056bf8",
   "metadata": {
    "jp-MarkdownHeadingCollapsed": true
   },
   "source": [
    "#### 3. Consistency: \n",
    "\n",
    "Confirm that the data is consistent within the dataset and across multiple data sources. For example, the same data point should not have different values in different places.\n"
   ]
  },
  {
   "cell_type": "code",
   "execution_count": 171,
   "id": "7fecc573-959f-4800-8ddd-a67985c68b18",
   "metadata": {
    "ExecuteTime": {
     "end_time": "2024-05-07T21:49:31.213312Z",
     "start_time": "2024-05-07T21:49:31.206859Z"
    }
   },
   "outputs": [
    {
     "name": "stdout",
     "output_type": "stream",
     "text": [
      "2015: range of happenes ( 7.587  ,  2.839 )\n",
      "2016: range of happenes ( 7.526  ,  2.905 )\n",
      "2017: range of happenes ( 7.53700017929077  ,  2.69300007820129 )\n",
      "2018: range of happenes ( 7.632  ,  2.905 )\n",
      "2019: range of happenes ( 7.769  ,  2.853 )\n"
     ]
    }
   ],
   "source": [
    "#  print happeness scores for all dataframes\n",
    "print('2015: range of happenes (', df_2015['Happiness Score'].max(),' , ', df_2015['Happiness Score'].min(),')')\n",
    "print('2016: range of happenes (', df_2016['Happiness Score'].max(),' , ', df_2016['Happiness Score'].min(),')')\n",
    "print('2017: range of happenes (', df_2017['Happiness.Score'].max(),' , ', df_2017['Happiness.Score'].min(),')')\n",
    "print('2018: range of happenes (', df_2018['Score'].max(),' , ', df_2018['Score'].min(),')')\n",
    "print('2019: range of happenes (', df_2019['Score'].max(),' , ', df_2019['Score'].min(),')')"
   ]
  },
  {
   "cell_type": "markdown",
   "id": "bec3d183-bba0-4b12-b963-487daab1e876",
   "metadata": {
    "jp-MarkdownHeadingCollapsed": true
   },
   "source": [
    "#### 4. Relevance: \n",
    "Assess whether the data is appropriate and applicable for the intended analysis. Data that is not relevant can skew results and lead to incorrect conclusions.\n",
    "\n",
    "**Key considerations for relevance include:**\n",
    "\n",
    "> 1. Sample Appropriateness: Confirm that your data sample aligns with your analysis objectives. For instance, utilizing data from the Northern region will not yield accurate insights for the Western region of the Kingdom.\n",
    ">\n",
    "> 2. Variable Selection: Any column will not be relevant for our analysis, we can get rid of these using the drop() method. We will set the “axis” argument to 1 since we’re dealing with columns, and set the “inplace” argument to True to make the change permanent.\n"
   ]
  },
  {
   "cell_type": "code",
   "execution_count": 172,
   "id": "50a934b7-a0cd-443f-8a27-f10e9a6e8647",
   "metadata": {
    "scrolled": true,
    "ExecuteTime": {
     "end_time": "2024-05-07T21:49:31.526450Z",
     "start_time": "2024-05-07T21:49:31.521643Z"
    }
   },
   "outputs": [
    {
     "name": "stdout",
     "output_type": "stream",
     "text": [
      "2015:  Index(['Country', 'Region', 'Happiness Rank', 'Happiness Score',\n",
      "       'Standard Error', 'Economy (GDP per Capita)', 'Family',\n",
      "       'Health (Life Expectancy)', 'Freedom', 'Trust (Government Corruption)',\n",
      "       'Generosity', 'Dystopia Residual'],\n",
      "      dtype='object')\n",
      "2016:  Index(['Country', 'Region', 'Happiness Rank', 'Happiness Score',\n",
      "       'Lower Confidence Interval', 'Upper Confidence Interval',\n",
      "       'Economy (GDP per Capita)', 'Family', 'Health (Life Expectancy)',\n",
      "       'Freedom', 'Trust (Government Corruption)', 'Generosity',\n",
      "       'Dystopia Residual'],\n",
      "      dtype='object')\n",
      "2017:  Index(['Country', 'Happiness.Rank', 'Happiness.Score', 'Whisker.high',\n",
      "       'Whisker.low', 'Economy..GDP.per.Capita.', 'Family',\n",
      "       'Health..Life.Expectancy.', 'Freedom', 'Generosity',\n",
      "       'Trust..Government.Corruption.', 'Dystopia.Residual'],\n",
      "      dtype='object')\n",
      "2018:  Index(['Overall rank', 'Country or region', 'Score', 'GDP per capita',\n",
      "       'Social support', 'Healthy life expectancy',\n",
      "       'Freedom to make life choices', 'Generosity',\n",
      "       'Perceptions of corruption'],\n",
      "      dtype='object')\n",
      "2019:  Index(['Overall rank', 'Country or region', 'Score', 'GDP per capita',\n",
      "       'Social support', 'Healthy life expectancy',\n",
      "       'Freedom to make life choices', 'Generosity',\n",
      "       'Perceptions of corruption'],\n",
      "      dtype='object')\n"
     ]
    }
   ],
   "source": [
    "# check for columns that are not relevant\n",
    "print('2015: ', df_2015.columns)\n",
    "print('2016: ', df_2016.columns)\n",
    "print('2017: ', df_2017.columns)\n",
    "print('2018: ', df_2018.columns)\n",
    "print('2019: ', df_2019.columns)"
   ]
  },
  {
   "cell_type": "code",
   "execution_count": 173,
   "id": "3d1a2ba7-c71b-4d17-883b-0cb4dd42211a",
   "metadata": {
    "ExecuteTime": {
     "end_time": "2024-05-07T21:49:31.792727Z",
     "start_time": "2024-05-07T21:49:31.786331Z"
    }
   },
   "outputs": [],
   "source": [
    "df_2015_new = df_2015.drop(['Standard Error', 'Economy (GDP per Capita)','Generosity'], axis=1)\n",
    "df_2016_new = df_2016.drop(['Economy (GDP per Capita)','Generosity'], axis=1)\n",
    "df_2017_new = df_2017.drop(['Whisker.high','Whisker.low','Economy..GDP.per.Capita.','Generosity'], axis=1)\n",
    "df_2018_new = df_2018.drop(['GDP per capita','Generosity'], axis=1)\n",
    "df_2019_new = df_2019.drop(['GDP per capita','Generosity'], axis=1)"
   ]
  },
  {
   "cell_type": "code",
   "outputs": [
    {
     "name": "stdout",
     "output_type": "stream",
     "text": [
      "<class 'pandas.core.frame.DataFrame'>\n",
      "RangeIndex: 158 entries, 0 to 157\n",
      "Data columns (total 9 columns):\n",
      " #   Column                         Non-Null Count  Dtype  \n",
      "---  ------                         --------------  -----  \n",
      " 0   Country                        158 non-null    object \n",
      " 1   Region                         158 non-null    object \n",
      " 2   Happiness Rank                 158 non-null    int64  \n",
      " 3   Happiness Score                158 non-null    float64\n",
      " 4   Family                         158 non-null    float64\n",
      " 5   Health (Life Expectancy)       158 non-null    float64\n",
      " 6   Freedom                        158 non-null    float64\n",
      " 7   Trust (Government Corruption)  158 non-null    float64\n",
      " 8   Dystopia Residual              158 non-null    float64\n",
      "dtypes: float64(6), int64(1), object(2)\n",
      "memory usage: 11.2+ KB\n",
      "data 2015 new: None\n"
     ]
    },
    {
     "data": {
      "text/plain": "       Happiness Rank  Happiness Score      Family  Health (Life Expectancy)  \\\ncount      158.000000       158.000000  158.000000                158.000000   \nmean        79.493671         5.375734    0.991046                  0.630259   \nstd         45.754363         1.145010    0.272369                  0.247078   \nmin          1.000000         2.839000    0.000000                  0.000000   \n25%         40.250000         4.526000    0.856823                  0.439185   \n50%         79.500000         5.232500    1.029510                  0.696705   \n75%        118.750000         6.243750    1.214405                  0.811013   \nmax        158.000000         7.587000    1.402230                  1.025250   \n\n          Freedom  Trust (Government Corruption)  Dystopia Residual  \ncount  158.000000                     158.000000         158.000000  \nmean     0.428615                       0.143422           2.098977  \nstd      0.150693                       0.120034           0.553550  \nmin      0.000000                       0.000000           0.328580  \n25%      0.328330                       0.061675           1.759410  \n50%      0.435515                       0.107220           2.095415  \n75%      0.549092                       0.180255           2.462415  \nmax      0.669730                       0.551910           3.602140  ",
      "text/html": "<div>\n<style scoped>\n    .dataframe tbody tr th:only-of-type {\n        vertical-align: middle;\n    }\n\n    .dataframe tbody tr th {\n        vertical-align: top;\n    }\n\n    .dataframe thead th {\n        text-align: right;\n    }\n</style>\n<table border=\"1\" class=\"dataframe\">\n  <thead>\n    <tr style=\"text-align: right;\">\n      <th></th>\n      <th>Happiness Rank</th>\n      <th>Happiness Score</th>\n      <th>Family</th>\n      <th>Health (Life Expectancy)</th>\n      <th>Freedom</th>\n      <th>Trust (Government Corruption)</th>\n      <th>Dystopia Residual</th>\n    </tr>\n  </thead>\n  <tbody>\n    <tr>\n      <th>count</th>\n      <td>158.000000</td>\n      <td>158.000000</td>\n      <td>158.000000</td>\n      <td>158.000000</td>\n      <td>158.000000</td>\n      <td>158.000000</td>\n      <td>158.000000</td>\n    </tr>\n    <tr>\n      <th>mean</th>\n      <td>79.493671</td>\n      <td>5.375734</td>\n      <td>0.991046</td>\n      <td>0.630259</td>\n      <td>0.428615</td>\n      <td>0.143422</td>\n      <td>2.098977</td>\n    </tr>\n    <tr>\n      <th>std</th>\n      <td>45.754363</td>\n      <td>1.145010</td>\n      <td>0.272369</td>\n      <td>0.247078</td>\n      <td>0.150693</td>\n      <td>0.120034</td>\n      <td>0.553550</td>\n    </tr>\n    <tr>\n      <th>min</th>\n      <td>1.000000</td>\n      <td>2.839000</td>\n      <td>0.000000</td>\n      <td>0.000000</td>\n      <td>0.000000</td>\n      <td>0.000000</td>\n      <td>0.328580</td>\n    </tr>\n    <tr>\n      <th>25%</th>\n      <td>40.250000</td>\n      <td>4.526000</td>\n      <td>0.856823</td>\n      <td>0.439185</td>\n      <td>0.328330</td>\n      <td>0.061675</td>\n      <td>1.759410</td>\n    </tr>\n    <tr>\n      <th>50%</th>\n      <td>79.500000</td>\n      <td>5.232500</td>\n      <td>1.029510</td>\n      <td>0.696705</td>\n      <td>0.435515</td>\n      <td>0.107220</td>\n      <td>2.095415</td>\n    </tr>\n    <tr>\n      <th>75%</th>\n      <td>118.750000</td>\n      <td>6.243750</td>\n      <td>1.214405</td>\n      <td>0.811013</td>\n      <td>0.549092</td>\n      <td>0.180255</td>\n      <td>2.462415</td>\n    </tr>\n    <tr>\n      <th>max</th>\n      <td>158.000000</td>\n      <td>7.587000</td>\n      <td>1.402230</td>\n      <td>1.025250</td>\n      <td>0.669730</td>\n      <td>0.551910</td>\n      <td>3.602140</td>\n    </tr>\n  </tbody>\n</table>\n</div>"
     },
     "execution_count": 174,
     "metadata": {},
     "output_type": "execute_result"
    }
   ],
   "source": [
    "print('data 2015 new:', df_2015_new.info())\n",
    "df_2015_new.describe()"
   ],
   "metadata": {
    "collapsed": false,
    "ExecuteTime": {
     "end_time": "2024-05-07T21:49:31.849025Z",
     "start_time": "2024-05-07T21:49:31.826853Z"
    }
   },
   "id": "498b90db7224df62",
   "execution_count": 174
  },
  {
   "cell_type": "code",
   "outputs": [
    {
     "name": "stdout",
     "output_type": "stream",
     "text": [
      "<class 'pandas.core.frame.DataFrame'>\n",
      "RangeIndex: 157 entries, 0 to 156\n",
      "Data columns (total 11 columns):\n",
      " #   Column                         Non-Null Count  Dtype  \n",
      "---  ------                         --------------  -----  \n",
      " 0   Country                        157 non-null    object \n",
      " 1   Region                         157 non-null    object \n",
      " 2   Happiness Rank                 157 non-null    int64  \n",
      " 3   Happiness Score                157 non-null    float64\n",
      " 4   Lower Confidence Interval      157 non-null    float64\n",
      " 5   Upper Confidence Interval      157 non-null    float64\n",
      " 6   Family                         157 non-null    float64\n",
      " 7   Health (Life Expectancy)       157 non-null    float64\n",
      " 8   Freedom                        157 non-null    float64\n",
      " 9   Trust (Government Corruption)  157 non-null    float64\n",
      " 10  Dystopia Residual              157 non-null    float64\n",
      "dtypes: float64(8), int64(1), object(2)\n",
      "memory usage: 13.6+ KB\n",
      "data 2016: None\n"
     ]
    },
    {
     "data": {
      "text/plain": "       Happiness Rank  Happiness Score  Lower Confidence Interval  \\\ncount      157.000000       157.000000                 157.000000   \nmean        78.980892         5.382185                   5.282395   \nstd         45.466030         1.141674                   1.148043   \nmin          1.000000         2.905000                   2.732000   \n25%         40.000000         4.404000                   4.327000   \n50%         79.000000         5.314000                   5.237000   \n75%        118.000000         6.269000                   6.154000   \nmax        157.000000         7.526000                   7.460000   \n\n       Upper Confidence Interval      Family  Health (Life Expectancy)  \\\ncount                 157.000000  157.000000                157.000000   \nmean                    5.481975    0.793621                  0.557619   \nstd                     1.136493    0.266706                  0.229349   \nmin                     3.078000    0.000000                  0.000000   \n25%                     4.465000    0.641840                  0.382910   \n50%                     5.419000    0.841420                  0.596590   \n75%                     6.434000    1.021520                  0.729930   \nmax                     7.669000    1.183260                  0.952770   \n\n          Freedom  Trust (Government Corruption)  Dystopia Residual  \ncount  157.000000                     157.000000         157.000000  \nmean     0.370994                       0.137624           2.325807  \nstd      0.145507                       0.111038           0.542220  \nmin      0.000000                       0.000000           0.817890  \n25%      0.257480                       0.061260           2.031710  \n50%      0.397470                       0.105470           2.290740  \n75%      0.484530                       0.175540           2.664650  \nmax      0.608480                       0.505210           3.837720  ",
      "text/html": "<div>\n<style scoped>\n    .dataframe tbody tr th:only-of-type {\n        vertical-align: middle;\n    }\n\n    .dataframe tbody tr th {\n        vertical-align: top;\n    }\n\n    .dataframe thead th {\n        text-align: right;\n    }\n</style>\n<table border=\"1\" class=\"dataframe\">\n  <thead>\n    <tr style=\"text-align: right;\">\n      <th></th>\n      <th>Happiness Rank</th>\n      <th>Happiness Score</th>\n      <th>Lower Confidence Interval</th>\n      <th>Upper Confidence Interval</th>\n      <th>Family</th>\n      <th>Health (Life Expectancy)</th>\n      <th>Freedom</th>\n      <th>Trust (Government Corruption)</th>\n      <th>Dystopia Residual</th>\n    </tr>\n  </thead>\n  <tbody>\n    <tr>\n      <th>count</th>\n      <td>157.000000</td>\n      <td>157.000000</td>\n      <td>157.000000</td>\n      <td>157.000000</td>\n      <td>157.000000</td>\n      <td>157.000000</td>\n      <td>157.000000</td>\n      <td>157.000000</td>\n      <td>157.000000</td>\n    </tr>\n    <tr>\n      <th>mean</th>\n      <td>78.980892</td>\n      <td>5.382185</td>\n      <td>5.282395</td>\n      <td>5.481975</td>\n      <td>0.793621</td>\n      <td>0.557619</td>\n      <td>0.370994</td>\n      <td>0.137624</td>\n      <td>2.325807</td>\n    </tr>\n    <tr>\n      <th>std</th>\n      <td>45.466030</td>\n      <td>1.141674</td>\n      <td>1.148043</td>\n      <td>1.136493</td>\n      <td>0.266706</td>\n      <td>0.229349</td>\n      <td>0.145507</td>\n      <td>0.111038</td>\n      <td>0.542220</td>\n    </tr>\n    <tr>\n      <th>min</th>\n      <td>1.000000</td>\n      <td>2.905000</td>\n      <td>2.732000</td>\n      <td>3.078000</td>\n      <td>0.000000</td>\n      <td>0.000000</td>\n      <td>0.000000</td>\n      <td>0.000000</td>\n      <td>0.817890</td>\n    </tr>\n    <tr>\n      <th>25%</th>\n      <td>40.000000</td>\n      <td>4.404000</td>\n      <td>4.327000</td>\n      <td>4.465000</td>\n      <td>0.641840</td>\n      <td>0.382910</td>\n      <td>0.257480</td>\n      <td>0.061260</td>\n      <td>2.031710</td>\n    </tr>\n    <tr>\n      <th>50%</th>\n      <td>79.000000</td>\n      <td>5.314000</td>\n      <td>5.237000</td>\n      <td>5.419000</td>\n      <td>0.841420</td>\n      <td>0.596590</td>\n      <td>0.397470</td>\n      <td>0.105470</td>\n      <td>2.290740</td>\n    </tr>\n    <tr>\n      <th>75%</th>\n      <td>118.000000</td>\n      <td>6.269000</td>\n      <td>6.154000</td>\n      <td>6.434000</td>\n      <td>1.021520</td>\n      <td>0.729930</td>\n      <td>0.484530</td>\n      <td>0.175540</td>\n      <td>2.664650</td>\n    </tr>\n    <tr>\n      <th>max</th>\n      <td>157.000000</td>\n      <td>7.526000</td>\n      <td>7.460000</td>\n      <td>7.669000</td>\n      <td>1.183260</td>\n      <td>0.952770</td>\n      <td>0.608480</td>\n      <td>0.505210</td>\n      <td>3.837720</td>\n    </tr>\n  </tbody>\n</table>\n</div>"
     },
     "execution_count": 175,
     "metadata": {},
     "output_type": "execute_result"
    }
   ],
   "source": [
    "print('data 2016:', df_2016_new.info())\n",
    "df_2016_new.describe()"
   ],
   "metadata": {
    "collapsed": false,
    "ExecuteTime": {
     "end_time": "2024-05-07T21:49:31.915031Z",
     "start_time": "2024-05-07T21:49:31.889187Z"
    }
   },
   "id": "adde0290bca84c87",
   "execution_count": 175
  },
  {
   "cell_type": "code",
   "outputs": [
    {
     "name": "stdout",
     "output_type": "stream",
     "text": [
      "<class 'pandas.core.frame.DataFrame'>\n",
      "RangeIndex: 155 entries, 0 to 154\n",
      "Data columns (total 8 columns):\n",
      " #   Column                         Non-Null Count  Dtype  \n",
      "---  ------                         --------------  -----  \n",
      " 0   Country                        155 non-null    object \n",
      " 1   Happiness.Rank                 155 non-null    int64  \n",
      " 2   Happiness.Score                155 non-null    float64\n",
      " 3   Family                         155 non-null    float64\n",
      " 4   Health..Life.Expectancy.       155 non-null    float64\n",
      " 5   Freedom                        155 non-null    float64\n",
      " 6   Trust..Government.Corruption.  155 non-null    float64\n",
      " 7   Dystopia.Residual              155 non-null    float64\n",
      "dtypes: float64(6), int64(1), object(1)\n",
      "memory usage: 9.8+ KB\n",
      "data 2017: None\n"
     ]
    },
    {
     "data": {
      "text/plain": "       Happiness.Rank  Happiness.Score      Family  Health..Life.Expectancy.  \\\ncount      155.000000       155.000000  155.000000                155.000000   \nmean        78.000000         5.354019    1.188898                  0.551341   \nstd         44.888751         1.131230    0.287263                  0.237073   \nmin          1.000000         2.693000    0.000000                  0.000000   \n25%         39.500000         4.505500    1.042635                  0.369866   \n50%         78.000000         5.279000    1.253918                  0.606042   \n75%        116.500000         6.101500    1.414316                  0.723008   \nmax        155.000000         7.537000    1.610574                  0.949492   \n\n          Freedom  Trust..Government.Corruption.  Dystopia.Residual  \ncount  155.000000                     155.000000         155.000000  \nmean     0.408786                       0.123120           1.850238  \nstd      0.149997                       0.101661           0.500028  \nmin      0.000000                       0.000000           0.377914  \n25%      0.303677                       0.057271           1.591291  \n50%      0.437454                       0.089848           1.832910  \n75%      0.516561                       0.153296           2.144654  \nmax      0.658249                       0.464308           3.117485  ",
      "text/html": "<div>\n<style scoped>\n    .dataframe tbody tr th:only-of-type {\n        vertical-align: middle;\n    }\n\n    .dataframe tbody tr th {\n        vertical-align: top;\n    }\n\n    .dataframe thead th {\n        text-align: right;\n    }\n</style>\n<table border=\"1\" class=\"dataframe\">\n  <thead>\n    <tr style=\"text-align: right;\">\n      <th></th>\n      <th>Happiness.Rank</th>\n      <th>Happiness.Score</th>\n      <th>Family</th>\n      <th>Health..Life.Expectancy.</th>\n      <th>Freedom</th>\n      <th>Trust..Government.Corruption.</th>\n      <th>Dystopia.Residual</th>\n    </tr>\n  </thead>\n  <tbody>\n    <tr>\n      <th>count</th>\n      <td>155.000000</td>\n      <td>155.000000</td>\n      <td>155.000000</td>\n      <td>155.000000</td>\n      <td>155.000000</td>\n      <td>155.000000</td>\n      <td>155.000000</td>\n    </tr>\n    <tr>\n      <th>mean</th>\n      <td>78.000000</td>\n      <td>5.354019</td>\n      <td>1.188898</td>\n      <td>0.551341</td>\n      <td>0.408786</td>\n      <td>0.123120</td>\n      <td>1.850238</td>\n    </tr>\n    <tr>\n      <th>std</th>\n      <td>44.888751</td>\n      <td>1.131230</td>\n      <td>0.287263</td>\n      <td>0.237073</td>\n      <td>0.149997</td>\n      <td>0.101661</td>\n      <td>0.500028</td>\n    </tr>\n    <tr>\n      <th>min</th>\n      <td>1.000000</td>\n      <td>2.693000</td>\n      <td>0.000000</td>\n      <td>0.000000</td>\n      <td>0.000000</td>\n      <td>0.000000</td>\n      <td>0.377914</td>\n    </tr>\n    <tr>\n      <th>25%</th>\n      <td>39.500000</td>\n      <td>4.505500</td>\n      <td>1.042635</td>\n      <td>0.369866</td>\n      <td>0.303677</td>\n      <td>0.057271</td>\n      <td>1.591291</td>\n    </tr>\n    <tr>\n      <th>50%</th>\n      <td>78.000000</td>\n      <td>5.279000</td>\n      <td>1.253918</td>\n      <td>0.606042</td>\n      <td>0.437454</td>\n      <td>0.089848</td>\n      <td>1.832910</td>\n    </tr>\n    <tr>\n      <th>75%</th>\n      <td>116.500000</td>\n      <td>6.101500</td>\n      <td>1.414316</td>\n      <td>0.723008</td>\n      <td>0.516561</td>\n      <td>0.153296</td>\n      <td>2.144654</td>\n    </tr>\n    <tr>\n      <th>max</th>\n      <td>155.000000</td>\n      <td>7.537000</td>\n      <td>1.610574</td>\n      <td>0.949492</td>\n      <td>0.658249</td>\n      <td>0.464308</td>\n      <td>3.117485</td>\n    </tr>\n  </tbody>\n</table>\n</div>"
     },
     "execution_count": 176,
     "metadata": {},
     "output_type": "execute_result"
    }
   ],
   "source": [
    "print('data 2017:', df_2017_new.info())\n",
    "df_2017_new.describe()"
   ],
   "metadata": {
    "collapsed": false,
    "ExecuteTime": {
     "end_time": "2024-05-07T21:49:31.964268Z",
     "start_time": "2024-05-07T21:49:31.942499Z"
    }
   },
   "id": "cace6dcd29432093",
   "execution_count": 176
  },
  {
   "cell_type": "code",
   "outputs": [
    {
     "name": "stdout",
     "output_type": "stream",
     "text": [
      "<class 'pandas.core.frame.DataFrame'>\n",
      "RangeIndex: 156 entries, 0 to 155\n",
      "Data columns (total 7 columns):\n",
      " #   Column                        Non-Null Count  Dtype  \n",
      "---  ------                        --------------  -----  \n",
      " 0   Overall rank                  156 non-null    int64  \n",
      " 1   Country or region             156 non-null    object \n",
      " 2   Score                         156 non-null    float64\n",
      " 3   Social support                156 non-null    float64\n",
      " 4   Healthy life expectancy       156 non-null    float64\n",
      " 5   Freedom to make life choices  156 non-null    float64\n",
      " 6   Perceptions of corruption     155 non-null    float64\n",
      "dtypes: float64(5), int64(1), object(1)\n",
      "memory usage: 8.7+ KB\n",
      "data 2018: None\n"
     ]
    },
    {
     "data": {
      "text/plain": "       Overall rank       Score  Social support  Healthy life expectancy  \\\ncount    156.000000  156.000000      156.000000               156.000000   \nmean      78.500000    5.375917        1.213237                 0.597346   \nstd       45.177428    1.119506        0.302372                 0.247579   \nmin        1.000000    2.905000        0.000000                 0.000000   \n25%       39.750000    4.453750        1.066750                 0.422250   \n50%       78.500000    5.378000        1.255000                 0.644000   \n75%      117.250000    6.168500        1.463000                 0.777250   \nmax      156.000000    7.632000        1.644000                 1.030000   \n\n       Freedom to make life choices  Perceptions of corruption  \ncount                    156.000000                 155.000000  \nmean                       0.454506                   0.112000  \nstd                        0.162424                   0.096492  \nmin                        0.000000                   0.000000  \n25%                        0.356000                   0.051000  \n50%                        0.487000                   0.082000  \n75%                        0.578500                   0.137000  \nmax                        0.724000                   0.457000  ",
      "text/html": "<div>\n<style scoped>\n    .dataframe tbody tr th:only-of-type {\n        vertical-align: middle;\n    }\n\n    .dataframe tbody tr th {\n        vertical-align: top;\n    }\n\n    .dataframe thead th {\n        text-align: right;\n    }\n</style>\n<table border=\"1\" class=\"dataframe\">\n  <thead>\n    <tr style=\"text-align: right;\">\n      <th></th>\n      <th>Overall rank</th>\n      <th>Score</th>\n      <th>Social support</th>\n      <th>Healthy life expectancy</th>\n      <th>Freedom to make life choices</th>\n      <th>Perceptions of corruption</th>\n    </tr>\n  </thead>\n  <tbody>\n    <tr>\n      <th>count</th>\n      <td>156.000000</td>\n      <td>156.000000</td>\n      <td>156.000000</td>\n      <td>156.000000</td>\n      <td>156.000000</td>\n      <td>155.000000</td>\n    </tr>\n    <tr>\n      <th>mean</th>\n      <td>78.500000</td>\n      <td>5.375917</td>\n      <td>1.213237</td>\n      <td>0.597346</td>\n      <td>0.454506</td>\n      <td>0.112000</td>\n    </tr>\n    <tr>\n      <th>std</th>\n      <td>45.177428</td>\n      <td>1.119506</td>\n      <td>0.302372</td>\n      <td>0.247579</td>\n      <td>0.162424</td>\n      <td>0.096492</td>\n    </tr>\n    <tr>\n      <th>min</th>\n      <td>1.000000</td>\n      <td>2.905000</td>\n      <td>0.000000</td>\n      <td>0.000000</td>\n      <td>0.000000</td>\n      <td>0.000000</td>\n    </tr>\n    <tr>\n      <th>25%</th>\n      <td>39.750000</td>\n      <td>4.453750</td>\n      <td>1.066750</td>\n      <td>0.422250</td>\n      <td>0.356000</td>\n      <td>0.051000</td>\n    </tr>\n    <tr>\n      <th>50%</th>\n      <td>78.500000</td>\n      <td>5.378000</td>\n      <td>1.255000</td>\n      <td>0.644000</td>\n      <td>0.487000</td>\n      <td>0.082000</td>\n    </tr>\n    <tr>\n      <th>75%</th>\n      <td>117.250000</td>\n      <td>6.168500</td>\n      <td>1.463000</td>\n      <td>0.777250</td>\n      <td>0.578500</td>\n      <td>0.137000</td>\n    </tr>\n    <tr>\n      <th>max</th>\n      <td>156.000000</td>\n      <td>7.632000</td>\n      <td>1.644000</td>\n      <td>1.030000</td>\n      <td>0.724000</td>\n      <td>0.457000</td>\n    </tr>\n  </tbody>\n</table>\n</div>"
     },
     "execution_count": 177,
     "metadata": {},
     "output_type": "execute_result"
    }
   ],
   "source": [
    "print('data 2018:', df_2018_new.info())\n",
    "df_2018_new.describe()"
   ],
   "metadata": {
    "collapsed": false,
    "ExecuteTime": {
     "end_time": "2024-05-07T21:49:32.071539Z",
     "start_time": "2024-05-07T21:49:32.049345Z"
    }
   },
   "id": "cbafadb454cffd6c",
   "execution_count": 177
  },
  {
   "cell_type": "code",
   "outputs": [
    {
     "name": "stdout",
     "output_type": "stream",
     "text": [
      "<class 'pandas.core.frame.DataFrame'>\n",
      "RangeIndex: 156 entries, 0 to 155\n",
      "Data columns (total 7 columns):\n",
      " #   Column                        Non-Null Count  Dtype  \n",
      "---  ------                        --------------  -----  \n",
      " 0   Overall rank                  156 non-null    int64  \n",
      " 1   Country or region             156 non-null    object \n",
      " 2   Score                         156 non-null    float64\n",
      " 3   Social support                156 non-null    float64\n",
      " 4   Healthy life expectancy       156 non-null    float64\n",
      " 5   Freedom to make life choices  156 non-null    float64\n",
      " 6   Perceptions of corruption     156 non-null    float64\n",
      "dtypes: float64(5), int64(1), object(1)\n",
      "memory usage: 8.7+ KB\n",
      "data 2019: None\n"
     ]
    },
    {
     "data": {
      "text/plain": "       Overall rank       Score  Social support  Healthy life expectancy  \\\ncount    156.000000  156.000000      156.000000               156.000000   \nmean      78.500000    5.407096        1.208814                 0.725244   \nstd       45.177428    1.113120        0.299191                 0.242124   \nmin        1.000000    2.853000        0.000000                 0.000000   \n25%       39.750000    4.544500        1.055750                 0.547750   \n50%       78.500000    5.379500        1.271500                 0.789000   \n75%      117.250000    6.184500        1.452500                 0.881750   \nmax      156.000000    7.769000        1.624000                 1.141000   \n\n       Freedom to make life choices  Perceptions of corruption  \ncount                    156.000000                 156.000000  \nmean                       0.392571                   0.110603  \nstd                        0.143289                   0.094538  \nmin                        0.000000                   0.000000  \n25%                        0.308000                   0.047000  \n50%                        0.417000                   0.085500  \n75%                        0.507250                   0.141250  \nmax                        0.631000                   0.453000  ",
      "text/html": "<div>\n<style scoped>\n    .dataframe tbody tr th:only-of-type {\n        vertical-align: middle;\n    }\n\n    .dataframe tbody tr th {\n        vertical-align: top;\n    }\n\n    .dataframe thead th {\n        text-align: right;\n    }\n</style>\n<table border=\"1\" class=\"dataframe\">\n  <thead>\n    <tr style=\"text-align: right;\">\n      <th></th>\n      <th>Overall rank</th>\n      <th>Score</th>\n      <th>Social support</th>\n      <th>Healthy life expectancy</th>\n      <th>Freedom to make life choices</th>\n      <th>Perceptions of corruption</th>\n    </tr>\n  </thead>\n  <tbody>\n    <tr>\n      <th>count</th>\n      <td>156.000000</td>\n      <td>156.000000</td>\n      <td>156.000000</td>\n      <td>156.000000</td>\n      <td>156.000000</td>\n      <td>156.000000</td>\n    </tr>\n    <tr>\n      <th>mean</th>\n      <td>78.500000</td>\n      <td>5.407096</td>\n      <td>1.208814</td>\n      <td>0.725244</td>\n      <td>0.392571</td>\n      <td>0.110603</td>\n    </tr>\n    <tr>\n      <th>std</th>\n      <td>45.177428</td>\n      <td>1.113120</td>\n      <td>0.299191</td>\n      <td>0.242124</td>\n      <td>0.143289</td>\n      <td>0.094538</td>\n    </tr>\n    <tr>\n      <th>min</th>\n      <td>1.000000</td>\n      <td>2.853000</td>\n      <td>0.000000</td>\n      <td>0.000000</td>\n      <td>0.000000</td>\n      <td>0.000000</td>\n    </tr>\n    <tr>\n      <th>25%</th>\n      <td>39.750000</td>\n      <td>4.544500</td>\n      <td>1.055750</td>\n      <td>0.547750</td>\n      <td>0.308000</td>\n      <td>0.047000</td>\n    </tr>\n    <tr>\n      <th>50%</th>\n      <td>78.500000</td>\n      <td>5.379500</td>\n      <td>1.271500</td>\n      <td>0.789000</td>\n      <td>0.417000</td>\n      <td>0.085500</td>\n    </tr>\n    <tr>\n      <th>75%</th>\n      <td>117.250000</td>\n      <td>6.184500</td>\n      <td>1.452500</td>\n      <td>0.881750</td>\n      <td>0.507250</td>\n      <td>0.141250</td>\n    </tr>\n    <tr>\n      <th>max</th>\n      <td>156.000000</td>\n      <td>7.769000</td>\n      <td>1.624000</td>\n      <td>1.141000</td>\n      <td>0.631000</td>\n      <td>0.453000</td>\n    </tr>\n  </tbody>\n</table>\n</div>"
     },
     "execution_count": 178,
     "metadata": {},
     "output_type": "execute_result"
    }
   ],
   "source": [
    "print('data 2019:', df_2019_new.info())\n",
    "df_2019_new.describe()"
   ],
   "metadata": {
    "collapsed": false,
    "ExecuteTime": {
     "end_time": "2024-05-07T21:49:32.191268Z",
     "start_time": "2024-05-07T21:49:32.168654Z"
    }
   },
   "id": "3f098aa53e69bcf",
   "execution_count": 178
  },
  {
   "cell_type": "markdown",
   "id": "0f5e3a2a-bbb7-4d06-8220-c93277b70146",
   "metadata": {
    "jp-MarkdownHeadingCollapsed": true
   },
   "source": [
    "#### 5. Uniqueness: \n",
    "Check for and remove duplicate records to prevent skewed analysis results.\n"
   ]
  },
  {
   "cell_type": "code",
   "outputs": [
    {
     "name": "stdout",
     "output_type": "stream",
     "text": [
      "Number of unique values in 2015:  Country                          158\n",
      "Region                            10\n",
      "Happiness Rank                   157\n",
      "Happiness Score                  157\n",
      "Family                           158\n",
      "Health (Life Expectancy)         157\n",
      "Freedom                          158\n",
      "Trust (Government Corruption)    157\n",
      "Dystopia Residual                158\n",
      "dtype: int64\n",
      "Number of unique values in 2016:  Country                          157\n",
      "Region                            10\n",
      "Happiness Rank                   154\n",
      "Happiness Score                  154\n",
      "Lower Confidence Interval        154\n",
      "Upper Confidence Interval        154\n",
      "Family                           157\n",
      "Health (Life Expectancy)         156\n",
      "Freedom                          157\n",
      "Trust (Government Corruption)    156\n",
      "Dystopia Residual                157\n",
      "dtype: int64\n",
      "Number of unique values in 2017:  Country                          155\n",
      "Happiness.Rank                   155\n",
      "Happiness.Score                  151\n",
      "Family                           155\n",
      "Health..Life.Expectancy.         155\n",
      "Freedom                          155\n",
      "Trust..Government.Corruption.    155\n",
      "Dystopia.Residual                155\n",
      "dtype: int64\n",
      "Number of unique values in 2018:  Overall rank                    156\n",
      "Country or region               156\n",
      "Score                           154\n",
      "Social support                  146\n",
      "Healthy life expectancy         143\n",
      "Freedom to make life choices    136\n",
      "Perceptions of corruption       110\n",
      "dtype: int64\n",
      "Number of unique values in 2019:  Overall rank                    156\n",
      "Country or region               156\n",
      "Score                           155\n",
      "Social support                  145\n",
      "Healthy life expectancy         119\n",
      "Freedom to make life choices    130\n",
      "Perceptions of corruption       113\n",
      "dtype: int64\n"
     ]
    }
   ],
   "source": [
    "# check for unique values\n",
    "print('Number of unique values in 2015: ', df_2015_new.nunique())\n",
    "print('Number of unique values in 2016: ', df_2016_new.nunique())\n",
    "print('Number of unique values in 2017: ', df_2017_new.nunique())\n",
    "print('Number of unique values in 2018: ', df_2018_new.nunique())\n",
    "print('Number of unique values in 2019: ', df_2019_new.nunique())"
   ],
   "metadata": {
    "collapsed": false,
    "ExecuteTime": {
     "end_time": "2024-05-07T21:49:32.315134Z",
     "start_time": "2024-05-07T21:49:32.303167Z"
    }
   },
   "id": "d1058c439edf70e4",
   "execution_count": 179
  },
  {
   "cell_type": "code",
   "outputs": [
    {
     "name": "stdout",
     "output_type": "stream",
     "text": [
      "Number of duplicates in 2015:  0\n",
      "Number of duplicates in 2016:  0\n",
      "Number of duplicates in 2017:  0\n",
      "Number of duplicates in 2018:  0\n",
      "Number of duplicates in 2019:  0\n"
     ]
    }
   ],
   "source": [
    "# check for duplicates\n",
    "print('Number of duplicates in 2015: ', df_2015_new.duplicated().sum())\n",
    "print('Number of duplicates in 2016: ', df_2016_new.duplicated().sum())\n",
    "print('Number of duplicates in 2017: ', df_2017_new.duplicated().sum())\n",
    "print('Number of duplicates in 2018: ', df_2018_new.duplicated().sum())\n",
    "print('Number of duplicates in 2019: ', df_2019_new.duplicated().sum())"
   ],
   "metadata": {
    "collapsed": false,
    "ExecuteTime": {
     "end_time": "2024-05-07T21:49:32.508651Z",
     "start_time": "2024-05-07T21:49:32.499835Z"
    }
   },
   "id": "a509a7aa-58f4-4d39-8eb8-e8298a21f2a7",
   "execution_count": 180
  },
  {
   "cell_type": "markdown",
   "id": "c7724ac2-4ea2-4cf4-a9e0-e64368f87b92",
   "metadata": {},
   "source": [
    "#### 6. Completeness: \n",
    "Ensure that no critical data is missing. This might mean checking for null values or required fields that are empty.\n",
    "\n",
    "We will start by checking the dataset for missing or null values. For this, we can use the isna() method which returns a dataframe of boolean values indicating if a field is null or not. To group all missing values by column, we can include the sum() method."
   ]
  },
  {
   "cell_type": "code",
   "outputs": [
    {
     "name": "stdout",
     "output_type": "stream",
     "text": [
      "Number of NAN values in 2015 before deletion:  0\n",
      "Number of NAN values in 2016 before deletion:  0\n",
      "Number of NAN values in 2017 before deletion:  0\n",
      "Number of NAN values in 2018 before deletion:  1\n",
      "Number of NAN values in 2019 before deletion:  0\n",
      "Number of NAN values in 2015 after deletion:  0\n",
      "Number of NAN values in 2016 after deletion:  0\n",
      "Number of NAN values in 2017 after deletion:  0\n",
      "Number of NAN values in 2018 after deletion:  0\n",
      "Number of NAN values in 2019 after deletion:  0\n"
     ]
    }
   ],
   "source": [
    "# check for null values\n",
    "# نحسب عدد القيم الناقصة في كل داتا\n",
    "print('Number of NAN values in 2015 before deletion: ', df_2015_new.isna().sum().sum())\n",
    "print('Number of NAN values in 2016 before deletion: ', df_2016_new.isna().sum().sum())\n",
    "print('Number of NAN values in 2017 before deletion: ', df_2017_new.isna().sum().sum())\n",
    "print('Number of NAN values in 2018 before deletion: ', df_2018_new.isna().sum().sum())\n",
    "print('Number of NAN values in 2019 before deletion: ', df_2019_new.isna().sum().sum())\n",
    "\n",
    "# نحذف الصفوف الناقصه\n",
    "df_2015_new  =  df_2015_new.dropna()\n",
    "df_2016_new  =  df_2016_new.dropna()\n",
    "df_2017_new  =  df_2017_new.dropna()\n",
    "df_2018_new  =  df_2018_new.dropna()\n",
    "df_2019_new  =  df_2019_new.dropna()\n",
    "\n",
    "# نطبع عدد القيم الناقصة بعد الحذف\n",
    "print('Number of NAN values in 2015 after deletion: ', df_2015_new.isna().sum().sum())\n",
    "print('Number of NAN values in 2016 after deletion: ', df_2016_new.isna().sum().sum())\n",
    "print('Number of NAN values in 2017 after deletion: ', df_2017_new.isna().sum().sum())\n",
    "print('Number of NAN values in 2018 after deletion: ', df_2018_new.isna().sum().sum())\n",
    "print('Number of NAN values in 2019 after deletion: ', df_2019_new.isna().sum().sum())"
   ],
   "metadata": {
    "collapsed": false,
    "ExecuteTime": {
     "end_time": "2024-05-07T21:49:32.640507Z",
     "start_time": "2024-05-07T21:49:32.627006Z"
    }
   },
   "id": "d854077dbe187331",
   "execution_count": 181
  },
  {
   "cell_type": "markdown",
   "id": "b40de63c-5a1d-49ed-a87e-c5229ee08bbe",
   "metadata": {},
   "source": [
    "#### 7. Check Accuracy:\n",
    "\n",
    "Verify that the data is correct and precise. This could involve comparing data samples with known sources or using validation rules.\n",
    "\n",
    "**The process includes:**\n",
    "1. Validating the appropriateness of data types for the dataset.\n",
    "2. Identifying outliers  using established validation  rule"
   ]
  },
  {
   "cell_type": "code",
   "execution_count": 182,
   "id": "68be5334-ae10-4abd-8097-3259fe5e72c8",
   "metadata": {
    "ExecuteTime": {
     "end_time": "2024-05-07T21:49:32.752106Z",
     "start_time": "2024-05-07T21:49:32.744766Z"
    }
   },
   "outputs": [
    {
     "name": "stdout",
     "output_type": "stream",
     "text": [
      "2015:  Country                           object\n",
      "Region                            object\n",
      "Happiness Rank                     int64\n",
      "Happiness Score                  float64\n",
      "Family                           float64\n",
      "Health (Life Expectancy)         float64\n",
      "Freedom                          float64\n",
      "Trust (Government Corruption)    float64\n",
      "Dystopia Residual                float64\n",
      "dtype: object\n",
      "2016:  Country                           object\n",
      "Region                            object\n",
      "Happiness Rank                     int64\n",
      "Happiness Score                  float64\n",
      "Lower Confidence Interval        float64\n",
      "Upper Confidence Interval        float64\n",
      "Family                           float64\n",
      "Health (Life Expectancy)         float64\n",
      "Freedom                          float64\n",
      "Trust (Government Corruption)    float64\n",
      "Dystopia Residual                float64\n",
      "dtype: object\n",
      "2017:  Country                           object\n",
      "Happiness.Rank                     int64\n",
      "Happiness.Score                  float64\n",
      "Family                           float64\n",
      "Health..Life.Expectancy.         float64\n",
      "Freedom                          float64\n",
      "Trust..Government.Corruption.    float64\n",
      "Dystopia.Residual                float64\n",
      "dtype: object\n",
      "2018:  Overall rank                      int64\n",
      "Country or region                object\n",
      "Score                           float64\n",
      "Social support                  float64\n",
      "Healthy life expectancy         float64\n",
      "Freedom to make life choices    float64\n",
      "Perceptions of corruption       float64\n",
      "dtype: object\n",
      "2019:  Overall rank                      int64\n",
      "Country or region                object\n",
      "Score                           float64\n",
      "Social support                  float64\n",
      "Healthy life expectancy         float64\n",
      "Freedom to make life choices    float64\n",
      "Perceptions of corruption       float64\n",
      "dtype: object\n"
     ]
    }
   ],
   "source": [
    "# check columns types \n",
    "print('2015: ', df_2015_new.dtypes)\n",
    "print('2016: ', df_2016_new.dtypes)\n",
    "print('2017: ', df_2017_new.dtypes)\n",
    "print('2018: ', df_2018_new.dtypes)\n",
    "print('2019: ', df_2019_new.dtypes)"
   ]
  },
  {
   "cell_type": "markdown",
   "id": "4aca9d42-add6-45db-92cf-1f6dae5f277b",
   "metadata": {},
   "source": [
    "**What is an Outlier?** \n",
    "Outlier is an row/observation that appears far away and diverges from an overall pattern in a sample.\n",
    "\n",
    "**What are the types of Outliers?**\n",
    "1. Univariate: These outliers can be found when we look at distribution of a single variable\n",
    "2. Multivariate: are outliers in an n-dimensional space. In order to find them, you have to look at distributions in multi-dimensions. example (hight=100, weight=100) for a person\n",
    "\n",
    "**What causes Outliers?**\n",
    "Whenever we come across outliers, the ideal way to tackle them is to find out the reason of having these outliers. The method to deal with them would then depend on the reason of their occurrence.\n",
    "\n",
    "Let’s understand various types of outliers:\n",
    "\n",
    "1. Data Entry Errors:- Human errors such as errors caused during data collection, recording, or entry can cause outliers in data.\n",
    "2. Measurement Error: It is the most common source of outliers. This is caused when the measurement instrument used turns out to be faulty.\n",
    "3. Data Processing Error: Whenever we perform data mining, we extract data from multiple sources. It is possible that some manipulation or extraction errors may lead to outliers in the dataset.\n",
    "4. Sampling error: For instance, we have to measure the height of athletes. By mistake, we include a few basketball players in the sample. This inclusion is likely to cause outliers in the dataset.\n",
    "5. Natural Outlier: When an outlier is not artificial (due to error), it is a natural outlier. For instance: In my last assignment with one of the renowned insurance company, I noticed that the performance of top 50 financial advisors was far higher than rest of the population. Surprisingly, it was not due to any error. Hence, whenever we perform any data mining activity with advisors, we used to treat this segment separately.\n",
    "\n",
    "\n",
    "**What is the impact of Outliers on a dataset?**\n",
    "\n",
    "\n",
    "![image.png](https://www.analyticsvidhya.com/wp-content/uploads/2015/02/Outlier_31.png)\n",
    "\n",
    "\n",
    "\n",
    "**How to detect Outliers?**\n",
    "\n",
    "1. Most commonly used method to detect outliers is visualization (Univariate Graphical Analysis).\n",
    "\n",
    "We use 3 common visualization methods:\n",
    ">- Box-plot: A box plot is a method for graphically depicting groups of numerical data through their quartiles. The box extends from the Q1 to Q3 quartile values of the data, with a line at the median (Q2). The whiskers extend from the edges of the box to show the range of the data. Outlier points are those past the end of the whiskers. Box plots show robust measures of location and spread as well as providing information about symmetry and outliers.\n",
    ">\n",
    ">  \n",
    ">![image.png](https://miro.medium.com/v2/resize:fit:698/format:webp/1*VK5iHA2AB28HSZwWwUbNYg.png)\n",
    ">\n",
    ">\n",
    ">- Histogram\n",
    ">- Scatter Plot: A scatter plot is a mathematical diagram using Cartesian coordinates to display values for two variables for a set of data. The data are displayed as a collection of points, each having the value of one variable determining the position on the horizontal axis and the value of the other variable determining the position on the vertical axis. The points that are far from the population can be termed as an outlier.\n",
    ">\n",
    ">  \n",
    ">![image.png](https://miro.medium.com/v2/resize:fit:4800/format:webp/1*Ov6aH-8yIwNoUxtMFwgx4g.png)\n",
    ">\n",
    ">\n",
    "\n",
    "2. Using statistical method (Univariate Non-Graphical analysis):\n",
    ">- Any value, which is beyond the range of -1.5 x IQR to 1.5 x IQR\n",
    " \n",
    "![image.png](https://www.whatissixsigma.net/wp-content/uploads/2015/07/Box-Plot-Diagram-to-identify-Outliers-figure-1.png)\n",
    "\n",
    ">- Use capping methods. Any value which out of range of 5th and 95th percentile can be considered as outlier\n",
    ">- Data points, three or more standard deviation away from mean are considered outlier: The Z-score is the signed number of standard deviations by which the value of an observation or data point is above the mean value of what is being observed or measured. While calculating the Z-score we re-scale and center the data and look for data points that are too far from zero. These data points which are way too far from zero will be treated as the outliers. In most of the cases, a threshold of 3 or -3 is used i.e if the Z-score value is greater than or less than 3 or -3 respectively, that data point will be identified as outliers.\n",
    "> - Outlier detection is merely a special case of the examination of data for influential data points and it also depends on the business understanding\n"
   ]
  },
  {
   "cell_type": "code",
   "execution_count": 199,
   "id": "74ea6194-cc01-45d8-be38-c4543eb1714e",
   "metadata": {
    "ExecuteTime": {
     "end_time": "2024-05-07T22:20:30.515338Z",
     "start_time": "2024-05-07T22:20:30.332208Z"
    }
   },
   "outputs": [
    {
     "data": {
      "text/plain": "<Figure size 640x480 with 1 Axes>",
      "image/png": "[encoded data removed]"
     },
     "metadata": {},
     "output_type": "display_data"
    }
   ],
   "source": [
    "# go to univariate graphical analysis\n",
    "# go to lesson : data visualisation 1 - chart type section\n",
    "# then go to univariate graphical analysis\n",
    "\n",
    "# rotate the x axis labels\n",
    "sns.barplot(x='Country', y='Happiness Score', data=df_2015_new.sample(10)) # only 10 samples\n",
    "plt.xticks(rotation=90)\n",
    "plt.show()"
   ]
  },
  {
   "cell_type": "code",
   "outputs": [
    {
     "data": {
      "text/plain": "<Axes: ylabel='Trust (Government Corruption)'>"
     },
     "execution_count": 200,
     "metadata": {},
     "output_type": "execute_result"
    },
    {
     "data": {
      "text/plain": "<Figure size 400x400 with 1 Axes>",
      "image/png": "[encoded data removed]"
     },
     "metadata": {},
     "output_type": "display_data"
    }
   ],
   "source": [
    "# detect outliers using graphs varbaly\n",
    "plt.figure(figsize=(4, 4)) # figure size, size of the drawing area\n",
    "sns.boxplot(df_2015_new['Trust (Government Corruption)'])"
   ],
   "metadata": {
    "collapsed": false,
    "ExecuteTime": {
     "end_time": "2024-05-07T22:20:52.980155Z",
     "start_time": "2024-05-07T22:20:52.867542Z"
    }
   },
   "id": "908f6bba97dffe67",
   "execution_count": 200
  },
  {
   "cell_type": "code",
   "execution_count": 94,
   "id": "48ecf77b-480c-4f64-9485-95be805bc357",
   "metadata": {},
   "outputs": [],
   "source": [
    "# go to lesson: statistics 1 then statistics 3\n",
    "# then go to univariate Non graphical analysis\n",
    "# detect outliers using numerical statistics "
   ]
  },
  {
   "cell_type": "code",
   "execution_count": 95,
   "id": "4e66d611-6958-4860-8522-9ada7fce40b0",
   "metadata": {},
   "outputs": [],
   "source": [
    "# go to delete ouliers"
   ]
  },
  {
   "attachments": {},
   "cell_type": "markdown",
   "id": "4e886ec7-388c-414b-ada7-803c2fb1f2cb",
   "metadata": {},
   "source": [
    "## 2. Data Cleaning: \n",
    "\n",
    "Preliminary findings from data profiling can lead to cleaning the data by:\n",
    "- Handling missing values\n",
    "- Correcting errors.\n",
    "- Dealing with outliers.\n",
    "\n",
    "-------------------\n",
    "\n"
   ]
  },
  {
   "cell_type": "markdown",
   "id": "21876b48-f5ec-4970-85a9-0520d45d8841",
   "metadata": {
    "jp-MarkdownHeadingCollapsed": true
   },
   "source": [
    "### Handling missing values:"
   ]
  },
  {
   "cell_type": "markdown",
   "id": "c890d5a2-2a65-4090-9427-f89c0f011d3f",
   "metadata": {},
   "source": [
    "**Why my data has missing values?**\n",
    "They may occur at two stages:\n",
    "1. Data Extraction: It is possible that there are problems with extraction process. Errors at data extraction stage are typically easy to find and can be corrected easily as well.\n",
    "2. Data collection: These errors occur at time of data collection and are harder to correct.\n",
    "\n",
    "**Why do we need to handle the missing data?**\n",
    "To avoid:\n",
    "- Bias the conclusions.\n",
    "- Leading the business to make wrong decisions.\n",
    "\n",
    "**Which are the methods to treat missing values ?**\n",
    "1. Deletion: we delete rows where any of the variable is missing. Simplicity is one of the major advantage of this method, but this method reduces the power of model because it reduces the sample size.\n",
    "\n",
    "2. Imputation: is a method to fill in the missing values with estimated ones. This imputation is one of the most frequently used methods.\n",
    "\n",
    "    2.1. Mean/ Mode/ Median Imputation: It consists of replacing the missing data for a given attribute by the mean or median (quantitative attribute) or mode (qualitative attribute) of all known values of that variable.\n",
    "    > It can be of two types:\n",
    "    > - Generalized Imputation: In this case, we calculate the mean or median for all non missing values of that variable then replace missing value with mean or median.\n",
    "    > - Similar case Imputation: In this case, we calculate average for each group individually of non missing values then replace the missing value based on the group.\n",
    "\n",
    "    2.2. Constant Value\n",
    "   \n",
    "    2.3. Forward Filling\n",
    "   \n",
    "    2.4. Backward Filling\n",
    "\n",
    "6. Prediction Model:  Prediction model is one of the sophisticated method for handling missing data. Here, we create a predictive model to estimate values that will substitute the missing data.  In this case, we divide our data set into two sets: One set with no missing values for the variable and another one with missing values. First data set become training data set of the model while second data set with missing values is test data set and variable with missing values is treated as target variable. Next, we create a model to predict target variable based on other attributes of the training data set and populate missing values of test data set.\n",
    "\n",
    "> There are 2 drawbacks for this approach:\n",
    "> - The model estimated values are usually more well-behaved than the true values\n",
    "> - If there are no relationships with attributes in the data set and the attribute with missing values, then the model will not be precise for estimating missing values.\n",
    "\n",
    "9. KNN Imputation: In this method of imputation, the missing values of an attribute are imputed using the given number of attributes that are most similar to the attribute whose values are missing. The similarity of two attributes is determined using a distance function. It is also known to have certain advantage & disadvantages.\n",
    "\n",
    "   > **Advantages:**\n",
    "   > - k-nearest neighbour can predict both qualitative & quantitative attributes\n",
    "   > - Creation of predictive model for each attribute with missing data is not required\n",
    "   > - Attributes with multiple missing values can be easily treated\n",
    "   > - Correlation structure of the data is taken into consideration\n",
    "\n",
    "   > **Disadvantage:**\n",
    "   > - KNN algorithm is very time-consuming in analyzing large database. It searches through all the dataset looking for the most similar instances.\n",
    "   > - Choice of k-value is very critical. Higher value of k would include attributes which are significantly different from what we need whereas lower value of k implies missing out of significant attributes.\n",
    "\n",
    "--------------------\n"
   ]
  },
  {
   "cell_type": "code",
   "execution_count": null,
   "id": "57e741fb-71c1-46ad-a526-d8f0b1564dc3",
   "metadata": {},
   "outputs": [],
   "source": []
  },
  {
   "cell_type": "code",
   "execution_count": 96,
   "id": "01287962-8077-4c01-8d1d-5f8aed6cb37a",
   "metadata": {},
   "outputs": [],
   "source": [
    "# go back to 6th dimention --> Completeness"
   ]
  },
  {
   "cell_type": "markdown",
   "id": "f7cee10f-0af8-44e5-b595-8e965294daad",
   "metadata": {},
   "source": [
    "### Correcting errors\n",
    "\n",
    "-------------------"
   ]
  },
  {
   "cell_type": "code",
   "execution_count": null,
   "id": "06273b88-a169-42e8-81f5-5d71cb3f9c21",
   "metadata": {},
   "outputs": [],
   "source": []
  },
  {
   "cell_type": "code",
   "execution_count": 97,
   "id": "f1d95da5-a3ba-473a-8243-aa177cadae20",
   "metadata": {},
   "outputs": [],
   "source": [
    "# go back to 7th dimension Accuracy "
   ]
  },
  {
   "cell_type": "markdown",
   "id": "5ecc7dbb-6867-44cf-8f99-1b969a80be40",
   "metadata": {},
   "source": [
    "### Dealing with outliers:"
   ]
  },
  {
   "attachments": {},
   "cell_type": "markdown",
   "id": "88347887-4bdf-48af-9486-cb8fe80c97af",
   "metadata": {},
   "source": [
    "**How to remove Outliers?**\n",
    "Most of the ways to deal with outliers are similar to the methods of missing values like deleting rows, transforming them, binning them, treat them as a separate group, imputing values and other statistical methods. Here, we will discuss the common techniques used to deal with outliers:\n",
    "\n",
    "1. Deleting rows: We delete outlier values if it is due to data entry error, data processing error or outlier rows are very small in numbers. We can also use trimming at both ends to remove outliers.\n",
    "\n",
    "2. Imputing: Like imputation of missing values, we can also impute outliers. We can use mean, median, mode imputation methods. Before imputing values, we should analyse if it is natural outlier or artificial. If it is artificial, we can go with imputing values. We can also use statistical model to predict values of outlier rows and after that we can impute it with predicted values.\n",
    "\n",
    "3. Treat separately: If there are significant number of outliers, we should treat them separately in the statistical model. One of the approach is to treat both groups as two different groups and build individual model for both groups and then combine the output.\n"
   ]
  },
  {
   "cell_type": "code",
   "outputs": [],
   "source": [
    "# Fixed \n",
    "# Calculate Q1 (25th percentile) and Q3 (75th percentile)\n",
    "Q1 = df_2015_new['Trust (Government Corruption)'].quantile(0.25)\n",
    "Q3 = df_2015_new['Trust (Government Corruption)'].quantile(0.75)\n",
    "\n",
    "# Calculate the IQR by subtracting Q1 from Q3\n",
    "IQR = Q3 - Q1\n",
    "\n",
    "# Define the lower and upper bounds for the outliers\n",
    "lower_bound = Q1 - 1.5 * IQR\n",
    "upper_bound = Q3 + 1.5 * IQR\n",
    "\n",
    "# remove outliers\n",
    "# نخلي القيم اللي فوق Q1\n",
    "# نخلي القيم اللي تحت Q3\n",
    "# ويحذف الباقي\n",
    "df_2015_new = df_2015_new[(df_2015_new['Trust (Government Corruption)'] > lower_bound) & (df_2015_new['Trust (Government Corruption)'] < upper_bound)]"
   ],
   "metadata": {
    "collapsed": false
   },
   "id": "a99a027346ec0de7",
   "execution_count": 184
  },
  {
   "cell_type": "code",
   "outputs": [
    {
     "data": {
      "text/plain": "<Axes: ylabel='Trust (Government Corruption)'>"
     },
     "execution_count": 185,
     "metadata": {},
     "output_type": "execute_result"
    },
    {
     "data": {
      "text/plain": "<Figure size 400x400 with 1 Axes>",
      "image/png": "[encoded data removed]"
     },
     "metadata": {},
     "output_type": "display_data"
    }
   ],
   "source": [
    "plt.figure(figsize=(4, 4)) # figure size, size of the drawing area\n",
    "sns.boxplot(df_2015_new['Trust (Government Corruption)'])"
   ],
   "metadata": {
    "collapsed": false
   },
   "id": "153133b28d3e140c",
   "execution_count": 185
  },
  {
   "cell_type": "markdown",
   "id": "98548b66-e309-4eb8-a5dc-65fe0abbf1e8",
   "metadata": {},
   "source": [
    "## 3. Univariate Analysis: \n",
    "\n",
    "This involves examining single variables to understand their characteristics (distribution, central tendency, dispersion, and shape).\n",
    "\n",
    "We calculate **numerical values** about the data that tells us about the distribution of the data. We also **draw graphs** showing visually how the data is distributed. **To answer the following questions about Features/characteristics of Data:**\n",
    "- Where is the center of the data? (location)\n",
    "- How much does the data vary? (scale)\n",
    "- What is the shape of the data? (shape)\n",
    "\n",
    "**The benefits of this analysis:**\n",
    "Statistics summary gives a high-level idea to identify whether the data has any outliers, data entry error, distribution of data such as the data is normally distributed or left/right skewed\n",
    "\n",
    "**In this step, we will explore variables one by one using following approaches:**"
   ]
  },
  {
   "cell_type": "markdown",
   "id": "d6718111-7ac2-4fff-9851-654655b62e0b",
   "metadata": {},
   "source": [
    "### 1. Univariate Graphical Analysis:\n",
    "Method to perform uni-variate analysis will depend on whether the variable type is categorical or numerical."
   ]
  },
  {
   "cell_type": "code",
   "execution_count": null,
   "id": "db79d803-b75c-4686-a623-e8420321a90f",
   "metadata": {},
   "outputs": [],
   "source": []
  },
  {
   "cell_type": "markdown",
   "id": "0d57c4b9-9bb3-494d-85dd-b8d39afda139",
   "metadata": {},
   "source": [
    "#### I. Categorical Variables:\n",
    "\n",
    "we’ll use frequency table to understand distribution of each category\n",
    "- Bar Chart (Ordinal) - Orderd\n",
    "- Pie Chart (Nominal) - non Orderd"
   ]
  },
  {
   "cell_type": "code",
   "execution_count": null,
   "id": "72ece4b7-5508-403a-8fb0-f519fc74272a",
   "metadata": {},
   "outputs": [],
   "source": []
  },
  {
   "cell_type": "markdown",
   "id": "d2641f0d-80f2-493b-99b7-15476379a1e2",
   "metadata": {},
   "source": [
    "#### II. Numerical Variables:\n",
    "\n",
    "we need to understand the central tendency and spread of the variable (Descriptive Analysis) using:\n",
    "   - Box plot\n",
    "   - Histogram"
   ]
  },
  {
   "cell_type": "code",
   "execution_count": null,
   "id": "5be16f08-a072-4a02-a3ee-6f9d57786fb4",
   "metadata": {},
   "outputs": [],
   "source": []
  },
  {
   "cell_type": "markdown",
   "id": "d66677d3-44ad-414f-9b39-f9c1995ad043",
   "metadata": {},
   "source": [
    "### 2. Univariate Non-Graphical analysis: \n",
    "\n",
    "- Where is the center of the data? (location) --> **Measures of central tendency**\n",
    "- How much does the data vary? (scale) --> **Measure of variability**\n",
    "- What is the shape of the data? (shape) --> **Measures of variation combined with an average (measure of center) gives a good picture of the distribution of the data.**"
   ]
  },
  {
   "cell_type": "code",
   "execution_count": null,
   "id": "f1058d84-e61e-4f5b-b66a-29931e77821b",
   "metadata": {},
   "outputs": [],
   "source": []
  },
  {
   "cell_type": "markdown",
   "id": "f09bb809-0edd-432b-bf23-abd0840b3e16",
   "metadata": {},
   "source": [
    "## 4. Bivariate/Multivariate Analysis:\n",
    "\n",
    "Here, you look at the relationships between two or more variables. This can involve looking for correlations, patterns, and trends that suggest a relationship or an association.\n",
    "\n",
    "We can perform bi-variate analysis for any combination of categorical and numerical variables. The combination can be:\n",
    "| bi-variate variables   | Plot type |\n",
    "| ------------- | ------------- |\n",
    "| Categorical & Categorical| Stacked Bar Chart |\n",
    "| Categorical & numerical  | scatter plot, histogram, box plot|\n",
    "| numerical  & numerical  | Scatter plot, line chart| \n",
    "\n",
    "\n",
    "Multivariate Analysis:\n",
    "- Heat map\n",
    "- Bar Chart\n",
    "- Scatter Chart\n",
    "- Line Chart"
   ]
  },
  {
   "cell_type": "markdown",
   "id": "838f2864-ce9e-4f15-99c8-052d053154a7",
   "metadata": {},
   "source": [
    "**Categorical & Categorical --> (Stacked Column Chart)**"
   ]
  },
  {
   "cell_type": "code",
   "execution_count": null,
   "id": "73f9f2ac-8477-49ea-9c68-4fe44d4395b6",
   "metadata": {},
   "outputs": [],
   "source": []
  },
  {
   "cell_type": "markdown",
   "id": "730e088f-fe13-40da-8fbb-686f5135fa4d",
   "metadata": {},
   "source": [
    "**Categorical & numerical --> (scatter plot, histogram, box plot)**"
   ]
  },
  {
   "cell_type": "code",
   "execution_count": null,
   "id": "3590e345-2051-4215-91ac-07d196b510ef",
   "metadata": {},
   "outputs": [],
   "source": []
  },
  {
   "cell_type": "markdown",
   "id": "20aed48d-b78e-46da-963f-e7f15e2f4dc7",
   "metadata": {},
   "source": [
    "**numerical & numerical --> (Scatter plot, line chart)**"
   ]
  },
  {
   "cell_type": "code",
   "execution_count": null,
   "id": "41023177-01cb-4f39-a750-12be71b13bda",
   "metadata": {},
   "outputs": [],
   "source": []
  },
  {
   "cell_type": "markdown",
   "id": "efb43b30-b1f0-48a4-a19c-195810cc8a0f",
   "metadata": {},
   "source": [
    "We could also use a correlation matrix to get more specific information about the relationship between these two variables."
   ]
  },
  {
   "cell_type": "code",
   "execution_count": null,
   "id": "8406f58f-b825-4a15-8f6e-c68ca66bd483",
   "metadata": {},
   "outputs": [],
   "source": []
  }
 ],
 "metadata": {
  "kernelspec": {
   "display_name": "Python 3 (ipykernel)",
   "language": "python",
   "name": "python3"
  },
  "language_info": {
   "codemirror_mode": {
    "name": "ipython",
    "version": 3
   },
   "file_extension": ".py",
   "mimetype": "text/x-python",
   "name": "python",
   "nbconvert_exporter": "python",
   "pygments_lexer": "ipython3",
   "version": "3.11.7"
  }
 },
 "nbformat": 4,
 "nbformat_minor": 5
}
