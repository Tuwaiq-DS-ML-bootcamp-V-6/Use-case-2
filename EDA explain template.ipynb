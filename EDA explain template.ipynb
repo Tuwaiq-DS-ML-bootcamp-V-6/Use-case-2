{
 "cells": [
  {
   "cell_type": "code",
   "execution_count": 52,
   "id": "e69c4ba1-85f3-4a02-ae37-c64347a01803",
   "metadata": {},
   "outputs": [],
   "source": [
    "#Import all relevant libraries\n",
    "import numpy as np\n",
    "import pandas as pd\n",
    "import matplotlib.pyplot as plt\n",
    "import seaborn as sns\n",
    "from scipy.stats import zscore\n",
    "import plotly.express as px\n",
    "\n",
    " \n",
    "## This statement allows the visuals to render within your Jupyter Notebook.\n",
    "%matplotlib inline"
   ]
  },
  {
   "cell_type": "markdown",
   "id": "e395e8bf-b530-4720-8d0f-26811e927d6e",
   "metadata": {},
   "source": [
    "## Loading the data\n",
    "We can now load the dataset into pandas using the read_csv() function. This converts the CSV file into a Pandas dataframe."
   ]
  },
  {
   "cell_type": "code",
   "execution_count": 8,
   "id": "cf4030b0-aa7f-4bd7-8e9c-c1b7f4d202d0",
   "metadata": {},
   "outputs": [],
   "source": [
    "data_2015 = pd.read_csv(\"/Users/aabdu/Desktop/DS-ML-bootcamp/Usecase_2/Use-case-2/Data/2015.csv\")\n",
    "data_2016 = pd.read_csv(\"/Users/aabdu/Desktop/DS-ML-bootcamp/Usecase_2/Use-case-2/Data/2016.csv\")\n",
    "data_2017 = pd.read_csv(\"/Users/aabdu/Desktop/DS-ML-bootcamp/Usecase_2/Use-case-2/Data/2017.csv\")\n",
    "#data_2018 = pd.read_csv(\"Data/2018.csv\")\n",
    "data_2019 = pd.read_csv(\"/Users/aabdu/Desktop/DS-ML-bootcamp/Usecase_2/Use-case-2/Data/2019.csv\")"
   ]
  },
  {
   "cell_type": "markdown",
   "id": "ca5ed983-0f72-43eb-8168-6fafd48c562e",
   "metadata": {},
   "source": [
    "### Viewing the dataframe\n",
    "We can get a quick sense of the size of our dataset by using the shape method. This returns a tuple with the number of rows and columns in the dataset."
   ]
  },
  {
   "cell_type": "code",
   "execution_count": 9,
   "id": "54df999e",
   "metadata": {},
   "outputs": [
    {
     "data": {
      "text/html": [
       "<div>\n",
       "<style scoped>\n",
       "    .dataframe tbody tr th:only-of-type {\n",
       "        vertical-align: middle;\n",
       "    }\n",
       "\n",
       "    .dataframe tbody tr th {\n",
       "        vertical-align: top;\n",
       "    }\n",
       "\n",
       "    .dataframe thead th {\n",
       "        text-align: right;\n",
       "    }\n",
       "</style>\n",
       "<table border=\"1\" class=\"dataframe\">\n",
       "  <thead>\n",
       "    <tr style=\"text-align: right;\">\n",
       "      <th></th>\n",
       "      <th>Country</th>\n",
       "      <th>Region</th>\n",
       "      <th>Happiness Rank</th>\n",
       "      <th>Happiness Score</th>\n",
       "      <th>Standard Error</th>\n",
       "      <th>Economy (GDP per Capita)</th>\n",
       "      <th>Family</th>\n",
       "      <th>Health (Life Expectancy)</th>\n",
       "      <th>Freedom</th>\n",
       "      <th>Trust (Government Corruption)</th>\n",
       "      <th>Generosity</th>\n",
       "      <th>Dystopia Residual</th>\n",
       "    </tr>\n",
       "  </thead>\n",
       "  <tbody>\n",
       "    <tr>\n",
       "      <th>0</th>\n",
       "      <td>Switzerland</td>\n",
       "      <td>Western Europe</td>\n",
       "      <td>1</td>\n",
       "      <td>7.587</td>\n",
       "      <td>0.03411</td>\n",
       "      <td>1.39651</td>\n",
       "      <td>1.34951</td>\n",
       "      <td>0.94143</td>\n",
       "      <td>0.66557</td>\n",
       "      <td>0.41978</td>\n",
       "      <td>0.29678</td>\n",
       "      <td>2.51738</td>\n",
       "    </tr>\n",
       "    <tr>\n",
       "      <th>1</th>\n",
       "      <td>Iceland</td>\n",
       "      <td>Western Europe</td>\n",
       "      <td>2</td>\n",
       "      <td>7.561</td>\n",
       "      <td>0.04884</td>\n",
       "      <td>1.30232</td>\n",
       "      <td>1.40223</td>\n",
       "      <td>0.94784</td>\n",
       "      <td>0.62877</td>\n",
       "      <td>0.14145</td>\n",
       "      <td>0.43630</td>\n",
       "      <td>2.70201</td>\n",
       "    </tr>\n",
       "  </tbody>\n",
       "</table>\n",
       "</div>"
      ],
      "text/plain": [
       "       Country          Region  Happiness Rank  Happiness Score  \\\n",
       "0  Switzerland  Western Europe               1            7.587   \n",
       "1      Iceland  Western Europe               2            7.561   \n",
       "\n",
       "   Standard Error  Economy (GDP per Capita)   Family  \\\n",
       "0         0.03411                   1.39651  1.34951   \n",
       "1         0.04884                   1.30232  1.40223   \n",
       "\n",
       "   Health (Life Expectancy)  Freedom  Trust (Government Corruption)  \\\n",
       "0                   0.94143  0.66557                        0.41978   \n",
       "1                   0.94784  0.62877                        0.14145   \n",
       "\n",
       "   Generosity  Dystopia Residual  \n",
       "0     0.29678            2.51738  \n",
       "1     0.43630            2.70201  "
      ]
     },
     "execution_count": 9,
     "metadata": {},
     "output_type": "execute_result"
    }
   ],
   "source": [
    "data_2015.head(2)"
   ]
  },
  {
   "cell_type": "code",
   "execution_count": 10,
   "id": "bfde0b69-613c-4dd1-8ebf-e4d2e570e653",
   "metadata": {},
   "outputs": [
    {
     "data": {
      "text/html": [
       "<div>\n",
       "<style scoped>\n",
       "    .dataframe tbody tr th:only-of-type {\n",
       "        vertical-align: middle;\n",
       "    }\n",
       "\n",
       "    .dataframe tbody tr th {\n",
       "        vertical-align: top;\n",
       "    }\n",
       "\n",
       "    .dataframe thead th {\n",
       "        text-align: right;\n",
       "    }\n",
       "</style>\n",
       "<table border=\"1\" class=\"dataframe\">\n",
       "  <thead>\n",
       "    <tr style=\"text-align: right;\">\n",
       "      <th></th>\n",
       "      <th>Country</th>\n",
       "      <th>Region</th>\n",
       "      <th>Happiness Rank</th>\n",
       "      <th>Happiness Score</th>\n",
       "      <th>Lower Confidence Interval</th>\n",
       "      <th>Upper Confidence Interval</th>\n",
       "      <th>Economy (GDP per Capita)</th>\n",
       "      <th>Family</th>\n",
       "      <th>Health (Life Expectancy)</th>\n",
       "      <th>Freedom</th>\n",
       "      <th>Trust (Government Corruption)</th>\n",
       "      <th>Generosity</th>\n",
       "      <th>Dystopia Residual</th>\n",
       "    </tr>\n",
       "  </thead>\n",
       "  <tbody>\n",
       "    <tr>\n",
       "      <th>0</th>\n",
       "      <td>Denmark</td>\n",
       "      <td>Western Europe</td>\n",
       "      <td>1</td>\n",
       "      <td>7.526</td>\n",
       "      <td>7.460</td>\n",
       "      <td>7.592</td>\n",
       "      <td>1.44178</td>\n",
       "      <td>1.16374</td>\n",
       "      <td>0.79504</td>\n",
       "      <td>0.57941</td>\n",
       "      <td>0.44453</td>\n",
       "      <td>0.36171</td>\n",
       "      <td>2.73939</td>\n",
       "    </tr>\n",
       "    <tr>\n",
       "      <th>1</th>\n",
       "      <td>Switzerland</td>\n",
       "      <td>Western Europe</td>\n",
       "      <td>2</td>\n",
       "      <td>7.509</td>\n",
       "      <td>7.428</td>\n",
       "      <td>7.590</td>\n",
       "      <td>1.52733</td>\n",
       "      <td>1.14524</td>\n",
       "      <td>0.86303</td>\n",
       "      <td>0.58557</td>\n",
       "      <td>0.41203</td>\n",
       "      <td>0.28083</td>\n",
       "      <td>2.69463</td>\n",
       "    </tr>\n",
       "  </tbody>\n",
       "</table>\n",
       "</div>"
      ],
      "text/plain": [
       "       Country          Region  Happiness Rank  Happiness Score  \\\n",
       "0      Denmark  Western Europe               1            7.526   \n",
       "1  Switzerland  Western Europe               2            7.509   \n",
       "\n",
       "   Lower Confidence Interval  Upper Confidence Interval  \\\n",
       "0                      7.460                      7.592   \n",
       "1                      7.428                      7.590   \n",
       "\n",
       "   Economy (GDP per Capita)   Family  Health (Life Expectancy)  Freedom  \\\n",
       "0                   1.44178  1.16374                   0.79504  0.57941   \n",
       "1                   1.52733  1.14524                   0.86303  0.58557   \n",
       "\n",
       "   Trust (Government Corruption)  Generosity  Dystopia Residual  \n",
       "0                        0.44453     0.36171            2.73939  \n",
       "1                        0.41203     0.28083            2.69463  "
      ]
     },
     "execution_count": 10,
     "metadata": {},
     "output_type": "execute_result"
    }
   ],
   "source": [
    "data_2016.head(2)"
   ]
  },
  {
   "cell_type": "code",
   "execution_count": 5,
   "id": "80f9a5a5",
   "metadata": {},
   "outputs": [
    {
     "data": {
      "text/html": [
       "<div>\n",
       "<style scoped>\n",
       "    .dataframe tbody tr th:only-of-type {\n",
       "        vertical-align: middle;\n",
       "    }\n",
       "\n",
       "    .dataframe tbody tr th {\n",
       "        vertical-align: top;\n",
       "    }\n",
       "\n",
       "    .dataframe thead th {\n",
       "        text-align: right;\n",
       "    }\n",
       "</style>\n",
       "<table border=\"1\" class=\"dataframe\">\n",
       "  <thead>\n",
       "    <tr style=\"text-align: right;\">\n",
       "      <th></th>\n",
       "      <th>Country</th>\n",
       "      <th>Happiness.Rank</th>\n",
       "      <th>Happiness.Score</th>\n",
       "      <th>Whisker.high</th>\n",
       "      <th>Whisker.low</th>\n",
       "      <th>Economy..GDP.per.Capita.</th>\n",
       "      <th>Family</th>\n",
       "      <th>Health..Life.Expectancy.</th>\n",
       "      <th>Freedom</th>\n",
       "      <th>Generosity</th>\n",
       "      <th>Trust..Government.Corruption.</th>\n",
       "      <th>Dystopia.Residual</th>\n",
       "    </tr>\n",
       "  </thead>\n",
       "  <tbody>\n",
       "    <tr>\n",
       "      <th>0</th>\n",
       "      <td>Norway</td>\n",
       "      <td>1</td>\n",
       "      <td>7.537</td>\n",
       "      <td>7.594445</td>\n",
       "      <td>7.479556</td>\n",
       "      <td>1.616463</td>\n",
       "      <td>1.533524</td>\n",
       "      <td>0.796667</td>\n",
       "      <td>0.635423</td>\n",
       "      <td>0.362012</td>\n",
       "      <td>0.315964</td>\n",
       "      <td>2.277027</td>\n",
       "    </tr>\n",
       "    <tr>\n",
       "      <th>1</th>\n",
       "      <td>Denmark</td>\n",
       "      <td>2</td>\n",
       "      <td>7.522</td>\n",
       "      <td>7.581728</td>\n",
       "      <td>7.462272</td>\n",
       "      <td>1.482383</td>\n",
       "      <td>1.551122</td>\n",
       "      <td>0.792566</td>\n",
       "      <td>0.626007</td>\n",
       "      <td>0.355280</td>\n",
       "      <td>0.400770</td>\n",
       "      <td>2.313707</td>\n",
       "    </tr>\n",
       "  </tbody>\n",
       "</table>\n",
       "</div>"
      ],
      "text/plain": [
       "   Country  Happiness.Rank  Happiness.Score  Whisker.high  Whisker.low  \\\n",
       "0   Norway               1            7.537      7.594445     7.479556   \n",
       "1  Denmark               2            7.522      7.581728     7.462272   \n",
       "\n",
       "   Economy..GDP.per.Capita.    Family  Health..Life.Expectancy.   Freedom  \\\n",
       "0                  1.616463  1.533524                  0.796667  0.635423   \n",
       "1                  1.482383  1.551122                  0.792566  0.626007   \n",
       "\n",
       "   Generosity  Trust..Government.Corruption.  Dystopia.Residual  \n",
       "0    0.362012                       0.315964           2.277027  \n",
       "1    0.355280                       0.400770           2.313707  "
      ]
     },
     "execution_count": 5,
     "metadata": {},
     "output_type": "execute_result"
    }
   ],
   "source": [
    "data_2017.head(2)"
   ]
  },
  {
   "cell_type": "code",
   "execution_count": 6,
   "id": "502dfbd4",
   "metadata": {},
   "outputs": [],
   "source": [
    "#data_2018.head(2)"
   ]
  },
  {
   "cell_type": "code",
   "execution_count": 7,
   "id": "c18bae48",
   "metadata": {},
   "outputs": [
    {
     "data": {
      "text/html": [
       "<div>\n",
       "<style scoped>\n",
       "    .dataframe tbody tr th:only-of-type {\n",
       "        vertical-align: middle;\n",
       "    }\n",
       "\n",
       "    .dataframe tbody tr th {\n",
       "        vertical-align: top;\n",
       "    }\n",
       "\n",
       "    .dataframe thead th {\n",
       "        text-align: right;\n",
       "    }\n",
       "</style>\n",
       "<table border=\"1\" class=\"dataframe\">\n",
       "  <thead>\n",
       "    <tr style=\"text-align: right;\">\n",
       "      <th></th>\n",
       "      <th>Overall rank</th>\n",
       "      <th>Country or region</th>\n",
       "      <th>Score</th>\n",
       "      <th>GDP per capita</th>\n",
       "      <th>Social support</th>\n",
       "      <th>Healthy life expectancy</th>\n",
       "      <th>Freedom to make life choices</th>\n",
       "      <th>Generosity</th>\n",
       "      <th>Perceptions of corruption</th>\n",
       "    </tr>\n",
       "  </thead>\n",
       "  <tbody>\n",
       "    <tr>\n",
       "      <th>0</th>\n",
       "      <td>1</td>\n",
       "      <td>Finland</td>\n",
       "      <td>7.769</td>\n",
       "      <td>1.340</td>\n",
       "      <td>1.587</td>\n",
       "      <td>0.986</td>\n",
       "      <td>0.596</td>\n",
       "      <td>0.153</td>\n",
       "      <td>0.393</td>\n",
       "    </tr>\n",
       "    <tr>\n",
       "      <th>1</th>\n",
       "      <td>2</td>\n",
       "      <td>Denmark</td>\n",
       "      <td>7.600</td>\n",
       "      <td>1.383</td>\n",
       "      <td>1.573</td>\n",
       "      <td>0.996</td>\n",
       "      <td>0.592</td>\n",
       "      <td>0.252</td>\n",
       "      <td>0.410</td>\n",
       "    </tr>\n",
       "  </tbody>\n",
       "</table>\n",
       "</div>"
      ],
      "text/plain": [
       "   Overall rank Country or region  Score  GDP per capita  Social support  \\\n",
       "0             1           Finland  7.769           1.340           1.587   \n",
       "1             2           Denmark  7.600           1.383           1.573   \n",
       "\n",
       "   Healthy life expectancy  Freedom to make life choices  Generosity  \\\n",
       "0                    0.986                         0.596       0.153   \n",
       "1                    0.996                         0.592       0.252   \n",
       "\n",
       "   Perceptions of corruption  \n",
       "0                      0.393  \n",
       "1                      0.410  "
      ]
     },
     "execution_count": 7,
     "metadata": {},
     "output_type": "execute_result"
    }
   ],
   "source": [
    "data_2019.head(2)"
   ]
  },
  {
   "cell_type": "markdown",
   "id": "bd2b5bc4-db37-4432-b666-0714afd0c4ca",
   "metadata": {},
   "source": [
    "## 1. Data Profiling:\n",
    "Data profiling is a comprehensive process of examining the data available in an existing dataset and collecting statistics and information about that data. "
   ]
  },
  {
   "cell_type": "code",
   "execution_count": 11,
   "id": "672f2081-5a2c-4908-8cbd-29519fb3cac5",
   "metadata": {},
   "outputs": [
    {
     "name": "stdout",
     "output_type": "stream",
     "text": [
      "info about 2015 dataset:\n",
      "\n",
      "<class 'pandas.core.frame.DataFrame'>\n",
      "RangeIndex: 158 entries, 0 to 157\n",
      "Data columns (total 12 columns):\n",
      " #   Column                         Non-Null Count  Dtype  \n",
      "---  ------                         --------------  -----  \n",
      " 0   Country                        158 non-null    object \n",
      " 1   Region                         158 non-null    object \n",
      " 2   Happiness Rank                 158 non-null    int64  \n",
      " 3   Happiness Score                158 non-null    float64\n",
      " 4   Standard Error                 158 non-null    float64\n",
      " 5   Economy (GDP per Capita)       158 non-null    float64\n",
      " 6   Family                         158 non-null    float64\n",
      " 7   Health (Life Expectancy)       158 non-null    float64\n",
      " 8   Freedom                        158 non-null    float64\n",
      " 9   Trust (Government Corruption)  158 non-null    float64\n",
      " 10  Generosity                     158 non-null    float64\n",
      " 11  Dystopia Residual              158 non-null    float64\n",
      "dtypes: float64(9), int64(1), object(2)\n",
      "memory usage: 14.9+ KB\n",
      "None\n"
     ]
    }
   ],
   "source": [
    "print(\"info about 2015 dataset:\\n\")\n",
    "print(data_2015.info())"
   ]
  },
  {
   "cell_type": "code",
   "execution_count": 12,
   "id": "c59a79d3",
   "metadata": {},
   "outputs": [
    {
     "name": "stdout",
     "output_type": "stream",
     "text": [
      "info about 2016 dataset:\n",
      "\n",
      "<class 'pandas.core.frame.DataFrame'>\n",
      "RangeIndex: 157 entries, 0 to 156\n",
      "Data columns (total 13 columns):\n",
      " #   Column                         Non-Null Count  Dtype  \n",
      "---  ------                         --------------  -----  \n",
      " 0   Country                        157 non-null    object \n",
      " 1   Region                         157 non-null    object \n",
      " 2   Happiness Rank                 157 non-null    int64  \n",
      " 3   Happiness Score                157 non-null    float64\n",
      " 4   Lower Confidence Interval      157 non-null    float64\n",
      " 5   Upper Confidence Interval      157 non-null    float64\n",
      " 6   Economy (GDP per Capita)       157 non-null    float64\n",
      " 7   Family                         157 non-null    float64\n",
      " 8   Health (Life Expectancy)       157 non-null    float64\n",
      " 9   Freedom                        157 non-null    float64\n",
      " 10  Trust (Government Corruption)  157 non-null    float64\n",
      " 11  Generosity                     157 non-null    float64\n",
      " 12  Dystopia Residual              157 non-null    float64\n",
      "dtypes: float64(10), int64(1), object(2)\n",
      "memory usage: 16.1+ KB\n",
      "None\n"
     ]
    }
   ],
   "source": [
    "print(\"info about 2016 dataset:\\n\")\n",
    "print(data_2016.info())"
   ]
  },
  {
   "cell_type": "code",
   "execution_count": 10,
   "id": "fa57f808",
   "metadata": {},
   "outputs": [
    {
     "name": "stdout",
     "output_type": "stream",
     "text": [
      "info about 2017 dataset:\n",
      "\n",
      "<class 'pandas.core.frame.DataFrame'>\n",
      "RangeIndex: 155 entries, 0 to 154\n",
      "Data columns (total 12 columns):\n",
      " #   Column                         Non-Null Count  Dtype  \n",
      "---  ------                         --------------  -----  \n",
      " 0   Country                        155 non-null    object \n",
      " 1   Happiness.Rank                 155 non-null    int64  \n",
      " 2   Happiness.Score                155 non-null    float64\n",
      " 3   Whisker.high                   155 non-null    float64\n",
      " 4   Whisker.low                    155 non-null    float64\n",
      " 5   Economy..GDP.per.Capita.       155 non-null    float64\n",
      " 6   Family                         155 non-null    float64\n",
      " 7   Health..Life.Expectancy.       155 non-null    float64\n",
      " 8   Freedom                        155 non-null    float64\n",
      " 9   Generosity                     155 non-null    float64\n",
      " 10  Trust..Government.Corruption.  155 non-null    float64\n",
      " 11  Dystopia.Residual              155 non-null    float64\n",
      "dtypes: float64(10), int64(1), object(1)\n",
      "memory usage: 14.7+ KB\n",
      "None\n"
     ]
    }
   ],
   "source": [
    "print(\"info about 2017 dataset:\\n\")\n",
    "print(data_2017.info())"
   ]
  },
  {
   "cell_type": "code",
   "execution_count": 11,
   "id": "822fc3b8",
   "metadata": {},
   "outputs": [],
   "source": [
    "#print(\"info about 2018 dataset:\\n\")\n",
    "#print(data_2018.info())"
   ]
  },
  {
   "cell_type": "code",
   "execution_count": 12,
   "id": "6ad6d70a",
   "metadata": {},
   "outputs": [
    {
     "name": "stdout",
     "output_type": "stream",
     "text": [
      "info about 2019 dataset:\n",
      "\n",
      "<class 'pandas.core.frame.DataFrame'>\n",
      "RangeIndex: 156 entries, 0 to 155\n",
      "Data columns (total 9 columns):\n",
      " #   Column                        Non-Null Count  Dtype  \n",
      "---  ------                        --------------  -----  \n",
      " 0   Overall rank                  156 non-null    int64  \n",
      " 1   Country or region             156 non-null    object \n",
      " 2   Score                         156 non-null    float64\n",
      " 3   GDP per capita                156 non-null    float64\n",
      " 4   Social support                156 non-null    float64\n",
      " 5   Healthy life expectancy       156 non-null    float64\n",
      " 6   Freedom to make life choices  156 non-null    float64\n",
      " 7   Generosity                    156 non-null    float64\n",
      " 8   Perceptions of corruption     156 non-null    float64\n",
      "dtypes: float64(7), int64(1), object(1)\n",
      "memory usage: 11.1+ KB\n",
      "None\n"
     ]
    }
   ],
   "source": [
    "print(\"info about 2019 dataset:\\n\")\n",
    "print(data_2019.info())"
   ]
  },
  {
   "cell_type": "code",
   "execution_count": 13,
   "id": "6ebbe106",
   "metadata": {},
   "outputs": [
    {
     "name": "stdout",
     "output_type": "stream",
     "text": [
      "shape of 2015 =  (158, 12)\n",
      "shape of 2016 =  (157, 13)\n",
      "shape of 2017 =  (155, 12)\n",
      "shape of 2019 =  (156, 9)\n"
     ]
    }
   ],
   "source": [
    "print(\"shape of 2015 = \", data_2015.shape)\n",
    "print(\"shape of 2016 = \", data_2016.shape)\n",
    "print(\"shape of 2017 = \", data_2017.shape)\n",
    "#print(\"shape of 2018 = \", data_2018.shape)\n",
    "print(\"shape of 2019 = \", data_2019.shape)"
   ]
  },
  {
   "cell_type": "code",
   "execution_count": 14,
   "id": "107757ec",
   "metadata": {},
   "outputs": [
    {
     "name": "stdout",
     "output_type": "stream",
     "text": [
      "the columns of 2015 :\n",
      "  Index(['Country', 'Region', 'Happiness Rank', 'Happiness Score',\n",
      "       'Standard Error', 'Economy (GDP per Capita)', 'Family',\n",
      "       'Health (Life Expectancy)', 'Freedom', 'Trust (Government Corruption)',\n",
      "       'Generosity', 'Dystopia Residual'],\n",
      "      dtype='object')\n"
     ]
    }
   ],
   "source": [
    "print(\"the columns of 2015 :\\n \", data_2015.columns)"
   ]
  },
  {
   "cell_type": "code",
   "execution_count": 15,
   "id": "a6393181",
   "metadata": {},
   "outputs": [
    {
     "name": "stdout",
     "output_type": "stream",
     "text": [
      "the columns of 2016 :\n",
      "  Index(['Country', 'Region', 'Happiness Rank', 'Happiness Score',\n",
      "       'Lower Confidence Interval', 'Upper Confidence Interval',\n",
      "       'Economy (GDP per Capita)', 'Family', 'Health (Life Expectancy)',\n",
      "       'Freedom', 'Trust (Government Corruption)', 'Generosity',\n",
      "       'Dystopia Residual'],\n",
      "      dtype='object')\n"
     ]
    }
   ],
   "source": [
    "print(\"the columns of 2016 :\\n \", data_2016.columns)"
   ]
  },
  {
   "cell_type": "code",
   "execution_count": 16,
   "id": "a3265722",
   "metadata": {},
   "outputs": [
    {
     "name": "stdout",
     "output_type": "stream",
     "text": [
      "the columns of 2017 :\n",
      "  Index(['Country', 'Happiness.Rank', 'Happiness.Score', 'Whisker.high',\n",
      "       'Whisker.low', 'Economy..GDP.per.Capita.', 'Family',\n",
      "       'Health..Life.Expectancy.', 'Freedom', 'Generosity',\n",
      "       'Trust..Government.Corruption.', 'Dystopia.Residual'],\n",
      "      dtype='object')\n"
     ]
    }
   ],
   "source": [
    "print(\"the columns of 2017 :\\n \", data_2017.columns)"
   ]
  },
  {
   "cell_type": "code",
   "execution_count": 17,
   "id": "fe834055",
   "metadata": {},
   "outputs": [],
   "source": [
    "#print(\"the columns of 2018 :\\n \", data_2018.columns)"
   ]
  },
  {
   "cell_type": "code",
   "execution_count": 16,
   "id": "746eeda5",
   "metadata": {},
   "outputs": [
    {
     "name": "stdout",
     "output_type": "stream",
     "text": [
      "the columns of 2019 :\n",
      "  Index(['Overall rank', 'Country or region', 'Score', 'GDP per capita',\n",
      "       'Social support', 'Healthy life expectancy',\n",
      "       'Freedom to make life choices', 'Generosity',\n",
      "       'Perceptions of corruption'],\n",
      "      dtype='object')\n"
     ]
    }
   ],
   "source": [
    "print(\"the columns of 2019 :\\n \", data_2019.columns)"
   ]
  },
  {
   "cell_type": "markdown",
   "id": "834929aa-fd6a-4ec5-84d4-77c4b3c1a506",
   "metadata": {},
   "source": [
    "The process of profiling differs slightly for categorical and numerical variables due to their inherent differences.\n",
    "\n",
    "**The two main types of data are:**\n",
    "- Quantitative (numerical) data\n",
    "- Qualitative (categorical) data"
   ]
  },
  {
   "cell_type": "markdown",
   "id": "3a9954f5-6fbc-45b4-ad86-3e21b6e0ca2d",
   "metadata": {},
   "source": [
    "### Data Quality Checks\n",
    "Data quality checks involve the process of ensuring that the data is accurate, complete, consistent, relevant, and reliable. \n",
    "\n",
    "\n",
    "**Here are typical steps involved in checking data quality:**"
   ]
  },
  {
   "cell_type": "markdown",
   "id": "4818c876-173d-4e56-9e7d-b4334d2def25",
   "metadata": {},
   "source": [
    "#### 1. Reliability:\n",
    "Evaluate the data's source and collection process to determine its trustworthiness."
   ]
  },
  {
   "cell_type": "code",
   "execution_count": 77,
   "id": "9034ae7b-dc1d-4cba-8f9e-bb499d021cde",
   "metadata": {},
   "outputs": [],
   "source": [
    "#source = \"creativecommons.org\""
   ]
  },
  {
   "cell_type": "markdown",
   "id": "2ce0cc59-8c92-4acc-8d07-c40764e1a86b",
   "metadata": {},
   "source": [
    "#### 2. Timeliness: \n",
    "Ensure the data is up-to-date and reflective of the current situation or the period of interest for the analysis."
   ]
  },
  {
   "cell_type": "code",
   "execution_count": 78,
   "id": "4b78ae35-7226-4cb6-b8b2-a46c2ed17cf9",
   "metadata": {},
   "outputs": [],
   "source": [
    "# World Happiness Reports was collected for 5 years starting from 2015 until 2019"
   ]
  },
  {
   "cell_type": "markdown",
   "id": "7fab0fe2-6624-4615-b9d8-3c3669056bf8",
   "metadata": {},
   "source": [
    "#### 3. Consistency: \n",
    "\n",
    "Confirm that the data is consistent within the dataset and across multiple data sources. For example, the same data point should not have different values in different places. \n",
    "#### same value and same type\n"
   ]
  },
  {
   "cell_type": "code",
   "execution_count": 79,
   "id": "7fecc573-959f-4800-8ddd-a67985c68b18",
   "metadata": {},
   "outputs": [],
   "source": [
    "# Not all the files have the same number of columns "
   ]
  },
  {
   "cell_type": "markdown",
   "id": "bec3d183-bba0-4b12-b963-487daab1e876",
   "metadata": {},
   "source": [
    "#### 4. Relevance: \n",
    "Assess whether the data is appropriate and applicable for the intended analysis. Data that is not relevant can skew results and lead to incorrect conclusions.\n",
    "\n",
    "**Key considerations for relevance include:**\n",
    "\n",
    "> 1. Sample Appropriateness: Confirm that your data sample aligns with your analysis objectives. For instance, utilizing data from the Northern region will not yield accurate insights for the Western region of the Kingdom.\n",
    ">\n",
    "> 2. Variable Selection: Any column will not be relevant for our analysis, we can get rid of these using the drop() method. We will set the “axis” argument to 1 since we’re dealing with columns, and set the “inplace” argument to True to make the change permanent.\n"
   ]
  },
  {
   "cell_type": "code",
   "execution_count": 17,
   "id": "50a934b7-a0cd-443f-8a27-f10e9a6e8647",
   "metadata": {
    "scrolled": true
   },
   "outputs": [
    {
     "data": {
      "text/html": [
       "<div>\n",
       "<style scoped>\n",
       "    .dataframe tbody tr th:only-of-type {\n",
       "        vertical-align: middle;\n",
       "    }\n",
       "\n",
       "    .dataframe tbody tr th {\n",
       "        vertical-align: top;\n",
       "    }\n",
       "\n",
       "    .dataframe thead th {\n",
       "        text-align: right;\n",
       "    }\n",
       "</style>\n",
       "<table border=\"1\" class=\"dataframe\">\n",
       "  <thead>\n",
       "    <tr style=\"text-align: right;\">\n",
       "      <th></th>\n",
       "      <th>Country</th>\n",
       "      <th>Region</th>\n",
       "      <th>Happiness Rank</th>\n",
       "      <th>Happiness Score</th>\n",
       "      <th>Economy (GDP per Capita)</th>\n",
       "      <th>Family</th>\n",
       "      <th>Health (Life Expectancy)</th>\n",
       "      <th>Freedom</th>\n",
       "      <th>Trust (Government Corruption)</th>\n",
       "      <th>Generosity</th>\n",
       "      <th>Dystopia Residual</th>\n",
       "    </tr>\n",
       "  </thead>\n",
       "  <tbody>\n",
       "    <tr>\n",
       "      <th>0</th>\n",
       "      <td>Switzerland</td>\n",
       "      <td>Western Europe</td>\n",
       "      <td>1</td>\n",
       "      <td>7.587</td>\n",
       "      <td>1.39651</td>\n",
       "      <td>1.34951</td>\n",
       "      <td>0.94143</td>\n",
       "      <td>0.66557</td>\n",
       "      <td>0.41978</td>\n",
       "      <td>0.29678</td>\n",
       "      <td>2.51738</td>\n",
       "    </tr>\n",
       "    <tr>\n",
       "      <th>1</th>\n",
       "      <td>Iceland</td>\n",
       "      <td>Western Europe</td>\n",
       "      <td>2</td>\n",
       "      <td>7.561</td>\n",
       "      <td>1.30232</td>\n",
       "      <td>1.40223</td>\n",
       "      <td>0.94784</td>\n",
       "      <td>0.62877</td>\n",
       "      <td>0.14145</td>\n",
       "      <td>0.43630</td>\n",
       "      <td>2.70201</td>\n",
       "    </tr>\n",
       "  </tbody>\n",
       "</table>\n",
       "</div>"
      ],
      "text/plain": [
       "       Country          Region  Happiness Rank  Happiness Score  \\\n",
       "0  Switzerland  Western Europe               1            7.587   \n",
       "1      Iceland  Western Europe               2            7.561   \n",
       "\n",
       "   Economy (GDP per Capita)   Family  Health (Life Expectancy)  Freedom  \\\n",
       "0                   1.39651  1.34951                   0.94143  0.66557   \n",
       "1                   1.30232  1.40223                   0.94784  0.62877   \n",
       "\n",
       "   Trust (Government Corruption)  Generosity  Dystopia Residual  \n",
       "0                        0.41978     0.29678            2.51738  \n",
       "1                        0.14145     0.43630            2.70201  "
      ]
     },
     "execution_count": 17,
     "metadata": {},
     "output_type": "execute_result"
    }
   ],
   "source": [
    "data_2015.drop([\"Standard Error\"], axis=1, inplace=True)\n",
    "data_2015.head(2)"
   ]
  },
  {
   "cell_type": "code",
   "execution_count": 55,
   "id": "de14e890",
   "metadata": {},
   "outputs": [
    {
     "name": "stdout",
     "output_type": "stream",
     "text": [
      "the columns that is not in 2019 datasets but in 2015:\n",
      " 21                    Oman\n",
      "39                Suriname\n",
      "40     Trinidad and Tobago\n",
      "65            North Cyprus\n",
      "90       Somaliland region\n",
      "92               Macedonia\n",
      "117                  Sudan\n",
      "125               Djibouti\n",
      "136                 Angola\n",
      "Name: Country, dtype: object\n"
     ]
    }
   ],
   "source": [
    "check_country = lambda country: country in data_2019['Country or region'].values\n",
    "data_2015['Country_in_2019'] = data_2015['Country'].apply(check_country)\n",
    "rows_with_false = data_2015[data_2015['Country_in_2019'] == False]\n",
    "print(\"the columns that is not in 2019 datasets but in 2015:\\n\",rows_with_false['Country'])"
   ]
  },
  {
   "cell_type": "code",
   "execution_count": 54,
   "id": "c0d66268",
   "metadata": {},
   "outputs": [
    {
     "name": "stdout",
     "output_type": "stream",
     "text": [
      "the columns that is not in 2019 datasets but in 2016:\n",
      " 14             Puerto Rico\n",
      "39                Suriname\n",
      "42     Trinidad and Tobago\n",
      "51                  Belize\n",
      "61            North Cyprus\n",
      "94               Macedonia\n",
      "96       Somaliland Region\n",
      "132                  Sudan\n",
      "140                 Angola\n",
      "Name: Country, dtype: object\n"
     ]
    }
   ],
   "source": [
    "check_country = lambda country: country in data_2019['Country or region'].values\n",
    "data_2016['Country_in_2019'] = data_2016['Country'].apply(check_country)\n",
    "rows_with_false = data_2016[data_2016['Country_in_2019'] == False]\n",
    "print(\"the columns that is not in 2019 datasets but in 2016:\\n\",rows_with_false['Country'])"
   ]
  },
  {
   "cell_type": "code",
   "execution_count": 53,
   "id": "2748f5b6",
   "metadata": {},
   "outputs": [
    {
     "name": "stdout",
     "output_type": "stream",
     "text": [
      "the columns that is not in 2019 datasets but in 2017:\n",
      " 32     Taiwan Province of China\n",
      "37          Trinidad and Tobago\n",
      "49                       Belize\n",
      "60                 North Cyprus\n",
      "70      Hong Kong S.A.R., China\n",
      "91                    Macedonia\n",
      "129                       Sudan\n",
      "139                      Angola\n",
      "Name: Country, dtype: object\n"
     ]
    }
   ],
   "source": [
    "check_country = lambda country: country in data_2019['Country or region'].values\n",
    "data_2017['Country_in_2019'] = data_2017['Country'].apply(check_country)\n",
    "rows_with_false = data_2017[data_2017['Country_in_2019'] == False]\n",
    "print(\"the columns that is not in 2019 datasets but in 2017:\\n\",rows_with_false['Country'])"
   ]
  },
  {
   "cell_type": "markdown",
   "id": "0f5e3a2a-bbb7-4d06-8220-c93277b70146",
   "metadata": {},
   "source": [
    "#### 5. Uniqueness: \n",
    "Check for and remove duplicate records to prevent skewed analysis results.\n"
   ]
  },
  {
   "cell_type": "code",
   "execution_count": 19,
   "id": "8239aea2",
   "metadata": {},
   "outputs": [
    {
     "data": {
      "text/plain": [
       "0"
      ]
     },
     "execution_count": 19,
     "metadata": {},
     "output_type": "execute_result"
    }
   ],
   "source": [
    "data_2015.duplicated().sum()"
   ]
  },
  {
   "cell_type": "code",
   "execution_count": 20,
   "id": "46fcbeab",
   "metadata": {},
   "outputs": [
    {
     "data": {
      "text/plain": [
       "0"
      ]
     },
     "execution_count": 20,
     "metadata": {},
     "output_type": "execute_result"
    }
   ],
   "source": [
    "data_2016.duplicated().sum()"
   ]
  },
  {
   "cell_type": "code",
   "execution_count": 21,
   "id": "c4c525ed",
   "metadata": {},
   "outputs": [
    {
     "data": {
      "text/plain": [
       "0"
      ]
     },
     "execution_count": 21,
     "metadata": {},
     "output_type": "execute_result"
    }
   ],
   "source": [
    "data_2017.duplicated().sum()"
   ]
  },
  {
   "cell_type": "code",
   "execution_count": 22,
   "id": "a509a7aa-58f4-4d39-8eb8-e8298a21f2a7",
   "metadata": {},
   "outputs": [
    {
     "data": {
      "text/plain": [
       "0"
      ]
     },
     "execution_count": 22,
     "metadata": {},
     "output_type": "execute_result"
    }
   ],
   "source": [
    "\n",
    "data_2019.duplicated().sum()"
   ]
  },
  {
   "cell_type": "code",
   "execution_count": 86,
   "id": "04c62559-3b48-48cf-a4e9-857e2e0ff416",
   "metadata": {},
   "outputs": [],
   "source": [
    "# go to delete duplicates columns\n",
    "#there is no duplicate values"
   ]
  },
  {
   "cell_type": "markdown",
   "id": "c7724ac2-4ea2-4cf4-a9e0-e64368f87b92",
   "metadata": {},
   "source": [
    "#### 6. Completeness: \n",
    "Ensure that no critical data is missing. This might mean checking for null values or required fields that are empty.\n",
    "\n",
    "We will start by checking the dataset for missing or null values. For this, we can use the isna() method which returns a dataframe of boolean values indicating if a field is null or not. To group all missing values by column, we can include the sum() method."
   ]
  },
  {
   "cell_type": "code",
   "execution_count": 87,
   "id": "48a4de54-a344-4b94-9908-9528c15c13f7",
   "metadata": {},
   "outputs": [
    {
     "data": {
      "text/plain": [
       "Country                          0\n",
       "Region                           0\n",
       "Happiness Rank                   0\n",
       "Happiness Score                  0\n",
       "Economy (GDP per Capita)         0\n",
       "Family                           0\n",
       "Health (Life Expectancy)         0\n",
       "Freedom                          0\n",
       "Trust (Government Corruption)    0\n",
       "Generosity                       0\n",
       "Dystopia Residual                0\n",
       "dtype: int64"
      ]
     },
     "execution_count": 87,
     "metadata": {},
     "output_type": "execute_result"
    }
   ],
   "source": [
    "#Display number missing values per column\n",
    "data_2015.isnull().sum()"
   ]
  },
  {
   "cell_type": "code",
   "execution_count": 88,
   "id": "9cb3279d",
   "metadata": {},
   "outputs": [
    {
     "data": {
      "text/plain": [
       "Country                          0\n",
       "Region                           0\n",
       "Happiness Rank                   0\n",
       "Happiness Score                  0\n",
       "Lower Confidence Interval        0\n",
       "Upper Confidence Interval        0\n",
       "Economy (GDP per Capita)         0\n",
       "Family                           0\n",
       "Health (Life Expectancy)         0\n",
       "Freedom                          0\n",
       "Trust (Government Corruption)    0\n",
       "Generosity                       0\n",
       "Dystopia Residual                0\n",
       "dtype: int64"
      ]
     },
     "execution_count": 88,
     "metadata": {},
     "output_type": "execute_result"
    }
   ],
   "source": [
    "data_2016.isnull().sum()"
   ]
  },
  {
   "cell_type": "code",
   "execution_count": 89,
   "id": "0e5ff4a3",
   "metadata": {},
   "outputs": [
    {
     "data": {
      "text/plain": [
       "Country                          0\n",
       "Happiness.Rank                   0\n",
       "Happiness.Score                  0\n",
       "Whisker.high                     0\n",
       "Whisker.low                      0\n",
       "Economy..GDP.per.Capita.         0\n",
       "Family                           0\n",
       "Health..Life.Expectancy.         0\n",
       "Freedom                          0\n",
       "Generosity                       0\n",
       "Trust..Government.Corruption.    0\n",
       "Dystopia.Residual                0\n",
       "dtype: int64"
      ]
     },
     "execution_count": 89,
     "metadata": {},
     "output_type": "execute_result"
    }
   ],
   "source": [
    "data_2017.isnull().sum()"
   ]
  },
  {
   "cell_type": "code",
   "execution_count": 91,
   "id": "c67ff32c",
   "metadata": {},
   "outputs": [
    {
     "data": {
      "text/plain": [
       "Overall rank                    0\n",
       "Country or region               0\n",
       "Score                           0\n",
       "GDP per capita                  0\n",
       "Social support                  0\n",
       "Healthy life expectancy         0\n",
       "Freedom to make life choices    0\n",
       "Generosity                      0\n",
       "Perceptions of corruption       0\n",
       "dtype: int64"
      ]
     },
     "execution_count": 91,
     "metadata": {},
     "output_type": "execute_result"
    }
   ],
   "source": [
    "data_2019.isnull().sum()"
   ]
  },
  {
   "cell_type": "code",
   "execution_count": 92,
   "id": "abec31c4-0904-4b73-8cee-b7bc14ab1e67",
   "metadata": {},
   "outputs": [
    {
     "data": {
      "text/html": [
       "<div>\n",
       "<style scoped>\n",
       "    .dataframe tbody tr th:only-of-type {\n",
       "        vertical-align: middle;\n",
       "    }\n",
       "\n",
       "    .dataframe tbody tr th {\n",
       "        vertical-align: top;\n",
       "    }\n",
       "\n",
       "    .dataframe thead th {\n",
       "        text-align: right;\n",
       "    }\n",
       "</style>\n",
       "<table border=\"1\" class=\"dataframe\">\n",
       "  <thead>\n",
       "    <tr style=\"text-align: right;\">\n",
       "      <th></th>\n",
       "      <th>Overall rank</th>\n",
       "      <th>Country or region</th>\n",
       "      <th>Score</th>\n",
       "      <th>GDP per capita</th>\n",
       "      <th>Social support</th>\n",
       "      <th>Healthy life expectancy</th>\n",
       "      <th>Freedom to make life choices</th>\n",
       "      <th>Generosity</th>\n",
       "      <th>Perceptions of corruption</th>\n",
       "    </tr>\n",
       "  </thead>\n",
       "  <tbody>\n",
       "    <tr>\n",
       "      <th>19</th>\n",
       "      <td>20</td>\n",
       "      <td>United Arab Emirates</td>\n",
       "      <td>6.774</td>\n",
       "      <td>2.096</td>\n",
       "      <td>0.776</td>\n",
       "      <td>0.67</td>\n",
       "      <td>0.284</td>\n",
       "      <td>0.186</td>\n",
       "      <td>NaN</td>\n",
       "    </tr>\n",
       "  </tbody>\n",
       "</table>\n",
       "</div>"
      ],
      "text/plain": [
       "    Overall rank     Country or region  Score  GDP per capita  Social support  \\\n",
       "19            20  United Arab Emirates  6.774           2.096           0.776   \n",
       "\n",
       "    Healthy life expectancy  Freedom to make life choices  Generosity  \\\n",
       "19                     0.67                         0.284       0.186   \n",
       "\n",
       "    Perceptions of corruption  \n",
       "19                        NaN  "
      ]
     },
     "execution_count": 92,
     "metadata": {},
     "output_type": "execute_result"
    }
   ],
   "source": [
    "#sort_values(by=\"Generosity\", ascending=False)"
   ]
  },
  {
   "cell_type": "markdown",
   "id": "b40de63c-5a1d-49ed-a87e-c5229ee08bbe",
   "metadata": {},
   "source": [
    "#### 7. Check Accuracy:\n",
    "\n",
    "Verify that the data is correct and precise. This could involve comparing data samples with known sources or using validation rules.\n",
    "\n",
    "**The process includes:**\n",
    "1. Validating the appropriateness of data types for the dataset.\n",
    "2. Identifying outliers  using established validation  rule"
   ]
  },
  {
   "cell_type": "code",
   "execution_count": 23,
   "id": "b09ba634",
   "metadata": {},
   "outputs": [
    {
     "data": {
      "text/plain": [
       "Country                           object\n",
       "Region                            object\n",
       "Happiness Rank                     int64\n",
       "Happiness Score                  float64\n",
       "Economy (GDP per Capita)         float64\n",
       "Family                           float64\n",
       "Health (Life Expectancy)         float64\n",
       "Freedom                          float64\n",
       "Trust (Government Corruption)    float64\n",
       "Generosity                       float64\n",
       "Dystopia Residual                float64\n",
       "dtype: object"
      ]
     },
     "execution_count": 23,
     "metadata": {},
     "output_type": "execute_result"
    }
   ],
   "source": [
    "data_2015.dtypes"
   ]
  },
  {
   "cell_type": "code",
   "execution_count": 24,
   "id": "4dd1d6d8",
   "metadata": {},
   "outputs": [
    {
     "data": {
      "text/plain": [
       "Country                           object\n",
       "Region                            object\n",
       "Happiness Rank                     int64\n",
       "Happiness Score                  float64\n",
       "Lower Confidence Interval        float64\n",
       "Upper Confidence Interval        float64\n",
       "Economy (GDP per Capita)         float64\n",
       "Family                           float64\n",
       "Health (Life Expectancy)         float64\n",
       "Freedom                          float64\n",
       "Trust (Government Corruption)    float64\n",
       "Generosity                       float64\n",
       "Dystopia Residual                float64\n",
       "dtype: object"
      ]
     },
     "execution_count": 24,
     "metadata": {},
     "output_type": "execute_result"
    }
   ],
   "source": [
    "data_2016.dtypes"
   ]
  },
  {
   "cell_type": "code",
   "execution_count": 25,
   "id": "4f378b5f",
   "metadata": {},
   "outputs": [
    {
     "data": {
      "text/plain": [
       "Country                           object\n",
       "Happiness.Rank                     int64\n",
       "Happiness.Score                  float64\n",
       "Whisker.high                     float64\n",
       "Whisker.low                      float64\n",
       "Economy..GDP.per.Capita.         float64\n",
       "Family                           float64\n",
       "Health..Life.Expectancy.         float64\n",
       "Freedom                          float64\n",
       "Generosity                       float64\n",
       "Trust..Government.Corruption.    float64\n",
       "Dystopia.Residual                float64\n",
       "dtype: object"
      ]
     },
     "execution_count": 25,
     "metadata": {},
     "output_type": "execute_result"
    }
   ],
   "source": [
    "data_2017.dtypes"
   ]
  },
  {
   "cell_type": "code",
   "execution_count": 57,
   "id": "68be5334-ae10-4abd-8097-3259fe5e72c8",
   "metadata": {},
   "outputs": [
    {
     "data": {
      "text/plain": [
       "Overall rank                      int64\n",
       "Country or region                object\n",
       "Score                           float64\n",
       "GDP per capita                  float64\n",
       "Social support                  float64\n",
       "Healthy life expectancy         float64\n",
       "Freedom to make life choices    float64\n",
       "Generosity                      float64\n",
       "Perceptions of corruption       float64\n",
       "dtype: object"
      ]
     },
     "execution_count": 57,
     "metadata": {},
     "output_type": "execute_result"
    }
   ],
   "source": [
    "data_2019.dtypes"
   ]
  },
  {
   "cell_type": "code",
   "execution_count": 94,
   "id": "2ee790ba-dcc0-45f1-b6f8-0133e913e149",
   "metadata": {},
   "outputs": [],
   "source": [
    "# go to clean them "
   ]
  },
  {
   "cell_type": "code",
   "execution_count": 95,
   "id": "c69b303a-5459-45f9-a28e-fcee45c21c05",
   "metadata": {},
   "outputs": [],
   "source": [
    "# check outliers "
   ]
  },
  {
   "cell_type": "markdown",
   "id": "4aca9d42-add6-45db-92cf-1f6dae5f277b",
   "metadata": {},
   "source": [
    "**What is an Outlier?** \n",
    "Outlier is an row/observation that appears far away and diverges from an overall pattern in a sample.\n",
    "\n",
    "**What are the types of Outliers?**\n",
    "1. Univariate: These outliers can be found when we look at distribution of a single variable\n",
    "2. Multivariate: are outliers in an n-dimensional space. In order to find them, you have to look at distributions in multi-dimensions. example (hight=100, weight=100) for a person\n",
    "\n",
    "**What causes Outliers?**\n",
    "Whenever we come across outliers, the ideal way to tackle them is to find out the reason of having these outliers. The method to deal with them would then depend on the reason of their occurrence.\n",
    "\n",
    "Let’s understand various types of outliers:\n",
    "\n",
    "1. Data Entry Errors:- Human errors such as errors caused during data collection, recording, or entry can cause outliers in data.\n",
    "2. Measurement Error: It is the most common source of outliers. This is caused when the measurement instrument used turns out to be faulty.\n",
    "3. Data Processing Error: Whenever we perform data mining, we extract data from multiple sources. It is possible that some manipulation or extraction errors may lead to outliers in the dataset.\n",
    "4. Sampling error: For instance, we have to measure the height of athletes. By mistake, we include a few basketball players in the sample. This inclusion is likely to cause outliers in the dataset.\n",
    "5. Natural Outlier: When an outlier is not artificial (due to error), it is a natural outlier. For instance: In my last assignment with one of the renowned insurance company, I noticed that the performance of top 50 financial advisors was far higher than rest of the population. Surprisingly, it was not due to any error. Hence, whenever we perform any data mining activity with advisors, we used to treat this segment separately.\n",
    "\n",
    "\n",
    "**What is the impact of Outliers on a dataset?**\n",
    "\n",
    "\n",
    "![image.png](https://www.analyticsvidhya.com/wp-content/uploads/2015/02/Outlier_31.png)\n",
    "\n",
    "\n",
    "\n",
    "**How to detect Outliers?**\n",
    "\n",
    "1. Most commonly used method to detect outliers is visualization (Univariate Graphical Analysis).\n",
    "\n",
    "We use 3 common visualization methods:\n",
    ">- Box-plot: A box plot is a method for graphically depicting groups of numerical data through their quartiles. The box extends from the Q1 to Q3 quartile values of the data, with a line at the median (Q2). The whiskers extend from the edges of the box to show the range of the data. Outlier points are those past the end of the whiskers. Box plots show robust measures of location and spread as well as providing information about symmetry and outliers.\n",
    ">\n",
    ">  \n",
    ">![image.png](https://miro.medium.com/v2/resize:fit:698/format:webp/1*VK5iHA2AB28HSZwWwUbNYg.png)\n",
    ">\n",
    ">\n",
    ">- Histogram\n",
    ">- Scatter Plot: A scatter plot is a mathematical diagram using Cartesian coordinates to display values for two variables for a set of data. The data are displayed as a collection of points, each having the value of one variable determining the position on the horizontal axis and the value of the other variable determining the position on the vertical axis. The points that are far from the population can be termed as an outlier.\n",
    ">\n",
    ">  \n",
    ">![image.png](https://miro.medium.com/v2/resize:fit:4800/format:webp/1*Ov6aH-8yIwNoUxtMFwgx4g.png)\n",
    ">\n",
    ">\n",
    "\n",
    "2. Using statistical method (Univariate Non-Graphical analysis):\n",
    ">- Any value, which is beyond the range of -1.5 x IQR to 1.5 x IQR\n",
    " \n",
    "![image.png](https://www.whatissixsigma.net/wp-content/uploads/2015/07/Box-Plot-Diagram-to-identify-Outliers-figure-1.png)\n",
    "\n",
    ">- Use capping methods. Any value which out of range of 5th and 95th percentile can be considered as outlier\n",
    ">- Data points, three or more standard deviation away from mean are considered outlier: The Z-score is the signed number of standard deviations by which the value of an observation or data point is above the mean value of what is being observed or measured. While calculating the Z-score we re-scale and center the data and look for data points that are too far from zero. These data points which are way too far from zero will be treated as the outliers. In most of the cases, a threshold of 3 or -3 is used i.e if the Z-score value is greater than or less than 3 or -3 respectively, that data point will be identified as outliers.\n",
    "> - Outlier detection is merely a special case of the examination of data for influential data points and it also depends on the business understanding\n"
   ]
  },
  {
   "cell_type": "code",
   "execution_count": 96,
   "id": "74ea6194-cc01-45d8-be38-c4543eb1714e",
   "metadata": {},
   "outputs": [],
   "source": [
    "# go to univariate graphical analysis\n",
    "# go to lesson : data visualisation 1 - chart type section\n",
    "# then go to univariate graphical analysis\n",
    "# detect outliers using graphs varbaly"
   ]
  },
  {
   "cell_type": "code",
   "execution_count": 97,
   "id": "48ecf77b-480c-4f64-9485-95be805bc357",
   "metadata": {},
   "outputs": [],
   "source": [
    "# go to lesson: statistics 1 then statistics 3\n",
    "# then go to univariate Non graphical analysis\n",
    "# detect outliers using numerical statistics "
   ]
  },
  {
   "cell_type": "code",
   "execution_count": 27,
   "id": "ee200da8-62b0-492d-b118-f4d665a1fb16",
   "metadata": {},
   "outputs": [
    {
     "data": {
      "text/html": [
       "<div>\n",
       "<style scoped>\n",
       "    .dataframe tbody tr th:only-of-type {\n",
       "        vertical-align: middle;\n",
       "    }\n",
       "\n",
       "    .dataframe tbody tr th {\n",
       "        vertical-align: top;\n",
       "    }\n",
       "\n",
       "    .dataframe thead th {\n",
       "        text-align: right;\n",
       "    }\n",
       "</style>\n",
       "<table border=\"1\" class=\"dataframe\">\n",
       "  <thead>\n",
       "    <tr style=\"text-align: right;\">\n",
       "      <th></th>\n",
       "      <th>Overall rank</th>\n",
       "      <th>Country or region</th>\n",
       "      <th>Score</th>\n",
       "      <th>GDP per capita</th>\n",
       "      <th>Social support</th>\n",
       "      <th>Healthy life expectancy</th>\n",
       "      <th>Freedom to make life choices</th>\n",
       "      <th>Generosity</th>\n",
       "      <th>Perceptions of corruption</th>\n",
       "    </tr>\n",
       "  </thead>\n",
       "  <tbody>\n",
       "    <tr>\n",
       "      <th>0</th>\n",
       "      <td>1</td>\n",
       "      <td>Finland</td>\n",
       "      <td>7.769</td>\n",
       "      <td>1.340</td>\n",
       "      <td>1.587</td>\n",
       "      <td>0.986</td>\n",
       "      <td>0.596</td>\n",
       "      <td>0.153</td>\n",
       "      <td>0.393</td>\n",
       "    </tr>\n",
       "    <tr>\n",
       "      <th>1</th>\n",
       "      <td>2</td>\n",
       "      <td>Denmark</td>\n",
       "      <td>7.600</td>\n",
       "      <td>1.383</td>\n",
       "      <td>1.573</td>\n",
       "      <td>0.996</td>\n",
       "      <td>0.592</td>\n",
       "      <td>0.252</td>\n",
       "      <td>0.410</td>\n",
       "    </tr>\n",
       "  </tbody>\n",
       "</table>\n",
       "</div>"
      ],
      "text/plain": [
       "   Overall rank Country or region  Score  GDP per capita  Social support  \\\n",
       "0             1           Finland  7.769           1.340           1.587   \n",
       "1             2           Denmark  7.600           1.383           1.573   \n",
       "\n",
       "   Healthy life expectancy  Freedom to make life choices  Generosity  \\\n",
       "0                    0.986                         0.596       0.153   \n",
       "1                    0.996                         0.592       0.252   \n",
       "\n",
       "   Perceptions of corruption  \n",
       "0                      0.393  \n",
       "1                      0.410  "
      ]
     },
     "metadata": {},
     "output_type": "display_data"
    },
    {
     "data": {
      "text/html": [
       "<div>\n",
       "<style scoped>\n",
       "    .dataframe tbody tr th:only-of-type {\n",
       "        vertical-align: middle;\n",
       "    }\n",
       "\n",
       "    .dataframe tbody tr th {\n",
       "        vertical-align: top;\n",
       "    }\n",
       "\n",
       "    .dataframe thead th {\n",
       "        text-align: right;\n",
       "    }\n",
       "</style>\n",
       "<table border=\"1\" class=\"dataframe\">\n",
       "  <thead>\n",
       "    <tr style=\"text-align: right;\">\n",
       "      <th></th>\n",
       "      <th>Country</th>\n",
       "      <th>Happiness.Rank</th>\n",
       "      <th>Happiness.Score</th>\n",
       "      <th>Whisker.high</th>\n",
       "      <th>Whisker.low</th>\n",
       "      <th>Economy..GDP.per.Capita.</th>\n",
       "      <th>Family</th>\n",
       "      <th>Health..Life.Expectancy.</th>\n",
       "      <th>Freedom</th>\n",
       "      <th>Generosity</th>\n",
       "      <th>Trust..Government.Corruption.</th>\n",
       "      <th>Dystopia.Residual</th>\n",
       "    </tr>\n",
       "  </thead>\n",
       "  <tbody>\n",
       "    <tr>\n",
       "      <th>0</th>\n",
       "      <td>Norway</td>\n",
       "      <td>1</td>\n",
       "      <td>7.537</td>\n",
       "      <td>7.594445</td>\n",
       "      <td>7.479556</td>\n",
       "      <td>1.616463</td>\n",
       "      <td>1.533524</td>\n",
       "      <td>0.796667</td>\n",
       "      <td>0.635423</td>\n",
       "      <td>0.362012</td>\n",
       "      <td>0.315964</td>\n",
       "      <td>2.277027</td>\n",
       "    </tr>\n",
       "    <tr>\n",
       "      <th>1</th>\n",
       "      <td>Denmark</td>\n",
       "      <td>2</td>\n",
       "      <td>7.522</td>\n",
       "      <td>7.581728</td>\n",
       "      <td>7.462272</td>\n",
       "      <td>1.482383</td>\n",
       "      <td>1.551122</td>\n",
       "      <td>0.792566</td>\n",
       "      <td>0.626007</td>\n",
       "      <td>0.355280</td>\n",
       "      <td>0.400770</td>\n",
       "      <td>2.313707</td>\n",
       "    </tr>\n",
       "  </tbody>\n",
       "</table>\n",
       "</div>"
      ],
      "text/plain": [
       "   Country  Happiness.Rank  Happiness.Score  Whisker.high  Whisker.low  \\\n",
       "0   Norway               1            7.537      7.594445     7.479556   \n",
       "1  Denmark               2            7.522      7.581728     7.462272   \n",
       "\n",
       "   Economy..GDP.per.Capita.    Family  Health..Life.Expectancy.   Freedom  \\\n",
       "0                  1.616463  1.533524                  0.796667  0.635423   \n",
       "1                  1.482383  1.551122                  0.792566  0.626007   \n",
       "\n",
       "   Generosity  Trust..Government.Corruption.  Dystopia.Residual  \n",
       "0    0.362012                       0.315964           2.277027  \n",
       "1    0.355280                       0.400770           2.313707  "
      ]
     },
     "metadata": {},
     "output_type": "display_data"
    },
    {
     "data": {
      "text/html": [
       "<div>\n",
       "<style scoped>\n",
       "    .dataframe tbody tr th:only-of-type {\n",
       "        vertical-align: middle;\n",
       "    }\n",
       "\n",
       "    .dataframe tbody tr th {\n",
       "        vertical-align: top;\n",
       "    }\n",
       "\n",
       "    .dataframe thead th {\n",
       "        text-align: right;\n",
       "    }\n",
       "</style>\n",
       "<table border=\"1\" class=\"dataframe\">\n",
       "  <thead>\n",
       "    <tr style=\"text-align: right;\">\n",
       "      <th></th>\n",
       "      <th>Country</th>\n",
       "      <th>Region</th>\n",
       "      <th>Happiness Rank</th>\n",
       "      <th>Happiness Score</th>\n",
       "      <th>Lower Confidence Interval</th>\n",
       "      <th>Upper Confidence Interval</th>\n",
       "      <th>Economy (GDP per Capita)</th>\n",
       "      <th>Family</th>\n",
       "      <th>Health (Life Expectancy)</th>\n",
       "      <th>Freedom</th>\n",
       "      <th>Trust (Government Corruption)</th>\n",
       "      <th>Generosity</th>\n",
       "      <th>Dystopia Residual</th>\n",
       "    </tr>\n",
       "  </thead>\n",
       "  <tbody>\n",
       "    <tr>\n",
       "      <th>0</th>\n",
       "      <td>Denmark</td>\n",
       "      <td>Western Europe</td>\n",
       "      <td>1</td>\n",
       "      <td>7.526</td>\n",
       "      <td>7.460</td>\n",
       "      <td>7.592</td>\n",
       "      <td>1.44178</td>\n",
       "      <td>1.16374</td>\n",
       "      <td>0.79504</td>\n",
       "      <td>0.57941</td>\n",
       "      <td>0.44453</td>\n",
       "      <td>0.36171</td>\n",
       "      <td>2.73939</td>\n",
       "    </tr>\n",
       "    <tr>\n",
       "      <th>1</th>\n",
       "      <td>Switzerland</td>\n",
       "      <td>Western Europe</td>\n",
       "      <td>2</td>\n",
       "      <td>7.509</td>\n",
       "      <td>7.428</td>\n",
       "      <td>7.590</td>\n",
       "      <td>1.52733</td>\n",
       "      <td>1.14524</td>\n",
       "      <td>0.86303</td>\n",
       "      <td>0.58557</td>\n",
       "      <td>0.41203</td>\n",
       "      <td>0.28083</td>\n",
       "      <td>2.69463</td>\n",
       "    </tr>\n",
       "  </tbody>\n",
       "</table>\n",
       "</div>"
      ],
      "text/plain": [
       "       Country          Region  Happiness Rank  Happiness Score  \\\n",
       "0      Denmark  Western Europe               1            7.526   \n",
       "1  Switzerland  Western Europe               2            7.509   \n",
       "\n",
       "   Lower Confidence Interval  Upper Confidence Interval  \\\n",
       "0                      7.460                      7.592   \n",
       "1                      7.428                      7.590   \n",
       "\n",
       "   Economy (GDP per Capita)   Family  Health (Life Expectancy)  Freedom  \\\n",
       "0                   1.44178  1.16374                   0.79504  0.57941   \n",
       "1                   1.52733  1.14524                   0.86303  0.58557   \n",
       "\n",
       "   Trust (Government Corruption)  Generosity  Dystopia Residual  \n",
       "0                        0.44453     0.36171            2.73939  \n",
       "1                        0.41203     0.28083            2.69463  "
      ]
     },
     "metadata": {},
     "output_type": "display_data"
    },
    {
     "data": {
      "text/html": [
       "<div>\n",
       "<style scoped>\n",
       "    .dataframe tbody tr th:only-of-type {\n",
       "        vertical-align: middle;\n",
       "    }\n",
       "\n",
       "    .dataframe tbody tr th {\n",
       "        vertical-align: top;\n",
       "    }\n",
       "\n",
       "    .dataframe thead th {\n",
       "        text-align: right;\n",
       "    }\n",
       "</style>\n",
       "<table border=\"1\" class=\"dataframe\">\n",
       "  <thead>\n",
       "    <tr style=\"text-align: right;\">\n",
       "      <th></th>\n",
       "      <th>Country</th>\n",
       "      <th>Region</th>\n",
       "      <th>Happiness Rank</th>\n",
       "      <th>Happiness Score</th>\n",
       "      <th>Economy (GDP per Capita)</th>\n",
       "      <th>Family</th>\n",
       "      <th>Health (Life Expectancy)</th>\n",
       "      <th>Freedom</th>\n",
       "      <th>Trust (Government Corruption)</th>\n",
       "      <th>Generosity</th>\n",
       "      <th>Dystopia Residual</th>\n",
       "    </tr>\n",
       "  </thead>\n",
       "  <tbody>\n",
       "    <tr>\n",
       "      <th>0</th>\n",
       "      <td>Switzerland</td>\n",
       "      <td>Western Europe</td>\n",
       "      <td>1</td>\n",
       "      <td>7.587</td>\n",
       "      <td>1.39651</td>\n",
       "      <td>1.34951</td>\n",
       "      <td>0.94143</td>\n",
       "      <td>0.66557</td>\n",
       "      <td>0.41978</td>\n",
       "      <td>0.29678</td>\n",
       "      <td>2.51738</td>\n",
       "    </tr>\n",
       "    <tr>\n",
       "      <th>1</th>\n",
       "      <td>Iceland</td>\n",
       "      <td>Western Europe</td>\n",
       "      <td>2</td>\n",
       "      <td>7.561</td>\n",
       "      <td>1.30232</td>\n",
       "      <td>1.40223</td>\n",
       "      <td>0.94784</td>\n",
       "      <td>0.62877</td>\n",
       "      <td>0.14145</td>\n",
       "      <td>0.43630</td>\n",
       "      <td>2.70201</td>\n",
       "    </tr>\n",
       "  </tbody>\n",
       "</table>\n",
       "</div>"
      ],
      "text/plain": [
       "       Country          Region  Happiness Rank  Happiness Score  \\\n",
       "0  Switzerland  Western Europe               1            7.587   \n",
       "1      Iceland  Western Europe               2            7.561   \n",
       "\n",
       "   Economy (GDP per Capita)   Family  Health (Life Expectancy)  Freedom  \\\n",
       "0                   1.39651  1.34951                   0.94143  0.66557   \n",
       "1                   1.30232  1.40223                   0.94784  0.62877   \n",
       "\n",
       "   Trust (Government Corruption)  Generosity  Dystopia Residual  \n",
       "0                        0.41978     0.29678            2.51738  \n",
       "1                        0.14145     0.43630            2.70201  "
      ]
     },
     "metadata": {},
     "output_type": "display_data"
    }
   ],
   "source": [
    "display(data_2019.head(2))\n",
    "display(data_2017.head(2))\n",
    "display(data_2016.head(2))\n",
    "display(data_2015.head(2))"
   ]
  },
  {
   "cell_type": "code",
   "execution_count": 98,
   "id": "4e66d611-6958-4860-8522-9ada7fce40b0",
   "metadata": {},
   "outputs": [],
   "source": [
    "# go to delete ouliers"
   ]
  },
  {
   "attachments": {},
   "cell_type": "markdown",
   "id": "4e886ec7-388c-414b-ada7-803c2fb1f2cb",
   "metadata": {},
   "source": [
    "## 2. Data Cleaning: \n",
    "\n",
    "Preliminary findings from data profiling can lead to cleaning the data by:\n",
    "- Handling missing values\n",
    "- Correcting errors.\n",
    "- Dealing with outliers.\n",
    "\n",
    "-------------------\n",
    "\n"
   ]
  },
  {
   "cell_type": "markdown",
   "id": "21876b48-f5ec-4970-85a9-0520d45d8841",
   "metadata": {},
   "source": [
    "### Handling missing values:"
   ]
  },
  {
   "cell_type": "markdown",
   "id": "c890d5a2-2a65-4090-9427-f89c0f011d3f",
   "metadata": {},
   "source": [
    "**Why my data has missing values?**\n",
    "They may occur at two stages:\n",
    "1. Data Extraction: It is possible that there are problems with extraction process. Errors at data extraction stage are typically easy to find and can be corrected easily as well.\n",
    "2. Data collection: These errors occur at time of data collection and are harder to correct.\n",
    "\n",
    "**Why do we need to handle the missing data?**\n",
    "To avoid:\n",
    "- Bias the conclusions.\n",
    "- Leading the business to make wrong decisions.\n",
    "\n",
    "**Which are the methods to treat missing values ?**\n",
    "1. Deletion: we delete rows where any of the variable is missing. Simplicity is one of the major advantage of this method, but this method reduces the power of model because it reduces the sample size.\n",
    "\n",
    "2. Imputation: is a method to fill in the missing values with estimated ones. This imputation is one of the most frequently used methods.\n",
    "\n",
    "    2.1. Mean/ Mode/ Median Imputation: It consists of replacing the missing data for a given attribute by the mean or median (quantitative attribute) or mode (qualitative attribute) of all known values of that variable.\n",
    "    > It can be of two types:\n",
    "    > - Generalized Imputation: In this case, we calculate the mean or median for all non missing values of that variable then replace missing value with mean or median.\n",
    "    > - Similar case Imputation: In this case, we calculate average for each group individually of non missing values then replace the missing value based on the group.\n",
    "\n",
    "    2.2. Constant Value\n",
    "   \n",
    "    2.3. Forward Filling\n",
    "   \n",
    "    2.4. Backward Filling\n",
    "\n",
    "6. Prediction Model:  Prediction model is one of the sophisticated method for handling missing data. Here, we create a predictive model to estimate values that will substitute the missing data.  In this case, we divide our data set into two sets: One set with no missing values for the variable and another one with missing values. First data set become training data set of the model while second data set with missing values is test data set and variable with missing values is treated as target variable. Next, we create a model to predict target variable based on other attributes of the training data set and populate missing values of test data set.\n",
    "\n",
    "> There are 2 drawbacks for this approach:\n",
    "> - The model estimated values are usually more well-behaved than the true values\n",
    "> - If there are no relationships with attributes in the data set and the attribute with missing values, then the model will not be precise for estimating missing values.\n",
    "\n",
    "9. KNN Imputation: In this method of imputation, the missing values of an attribute are imputed using the given number of attributes that are most similar to the attribute whose values are missing. The similarity of two attributes is determined using a distance function. It is also known to have certain advantage & disadvantages.\n",
    "\n",
    "   > **Advantages:**\n",
    "   > - k-nearest neighbour can predict both qualitative & quantitative attributes\n",
    "   > - Creation of predictive model for each attribute with missing data is not required\n",
    "   > - Attributes with multiple missing values can be easily treated\n",
    "   > - Correlation structure of the data is taken into consideration\n",
    "\n",
    "   > **Disadvantage:**\n",
    "   > - KNN algorithm is very time-consuming in analyzing large database. It searches through all the dataset looking for the most similar instances.\n",
    "   > - Choice of k-value is very critical. Higher value of k would include attributes which are significantly different from what we need whereas lower value of k implies missing out of significant attributes.\n",
    "\n",
    "--------------------\n"
   ]
  },
  {
   "cell_type": "code",
   "execution_count": 60,
   "id": "57e741fb-71c1-46ad-a526-d8f0b1564dc3",
   "metadata": {},
   "outputs": [
    {
     "data": {
      "text/plain": [
       "Overall rank                    0\n",
       "Country or region               0\n",
       "Score                           0\n",
       "GDP per capita                  0\n",
       "Social support                  0\n",
       "Healthy life expectancy         0\n",
       "Freedom to make life choices    0\n",
       "Generosity                      0\n",
       "Perceptions of corruption       0\n",
       "dtype: int64"
      ]
     },
     "execution_count": 60,
     "metadata": {},
     "output_type": "execute_result"
    }
   ],
   "source": [
    "data_2019.isnull().sum().sort_values(ascending = False)"
   ]
  },
  {
   "cell_type": "code",
   "execution_count": 99,
   "id": "01287962-8077-4c01-8d1d-5f8aed6cb37a",
   "metadata": {},
   "outputs": [],
   "source": [
    "# go back to 6th dimention --> Completeness"
   ]
  },
  {
   "cell_type": "markdown",
   "id": "f7cee10f-0af8-44e5-b595-8e965294daad",
   "metadata": {},
   "source": [
    "### Correcting errors\n",
    "\n",
    "-------------------"
   ]
  },
  {
   "cell_type": "code",
   "execution_count": null,
   "id": "06273b88-a169-42e8-81f5-5d71cb3f9c21",
   "metadata": {},
   "outputs": [],
   "source": []
  },
  {
   "cell_type": "code",
   "execution_count": 61,
   "id": "f1d95da5-a3ba-473a-8243-aa177cadae20",
   "metadata": {},
   "outputs": [],
   "source": [
    "# go back to 7th dimension Accuracy \n",
    "#all the data is at the good type"
   ]
  },
  {
   "cell_type": "markdown",
   "id": "5ecc7dbb-6867-44cf-8f99-1b969a80be40",
   "metadata": {},
   "source": [
    "### Dealing with outliers:"
   ]
  },
  {
   "attachments": {},
   "cell_type": "markdown",
   "id": "88347887-4bdf-48af-9486-cb8fe80c97af",
   "metadata": {},
   "source": [
    "**How to remove Outliers?**\n",
    "Most of the ways to deal with outliers are similar to the methods of missing values like deleting rows, transforming them, binning them, treat them as a separate group, imputing values and other statistical methods. Here, we will discuss the common techniques used to deal with outliers:\n",
    "\n",
    "1. Deleting rows: We delete outlier values if it is due to data entry error, data processing error or outlier rows are very small in numbers. We can also use trimming at both ends to remove outliers.\n",
    "\n",
    "2. Imputing: Like imputation of missing values, we can also impute outliers. We can use mean, median, mode imputation methods. Before imputing values, we should analyse if it is natural outlier or artificial. If it is artificial, we can go with imputing values. We can also use statistical model to predict values of outlier rows and after that we can impute it with predicted values.\n",
    "\n",
    "3. Treat separately: If there are significant number of outliers, we should treat them separately in the statistical model. One of the approach is to treat both groups as two different groups and build individual model for both groups and then combine the output.\n"
   ]
  },
  {
   "cell_type": "code",
   "execution_count": null,
   "id": "25a585f0-2b9c-42fa-bf21-cacc6aa3be3f",
   "metadata": {},
   "outputs": [],
   "source": []
  },
  {
   "cell_type": "markdown",
   "id": "98548b66-e309-4eb8-a5dc-65fe0abbf1e8",
   "metadata": {},
   "source": [
    "## 3. Univariate Analysis: \n",
    "\n",
    "This involves examining single variables to understand their characteristics (distribution, central tendency, dispersion, and shape).\n",
    "\n",
    "We calculate **numerical values** about the data that tells us about the distribution of the data. We also **draw graphs** showing visually how the data is distributed. **To answer the following questions about Features/characteristics of Data:**\n",
    "- Where is the center of the data? (location)\n",
    "- How much does the data vary? (scale)\n",
    "- What is the shape of the data? (shape)\n",
    "\n",
    "**The benefits of this analysis:**\n",
    "Statistics summary gives a high-level idea to identify whether the data has any outliers, data entry error, distribution of data such as the data is normally distributed or left/right skewed\n",
    "\n",
    "**In this step, we will explore variables one by one using following approaches:**"
   ]
  },
  {
   "cell_type": "markdown",
   "id": "d6718111-7ac2-4fff-9851-654655b62e0b",
   "metadata": {},
   "source": [
    "### 1. Univariate Graphical Analysis:\n",
    "Method to perform uni-variate analysis will depend on whether the variable type is categorical or numerical."
   ]
  },
  {
   "cell_type": "code",
   "execution_count": 63,
   "id": "db79d803-b75c-4686-a623-e8420321a90f",
   "metadata": {},
   "outputs": [
    {
     "data": {
      "text/html": [
       "<div>\n",
       "<style scoped>\n",
       "    .dataframe tbody tr th:only-of-type {\n",
       "        vertical-align: middle;\n",
       "    }\n",
       "\n",
       "    .dataframe tbody tr th {\n",
       "        vertical-align: top;\n",
       "    }\n",
       "\n",
       "    .dataframe thead th {\n",
       "        text-align: right;\n",
       "    }\n",
       "</style>\n",
       "<table border=\"1\" class=\"dataframe\">\n",
       "  <thead>\n",
       "    <tr style=\"text-align: right;\">\n",
       "      <th></th>\n",
       "      <th>Overall rank</th>\n",
       "      <th>Country or region</th>\n",
       "      <th>Score</th>\n",
       "      <th>GDP per capita</th>\n",
       "      <th>Social support</th>\n",
       "      <th>Healthy life expectancy</th>\n",
       "      <th>Freedom to make life choices</th>\n",
       "      <th>Generosity</th>\n",
       "      <th>Perceptions of corruption</th>\n",
       "    </tr>\n",
       "  </thead>\n",
       "  <tbody>\n",
       "    <tr>\n",
       "      <th>0</th>\n",
       "      <td>1</td>\n",
       "      <td>Finland</td>\n",
       "      <td>7.769</td>\n",
       "      <td>1.340</td>\n",
       "      <td>1.587</td>\n",
       "      <td>0.986</td>\n",
       "      <td>0.596</td>\n",
       "      <td>0.153</td>\n",
       "      <td>0.393</td>\n",
       "    </tr>\n",
       "    <tr>\n",
       "      <th>1</th>\n",
       "      <td>2</td>\n",
       "      <td>Denmark</td>\n",
       "      <td>7.600</td>\n",
       "      <td>1.383</td>\n",
       "      <td>1.573</td>\n",
       "      <td>0.996</td>\n",
       "      <td>0.592</td>\n",
       "      <td>0.252</td>\n",
       "      <td>0.410</td>\n",
       "    </tr>\n",
       "  </tbody>\n",
       "</table>\n",
       "</div>"
      ],
      "text/plain": [
       "   Overall rank Country or region  Score  GDP per capita  Social support  \\\n",
       "0             1           Finland  7.769           1.340           1.587   \n",
       "1             2           Denmark  7.600           1.383           1.573   \n",
       "\n",
       "   Healthy life expectancy  Freedom to make life choices  Generosity  \\\n",
       "0                    0.986                         0.596       0.153   \n",
       "1                    0.996                         0.592       0.252   \n",
       "\n",
       "   Perceptions of corruption  \n",
       "0                      0.393  \n",
       "1                      0.410  "
      ]
     },
     "execution_count": 63,
     "metadata": {},
     "output_type": "execute_result"
    }
   ],
   "source": [
    "data_2019.head(2)"
   ]
  },
  {
   "cell_type": "markdown",
   "id": "0d57c4b9-9bb3-494d-85dd-b8d39afda139",
   "metadata": {},
   "source": [
    "#### I. Categorical Variables:\n",
    "\n",
    "we’ll use frequency table to understand distribution of each category\n",
    "- Bar Chart (Ordinal) - Orderd\n",
    "- Pie Chart (Nominal) - non Orderd"
   ]
  },
  {
   "cell_type": "code",
   "execution_count": 68,
   "id": "72ece4b7-5508-403a-8fb0-f519fc74272a",
   "metadata": {},
   "outputs": [
    {
     "data": {
      "text/plain": [
       "Country or region\n",
       "Finland                1\n",
       "Venezuela              1\n",
       "Jordan                 1\n",
       "Benin                  1\n",
       "Congo (Brazzaville)    1\n",
       "                      ..\n",
       "Latvia                 1\n",
       "South Korea            1\n",
       "Estonia                1\n",
       "Jamaica                1\n",
       "South Sudan            1\n",
       "Name: count, Length: 156, dtype: int64"
      ]
     },
     "execution_count": 68,
     "metadata": {},
     "output_type": "execute_result"
    }
   ],
   "source": [
    "# There are no Categorical Variables every value is specific and no value will repeat \n",
    "data_2019['Country or region'].value_counts() \n"
   ]
  },
  {
   "cell_type": "markdown",
   "id": "d2641f0d-80f2-493b-99b7-15476379a1e2",
   "metadata": {},
   "source": [
    "#### II. Numerical Variables:\n",
    "\n",
    "we need to understand the central tendency and spread of the variable (Descriptive Analysis) using:\n",
    "   - Box plot\n",
    "   - Histogram"
   ]
  },
  {
   "cell_type": "code",
   "execution_count": 66,
   "id": "5be16f08-a072-4a02-a3ee-6f9d57786fb4",
   "metadata": {},
   "outputs": [
    {
     "data": {
      "image/png": "[encoded data removed]",
      "text/plain": [
       "<Figure size 640x480 with 1 Axes>"
      ]
     },
     "metadata": {},
     "output_type": "display_data"
    }
   ],
   "source": [
    "plt.boxplot(x=data_2019['Score'].values\n",
    "            )\n",
    "plt.show()"
   ]
  },
  {
   "cell_type": "code",
   "execution_count": 33,
   "id": "e39e9617",
   "metadata": {},
   "outputs": [
    {
     "data": {
      "image/png": "[encoded data removed]",
      "text/plain": [
       "<Figure size 1500x700 with 1 Axes>"
      ]
     },
     "metadata": {},
     "output_type": "display_data"
    }
   ],
   "source": [
    "import matplotlib.pyplot as plt\n",
    "\n",
    "fig = plt.figure(figsize =(15, 7))\n",
    "ax = fig.add_subplot(111)\n",
    "\n",
    "\n",
    "bp = ax.boxplot(data_2019[['Score','GDP per capita','Social support',\n",
    "                            'Healthy life expectancy','Freedom to make life choices',\n",
    "                            'Generosity','Perceptions of corruption']].values,\n",
    "                patch_artist=True, notch=True, vert=0)\n",
    "\n",
    "colors = ['lightblue', '#ff7f0e', '#2ca02c', '#d62728', '#9467bd', '#8c564b', '#e377c2']\n",
    "\n",
    "for patch, color in zip(bp['boxes'], colors):\n",
    "    patch.set_facecolor(color)\n",
    "\n",
    "# Changing color and linewidth of whiskers\n",
    "for whisker in bp['whiskers']:\n",
    "    whisker.set(color ='black', linewidth=1.5, linestyle=':')\n",
    "\n",
    "# Changing color and linewidth of caps\n",
    "for cap in bp['caps']:\n",
    "    cap.set(color ='#1f77b4', linewidth=2)\n",
    "\n",
    "# Changing color and linewidth of medians\n",
    "for median in bp['medians']:\n",
    "    median.set(color='red', linewidth=3)\n",
    "\n",
    "# Changing style of fliers\n",
    "for flier in bp['fliers']:\n",
    "    flier.set(marker='D', color='#e7298a', alpha=0.5)\n",
    "\n",
    "# X-axis labels\n",
    "ax.set_yticklabels(['Score','GDP per capita','Social support',\n",
    "                    'Healthy life expectancy','Freedom to make life choices',\n",
    "                    'Generosity','Perceptions of corruption'])\n",
    "\n",
    "# Adding title \n",
    "plt.title(\"box plot to figure out the outliers\")\n",
    "\n",
    "# Removing top axes and right axes ticks\n",
    "ax.get_xaxis().tick_bottom()\n",
    "ax.get_yaxis().tick_left()\n",
    "\n",
    "# Show plot\n",
    "plt.show()\n"
   ]
  },
  {
   "cell_type": "code",
   "execution_count": 56,
   "id": "0a8c7d2b",
   "metadata": {},
   "outputs": [
    {
     "data": {
      "application/vnd.plotly.v1+json": {
       "config": {
        "plotlyServerURL": "https://plot.ly"
       },
       "data": [
        {
         "alignmentgroup": "True",
         "hovertemplate": "variable=%{x}<br>value=%{y}<extra></extra>",
         "legendgroup": "",
         "marker": {
          "color": "rgb(127, 60, 141)"
         },
         "name": "",
         "notched": true,
         "offsetgroup": "",
         "orientation": "v",
         "showlegend": false,
         "type": "box",
         "x": [
          "Happiness Score",
          "Happiness Score",
          "Happiness Score",
          "Happiness Score",
          "Happiness Score",
          "Happiness Score",
          "Happiness Score",
          "Happiness Score",
          "Happiness Score",
          "Happiness Score",
          "Happiness Score",
          "Happiness Score",
          "Happiness Score",
          "Happiness Score",
          "Happiness Score",
          "Happiness Score",
          "Happiness Score",
          "Happiness Score",
          "Happiness Score",
          "Happiness Score",
          "Happiness Score",
          "Happiness Score",
          "Happiness Score",
          "Happiness Score",
          "Happiness Score",
          "Happiness Score",
          "Happiness Score",
          "Happiness Score",
          "Happiness Score",
          "Happiness Score",
          "Happiness Score",
          "Happiness Score",
          "Happiness Score",
          "Happiness Score",
          "Happiness Score",
          "Happiness Score",
          "Happiness Score",
          "Happiness Score",
          "Happiness Score",
          "Happiness Score",
          "Happiness Score",
          "Happiness Score",
          "Happiness Score",
          "Happiness Score",
          "Happiness Score",
          "Happiness Score",
          "Happiness Score",
          "Happiness Score",
          "Happiness Score",
          "Happiness Score",
          "Happiness Score",
          "Happiness Score",
          "Happiness Score",
          "Happiness Score",
          "Happiness Score",
          "Happiness Score",
          "Happiness Score",
          "Happiness Score",
          "Happiness Score",
          "Happiness Score",
          "Happiness Score",
          "Happiness Score",
          "Happiness Score",
          "Happiness Score",
          "Happiness Score",
          "Happiness Score",
          "Happiness Score",
          "Happiness Score",
          "Happiness Score",
          "Happiness Score",
          "Happiness Score",
          "Happiness Score",
          "Happiness Score",
          "Happiness Score",
          "Happiness Score",
          "Happiness Score",
          "Happiness Score",
          "Happiness Score",
          "Happiness Score",
          "Happiness Score",
          "Happiness Score",
          "Happiness Score",
          "Happiness Score",
          "Happiness Score",
          "Happiness Score",
          "Happiness Score",
          "Happiness Score",
          "Happiness Score",
          "Happiness Score",
          "Happiness Score",
          "Happiness Score",
          "Happiness Score",
          "Happiness Score",
          "Happiness Score",
          "Happiness Score",
          "Happiness Score",
          "Happiness Score",
          "Happiness Score",
          "Happiness Score",
          "Happiness Score",
          "Happiness Score",
          "Happiness Score",
          "Happiness Score",
          "Happiness Score",
          "Happiness Score",
          "Happiness Score",
          "Happiness Score",
          "Happiness Score",
          "Happiness Score",
          "Happiness Score",
          "Happiness Score",
          "Happiness Score",
          "Happiness Score",
          "Happiness Score",
          "Happiness Score",
          "Happiness Score",
          "Happiness Score",
          "Happiness Score",
          "Happiness Score",
          "Happiness Score",
          "Happiness Score",
          "Happiness Score",
          "Happiness Score",
          "Happiness Score",
          "Happiness Score",
          "Happiness Score",
          "Happiness Score",
          "Happiness Score",
          "Happiness Score",
          "Happiness Score",
          "Happiness Score",
          "Happiness Score",
          "Happiness Score",
          "Happiness Score",
          "Happiness Score",
          "Happiness Score",
          "Happiness Score",
          "Happiness Score",
          "Happiness Score",
          "Happiness Score",
          "Happiness Score",
          "Happiness Score",
          "Happiness Score",
          "Happiness Score",
          "Happiness Score",
          "Happiness Score",
          "Happiness Score",
          "Happiness Score",
          "Happiness Score",
          "Happiness Score",
          "Happiness Score",
          "Happiness Score",
          "Happiness Score",
          "Happiness Score",
          "Happiness Score",
          "Happiness Score",
          "Happiness Score",
          "Happiness Score",
          "Economy (GDP per Capita)",
          "Economy (GDP per Capita)",
          "Economy (GDP per Capita)",
          "Economy (GDP per Capita)",
          "Economy (GDP per Capita)",
          "Economy (GDP per Capita)",
          "Economy (GDP per Capita)",
          "Economy (GDP per Capita)",
          "Economy (GDP per Capita)",
          "Economy (GDP per Capita)",
          "Economy (GDP per Capita)",
          "Economy (GDP per Capita)",
          "Economy (GDP per Capita)",
          "Economy (GDP per Capita)",
          "Economy (GDP per Capita)",
          "Economy (GDP per Capita)",
          "Economy (GDP per Capita)",
          "Economy (GDP per Capita)",
          "Economy (GDP per Capita)",
          "Economy (GDP per Capita)",
          "Economy (GDP per Capita)",
          "Economy (GDP per Capita)",
          "Economy (GDP per Capita)",
          "Economy (GDP per Capita)",
          "Economy (GDP per Capita)",
          "Economy (GDP per Capita)",
          "Economy (GDP per Capita)",
          "Economy (GDP per Capita)",
          "Economy (GDP per Capita)",
          "Economy (GDP per Capita)",
          "Economy (GDP per Capita)",
          "Economy (GDP per Capita)",
          "Economy (GDP per Capita)",
          "Economy (GDP per Capita)",
          "Economy (GDP per Capita)",
          "Economy (GDP per Capita)",
          "Economy (GDP per Capita)",
          "Economy (GDP per Capita)",
          "Economy (GDP per Capita)",
          "Economy (GDP per Capita)",
          "Economy (GDP per Capita)",
          "Economy (GDP per Capita)",
          "Economy (GDP per Capita)",
          "Economy (GDP per Capita)",
          "Economy (GDP per Capita)",
          "Economy (GDP per Capita)",
          "Economy (GDP per Capita)",
          "Economy (GDP per Capita)",
          "Economy (GDP per Capita)",
          "Economy (GDP per Capita)",
          "Economy (GDP per Capita)",
          "Economy (GDP per Capita)",
          "Economy (GDP per Capita)",
          "Economy (GDP per Capita)",
          "Economy (GDP per Capita)",
          "Economy (GDP per Capita)",
          "Economy (GDP per Capita)",
          "Economy (GDP per Capita)",
          "Economy (GDP per Capita)",
          "Economy (GDP per Capita)",
          "Economy (GDP per Capita)",
          "Economy (GDP per Capita)",
          "Economy (GDP per Capita)",
          "Economy (GDP per Capita)",
          "Economy (GDP per Capita)",
          "Economy (GDP per Capita)",
          "Economy (GDP per Capita)",
          "Economy (GDP per Capita)",
          "Economy (GDP per Capita)",
          "Economy (GDP per Capita)",
          "Economy (GDP per Capita)",
          "Economy (GDP per Capita)",
          "Economy (GDP per Capita)",
          "Economy (GDP per Capita)",
          "Economy (GDP per Capita)",
          "Economy (GDP per Capita)",
          "Economy (GDP per Capita)",
          "Economy (GDP per Capita)",
          "Economy (GDP per Capita)",
          "Economy (GDP per Capita)",
          "Economy (GDP per Capita)",
          "Economy (GDP per Capita)",
          "Economy (GDP per Capita)",
          "Economy (GDP per Capita)",
          "Economy (GDP per Capita)",
          "Economy (GDP per Capita)",
          "Economy (GDP per Capita)",
          "Economy (GDP per Capita)",
          "Economy (GDP per Capita)",
          "Economy (GDP per Capita)",
          "Economy (GDP per Capita)",
          "Economy (GDP per Capita)",
          "Economy (GDP per Capita)",
          "Economy (GDP per Capita)",
          "Economy (GDP per Capita)",
          "Economy (GDP per Capita)",
          "Economy (GDP per Capita)",
          "Economy (GDP per Capita)",
          "Economy (GDP per Capita)",
          "Economy (GDP per Capita)",
          "Economy (GDP per Capita)",
          "Economy (GDP per Capita)",
          "Economy (GDP per Capita)",
          "Economy (GDP per Capita)",
          "Economy (GDP per Capita)",
          "Economy (GDP per Capita)",
          "Economy (GDP per Capita)",
          "Economy (GDP per Capita)",
          "Economy (GDP per Capita)",
          "Economy (GDP per Capita)",
          "Economy (GDP per Capita)",
          "Economy (GDP per Capita)",
          "Economy (GDP per Capita)",
          "Economy (GDP per Capita)",
          "Economy (GDP per Capita)",
          "Economy (GDP per Capita)",
          "Economy (GDP per Capita)",
          "Economy (GDP per Capita)",
          "Economy (GDP per Capita)",
          "Economy (GDP per Capita)",
          "Economy (GDP per Capita)",
          "Economy (GDP per Capita)",
          "Economy (GDP per Capita)",
          "Economy (GDP per Capita)",
          "Economy (GDP per Capita)",
          "Economy (GDP per Capita)",
          "Economy (GDP per Capita)",
          "Economy (GDP per Capita)",
          "Economy (GDP per Capita)",
          "Economy (GDP per Capita)",
          "Economy (GDP per Capita)",
          "Economy (GDP per Capita)",
          "Economy (GDP per Capita)",
          "Economy (GDP per Capita)",
          "Economy (GDP per Capita)",
          "Economy (GDP per Capita)",
          "Economy (GDP per Capita)",
          "Economy (GDP per Capita)",
          "Economy (GDP per Capita)",
          "Economy (GDP per Capita)",
          "Economy (GDP per Capita)",
          "Economy (GDP per Capita)",
          "Economy (GDP per Capita)",
          "Economy (GDP per Capita)",
          "Economy (GDP per Capita)",
          "Economy (GDP per Capita)",
          "Economy (GDP per Capita)",
          "Economy (GDP per Capita)",
          "Economy (GDP per Capita)",
          "Economy (GDP per Capita)",
          "Economy (GDP per Capita)",
          "Economy (GDP per Capita)",
          "Economy (GDP per Capita)",
          "Economy (GDP per Capita)",
          "Economy (GDP per Capita)",
          "Economy (GDP per Capita)",
          "Economy (GDP per Capita)",
          "Economy (GDP per Capita)",
          "Family",
          "Family",
          "Family",
          "Family",
          "Family",
          "Family",
          "Family",
          "Family",
          "Family",
          "Family",
          "Family",
          "Family",
          "Family",
          "Family",
          "Family",
          "Family",
          "Family",
          "Family",
          "Family",
          "Family",
          "Family",
          "Family",
          "Family",
          "Family",
          "Family",
          "Family",
          "Family",
          "Family",
          "Family",
          "Family",
          "Family",
          "Family",
          "Family",
          "Family",
          "Family",
          "Family",
          "Family",
          "Family",
          "Family",
          "Family",
          "Family",
          "Family",
          "Family",
          "Family",
          "Family",
          "Family",
          "Family",
          "Family",
          "Family",
          "Family",
          "Family",
          "Family",
          "Family",
          "Family",
          "Family",
          "Family",
          "Family",
          "Family",
          "Family",
          "Family",
          "Family",
          "Family",
          "Family",
          "Family",
          "Family",
          "Family",
          "Family",
          "Family",
          "Family",
          "Family",
          "Family",
          "Family",
          "Family",
          "Family",
          "Family",
          "Family",
          "Family",
          "Family",
          "Family",
          "Family",
          "Family",
          "Family",
          "Family",
          "Family",
          "Family",
          "Family",
          "Family",
          "Family",
          "Family",
          "Family",
          "Family",
          "Family",
          "Family",
          "Family",
          "Family",
          "Family",
          "Family",
          "Family",
          "Family",
          "Family",
          "Family",
          "Family",
          "Family",
          "Family",
          "Family",
          "Family",
          "Family",
          "Family",
          "Family",
          "Family",
          "Family",
          "Family",
          "Family",
          "Family",
          "Family",
          "Family",
          "Family",
          "Family",
          "Family",
          "Family",
          "Family",
          "Family",
          "Family",
          "Family",
          "Family",
          "Family",
          "Family",
          "Family",
          "Family",
          "Family",
          "Family",
          "Family",
          "Family",
          "Family",
          "Family",
          "Family",
          "Family",
          "Family",
          "Family",
          "Family",
          "Family",
          "Family",
          "Family",
          "Family",
          "Family",
          "Family",
          "Family",
          "Family",
          "Family",
          "Family",
          "Family",
          "Family",
          "Family",
          "Family",
          "Family",
          "Family",
          "Family",
          "Family",
          "Health (Life Expectancy)",
          "Health (Life Expectancy)",
          "Health (Life Expectancy)",
          "Health (Life Expectancy)",
          "Health (Life Expectancy)",
          "Health (Life Expectancy)",
          "Health (Life Expectancy)",
          "Health (Life Expectancy)",
          "Health (Life Expectancy)",
          "Health (Life Expectancy)",
          "Health (Life Expectancy)",
          "Health (Life Expectancy)",
          "Health (Life Expectancy)",
          "Health (Life Expectancy)",
          "Health (Life Expectancy)",
          "Health (Life Expectancy)",
          "Health (Life Expectancy)",
          "Health (Life Expectancy)",
          "Health (Life Expectancy)",
          "Health (Life Expectancy)",
          "Health (Life Expectancy)",
          "Health (Life Expectancy)",
          "Health (Life Expectancy)",
          "Health (Life Expectancy)",
          "Health (Life Expectancy)",
          "Health (Life Expectancy)",
          "Health (Life Expectancy)",
          "Health (Life Expectancy)",
          "Health (Life Expectancy)",
          "Health (Life Expectancy)",
          "Health (Life Expectancy)",
          "Health (Life Expectancy)",
          "Health (Life Expectancy)",
          "Health (Life Expectancy)",
          "Health (Life Expectancy)",
          "Health (Life Expectancy)",
          "Health (Life Expectancy)",
          "Health (Life Expectancy)",
          "Health (Life Expectancy)",
          "Health (Life Expectancy)",
          "Health (Life Expectancy)",
          "Health (Life Expectancy)",
          "Health (Life Expectancy)",
          "Health (Life Expectancy)",
          "Health (Life Expectancy)",
          "Health (Life Expectancy)",
          "Health (Life Expectancy)",
          "Health (Life Expectancy)",
          "Health (Life Expectancy)",
          "Health (Life Expectancy)",
          "Health (Life Expectancy)",
          "Health (Life Expectancy)",
          "Health (Life Expectancy)",
          "Health (Life Expectancy)",
          "Health (Life Expectancy)",
          "Health (Life Expectancy)",
          "Health (Life Expectancy)",
          "Health (Life Expectancy)",
          "Health (Life Expectancy)",
          "Health (Life Expectancy)",
          "Health (Life Expectancy)",
          "Health (Life Expectancy)",
          "Health (Life Expectancy)",
          "Health (Life Expectancy)",
          "Health (Life Expectancy)",
          "Health (Life Expectancy)",
          "Health (Life Expectancy)",
          "Health (Life Expectancy)",
          "Health (Life Expectancy)",
          "Health (Life Expectancy)",
          "Health (Life Expectancy)",
          "Health (Life Expectancy)",
          "Health (Life Expectancy)",
          "Health (Life Expectancy)",
          "Health (Life Expectancy)",
          "Health (Life Expectancy)",
          "Health (Life Expectancy)",
          "Health (Life Expectancy)",
          "Health (Life Expectancy)",
          "Health (Life Expectancy)",
          "Health (Life Expectancy)",
          "Health (Life Expectancy)",
          "Health (Life Expectancy)",
          "Health (Life Expectancy)",
          "Health (Life Expectancy)",
          "Health (Life Expectancy)",
          "Health (Life Expectancy)",
          "Health (Life Expectancy)",
          "Health (Life Expectancy)",
          "Health (Life Expectancy)",
          "Health (Life Expectancy)",
          "Health (Life Expectancy)",
          "Health (Life Expectancy)",
          "Health (Life Expectancy)",
          "Health (Life Expectancy)",
          "Health (Life Expectancy)",
          "Health (Life Expectancy)",
          "Health (Life Expectancy)",
          "Health (Life Expectancy)",
          "Health (Life Expectancy)",
          "Health (Life Expectancy)",
          "Health (Life Expectancy)",
          "Health (Life Expectancy)",
          "Health (Life Expectancy)",
          "Health (Life Expectancy)",
          "Health (Life Expectancy)",
          "Health (Life Expectancy)",
          "Health (Life Expectancy)",
          "Health (Life Expectancy)",
          "Health (Life Expectancy)",
          "Health (Life Expectancy)",
          "Health (Life Expectancy)",
          "Health (Life Expectancy)",
          "Health (Life Expectancy)",
          "Health (Life Expectancy)",
          "Health (Life Expectancy)",
          "Health (Life Expectancy)",
          "Health (Life Expectancy)",
          "Health (Life Expectancy)",
          "Health (Life Expectancy)",
          "Health (Life Expectancy)",
          "Health (Life Expectancy)",
          "Health (Life Expectancy)",
          "Health (Life Expectancy)",
          "Health (Life Expectancy)",
          "Health (Life Expectancy)",
          "Health (Life Expectancy)",
          "Health (Life Expectancy)",
          "Health (Life Expectancy)",
          "Health (Life Expectancy)",
          "Health (Life Expectancy)",
          "Health (Life Expectancy)",
          "Health (Life Expectancy)",
          "Health (Life Expectancy)",
          "Health (Life Expectancy)",
          "Health (Life Expectancy)",
          "Health (Life Expectancy)",
          "Health (Life Expectancy)",
          "Health (Life Expectancy)",
          "Health (Life Expectancy)",
          "Health (Life Expectancy)",
          "Health (Life Expectancy)",
          "Health (Life Expectancy)",
          "Health (Life Expectancy)",
          "Health (Life Expectancy)",
          "Health (Life Expectancy)",
          "Health (Life Expectancy)",
          "Health (Life Expectancy)",
          "Health (Life Expectancy)",
          "Health (Life Expectancy)",
          "Health (Life Expectancy)",
          "Health (Life Expectancy)",
          "Health (Life Expectancy)",
          "Health (Life Expectancy)",
          "Health (Life Expectancy)",
          "Health (Life Expectancy)",
          "Health (Life Expectancy)",
          "Health (Life Expectancy)",
          "Freedom",
          "Freedom",
          "Freedom",
          "Freedom",
          "Freedom",
          "Freedom",
          "Freedom",
          "Freedom",
          "Freedom",
          "Freedom",
          "Freedom",
          "Freedom",
          "Freedom",
          "Freedom",
          "Freedom",
          "Freedom",
          "Freedom",
          "Freedom",
          "Freedom",
          "Freedom",
          "Freedom",
          "Freedom",
          "Freedom",
          "Freedom",
          "Freedom",
          "Freedom",
          "Freedom",
          "Freedom",
          "Freedom",
          "Freedom",
          "Freedom",
          "Freedom",
          "Freedom",
          "Freedom",
          "Freedom",
          "Freedom",
          "Freedom",
          "Freedom",
          "Freedom",
          "Freedom",
          "Freedom",
          "Freedom",
          "Freedom",
          "Freedom",
          "Freedom",
          "Freedom",
          "Freedom",
          "Freedom",
          "Freedom",
          "Freedom",
          "Freedom",
          "Freedom",
          "Freedom",
          "Freedom",
          "Freedom",
          "Freedom",
          "Freedom",
          "Freedom",
          "Freedom",
          "Freedom",
          "Freedom",
          "Freedom",
          "Freedom",
          "Freedom",
          "Freedom",
          "Freedom",
          "Freedom",
          "Freedom",
          "Freedom",
          "Freedom",
          "Freedom",
          "Freedom",
          "Freedom",
          "Freedom",
          "Freedom",
          "Freedom",
          "Freedom",
          "Freedom",
          "Freedom",
          "Freedom",
          "Freedom",
          "Freedom",
          "Freedom",
          "Freedom",
          "Freedom",
          "Freedom",
          "Freedom",
          "Freedom",
          "Freedom",
          "Freedom",
          "Freedom",
          "Freedom",
          "Freedom",
          "Freedom",
          "Freedom",
          "Freedom",
          "Freedom",
          "Freedom",
          "Freedom",
          "Freedom",
          "Freedom",
          "Freedom",
          "Freedom",
          "Freedom",
          "Freedom",
          "Freedom",
          "Freedom",
          "Freedom",
          "Freedom",
          "Freedom",
          "Freedom",
          "Freedom",
          "Freedom",
          "Freedom",
          "Freedom",
          "Freedom",
          "Freedom",
          "Freedom",
          "Freedom",
          "Freedom",
          "Freedom",
          "Freedom",
          "Freedom",
          "Freedom",
          "Freedom",
          "Freedom",
          "Freedom",
          "Freedom",
          "Freedom",
          "Freedom",
          "Freedom",
          "Freedom",
          "Freedom",
          "Freedom",
          "Freedom",
          "Freedom",
          "Freedom",
          "Freedom",
          "Freedom",
          "Freedom",
          "Freedom",
          "Freedom",
          "Freedom",
          "Freedom",
          "Freedom",
          "Freedom",
          "Freedom",
          "Freedom",
          "Freedom",
          "Freedom",
          "Freedom",
          "Freedom",
          "Freedom",
          "Freedom",
          "Freedom",
          "Freedom",
          "Freedom",
          "Freedom",
          "Trust (Government Corruption)",
          "Trust (Government Corruption)",
          "Trust (Government Corruption)",
          "Trust (Government Corruption)",
          "Trust (Government Corruption)",
          "Trust (Government Corruption)",
          "Trust (Government Corruption)",
          "Trust (Government Corruption)",
          "Trust (Government Corruption)",
          "Trust (Government Corruption)",
          "Trust (Government Corruption)",
          "Trust (Government Corruption)",
          "Trust (Government Corruption)",
          "Trust (Government Corruption)",
          "Trust (Government Corruption)",
          "Trust (Government Corruption)",
          "Trust (Government Corruption)",
          "Trust (Government Corruption)",
          "Trust (Government Corruption)",
          "Trust (Government Corruption)",
          "Trust (Government Corruption)",
          "Trust (Government Corruption)",
          "Trust (Government Corruption)",
          "Trust (Government Corruption)",
          "Trust (Government Corruption)",
          "Trust (Government Corruption)",
          "Trust (Government Corruption)",
          "Trust (Government Corruption)",
          "Trust (Government Corruption)",
          "Trust (Government Corruption)",
          "Trust (Government Corruption)",
          "Trust (Government Corruption)",
          "Trust (Government Corruption)",
          "Trust (Government Corruption)",
          "Trust (Government Corruption)",
          "Trust (Government Corruption)",
          "Trust (Government Corruption)",
          "Trust (Government Corruption)",
          "Trust (Government Corruption)",
          "Trust (Government Corruption)",
          "Trust (Government Corruption)",
          "Trust (Government Corruption)",
          "Trust (Government Corruption)",
          "Trust (Government Corruption)",
          "Trust (Government Corruption)",
          "Trust (Government Corruption)",
          "Trust (Government Corruption)",
          "Trust (Government Corruption)",
          "Trust (Government Corruption)",
          "Trust (Government Corruption)",
          "Trust (Government Corruption)",
          "Trust (Government Corruption)",
          "Trust (Government Corruption)",
          "Trust (Government Corruption)",
          "Trust (Government Corruption)",
          "Trust (Government Corruption)",
          "Trust (Government Corruption)",
          "Trust (Government Corruption)",
          "Trust (Government Corruption)",
          "Trust (Government Corruption)",
          "Trust (Government Corruption)",
          "Trust (Government Corruption)",
          "Trust (Government Corruption)",
          "Trust (Government Corruption)",
          "Trust (Government Corruption)",
          "Trust (Government Corruption)",
          "Trust (Government Corruption)",
          "Trust (Government Corruption)",
          "Trust (Government Corruption)",
          "Trust (Government Corruption)",
          "Trust (Government Corruption)",
          "Trust (Government Corruption)",
          "Trust (Government Corruption)",
          "Trust (Government Corruption)",
          "Trust (Government Corruption)",
          "Trust (Government Corruption)",
          "Trust (Government Corruption)",
          "Trust (Government Corruption)",
          "Trust (Government Corruption)",
          "Trust (Government Corruption)",
          "Trust (Government Corruption)",
          "Trust (Government Corruption)",
          "Trust (Government Corruption)",
          "Trust (Government Corruption)",
          "Trust (Government Corruption)",
          "Trust (Government Corruption)",
          "Trust (Government Corruption)",
          "Trust (Government Corruption)",
          "Trust (Government Corruption)",
          "Trust (Government Corruption)",
          "Trust (Government Corruption)",
          "Trust (Government Corruption)",
          "Trust (Government Corruption)",
          "Trust (Government Corruption)",
          "Trust (Government Corruption)",
          "Trust (Government Corruption)",
          "Trust (Government Corruption)",
          "Trust (Government Corruption)",
          "Trust (Government Corruption)",
          "Trust (Government Corruption)",
          "Trust (Government Corruption)",
          "Trust (Government Corruption)",
          "Trust (Government Corruption)",
          "Trust (Government Corruption)",
          "Trust (Government Corruption)",
          "Trust (Government Corruption)",
          "Trust (Government Corruption)",
          "Trust (Government Corruption)",
          "Trust (Government Corruption)",
          "Trust (Government Corruption)",
          "Trust (Government Corruption)",
          "Trust (Government Corruption)",
          "Trust (Government Corruption)",
          "Trust (Government Corruption)",
          "Trust (Government Corruption)",
          "Trust (Government Corruption)",
          "Trust (Government Corruption)",
          "Trust (Government Corruption)",
          "Trust (Government Corruption)",
          "Trust (Government Corruption)",
          "Trust (Government Corruption)",
          "Trust (Government Corruption)",
          "Trust (Government Corruption)",
          "Trust (Government Corruption)",
          "Trust (Government Corruption)",
          "Trust (Government Corruption)",
          "Trust (Government Corruption)",
          "Trust (Government Corruption)",
          "Trust (Government Corruption)",
          "Trust (Government Corruption)",
          "Trust (Government Corruption)",
          "Trust (Government Corruption)",
          "Trust (Government Corruption)",
          "Trust (Government Corruption)",
          "Trust (Government Corruption)",
          "Trust (Government Corruption)",
          "Trust (Government Corruption)",
          "Trust (Government Corruption)",
          "Trust (Government Corruption)",
          "Trust (Government Corruption)",
          "Trust (Government Corruption)",
          "Trust (Government Corruption)",
          "Trust (Government Corruption)",
          "Trust (Government Corruption)",
          "Trust (Government Corruption)",
          "Trust (Government Corruption)",
          "Trust (Government Corruption)",
          "Trust (Government Corruption)",
          "Trust (Government Corruption)",
          "Trust (Government Corruption)",
          "Trust (Government Corruption)",
          "Trust (Government Corruption)",
          "Trust (Government Corruption)",
          "Trust (Government Corruption)",
          "Trust (Government Corruption)",
          "Trust (Government Corruption)",
          "Trust (Government Corruption)",
          "Trust (Government Corruption)",
          "Generosity",
          "Generosity",
          "Generosity",
          "Generosity",
          "Generosity",
          "Generosity",
          "Generosity",
          "Generosity",
          "Generosity",
          "Generosity",
          "Generosity",
          "Generosity",
          "Generosity",
          "Generosity",
          "Generosity",
          "Generosity",
          "Generosity",
          "Generosity",
          "Generosity",
          "Generosity",
          "Generosity",
          "Generosity",
          "Generosity",
          "Generosity",
          "Generosity",
          "Generosity",
          "Generosity",
          "Generosity",
          "Generosity",
          "Generosity",
          "Generosity",
          "Generosity",
          "Generosity",
          "Generosity",
          "Generosity",
          "Generosity",
          "Generosity",
          "Generosity",
          "Generosity",
          "Generosity",
          "Generosity",
          "Generosity",
          "Generosity",
          "Generosity",
          "Generosity",
          "Generosity",
          "Generosity",
          "Generosity",
          "Generosity",
          "Generosity",
          "Generosity",
          "Generosity",
          "Generosity",
          "Generosity",
          "Generosity",
          "Generosity",
          "Generosity",
          "Generosity",
          "Generosity",
          "Generosity",
          "Generosity",
          "Generosity",
          "Generosity",
          "Generosity",
          "Generosity",
          "Generosity",
          "Generosity",
          "Generosity",
          "Generosity",
          "Generosity",
          "Generosity",
          "Generosity",
          "Generosity",
          "Generosity",
          "Generosity",
          "Generosity",
          "Generosity",
          "Generosity",
          "Generosity",
          "Generosity",
          "Generosity",
          "Generosity",
          "Generosity",
          "Generosity",
          "Generosity",
          "Generosity",
          "Generosity",
          "Generosity",
          "Generosity",
          "Generosity",
          "Generosity",
          "Generosity",
          "Generosity",
          "Generosity",
          "Generosity",
          "Generosity",
          "Generosity",
          "Generosity",
          "Generosity",
          "Generosity",
          "Generosity",
          "Generosity",
          "Generosity",
          "Generosity",
          "Generosity",
          "Generosity",
          "Generosity",
          "Generosity",
          "Generosity",
          "Generosity",
          "Generosity",
          "Generosity",
          "Generosity",
          "Generosity",
          "Generosity",
          "Generosity",
          "Generosity",
          "Generosity",
          "Generosity",
          "Generosity",
          "Generosity",
          "Generosity",
          "Generosity",
          "Generosity",
          "Generosity",
          "Generosity",
          "Generosity",
          "Generosity",
          "Generosity",
          "Generosity",
          "Generosity",
          "Generosity",
          "Generosity",
          "Generosity",
          "Generosity",
          "Generosity",
          "Generosity",
          "Generosity",
          "Generosity",
          "Generosity",
          "Generosity",
          "Generosity",
          "Generosity",
          "Generosity",
          "Generosity",
          "Generosity",
          "Generosity",
          "Generosity",
          "Generosity",
          "Generosity",
          "Generosity",
          "Generosity",
          "Generosity",
          "Generosity",
          "Generosity",
          "Generosity",
          "Generosity",
          "Generosity",
          "Dystopia Residual",
          "Dystopia Residual",
          "Dystopia Residual",
          "Dystopia Residual",
          "Dystopia Residual",
          "Dystopia Residual",
          "Dystopia Residual",
          "Dystopia Residual",
          "Dystopia Residual",
          "Dystopia Residual",
          "Dystopia Residual",
          "Dystopia Residual",
          "Dystopia Residual",
          "Dystopia Residual",
          "Dystopia Residual",
          "Dystopia Residual",
          "Dystopia Residual",
          "Dystopia Residual",
          "Dystopia Residual",
          "Dystopia Residual",
          "Dystopia Residual",
          "Dystopia Residual",
          "Dystopia Residual",
          "Dystopia Residual",
          "Dystopia Residual",
          "Dystopia Residual",
          "Dystopia Residual",
          "Dystopia Residual",
          "Dystopia Residual",
          "Dystopia Residual",
          "Dystopia Residual",
          "Dystopia Residual",
          "Dystopia Residual",
          "Dystopia Residual",
          "Dystopia Residual",
          "Dystopia Residual",
          "Dystopia Residual",
          "Dystopia Residual",
          "Dystopia Residual",
          "Dystopia Residual",
          "Dystopia Residual",
          "Dystopia Residual",
          "Dystopia Residual",
          "Dystopia Residual",
          "Dystopia Residual",
          "Dystopia Residual",
          "Dystopia Residual",
          "Dystopia Residual",
          "Dystopia Residual",
          "Dystopia Residual",
          "Dystopia Residual",
          "Dystopia Residual",
          "Dystopia Residual",
          "Dystopia Residual",
          "Dystopia Residual",
          "Dystopia Residual",
          "Dystopia Residual",
          "Dystopia Residual",
          "Dystopia Residual",
          "Dystopia Residual",
          "Dystopia Residual",
          "Dystopia Residual",
          "Dystopia Residual",
          "Dystopia Residual",
          "Dystopia Residual",
          "Dystopia Residual",
          "Dystopia Residual",
          "Dystopia Residual",
          "Dystopia Residual",
          "Dystopia Residual",
          "Dystopia Residual",
          "Dystopia Residual",
          "Dystopia Residual",
          "Dystopia Residual",
          "Dystopia Residual",
          "Dystopia Residual",
          "Dystopia Residual",
          "Dystopia Residual",
          "Dystopia Residual",
          "Dystopia Residual",
          "Dystopia Residual",
          "Dystopia Residual",
          "Dystopia Residual",
          "Dystopia Residual",
          "Dystopia Residual",
          "Dystopia Residual",
          "Dystopia Residual",
          "Dystopia Residual",
          "Dystopia Residual",
          "Dystopia Residual",
          "Dystopia Residual",
          "Dystopia Residual",
          "Dystopia Residual",
          "Dystopia Residual",
          "Dystopia Residual",
          "Dystopia Residual",
          "Dystopia Residual",
          "Dystopia Residual",
          "Dystopia Residual",
          "Dystopia Residual",
          "Dystopia Residual",
          "Dystopia Residual",
          "Dystopia Residual",
          "Dystopia Residual",
          "Dystopia Residual",
          "Dystopia Residual",
          "Dystopia Residual",
          "Dystopia Residual",
          "Dystopia Residual",
          "Dystopia Residual",
          "Dystopia Residual",
          "Dystopia Residual",
          "Dystopia Residual",
          "Dystopia Residual",
          "Dystopia Residual",
          "Dystopia Residual",
          "Dystopia Residual",
          "Dystopia Residual",
          "Dystopia Residual",
          "Dystopia Residual",
          "Dystopia Residual",
          "Dystopia Residual",
          "Dystopia Residual",
          "Dystopia Residual",
          "Dystopia Residual",
          "Dystopia Residual",
          "Dystopia Residual",
          "Dystopia Residual",
          "Dystopia Residual",
          "Dystopia Residual",
          "Dystopia Residual",
          "Dystopia Residual",
          "Dystopia Residual",
          "Dystopia Residual",
          "Dystopia Residual",
          "Dystopia Residual",
          "Dystopia Residual",
          "Dystopia Residual",
          "Dystopia Residual",
          "Dystopia Residual",
          "Dystopia Residual",
          "Dystopia Residual",
          "Dystopia Residual",
          "Dystopia Residual",
          "Dystopia Residual",
          "Dystopia Residual",
          "Dystopia Residual",
          "Dystopia Residual",
          "Dystopia Residual",
          "Dystopia Residual",
          "Dystopia Residual",
          "Dystopia Residual",
          "Dystopia Residual",
          "Dystopia Residual",
          "Dystopia Residual",
          "Dystopia Residual",
          "Dystopia Residual",
          "Dystopia Residual"
         ],
         "x0": " ",
         "xaxis": "x",
         "y": [
          7.587,
          7.561,
          7.527,
          7.522,
          7.427,
          7.406,
          7.378,
          7.364,
          7.286,
          7.284,
          7.278,
          7.226,
          7.2,
          7.187,
          7.119,
          6.983,
          6.946,
          6.94,
          6.937,
          6.901,
          6.867,
          6.853,
          6.81,
          6.798,
          6.786,
          6.75,
          6.67,
          6.611,
          6.575,
          6.574,
          6.505,
          6.485,
          6.477,
          6.455,
          6.411,
          6.329,
          6.302,
          6.298,
          6.295,
          6.269,
          6.168,
          6.13,
          6.123,
          6.003,
          5.995,
          5.987,
          5.984,
          5.975,
          5.96,
          5.948,
          5.89,
          5.889,
          5.878,
          5.855,
          5.848,
          5.833,
          5.828,
          5.824,
          5.813,
          5.791,
          5.77,
          5.759,
          5.754,
          5.716,
          5.709,
          5.695,
          5.689,
          5.605,
          5.589,
          5.548,
          5.477,
          5.474,
          5.429,
          5.399,
          5.36,
          5.332,
          5.286,
          5.268,
          5.253,
          5.212,
          5.194,
          5.192,
          5.192,
          5.14,
          5.129,
          5.124,
          5.123,
          5.102,
          5.098,
          5.073,
          5.057,
          5.013,
          5.007,
          4.971,
          4.959,
          4.949,
          4.898,
          4.885,
          4.876,
          4.874,
          4.867,
          4.857,
          4.839,
          4.8,
          4.788,
          4.786,
          4.739,
          4.715,
          4.694,
          4.686,
          4.681,
          4.677,
          4.642,
          4.633,
          4.61,
          4.571,
          4.565,
          4.55,
          4.518,
          4.517,
          4.514,
          4.512,
          4.507,
          4.436,
          4.419,
          4.369,
          4.35,
          4.332,
          4.307,
          4.297,
          4.292,
          4.271,
          4.252,
          4.218,
          4.194,
          4.077,
          4.033,
          3.995,
          3.989,
          3.956,
          3.931,
          3.904,
          3.896,
          3.845,
          3.819,
          3.781,
          3.681,
          3.678,
          3.667,
          3.656,
          3.655,
          3.587,
          3.575,
          3.465,
          3.34,
          3.006,
          2.905,
          2.839,
          1.39651,
          1.30232,
          1.32548,
          1.459,
          1.32629,
          1.29025,
          1.32944,
          1.33171,
          1.25018,
          1.33358,
          1.22857,
          0.95578,
          1.33723,
          1.02054,
          1.39451,
          0.98124,
          1.56391,
          1.33596,
          1.30782,
          1.42727,
          1.26637,
          1.36011,
          1.04424,
          1.52186,
          1.06353,
          1.32792,
          1.10715,
          1.69042,
          1.27778,
          1.05351,
          1.17898,
          1.06166,
          0.91861,
          0.9669,
          1.39541,
          1.23011,
          1.2074,
          1.29098,
          1.55422,
          0.99534,
          1.21183,
          0.76454,
          0.74553,
          0.63244,
          1.16891,
          1.27074,
          1.24461,
          0.86402,
          1.32376,
          1.25114,
          0.68133,
          0.59448,
          0.75985,
          1.12254,
          1.18498,
          1.14723,
          0.59325,
          0.90019,
          1.03192,
          1.12555,
          1.12486,
          1.08254,
          1.13145,
          1.13764,
          0.81038,
          1.20806,
          1.20813,
          0.93929,
          0.80148,
          0.95847,
          1.00761,
          1.38604,
          1.15174,
          0.82827,
          0.63216,
          1.06098,
          0.47428,
          0.65435,
          0.77042,
          1.02389,
          0.59543,
          0.90198,
          0.97438,
          0.89012,
          0.47038,
          1.04345,
          0.92053,
          1.15991,
          1.11312,
          0.70532,
          0.18847,
          0.73479,
          0.91851,
          0.08308,
          0.87867,
          0.83223,
          0.37545,
          0.89537,
          0.59066,
          0.82819,
          0.71206,
          1.15406,
          1.02564,
          1.12094,
          0.59532,
          0.39047,
          0.88113,
          0.59867,
          0.39753,
          1.0088,
          0.79907,
          0.98549,
          0.92049,
          0.54558,
          0.271,
          0.0712,
          0.64499,
          0.52107,
          0.26673,
          0,
          0.35997,
          0.19073,
          0.33024,
          0.45407,
          0.36471,
          0.44025,
          0.76821,
          0.99355,
          0.27108,
          0.7419,
          0.01604,
          0.83524,
          0.4225,
          1.01216,
          0.8818,
          0.54649,
          0.75778,
          0.26074,
          0.67866,
          0.23906,
          0.21102,
          0.36498,
          1.06024,
          0.0694,
          0.46038,
          0.2852,
          0.20824,
          0.0785,
          0.34193,
          0.17417,
          0.46534,
          0.25812,
          0.31982,
          0.22208,
          0.28665,
          0.6632,
          0.0153,
          0.20868,
          1.34951,
          1.40223,
          1.36058,
          1.33095,
          1.32261,
          1.31826,
          1.28017,
          1.28907,
          1.31967,
          1.30923,
          1.22393,
          1.23788,
          1.29704,
          0.91451,
          1.24711,
          1.23287,
          1.21963,
          1.36948,
          1.28566,
          1.12575,
          1.28548,
          1.08182,
          1.25596,
          1.02,
          1.1985,
          1.29937,
          1.12447,
          1.0786,
          1.26038,
          1.24823,
          1.20643,
          1.2089,
          1.24018,
          1.26504,
          1.08393,
          1.31379,
          1.30203,
          1.07617,
          1.16594,
          0.972,
          1.18354,
          1.02507,
          1.04356,
          1.34043,
          1.26999,
          1.25712,
          0.95774,
          0.99903,
          1.21624,
          1.19777,
          0.97841,
          1.01528,
          1.30477,
          1.12241,
          1.27385,
          1.25745,
          1.14184,
          0.97459,
          1.23289,
          1.27948,
          1.07023,
          0.79624,
          1.11862,
          1.23617,
          1.15102,
          1.07008,
          0.89318,
          1.07772,
          0.81198,
          1.22668,
          0.98521,
          1.05818,
          1.22791,
          1.08708,
          0.91226,
          0.94632,
          1.15115,
          0.90432,
          1.10395,
          0.93793,
          0.41411,
          1.05392,
          0.90557,
          0.94675,
          0.91612,
          0.88588,
          1.00964,
          1.13935,
          1.09562,
          1.03516,
          0.95152,
          0.64095,
          1.00232,
          1.02626,
          0.80434,
          0.91916,
          1.04103,
          1.17202,
          0.73803,
          1.3006,
          1.07284,
          0.92933,
          0.80001,
          1.20215,
          0.95348,
          0.85563,
          0.60429,
          0.92558,
          0.43106,
          0.54447,
          1.20278,
          0.81889,
          1.18468,
          0.67954,
          1.03276,
          0.78968,
          0.38174,
          1.01404,
          0.74302,
          1.0012,
          0.86449,
          0.60406,
          0.95571,
          0.86908,
          0.99876,
          0.59207,
          0.77711,
          1.10464,
          0.70905,
          0.38562,
          0.41134,
          1.01905,
          0.88767,
          1.10614,
          0.747,
          0.68093,
          0.8604,
          1.03526,
          0.6629,
          0.79273,
          1.13299,
          0.97619,
          0.90528,
          0.77265,
          0.62736,
          1.00268,
          0.66801,
          0,
          0.76062,
          0.46475,
          0.77115,
          0.85188,
          0.30285,
          0.7737,
          0.35386,
          0.47489,
          0.41587,
          0.13995,
          0.94143,
          0.94784,
          0.87464,
          0.88521,
          0.90563,
          0.88911,
          0.89284,
          0.91087,
          0.90837,
          0.93156,
          0.91387,
          0.86027,
          0.89042,
          0.81444,
          0.86179,
          0.69702,
          0.91894,
          0.89533,
          0.89667,
          0.80925,
          0.90943,
          0.76276,
          0.72052,
          1.02525,
          0.79661,
          0.89186,
          0.85857,
          0.79733,
          0.94579,
          0.78723,
          0.84483,
          0.8116,
          0.69077,
          0.7385,
          0.72025,
          0.95562,
          0.88721,
          0.8753,
          0.72492,
          0.6082,
          0.61483,
          0.67737,
          0.64425,
          0.59772,
          0.78902,
          0.99111,
          0.96538,
          0.79075,
          0.74716,
          0.95446,
          0.5392,
          0.61826,
          0.66098,
          0.64368,
          0.87337,
          0.73128,
          0.74314,
          0.73017,
          0.73608,
          0.77903,
          0.72394,
          0.78805,
          0.7038,
          0.66926,
          0.68741,
          0.92356,
          0.92356,
          0.61766,
          0.63132,
          0.53886,
          0.7095,
          1.01328,
          0.77361,
          0.63793,
          0.74676,
          0.73172,
          0.65088,
          0.16007,
          0.57407,
          0.64045,
          0.51466,
          0.69639,
          0.72521,
          0.81658,
          0.29924,
          0.7689,
          0.74836,
          0.87519,
          0.72437,
          0.58114,
          0.43873,
          0.60954,
          0.73545,
          0.09131,
          0.81325,
          0.79081,
          0.07612,
          0.66825,
          0.54909,
          0.60268,
          0.07566,
          0.88213,
          0.83947,
          0.75905,
          0.6951,
          0.57379,
          0.73793,
          0.66015,
          0.60164,
          0.69805,
          0.6739,
          0.60237,
          0.27688,
          0.40132,
          0.33475,
          0.34201,
          0.51529,
          0.36878,
          0.38847,
          0.09806,
          0.56874,
          0.44055,
          0,
          0.35874,
          0.41435,
          0.36291,
          0.7299,
          0.04776,
          0.48246,
          0.72926,
          0.22562,
          0.70806,
          0.23402,
          0.76649,
          0.61712,
          0.40064,
          0.16683,
          0.20583,
          0.31051,
          0.36315,
          0.33861,
          0.4354,
          0.43372,
          0.29707,
          0.61114,
          0.38215,
          0.46721,
          0.06699,
          0.1501,
          0.24009,
          0.15185,
          0.27125,
          0.30335,
          0.42864,
          0.3191,
          0.72193,
          0.22396,
          0.28443,
          0.66557,
          0.62877,
          0.64938,
          0.66973,
          0.63297,
          0.64169,
          0.61576,
          0.6598,
          0.63938,
          0.65124,
          0.41319,
          0.63376,
          0.62433,
          0.48181,
          0.54604,
          0.49049,
          0.61583,
          0.61777,
          0.5845,
          0.64157,
          0.59625,
          0.63274,
          0.42908,
          0.54252,
          0.5421,
          0.61477,
          0.44132,
          0.6404,
          0.55011,
          0.44974,
          0.46364,
          0.60362,
          0.53466,
          0.55664,
          0.31048,
          0.45951,
          0.60365,
          0.3974,
          0.55499,
          0.59657,
          0.55884,
          0.4035,
          0.57733,
          0.65821,
          0.31751,
          0.49615,
          0.33208,
          0.48574,
          0.45492,
          0.26236,
          0.57414,
          0.32818,
          0.53899,
          0.51649,
          0.60855,
          0.21342,
          0.55475,
          0.41496,
          0.37938,
          0.53122,
          0.53024,
          0.25883,
          0.41668,
          0.36679,
          0.50442,
          0.49027,
          0.40672,
          0.28579,
          0.24749,
          0.4761,
          0.56066,
          0.59608,
          0.44888,
          0.46611,
          0.59444,
          0.22815,
          0.43477,
          0.34334,
          0.53206,
          0.3703,
          0.12102,
          0.40661,
          0.1826,
          0.51697,
          0.48827,
          0.35068,
          0.20107,
          0.51469,
          0.29671,
          0.62545,
          0.46582,
          0.41691,
          0.33457,
          0.34037,
          0.35733,
          0.09245,
          0.31767,
          0.57672,
          0.59591,
          0.43626,
          0.30658,
          0.07699,
          0.33916,
          0.32112,
          0.40148,
          0.47216,
          0.26268,
          0.24499,
          0.4082,
          0.30033,
          0.25123,
          0,
          0.33207,
          0.42342,
          0.25861,
          0.28531,
          0.39786,
          0.10081,
          0.24425,
          0.22605,
          0.38282,
          0.4345,
          0.4084,
          0.24232,
          0.42215,
          0.46074,
          0.19847,
          0.49495,
          0.44017,
          0.40577,
          0.43054,
          0.53726,
          0.49309,
          0.30587,
          0.17288,
          0.35571,
          0.10384,
          0.38857,
          0.41466,
          0.22917,
          0.45727,
          0.36772,
          0.31914,
          0.47692,
          0.66246,
          0.32878,
          0.19184,
          0.48879,
          0.23501,
          0.37725,
          0.46866,
          0.39493,
          0.23414,
          0.59201,
          0.4845,
          0.15684,
          0.1185,
          0.36453,
          0.41978,
          0.14145,
          0.48357,
          0.36503,
          0.32957,
          0.41372,
          0.31814,
          0.43844,
          0.42922,
          0.35637,
          0.07785,
          0.10583,
          0.18676,
          0.21312,
          0.1589,
          0.17521,
          0.37798,
          0.28703,
          0.2254,
          0.38583,
          0.32067,
          0.32524,
          0.11069,
          0.4921,
          0.0927,
          0.21843,
          0.12869,
          0.52208,
          0.20646,
          0.08484,
          0.02652,
          0.24558,
          0.0512,
          0.03187,
          0.32524,
          0.06398,
          0.13586,
          0.08129,
          0.25609,
          0.13633,
          0.0114,
          0.11776,
          0.09472,
          0.30826,
          0.03431,
          0.1806,
          0.07857,
          0.1809,
          0.306,
          0.02901,
          0.088,
          0.01615,
          0.08242,
          0.08454,
          0.03787,
          0.01031,
          0.19317,
          0.05989,
          0.1909,
          0.04212,
          0.10501,
          0.0243,
          0.11023,
          0.03005,
          0.02299,
          0.1428,
          0.06146,
          0.17383,
          0.04741,
          0.30844,
          0.07521,
          0.37124,
          0.15184,
          0,
          0.10441,
          0.15746,
          0.04232,
          0.0403,
          0.15445,
          0.16065,
          0.10464,
          0.14293,
          0.14296,
          0.02781,
          0.12468,
          0.00649,
          0.02617,
          0.01078,
          0.06332,
          0.12279,
          0.39928,
          0.08546,
          0.05327,
          0.15603,
          0.06413,
          0.00227,
          0.12504,
          0.14234,
          0.24249,
          0.02666,
          0.0306,
          0.01397,
          0.04582,
          0.02758,
          0.06825,
          0.15072,
          0.06358,
          0.12905,
          0.12569,
          0.05863,
          0.02961,
          0.13788,
          0.08884,
          0.04355,
          0.08079,
          0.06232,
          0.08492,
          0.1466,
          0.17175,
          0.07625,
          0.05907,
          0.15048,
          0.08786,
          0.17461,
          0.05839,
          0.28105,
          0.039,
          0.12474,
          0.19034,
          0.38331,
          0.06977,
          0.09179,
          0.05786,
          0.00872,
          0.06324,
          0.07854,
          0.07122,
          0.12352,
          0.11686,
          0.199,
          0.07267,
          0.10713,
          0.11091,
          0.15639,
          0.07247,
          0.05747,
          0.08124,
          0.08289,
          0.05269,
          0.12139,
          0.17922,
          0.12832,
          0.09719,
          0.55191,
          0.0801,
          0.18906,
          0.10062,
          0.10731,
          0.29678,
          0.4363,
          0.34139,
          0.34699,
          0.45811,
          0.23351,
          0.4761,
          0.36262,
          0.47501,
          0.43562,
          0.33172,
          0.25497,
          0.33088,
          0.14074,
          0.40105,
          0.14574,
          0.28034,
          0.45901,
          0.2225,
          0.26428,
          0.51912,
          0.21542,
          0.05841,
          0.31105,
          0.24434,
          0.28214,
          0.33363,
          0.32573,
          0.12332,
          0.11451,
          0.10686,
          0.2324,
          0.18401,
          0.5763,
          0.13706,
          0.18227,
          0.51752,
          0.25376,
          0.16228,
          0.16991,
          0.31844,
          0.10692,
          0.27489,
          0.22837,
          0.16893,
          0.10705,
          0.18557,
          0.11541,
          0.17362,
          0.22823,
          0.20536,
          0.20951,
          0.3424,
          0.11827,
          0.25328,
          0.02641,
          0.27815,
          0.14982,
          0.11046,
          0.16759,
          0.33075,
          0.05444,
          0.18295,
          0.00199,
          0.2123,
          0.26169,
          0.30638,
          0.07822,
          0.2831,
          0.16979,
          0.37744,
          0.39478,
          0.0868,
          0.51535,
          0.1686,
          0.12253,
          0.3003,
          0.27233,
          0.47998,
          0.07799,
          0.33671,
          0.11053,
          0.1614,
          0.08185,
          0.19591,
          0.13748,
          0.19231,
          0.13719,
          0.18226,
          0.24991,
          0.50318,
          0.07172,
          0.22359,
          0.22269,
          0.14272,
          0.24808,
          0.16388,
          0.21684,
          0.42192,
          0.3323,
          0.18259,
          0,
          0.21854,
          0.128,
          0.23027,
          0.22974,
          0.06431,
          0.11251,
          0.21222,
          0.38086,
          0.15275,
          0.17922,
          0.11973,
          0.23087,
          0.18987,
          0.24362,
          0.26475,
          0.19062,
          0.46187,
          0.24834,
          0.32296,
          0.24325,
          0.21488,
          0.219,
          0.37542,
          0.18093,
          0.07855,
          0.10461,
          0.79588,
          0.05547,
          0.33128,
          0.40828,
          0.20618,
          0.11921,
          0.11291,
          0.09131,
          0.12344,
          0.18798,
          0.12388,
          0.17441,
          0.29066,
          0.20843,
          0.06822,
          0.19387,
          0.40359,
          0.34377,
          0.21333,
          0.23835,
          0.18386,
          0.28657,
          0.20165,
          0.21747,
          0.3651,
          0.22628,
          0.1826,
          0.47179,
          0.19727,
          0.16681,
          2.51738,
          2.70201,
          2.49204,
          2.46531,
          2.45176,
          2.61955,
          2.4657,
          2.37119,
          2.26425,
          2.26646,
          3.08854,
          3.17728,
          2.5332,
          3.60214,
          2.51011,
          3.26001,
          1.96961,
          1.9757,
          2.41484,
          2.24743,
          1.96994,
          2.47489,
          3.19131,
          1.88501,
          2.84848,
          2.11569,
          2.67585,
          1.55674,
          2.21126,
          2.836,
          2.67782,
          2.32142,
          2.85737,
          2.31945,
          2.43872,
          2.12367,
          1.6488,
          2.32323,
          1.87634,
          2.79094,
          2.26882,
          3.035,
          2.74255,
          2.23741,
          2.24639,
          1.68435,
          2.21978,
          2.53942,
          1.73797,
          2.02518,
          2.82334,
          3.10712,
          2.18896,
          2.24729,
          1.61583,
          2.44649,
          2.32407,
          2.5945,
          2.1309,
          1.86565,
          1.88541,
          2.75414,
          2.09066,
          2.27394,
          2.32038,
          1.59888,
          1.88931,
          2.43209,
          2.76579,
          1.86984,
          1.76145,
          0.65429,
          1.58782,
          1.86399,
          2.20173,
          2.08528,
          2.2327,
          2.89319,
          1.63794,
          2.00073,
          3.10709,
          1.87996,
          2.10017,
          1.8604,
          2.6343,
          1.93129,
          2.025,
          1.26462,
          1.62215,
          1.7536,
          2.11032,
          2.45373,
          1.73933,
          3.05137,
          1.89894,
          2.06367,
          2.79832,
          1.21305,
          1.73799,
          1.34759,
          2.48676,
          1.80101,
          1.57059,
          1.24074,
          1.84408,
          2.11399,
          2.12466,
          2.04384,
          2.51767,
          1.6944,
          1.5714,
          1.95335,
          1.71956,
          2.30919,
          2.44191,
          2.77729,
          2.27513,
          2.20857,
          2.24173,
          2.86712,
          1.95637,
          2.44876,
          2.51009,
          2.11773,
          1.78555,
          2.05125,
          1.75873,
          1.46181,
          1.41805,
          1.59541,
          2.80791,
          0.67108,
          1.95071,
          0.89991,
          1.59927,
          1.92313,
          1.94939,
          1.79293,
          1.68135,
          1.95812,
          1.42766,
          1.44395,
          0.99895,
          1.87877,
          0.98195,
          1.38079,
          1.851,
          2.7223,
          1.94296,
          1.99172,
          1.41723,
          1.46494,
          1.9521,
          0.67042,
          1.63328,
          0.32858,
          1.83302,
          1.56726
         ],
         "y0": " ",
         "yaxis": "y"
        }
       ],
       "layout": {
        "boxmode": "group",
        "height": 750,
        "legend": {
         "tracegroupgap": 0
        },
        "template": {
         "data": {
          "bar": [
           {
            "error_x": {
             "color": "#2a3f5f"
            },
            "error_y": {
             "color": "#2a3f5f"
            },
            "marker": {
             "line": {
              "color": "#E5ECF6",
              "width": 0.5
             },
             "pattern": {
              "fillmode": "overlay",
              "size": 10,
              "solidity": 0.2
             }
            },
            "type": "bar"
           }
          ],
          "barpolar": [
           {
            "marker": {
             "line": {
              "color": "#E5ECF6",
              "width": 0.5
             },
             "pattern": {
              "fillmode": "overlay",
              "size": 10,
              "solidity": 0.2
             }
            },
            "type": "barpolar"
           }
          ],
          "carpet": [
           {
            "aaxis": {
             "endlinecolor": "#2a3f5f",
             "gridcolor": "white",
             "linecolor": "white",
             "minorgridcolor": "white",
             "startlinecolor": "#2a3f5f"
            },
            "baxis": {
             "endlinecolor": "#2a3f5f",
             "gridcolor": "white",
             "linecolor": "white",
             "minorgridcolor": "white",
             "startlinecolor": "#2a3f5f"
            },
            "type": "carpet"
           }
          ],
          "choropleth": [
           {
            "colorbar": {
             "outlinewidth": 0,
             "ticks": ""
            },
            "type": "choropleth"
           }
          ],
          "contour": [
           {
            "colorbar": {
             "outlinewidth": 0,
             "ticks": ""
            },
            "colorscale": [
             [
              0,
              "#0d0887"
             ],
             [
              0.1111111111111111,
              "#46039f"
             ],
             [
              0.2222222222222222,
              "#7201a8"
             ],
             [
              0.3333333333333333,
              "#9c179e"
             ],
             [
              0.4444444444444444,
              "#bd3786"
             ],
             [
              0.5555555555555556,
              "#d8576b"
             ],
             [
              0.6666666666666666,
              "#ed7953"
             ],
             [
              0.7777777777777778,
              "#fb9f3a"
             ],
             [
              0.8888888888888888,
              "#fdca26"
             ],
             [
              1,
              "#f0f921"
             ]
            ],
            "type": "contour"
           }
          ],
          "contourcarpet": [
           {
            "colorbar": {
             "outlinewidth": 0,
             "ticks": ""
            },
            "type": "contourcarpet"
           }
          ],
          "heatmap": [
           {
            "colorbar": {
             "outlinewidth": 0,
             "ticks": ""
            },
            "colorscale": [
             [
              0,
              "#0d0887"
             ],
             [
              0.1111111111111111,
              "#46039f"
             ],
             [
              0.2222222222222222,
              "#7201a8"
             ],
             [
              0.3333333333333333,
              "#9c179e"
             ],
             [
              0.4444444444444444,
              "#bd3786"
             ],
             [
              0.5555555555555556,
              "#d8576b"
             ],
             [
              0.6666666666666666,
              "#ed7953"
             ],
             [
              0.7777777777777778,
              "#fb9f3a"
             ],
             [
              0.8888888888888888,
              "#fdca26"
             ],
             [
              1,
              "#f0f921"
             ]
            ],
            "type": "heatmap"
           }
          ],
          "heatmapgl": [
           {
            "colorbar": {
             "outlinewidth": 0,
             "ticks": ""
            },
            "colorscale": [
             [
              0,
              "#0d0887"
             ],
             [
              0.1111111111111111,
              "#46039f"
             ],
             [
              0.2222222222222222,
              "#7201a8"
             ],
             [
              0.3333333333333333,
              "#9c179e"
             ],
             [
              0.4444444444444444,
              "#bd3786"
             ],
             [
              0.5555555555555556,
              "#d8576b"
             ],
             [
              0.6666666666666666,
              "#ed7953"
             ],
             [
              0.7777777777777778,
              "#fb9f3a"
             ],
             [
              0.8888888888888888,
              "#fdca26"
             ],
             [
              1,
              "#f0f921"
             ]
            ],
            "type": "heatmapgl"
           }
          ],
          "histogram": [
           {
            "marker": {
             "pattern": {
              "fillmode": "overlay",
              "size": 10,
              "solidity": 0.2
             }
            },
            "type": "histogram"
           }
          ],
          "histogram2d": [
           {
            "colorbar": {
             "outlinewidth": 0,
             "ticks": ""
            },
            "colorscale": [
             [
              0,
              "#0d0887"
             ],
             [
              0.1111111111111111,
              "#46039f"
             ],
             [
              0.2222222222222222,
              "#7201a8"
             ],
             [
              0.3333333333333333,
              "#9c179e"
             ],
             [
              0.4444444444444444,
              "#bd3786"
             ],
             [
              0.5555555555555556,
              "#d8576b"
             ],
             [
              0.6666666666666666,
              "#ed7953"
             ],
             [
              0.7777777777777778,
              "#fb9f3a"
             ],
             [
              0.8888888888888888,
              "#fdca26"
             ],
             [
              1,
              "#f0f921"
             ]
            ],
            "type": "histogram2d"
           }
          ],
          "histogram2dcontour": [
           {
            "colorbar": {
             "outlinewidth": 0,
             "ticks": ""
            },
            "colorscale": [
             [
              0,
              "#0d0887"
             ],
             [
              0.1111111111111111,
              "#46039f"
             ],
             [
              0.2222222222222222,
              "#7201a8"
             ],
             [
              0.3333333333333333,
              "#9c179e"
             ],
             [
              0.4444444444444444,
              "#bd3786"
             ],
             [
              0.5555555555555556,
              "#d8576b"
             ],
             [
              0.6666666666666666,
              "#ed7953"
             ],
             [
              0.7777777777777778,
              "#fb9f3a"
             ],
             [
              0.8888888888888888,
              "#fdca26"
             ],
             [
              1,
              "#f0f921"
             ]
            ],
            "type": "histogram2dcontour"
           }
          ],
          "mesh3d": [
           {
            "colorbar": {
             "outlinewidth": 0,
             "ticks": ""
            },
            "type": "mesh3d"
           }
          ],
          "parcoords": [
           {
            "line": {
             "colorbar": {
              "outlinewidth": 0,
              "ticks": ""
             }
            },
            "type": "parcoords"
           }
          ],
          "pie": [
           {
            "automargin": true,
            "type": "pie"
           }
          ],
          "scatter": [
           {
            "fillpattern": {
             "fillmode": "overlay",
             "size": 10,
             "solidity": 0.2
            },
            "type": "scatter"
           }
          ],
          "scatter3d": [
           {
            "line": {
             "colorbar": {
              "outlinewidth": 0,
              "ticks": ""
             }
            },
            "marker": {
             "colorbar": {
              "outlinewidth": 0,
              "ticks": ""
             }
            },
            "type": "scatter3d"
           }
          ],
          "scattercarpet": [
           {
            "marker": {
             "colorbar": {
              "outlinewidth": 0,
              "ticks": ""
             }
            },
            "type": "scattercarpet"
           }
          ],
          "scattergeo": [
           {
            "marker": {
             "colorbar": {
              "outlinewidth": 0,
              "ticks": ""
             }
            },
            "type": "scattergeo"
           }
          ],
          "scattergl": [
           {
            "marker": {
             "colorbar": {
              "outlinewidth": 0,
              "ticks": ""
             }
            },
            "type": "scattergl"
           }
          ],
          "scattermapbox": [
           {
            "marker": {
             "colorbar": {
              "outlinewidth": 0,
              "ticks": ""
             }
            },
            "type": "scattermapbox"
           }
          ],
          "scatterpolar": [
           {
            "marker": {
             "colorbar": {
              "outlinewidth": 0,
              "ticks": ""
             }
            },
            "type": "scatterpolar"
           }
          ],
          "scatterpolargl": [
           {
            "marker": {
             "colorbar": {
              "outlinewidth": 0,
              "ticks": ""
             }
            },
            "type": "scatterpolargl"
           }
          ],
          "scatterternary": [
           {
            "marker": {
             "colorbar": {
              "outlinewidth": 0,
              "ticks": ""
             }
            },
            "type": "scatterternary"
           }
          ],
          "surface": [
           {
            "colorbar": {
             "outlinewidth": 0,
             "ticks": ""
            },
            "colorscale": [
             [
              0,
              "#0d0887"
             ],
             [
              0.1111111111111111,
              "#46039f"
             ],
             [
              0.2222222222222222,
              "#7201a8"
             ],
             [
              0.3333333333333333,
              "#9c179e"
             ],
             [
              0.4444444444444444,
              "#bd3786"
             ],
             [
              0.5555555555555556,
              "#d8576b"
             ],
             [
              0.6666666666666666,
              "#ed7953"
             ],
             [
              0.7777777777777778,
              "#fb9f3a"
             ],
             [
              0.8888888888888888,
              "#fdca26"
             ],
             [
              1,
              "#f0f921"
             ]
            ],
            "type": "surface"
           }
          ],
          "table": [
           {
            "cells": {
             "fill": {
              "color": "#EBF0F8"
             },
             "line": {
              "color": "white"
             }
            },
            "header": {
             "fill": {
              "color": "#C8D4E3"
             },
             "line": {
              "color": "white"
             }
            },
            "type": "table"
           }
          ]
         },
         "layout": {
          "annotationdefaults": {
           "arrowcolor": "#2a3f5f",
           "arrowhead": 0,
           "arrowwidth": 1
          },
          "autotypenumbers": "strict",
          "coloraxis": {
           "colorbar": {
            "outlinewidth": 0,
            "ticks": ""
           }
          },
          "colorscale": {
           "diverging": [
            [
             0,
             "#8e0152"
            ],
            [
             0.1,
             "#c51b7d"
            ],
            [
             0.2,
             "#de77ae"
            ],
            [
             0.3,
             "#f1b6da"
            ],
            [
             0.4,
             "#fde0ef"
            ],
            [
             0.5,
             "#f7f7f7"
            ],
            [
             0.6,
             "#e6f5d0"
            ],
            [
             0.7,
             "#b8e186"
            ],
            [
             0.8,
             "#7fbc41"
            ],
            [
             0.9,
             "#4d9221"
            ],
            [
             1,
             "#276419"
            ]
           ],
           "sequential": [
            [
             0,
             "#0d0887"
            ],
            [
             0.1111111111111111,
             "#46039f"
            ],
            [
             0.2222222222222222,
             "#7201a8"
            ],
            [
             0.3333333333333333,
             "#9c179e"
            ],
            [
             0.4444444444444444,
             "#bd3786"
            ],
            [
             0.5555555555555556,
             "#d8576b"
            ],
            [
             0.6666666666666666,
             "#ed7953"
            ],
            [
             0.7777777777777778,
             "#fb9f3a"
            ],
            [
             0.8888888888888888,
             "#fdca26"
            ],
            [
             1,
             "#f0f921"
            ]
           ],
           "sequentialminus": [
            [
             0,
             "#0d0887"
            ],
            [
             0.1111111111111111,
             "#46039f"
            ],
            [
             0.2222222222222222,
             "#7201a8"
            ],
            [
             0.3333333333333333,
             "#9c179e"
            ],
            [
             0.4444444444444444,
             "#bd3786"
            ],
            [
             0.5555555555555556,
             "#d8576b"
            ],
            [
             0.6666666666666666,
             "#ed7953"
            ],
            [
             0.7777777777777778,
             "#fb9f3a"
            ],
            [
             0.8888888888888888,
             "#fdca26"
            ],
            [
             1,
             "#f0f921"
            ]
           ]
          },
          "colorway": [
           "#636efa",
           "#EF553B",
           "#00cc96",
           "#ab63fa",
           "#FFA15A",
           "#19d3f3",
           "#FF6692",
           "#B6E880",
           "#FF97FF",
           "#FECB52"
          ],
          "font": {
           "color": "#2a3f5f"
          },
          "geo": {
           "bgcolor": "white",
           "lakecolor": "white",
           "landcolor": "#E5ECF6",
           "showlakes": true,
           "showland": true,
           "subunitcolor": "white"
          },
          "hoverlabel": {
           "align": "left"
          },
          "hovermode": "closest",
          "mapbox": {
           "style": "light"
          },
          "paper_bgcolor": "white",
          "plot_bgcolor": "#E5ECF6",
          "polar": {
           "angularaxis": {
            "gridcolor": "white",
            "linecolor": "white",
            "ticks": ""
           },
           "bgcolor": "#E5ECF6",
           "radialaxis": {
            "gridcolor": "white",
            "linecolor": "white",
            "ticks": ""
           }
          },
          "scene": {
           "xaxis": {
            "backgroundcolor": "#E5ECF6",
            "gridcolor": "white",
            "gridwidth": 2,
            "linecolor": "white",
            "showbackground": true,
            "ticks": "",
            "zerolinecolor": "white"
           },
           "yaxis": {
            "backgroundcolor": "#E5ECF6",
            "gridcolor": "white",
            "gridwidth": 2,
            "linecolor": "white",
            "showbackground": true,
            "ticks": "",
            "zerolinecolor": "white"
           },
           "zaxis": {
            "backgroundcolor": "#E5ECF6",
            "gridcolor": "white",
            "gridwidth": 2,
            "linecolor": "white",
            "showbackground": true,
            "ticks": "",
            "zerolinecolor": "white"
           }
          },
          "shapedefaults": {
           "line": {
            "color": "#2a3f5f"
           }
          },
          "ternary": {
           "aaxis": {
            "gridcolor": "white",
            "linecolor": "white",
            "ticks": ""
           },
           "baxis": {
            "gridcolor": "white",
            "linecolor": "white",
            "ticks": ""
           },
           "bgcolor": "#E5ECF6",
           "caxis": {
            "gridcolor": "white",
            "linecolor": "white",
            "ticks": ""
           }
          },
          "title": {
           "x": 0.05
          },
          "xaxis": {
           "automargin": true,
           "gridcolor": "white",
           "linecolor": "white",
           "ticks": "",
           "title": {
            "standoff": 15
           },
           "zerolinecolor": "white",
           "zerolinewidth": 2
          },
          "yaxis": {
           "automargin": true,
           "gridcolor": "white",
           "linecolor": "white",
           "ticks": "",
           "title": {
            "standoff": 15
           },
           "zerolinecolor": "white",
           "zerolinewidth": 2
          }
         }
        },
        "title": {
         "text": "Box plot to figure out the outliers in 2015 dataset"
        },
        "width": 1200,
        "xaxis": {
         "anchor": "y",
         "domain": [
          0,
          1
         ],
         "title": {
          "text": "variable"
         }
        },
        "yaxis": {
         "anchor": "x",
         "domain": [
          0,
          1
         ],
         "title": {
          "text": "value"
         }
        }
       }
      }
     },
     "metadata": {},
     "output_type": "display_data"
    }
   ],
   "source": [
    "\n",
    "\n",
    "\n",
    "fig = px.box(data_2015[['Happiness Score','Economy (GDP per Capita)','Family',\n",
    "                            'Health (Life Expectancy)','Freedom',\n",
    "                            'Trust (Government Corruption)','Generosity','Dystopia Residual']],\n",
    "             notched=True, # used notched shape\n",
    "             title=\"Box plot to figure out the outliers in 2015 dataset\",\n",
    "             width=1200 ,height=750,\n",
    "             color_discrete_sequence=px.colors.qualitative.Bold\n",
    "            )\n",
    "fig.show()"
   ]
  },
  {
   "cell_type": "code",
   "execution_count": 57,
   "id": "c607de3f",
   "metadata": {},
   "outputs": [
    {
     "data": {
      "application/vnd.plotly.v1+json": {
       "config": {
        "plotlyServerURL": "https://plot.ly"
       },
       "data": [
        {
         "alignmentgroup": "True",
         "hovertemplate": "variable=%{x}<br>value=%{y}<extra></extra>",
         "legendgroup": "",
         "marker": {
          "color": "rgb(127, 60, 141)"
         },
         "name": "",
         "notched": true,
         "offsetgroup": "",
         "orientation": "v",
         "showlegend": false,
         "type": "box",
         "x": [
          "Happiness Score",
          "Happiness Score",
          "Happiness Score",
          "Happiness Score",
          "Happiness Score",
          "Happiness Score",
          "Happiness Score",
          "Happiness Score",
          "Happiness Score",
          "Happiness Score",
          "Happiness Score",
          "Happiness Score",
          "Happiness Score",
          "Happiness Score",
          "Happiness Score",
          "Happiness Score",
          "Happiness Score",
          "Happiness Score",
          "Happiness Score",
          "Happiness Score",
          "Happiness Score",
          "Happiness Score",
          "Happiness Score",
          "Happiness Score",
          "Happiness Score",
          "Happiness Score",
          "Happiness Score",
          "Happiness Score",
          "Happiness Score",
          "Happiness Score",
          "Happiness Score",
          "Happiness Score",
          "Happiness Score",
          "Happiness Score",
          "Happiness Score",
          "Happiness Score",
          "Happiness Score",
          "Happiness Score",
          "Happiness Score",
          "Happiness Score",
          "Happiness Score",
          "Happiness Score",
          "Happiness Score",
          "Happiness Score",
          "Happiness Score",
          "Happiness Score",
          "Happiness Score",
          "Happiness Score",
          "Happiness Score",
          "Happiness Score",
          "Happiness Score",
          "Happiness Score",
          "Happiness Score",
          "Happiness Score",
          "Happiness Score",
          "Happiness Score",
          "Happiness Score",
          "Happiness Score",
          "Happiness Score",
          "Happiness Score",
          "Happiness Score",
          "Happiness Score",
          "Happiness Score",
          "Happiness Score",
          "Happiness Score",
          "Happiness Score",
          "Happiness Score",
          "Happiness Score",
          "Happiness Score",
          "Happiness Score",
          "Happiness Score",
          "Happiness Score",
          "Happiness Score",
          "Happiness Score",
          "Happiness Score",
          "Happiness Score",
          "Happiness Score",
          "Happiness Score",
          "Happiness Score",
          "Happiness Score",
          "Happiness Score",
          "Happiness Score",
          "Happiness Score",
          "Happiness Score",
          "Happiness Score",
          "Happiness Score",
          "Happiness Score",
          "Happiness Score",
          "Happiness Score",
          "Happiness Score",
          "Happiness Score",
          "Happiness Score",
          "Happiness Score",
          "Happiness Score",
          "Happiness Score",
          "Happiness Score",
          "Happiness Score",
          "Happiness Score",
          "Happiness Score",
          "Happiness Score",
          "Happiness Score",
          "Happiness Score",
          "Happiness Score",
          "Happiness Score",
          "Happiness Score",
          "Happiness Score",
          "Happiness Score",
          "Happiness Score",
          "Happiness Score",
          "Happiness Score",
          "Happiness Score",
          "Happiness Score",
          "Happiness Score",
          "Happiness Score",
          "Happiness Score",
          "Happiness Score",
          "Happiness Score",
          "Happiness Score",
          "Happiness Score",
          "Happiness Score",
          "Happiness Score",
          "Happiness Score",
          "Happiness Score",
          "Happiness Score",
          "Happiness Score",
          "Happiness Score",
          "Happiness Score",
          "Happiness Score",
          "Happiness Score",
          "Happiness Score",
          "Happiness Score",
          "Happiness Score",
          "Happiness Score",
          "Happiness Score",
          "Happiness Score",
          "Happiness Score",
          "Happiness Score",
          "Happiness Score",
          "Happiness Score",
          "Happiness Score",
          "Happiness Score",
          "Happiness Score",
          "Happiness Score",
          "Happiness Score",
          "Happiness Score",
          "Happiness Score",
          "Happiness Score",
          "Happiness Score",
          "Happiness Score",
          "Happiness Score",
          "Happiness Score",
          "Happiness Score",
          "Happiness Score",
          "Happiness Score",
          "Happiness Score",
          "Happiness Score",
          "Happiness Score",
          "Economy (GDP per Capita)",
          "Economy (GDP per Capita)",
          "Economy (GDP per Capita)",
          "Economy (GDP per Capita)",
          "Economy (GDP per Capita)",
          "Economy (GDP per Capita)",
          "Economy (GDP per Capita)",
          "Economy (GDP per Capita)",
          "Economy (GDP per Capita)",
          "Economy (GDP per Capita)",
          "Economy (GDP per Capita)",
          "Economy (GDP per Capita)",
          "Economy (GDP per Capita)",
          "Economy (GDP per Capita)",
          "Economy (GDP per Capita)",
          "Economy (GDP per Capita)",
          "Economy (GDP per Capita)",
          "Economy (GDP per Capita)",
          "Economy (GDP per Capita)",
          "Economy (GDP per Capita)",
          "Economy (GDP per Capita)",
          "Economy (GDP per Capita)",
          "Economy (GDP per Capita)",
          "Economy (GDP per Capita)",
          "Economy (GDP per Capita)",
          "Economy (GDP per Capita)",
          "Economy (GDP per Capita)",
          "Economy (GDP per Capita)",
          "Economy (GDP per Capita)",
          "Economy (GDP per Capita)",
          "Economy (GDP per Capita)",
          "Economy (GDP per Capita)",
          "Economy (GDP per Capita)",
          "Economy (GDP per Capita)",
          "Economy (GDP per Capita)",
          "Economy (GDP per Capita)",
          "Economy (GDP per Capita)",
          "Economy (GDP per Capita)",
          "Economy (GDP per Capita)",
          "Economy (GDP per Capita)",
          "Economy (GDP per Capita)",
          "Economy (GDP per Capita)",
          "Economy (GDP per Capita)",
          "Economy (GDP per Capita)",
          "Economy (GDP per Capita)",
          "Economy (GDP per Capita)",
          "Economy (GDP per Capita)",
          "Economy (GDP per Capita)",
          "Economy (GDP per Capita)",
          "Economy (GDP per Capita)",
          "Economy (GDP per Capita)",
          "Economy (GDP per Capita)",
          "Economy (GDP per Capita)",
          "Economy (GDP per Capita)",
          "Economy (GDP per Capita)",
          "Economy (GDP per Capita)",
          "Economy (GDP per Capita)",
          "Economy (GDP per Capita)",
          "Economy (GDP per Capita)",
          "Economy (GDP per Capita)",
          "Economy (GDP per Capita)",
          "Economy (GDP per Capita)",
          "Economy (GDP per Capita)",
          "Economy (GDP per Capita)",
          "Economy (GDP per Capita)",
          "Economy (GDP per Capita)",
          "Economy (GDP per Capita)",
          "Economy (GDP per Capita)",
          "Economy (GDP per Capita)",
          "Economy (GDP per Capita)",
          "Economy (GDP per Capita)",
          "Economy (GDP per Capita)",
          "Economy (GDP per Capita)",
          "Economy (GDP per Capita)",
          "Economy (GDP per Capita)",
          "Economy (GDP per Capita)",
          "Economy (GDP per Capita)",
          "Economy (GDP per Capita)",
          "Economy (GDP per Capita)",
          "Economy (GDP per Capita)",
          "Economy (GDP per Capita)",
          "Economy (GDP per Capita)",
          "Economy (GDP per Capita)",
          "Economy (GDP per Capita)",
          "Economy (GDP per Capita)",
          "Economy (GDP per Capita)",
          "Economy (GDP per Capita)",
          "Economy (GDP per Capita)",
          "Economy (GDP per Capita)",
          "Economy (GDP per Capita)",
          "Economy (GDP per Capita)",
          "Economy (GDP per Capita)",
          "Economy (GDP per Capita)",
          "Economy (GDP per Capita)",
          "Economy (GDP per Capita)",
          "Economy (GDP per Capita)",
          "Economy (GDP per Capita)",
          "Economy (GDP per Capita)",
          "Economy (GDP per Capita)",
          "Economy (GDP per Capita)",
          "Economy (GDP per Capita)",
          "Economy (GDP per Capita)",
          "Economy (GDP per Capita)",
          "Economy (GDP per Capita)",
          "Economy (GDP per Capita)",
          "Economy (GDP per Capita)",
          "Economy (GDP per Capita)",
          "Economy (GDP per Capita)",
          "Economy (GDP per Capita)",
          "Economy (GDP per Capita)",
          "Economy (GDP per Capita)",
          "Economy (GDP per Capita)",
          "Economy (GDP per Capita)",
          "Economy (GDP per Capita)",
          "Economy (GDP per Capita)",
          "Economy (GDP per Capita)",
          "Economy (GDP per Capita)",
          "Economy (GDP per Capita)",
          "Economy (GDP per Capita)",
          "Economy (GDP per Capita)",
          "Economy (GDP per Capita)",
          "Economy (GDP per Capita)",
          "Economy (GDP per Capita)",
          "Economy (GDP per Capita)",
          "Economy (GDP per Capita)",
          "Economy (GDP per Capita)",
          "Economy (GDP per Capita)",
          "Economy (GDP per Capita)",
          "Economy (GDP per Capita)",
          "Economy (GDP per Capita)",
          "Economy (GDP per Capita)",
          "Economy (GDP per Capita)",
          "Economy (GDP per Capita)",
          "Economy (GDP per Capita)",
          "Economy (GDP per Capita)",
          "Economy (GDP per Capita)",
          "Economy (GDP per Capita)",
          "Economy (GDP per Capita)",
          "Economy (GDP per Capita)",
          "Economy (GDP per Capita)",
          "Economy (GDP per Capita)",
          "Economy (GDP per Capita)",
          "Economy (GDP per Capita)",
          "Economy (GDP per Capita)",
          "Economy (GDP per Capita)",
          "Economy (GDP per Capita)",
          "Economy (GDP per Capita)",
          "Economy (GDP per Capita)",
          "Economy (GDP per Capita)",
          "Economy (GDP per Capita)",
          "Economy (GDP per Capita)",
          "Economy (GDP per Capita)",
          "Economy (GDP per Capita)",
          "Economy (GDP per Capita)",
          "Economy (GDP per Capita)",
          "Economy (GDP per Capita)",
          "Economy (GDP per Capita)",
          "Family",
          "Family",
          "Family",
          "Family",
          "Family",
          "Family",
          "Family",
          "Family",
          "Family",
          "Family",
          "Family",
          "Family",
          "Family",
          "Family",
          "Family",
          "Family",
          "Family",
          "Family",
          "Family",
          "Family",
          "Family",
          "Family",
          "Family",
          "Family",
          "Family",
          "Family",
          "Family",
          "Family",
          "Family",
          "Family",
          "Family",
          "Family",
          "Family",
          "Family",
          "Family",
          "Family",
          "Family",
          "Family",
          "Family",
          "Family",
          "Family",
          "Family",
          "Family",
          "Family",
          "Family",
          "Family",
          "Family",
          "Family",
          "Family",
          "Family",
          "Family",
          "Family",
          "Family",
          "Family",
          "Family",
          "Family",
          "Family",
          "Family",
          "Family",
          "Family",
          "Family",
          "Family",
          "Family",
          "Family",
          "Family",
          "Family",
          "Family",
          "Family",
          "Family",
          "Family",
          "Family",
          "Family",
          "Family",
          "Family",
          "Family",
          "Family",
          "Family",
          "Family",
          "Family",
          "Family",
          "Family",
          "Family",
          "Family",
          "Family",
          "Family",
          "Family",
          "Family",
          "Family",
          "Family",
          "Family",
          "Family",
          "Family",
          "Family",
          "Family",
          "Family",
          "Family",
          "Family",
          "Family",
          "Family",
          "Family",
          "Family",
          "Family",
          "Family",
          "Family",
          "Family",
          "Family",
          "Family",
          "Family",
          "Family",
          "Family",
          "Family",
          "Family",
          "Family",
          "Family",
          "Family",
          "Family",
          "Family",
          "Family",
          "Family",
          "Family",
          "Family",
          "Family",
          "Family",
          "Family",
          "Family",
          "Family",
          "Family",
          "Family",
          "Family",
          "Family",
          "Family",
          "Family",
          "Family",
          "Family",
          "Family",
          "Family",
          "Family",
          "Family",
          "Family",
          "Family",
          "Family",
          "Family",
          "Family",
          "Family",
          "Family",
          "Family",
          "Family",
          "Family",
          "Family",
          "Family",
          "Family",
          "Family",
          "Family",
          "Family",
          "Family",
          "Family",
          "Family",
          "Health (Life Expectancy)",
          "Health (Life Expectancy)",
          "Health (Life Expectancy)",
          "Health (Life Expectancy)",
          "Health (Life Expectancy)",
          "Health (Life Expectancy)",
          "Health (Life Expectancy)",
          "Health (Life Expectancy)",
          "Health (Life Expectancy)",
          "Health (Life Expectancy)",
          "Health (Life Expectancy)",
          "Health (Life Expectancy)",
          "Health (Life Expectancy)",
          "Health (Life Expectancy)",
          "Health (Life Expectancy)",
          "Health (Life Expectancy)",
          "Health (Life Expectancy)",
          "Health (Life Expectancy)",
          "Health (Life Expectancy)",
          "Health (Life Expectancy)",
          "Health (Life Expectancy)",
          "Health (Life Expectancy)",
          "Health (Life Expectancy)",
          "Health (Life Expectancy)",
          "Health (Life Expectancy)",
          "Health (Life Expectancy)",
          "Health (Life Expectancy)",
          "Health (Life Expectancy)",
          "Health (Life Expectancy)",
          "Health (Life Expectancy)",
          "Health (Life Expectancy)",
          "Health (Life Expectancy)",
          "Health (Life Expectancy)",
          "Health (Life Expectancy)",
          "Health (Life Expectancy)",
          "Health (Life Expectancy)",
          "Health (Life Expectancy)",
          "Health (Life Expectancy)",
          "Health (Life Expectancy)",
          "Health (Life Expectancy)",
          "Health (Life Expectancy)",
          "Health (Life Expectancy)",
          "Health (Life Expectancy)",
          "Health (Life Expectancy)",
          "Health (Life Expectancy)",
          "Health (Life Expectancy)",
          "Health (Life Expectancy)",
          "Health (Life Expectancy)",
          "Health (Life Expectancy)",
          "Health (Life Expectancy)",
          "Health (Life Expectancy)",
          "Health (Life Expectancy)",
          "Health (Life Expectancy)",
          "Health (Life Expectancy)",
          "Health (Life Expectancy)",
          "Health (Life Expectancy)",
          "Health (Life Expectancy)",
          "Health (Life Expectancy)",
          "Health (Life Expectancy)",
          "Health (Life Expectancy)",
          "Health (Life Expectancy)",
          "Health (Life Expectancy)",
          "Health (Life Expectancy)",
          "Health (Life Expectancy)",
          "Health (Life Expectancy)",
          "Health (Life Expectancy)",
          "Health (Life Expectancy)",
          "Health (Life Expectancy)",
          "Health (Life Expectancy)",
          "Health (Life Expectancy)",
          "Health (Life Expectancy)",
          "Health (Life Expectancy)",
          "Health (Life Expectancy)",
          "Health (Life Expectancy)",
          "Health (Life Expectancy)",
          "Health (Life Expectancy)",
          "Health (Life Expectancy)",
          "Health (Life Expectancy)",
          "Health (Life Expectancy)",
          "Health (Life Expectancy)",
          "Health (Life Expectancy)",
          "Health (Life Expectancy)",
          "Health (Life Expectancy)",
          "Health (Life Expectancy)",
          "Health (Life Expectancy)",
          "Health (Life Expectancy)",
          "Health (Life Expectancy)",
          "Health (Life Expectancy)",
          "Health (Life Expectancy)",
          "Health (Life Expectancy)",
          "Health (Life Expectancy)",
          "Health (Life Expectancy)",
          "Health (Life Expectancy)",
          "Health (Life Expectancy)",
          "Health (Life Expectancy)",
          "Health (Life Expectancy)",
          "Health (Life Expectancy)",
          "Health (Life Expectancy)",
          "Health (Life Expectancy)",
          "Health (Life Expectancy)",
          "Health (Life Expectancy)",
          "Health (Life Expectancy)",
          "Health (Life Expectancy)",
          "Health (Life Expectancy)",
          "Health (Life Expectancy)",
          "Health (Life Expectancy)",
          "Health (Life Expectancy)",
          "Health (Life Expectancy)",
          "Health (Life Expectancy)",
          "Health (Life Expectancy)",
          "Health (Life Expectancy)",
          "Health (Life Expectancy)",
          "Health (Life Expectancy)",
          "Health (Life Expectancy)",
          "Health (Life Expectancy)",
          "Health (Life Expectancy)",
          "Health (Life Expectancy)",
          "Health (Life Expectancy)",
          "Health (Life Expectancy)",
          "Health (Life Expectancy)",
          "Health (Life Expectancy)",
          "Health (Life Expectancy)",
          "Health (Life Expectancy)",
          "Health (Life Expectancy)",
          "Health (Life Expectancy)",
          "Health (Life Expectancy)",
          "Health (Life Expectancy)",
          "Health (Life Expectancy)",
          "Health (Life Expectancy)",
          "Health (Life Expectancy)",
          "Health (Life Expectancy)",
          "Health (Life Expectancy)",
          "Health (Life Expectancy)",
          "Health (Life Expectancy)",
          "Health (Life Expectancy)",
          "Health (Life Expectancy)",
          "Health (Life Expectancy)",
          "Health (Life Expectancy)",
          "Health (Life Expectancy)",
          "Health (Life Expectancy)",
          "Health (Life Expectancy)",
          "Health (Life Expectancy)",
          "Health (Life Expectancy)",
          "Health (Life Expectancy)",
          "Health (Life Expectancy)",
          "Health (Life Expectancy)",
          "Health (Life Expectancy)",
          "Health (Life Expectancy)",
          "Health (Life Expectancy)",
          "Health (Life Expectancy)",
          "Health (Life Expectancy)",
          "Health (Life Expectancy)",
          "Health (Life Expectancy)",
          "Health (Life Expectancy)",
          "Health (Life Expectancy)",
          "Health (Life Expectancy)",
          "Health (Life Expectancy)",
          "Freedom",
          "Freedom",
          "Freedom",
          "Freedom",
          "Freedom",
          "Freedom",
          "Freedom",
          "Freedom",
          "Freedom",
          "Freedom",
          "Freedom",
          "Freedom",
          "Freedom",
          "Freedom",
          "Freedom",
          "Freedom",
          "Freedom",
          "Freedom",
          "Freedom",
          "Freedom",
          "Freedom",
          "Freedom",
          "Freedom",
          "Freedom",
          "Freedom",
          "Freedom",
          "Freedom",
          "Freedom",
          "Freedom",
          "Freedom",
          "Freedom",
          "Freedom",
          "Freedom",
          "Freedom",
          "Freedom",
          "Freedom",
          "Freedom",
          "Freedom",
          "Freedom",
          "Freedom",
          "Freedom",
          "Freedom",
          "Freedom",
          "Freedom",
          "Freedom",
          "Freedom",
          "Freedom",
          "Freedom",
          "Freedom",
          "Freedom",
          "Freedom",
          "Freedom",
          "Freedom",
          "Freedom",
          "Freedom",
          "Freedom",
          "Freedom",
          "Freedom",
          "Freedom",
          "Freedom",
          "Freedom",
          "Freedom",
          "Freedom",
          "Freedom",
          "Freedom",
          "Freedom",
          "Freedom",
          "Freedom",
          "Freedom",
          "Freedom",
          "Freedom",
          "Freedom",
          "Freedom",
          "Freedom",
          "Freedom",
          "Freedom",
          "Freedom",
          "Freedom",
          "Freedom",
          "Freedom",
          "Freedom",
          "Freedom",
          "Freedom",
          "Freedom",
          "Freedom",
          "Freedom",
          "Freedom",
          "Freedom",
          "Freedom",
          "Freedom",
          "Freedom",
          "Freedom",
          "Freedom",
          "Freedom",
          "Freedom",
          "Freedom",
          "Freedom",
          "Freedom",
          "Freedom",
          "Freedom",
          "Freedom",
          "Freedom",
          "Freedom",
          "Freedom",
          "Freedom",
          "Freedom",
          "Freedom",
          "Freedom",
          "Freedom",
          "Freedom",
          "Freedom",
          "Freedom",
          "Freedom",
          "Freedom",
          "Freedom",
          "Freedom",
          "Freedom",
          "Freedom",
          "Freedom",
          "Freedom",
          "Freedom",
          "Freedom",
          "Freedom",
          "Freedom",
          "Freedom",
          "Freedom",
          "Freedom",
          "Freedom",
          "Freedom",
          "Freedom",
          "Freedom",
          "Freedom",
          "Freedom",
          "Freedom",
          "Freedom",
          "Freedom",
          "Freedom",
          "Freedom",
          "Freedom",
          "Freedom",
          "Freedom",
          "Freedom",
          "Freedom",
          "Freedom",
          "Freedom",
          "Freedom",
          "Freedom",
          "Freedom",
          "Freedom",
          "Freedom",
          "Freedom",
          "Freedom",
          "Freedom",
          "Freedom",
          "Freedom",
          "Freedom",
          "Freedom",
          "Trust (Government Corruption)",
          "Trust (Government Corruption)",
          "Trust (Government Corruption)",
          "Trust (Government Corruption)",
          "Trust (Government Corruption)",
          "Trust (Government Corruption)",
          "Trust (Government Corruption)",
          "Trust (Government Corruption)",
          "Trust (Government Corruption)",
          "Trust (Government Corruption)",
          "Trust (Government Corruption)",
          "Trust (Government Corruption)",
          "Trust (Government Corruption)",
          "Trust (Government Corruption)",
          "Trust (Government Corruption)",
          "Trust (Government Corruption)",
          "Trust (Government Corruption)",
          "Trust (Government Corruption)",
          "Trust (Government Corruption)",
          "Trust (Government Corruption)",
          "Trust (Government Corruption)",
          "Trust (Government Corruption)",
          "Trust (Government Corruption)",
          "Trust (Government Corruption)",
          "Trust (Government Corruption)",
          "Trust (Government Corruption)",
          "Trust (Government Corruption)",
          "Trust (Government Corruption)",
          "Trust (Government Corruption)",
          "Trust (Government Corruption)",
          "Trust (Government Corruption)",
          "Trust (Government Corruption)",
          "Trust (Government Corruption)",
          "Trust (Government Corruption)",
          "Trust (Government Corruption)",
          "Trust (Government Corruption)",
          "Trust (Government Corruption)",
          "Trust (Government Corruption)",
          "Trust (Government Corruption)",
          "Trust (Government Corruption)",
          "Trust (Government Corruption)",
          "Trust (Government Corruption)",
          "Trust (Government Corruption)",
          "Trust (Government Corruption)",
          "Trust (Government Corruption)",
          "Trust (Government Corruption)",
          "Trust (Government Corruption)",
          "Trust (Government Corruption)",
          "Trust (Government Corruption)",
          "Trust (Government Corruption)",
          "Trust (Government Corruption)",
          "Trust (Government Corruption)",
          "Trust (Government Corruption)",
          "Trust (Government Corruption)",
          "Trust (Government Corruption)",
          "Trust (Government Corruption)",
          "Trust (Government Corruption)",
          "Trust (Government Corruption)",
          "Trust (Government Corruption)",
          "Trust (Government Corruption)",
          "Trust (Government Corruption)",
          "Trust (Government Corruption)",
          "Trust (Government Corruption)",
          "Trust (Government Corruption)",
          "Trust (Government Corruption)",
          "Trust (Government Corruption)",
          "Trust (Government Corruption)",
          "Trust (Government Corruption)",
          "Trust (Government Corruption)",
          "Trust (Government Corruption)",
          "Trust (Government Corruption)",
          "Trust (Government Corruption)",
          "Trust (Government Corruption)",
          "Trust (Government Corruption)",
          "Trust (Government Corruption)",
          "Trust (Government Corruption)",
          "Trust (Government Corruption)",
          "Trust (Government Corruption)",
          "Trust (Government Corruption)",
          "Trust (Government Corruption)",
          "Trust (Government Corruption)",
          "Trust (Government Corruption)",
          "Trust (Government Corruption)",
          "Trust (Government Corruption)",
          "Trust (Government Corruption)",
          "Trust (Government Corruption)",
          "Trust (Government Corruption)",
          "Trust (Government Corruption)",
          "Trust (Government Corruption)",
          "Trust (Government Corruption)",
          "Trust (Government Corruption)",
          "Trust (Government Corruption)",
          "Trust (Government Corruption)",
          "Trust (Government Corruption)",
          "Trust (Government Corruption)",
          "Trust (Government Corruption)",
          "Trust (Government Corruption)",
          "Trust (Government Corruption)",
          "Trust (Government Corruption)",
          "Trust (Government Corruption)",
          "Trust (Government Corruption)",
          "Trust (Government Corruption)",
          "Trust (Government Corruption)",
          "Trust (Government Corruption)",
          "Trust (Government Corruption)",
          "Trust (Government Corruption)",
          "Trust (Government Corruption)",
          "Trust (Government Corruption)",
          "Trust (Government Corruption)",
          "Trust (Government Corruption)",
          "Trust (Government Corruption)",
          "Trust (Government Corruption)",
          "Trust (Government Corruption)",
          "Trust (Government Corruption)",
          "Trust (Government Corruption)",
          "Trust (Government Corruption)",
          "Trust (Government Corruption)",
          "Trust (Government Corruption)",
          "Trust (Government Corruption)",
          "Trust (Government Corruption)",
          "Trust (Government Corruption)",
          "Trust (Government Corruption)",
          "Trust (Government Corruption)",
          "Trust (Government Corruption)",
          "Trust (Government Corruption)",
          "Trust (Government Corruption)",
          "Trust (Government Corruption)",
          "Trust (Government Corruption)",
          "Trust (Government Corruption)",
          "Trust (Government Corruption)",
          "Trust (Government Corruption)",
          "Trust (Government Corruption)",
          "Trust (Government Corruption)",
          "Trust (Government Corruption)",
          "Trust (Government Corruption)",
          "Trust (Government Corruption)",
          "Trust (Government Corruption)",
          "Trust (Government Corruption)",
          "Trust (Government Corruption)",
          "Trust (Government Corruption)",
          "Trust (Government Corruption)",
          "Trust (Government Corruption)",
          "Trust (Government Corruption)",
          "Trust (Government Corruption)",
          "Trust (Government Corruption)",
          "Trust (Government Corruption)",
          "Trust (Government Corruption)",
          "Trust (Government Corruption)",
          "Trust (Government Corruption)",
          "Trust (Government Corruption)",
          "Trust (Government Corruption)",
          "Trust (Government Corruption)",
          "Trust (Government Corruption)",
          "Trust (Government Corruption)",
          "Trust (Government Corruption)",
          "Trust (Government Corruption)",
          "Trust (Government Corruption)",
          "Generosity",
          "Generosity",
          "Generosity",
          "Generosity",
          "Generosity",
          "Generosity",
          "Generosity",
          "Generosity",
          "Generosity",
          "Generosity",
          "Generosity",
          "Generosity",
          "Generosity",
          "Generosity",
          "Generosity",
          "Generosity",
          "Generosity",
          "Generosity",
          "Generosity",
          "Generosity",
          "Generosity",
          "Generosity",
          "Generosity",
          "Generosity",
          "Generosity",
          "Generosity",
          "Generosity",
          "Generosity",
          "Generosity",
          "Generosity",
          "Generosity",
          "Generosity",
          "Generosity",
          "Generosity",
          "Generosity",
          "Generosity",
          "Generosity",
          "Generosity",
          "Generosity",
          "Generosity",
          "Generosity",
          "Generosity",
          "Generosity",
          "Generosity",
          "Generosity",
          "Generosity",
          "Generosity",
          "Generosity",
          "Generosity",
          "Generosity",
          "Generosity",
          "Generosity",
          "Generosity",
          "Generosity",
          "Generosity",
          "Generosity",
          "Generosity",
          "Generosity",
          "Generosity",
          "Generosity",
          "Generosity",
          "Generosity",
          "Generosity",
          "Generosity",
          "Generosity",
          "Generosity",
          "Generosity",
          "Generosity",
          "Generosity",
          "Generosity",
          "Generosity",
          "Generosity",
          "Generosity",
          "Generosity",
          "Generosity",
          "Generosity",
          "Generosity",
          "Generosity",
          "Generosity",
          "Generosity",
          "Generosity",
          "Generosity",
          "Generosity",
          "Generosity",
          "Generosity",
          "Generosity",
          "Generosity",
          "Generosity",
          "Generosity",
          "Generosity",
          "Generosity",
          "Generosity",
          "Generosity",
          "Generosity",
          "Generosity",
          "Generosity",
          "Generosity",
          "Generosity",
          "Generosity",
          "Generosity",
          "Generosity",
          "Generosity",
          "Generosity",
          "Generosity",
          "Generosity",
          "Generosity",
          "Generosity",
          "Generosity",
          "Generosity",
          "Generosity",
          "Generosity",
          "Generosity",
          "Generosity",
          "Generosity",
          "Generosity",
          "Generosity",
          "Generosity",
          "Generosity",
          "Generosity",
          "Generosity",
          "Generosity",
          "Generosity",
          "Generosity",
          "Generosity",
          "Generosity",
          "Generosity",
          "Generosity",
          "Generosity",
          "Generosity",
          "Generosity",
          "Generosity",
          "Generosity",
          "Generosity",
          "Generosity",
          "Generosity",
          "Generosity",
          "Generosity",
          "Generosity",
          "Generosity",
          "Generosity",
          "Generosity",
          "Generosity",
          "Generosity",
          "Generosity",
          "Generosity",
          "Generosity",
          "Generosity",
          "Generosity",
          "Generosity",
          "Generosity",
          "Generosity",
          "Generosity",
          "Generosity",
          "Generosity",
          "Generosity",
          "Generosity",
          "Generosity",
          "Dystopia Residual",
          "Dystopia Residual",
          "Dystopia Residual",
          "Dystopia Residual",
          "Dystopia Residual",
          "Dystopia Residual",
          "Dystopia Residual",
          "Dystopia Residual",
          "Dystopia Residual",
          "Dystopia Residual",
          "Dystopia Residual",
          "Dystopia Residual",
          "Dystopia Residual",
          "Dystopia Residual",
          "Dystopia Residual",
          "Dystopia Residual",
          "Dystopia Residual",
          "Dystopia Residual",
          "Dystopia Residual",
          "Dystopia Residual",
          "Dystopia Residual",
          "Dystopia Residual",
          "Dystopia Residual",
          "Dystopia Residual",
          "Dystopia Residual",
          "Dystopia Residual",
          "Dystopia Residual",
          "Dystopia Residual",
          "Dystopia Residual",
          "Dystopia Residual",
          "Dystopia Residual",
          "Dystopia Residual",
          "Dystopia Residual",
          "Dystopia Residual",
          "Dystopia Residual",
          "Dystopia Residual",
          "Dystopia Residual",
          "Dystopia Residual",
          "Dystopia Residual",
          "Dystopia Residual",
          "Dystopia Residual",
          "Dystopia Residual",
          "Dystopia Residual",
          "Dystopia Residual",
          "Dystopia Residual",
          "Dystopia Residual",
          "Dystopia Residual",
          "Dystopia Residual",
          "Dystopia Residual",
          "Dystopia Residual",
          "Dystopia Residual",
          "Dystopia Residual",
          "Dystopia Residual",
          "Dystopia Residual",
          "Dystopia Residual",
          "Dystopia Residual",
          "Dystopia Residual",
          "Dystopia Residual",
          "Dystopia Residual",
          "Dystopia Residual",
          "Dystopia Residual",
          "Dystopia Residual",
          "Dystopia Residual",
          "Dystopia Residual",
          "Dystopia Residual",
          "Dystopia Residual",
          "Dystopia Residual",
          "Dystopia Residual",
          "Dystopia Residual",
          "Dystopia Residual",
          "Dystopia Residual",
          "Dystopia Residual",
          "Dystopia Residual",
          "Dystopia Residual",
          "Dystopia Residual",
          "Dystopia Residual",
          "Dystopia Residual",
          "Dystopia Residual",
          "Dystopia Residual",
          "Dystopia Residual",
          "Dystopia Residual",
          "Dystopia Residual",
          "Dystopia Residual",
          "Dystopia Residual",
          "Dystopia Residual",
          "Dystopia Residual",
          "Dystopia Residual",
          "Dystopia Residual",
          "Dystopia Residual",
          "Dystopia Residual",
          "Dystopia Residual",
          "Dystopia Residual",
          "Dystopia Residual",
          "Dystopia Residual",
          "Dystopia Residual",
          "Dystopia Residual",
          "Dystopia Residual",
          "Dystopia Residual",
          "Dystopia Residual",
          "Dystopia Residual",
          "Dystopia Residual",
          "Dystopia Residual",
          "Dystopia Residual",
          "Dystopia Residual",
          "Dystopia Residual",
          "Dystopia Residual",
          "Dystopia Residual",
          "Dystopia Residual",
          "Dystopia Residual",
          "Dystopia Residual",
          "Dystopia Residual",
          "Dystopia Residual",
          "Dystopia Residual",
          "Dystopia Residual",
          "Dystopia Residual",
          "Dystopia Residual",
          "Dystopia Residual",
          "Dystopia Residual",
          "Dystopia Residual",
          "Dystopia Residual",
          "Dystopia Residual",
          "Dystopia Residual",
          "Dystopia Residual",
          "Dystopia Residual",
          "Dystopia Residual",
          "Dystopia Residual",
          "Dystopia Residual",
          "Dystopia Residual",
          "Dystopia Residual",
          "Dystopia Residual",
          "Dystopia Residual",
          "Dystopia Residual",
          "Dystopia Residual",
          "Dystopia Residual",
          "Dystopia Residual",
          "Dystopia Residual",
          "Dystopia Residual",
          "Dystopia Residual",
          "Dystopia Residual",
          "Dystopia Residual",
          "Dystopia Residual",
          "Dystopia Residual",
          "Dystopia Residual",
          "Dystopia Residual",
          "Dystopia Residual",
          "Dystopia Residual",
          "Dystopia Residual",
          "Dystopia Residual",
          "Dystopia Residual",
          "Dystopia Residual",
          "Dystopia Residual",
          "Dystopia Residual",
          "Dystopia Residual",
          "Dystopia Residual",
          "Dystopia Residual",
          "Dystopia Residual",
          "Dystopia Residual"
         ],
         "x0": " ",
         "xaxis": "x",
         "y": [
          7.526,
          7.509,
          7.501,
          7.498,
          7.413,
          7.404,
          7.339,
          7.334,
          7.313,
          7.291,
          7.267,
          7.119,
          7.104,
          7.087,
          7.039,
          6.994,
          6.952,
          6.929,
          6.907,
          6.871,
          6.778,
          6.739,
          6.725,
          6.705,
          6.701,
          6.65,
          6.596,
          6.573,
          6.545,
          6.488,
          6.481,
          6.478,
          6.474,
          6.379,
          6.379,
          6.375,
          6.361,
          6.355,
          6.324,
          6.269,
          6.239,
          6.218,
          6.168,
          6.084,
          6.078,
          6.068,
          6.005,
          5.992,
          5.987,
          5.977,
          5.976,
          5.956,
          5.921,
          5.919,
          5.897,
          5.856,
          5.835,
          5.835,
          5.822,
          5.813,
          5.802,
          5.771,
          5.768,
          5.743,
          5.658,
          5.648,
          5.615,
          5.56,
          5.546,
          5.538,
          5.528,
          5.517,
          5.51,
          5.488,
          5.458,
          5.44,
          5.401,
          5.389,
          5.314,
          5.303,
          5.291,
          5.279,
          5.245,
          5.196,
          5.185,
          5.177,
          5.163,
          5.161,
          5.155,
          5.151,
          5.145,
          5.132,
          5.129,
          5.123,
          5.121,
          5.061,
          5.057,
          5.045,
          5.033,
          4.996,
          4.907,
          4.876,
          4.875,
          4.871,
          4.813,
          4.795,
          4.793,
          4.754,
          4.655,
          4.643,
          4.635,
          4.575,
          4.574,
          4.513,
          4.508,
          4.459,
          4.415,
          4.404,
          4.395,
          4.362,
          4.36,
          4.356,
          4.324,
          4.276,
          4.272,
          4.252,
          4.236,
          4.219,
          4.217,
          4.201,
          4.193,
          4.156,
          4.139,
          4.121,
          4.073,
          4.028,
          3.974,
          3.956,
          3.916,
          3.907,
          3.866,
          3.856,
          3.832,
          3.763,
          3.739,
          3.739,
          3.724,
          3.695,
          3.666,
          3.622,
          3.607,
          3.515,
          3.484,
          3.36,
          3.303,
          3.069,
          2.905,
          1.44178,
          1.52733,
          1.42666,
          1.57744,
          1.40598,
          1.44015,
          1.46468,
          1.36066,
          1.44443,
          1.45181,
          1.33766,
          1.45038,
          1.50796,
          1.06879,
          1.35943,
          1.44787,
          1.08754,
          1.42539,
          1.48341,
          1.69752,
          1.11508,
          1.64555,
          1.40283,
          1.2167,
          1.18306,
          1.15137,
          1.30915,
          1.57352,
          1.18157,
          1.30782,
          1.03032,
          1.39488,
          1.0893,
          1.48953,
          1.39729,
          1.82427,
          1.34253,
          1.05266,
          0.83454,
          1.09686,
          1.61714,
          1.44024,
          1.32572,
          1.13367,
          1.27973,
          0.8737,
          1.25142,
          0.69384,
          0.73591,
          1.35495,
          0.97306,
          0.87616,
          1.38007,
          1.22943,
          0.69177,
          1.23228,
          1.24585,
          1.35948,
          0.79422,
          1.2692,
          1.13062,
          1.31141,
          1.29947,
          0.99602,
          1.08017,
          1.14372,
          1.06688,
          1.21788,
          1.31857,
          0.89373,
          1.1697,
          1.27964,
          0.89333,
          1.18649,
          1.5107,
          0,
          0.90145,
          1.16492,
          0.95104,
          0.99673,
          1.12373,
          0.81217,
          1.0278,
          0.8527,
          0.56044,
          1.03437,
          0.93383,
          1.07838,
          1.02787,
          0.84058,
          1.24142,
          0.68816,
          1.12268,
          1.27607,
          1.0193,
          0.74037,
          0.25558,
          0.97724,
          1.24886,
          0.48835,
          0.98853,
          0.68042,
          0.75216,
          0.69429,
          1.11758,
          0.61202,
          0.44626,
          0.67024,
          0.9553,
          0.54177,
          0.36485,
          1.07474,
          0.93287,
          0.52497,
          0.29283,
          1.02416,
          0.97318,
          0.74036,
          0.34112,
          0.95395,
          0.86086,
          0.52267,
          0.87287,
          0.63107,
          0.05661,
          0.83792,
          0.77109,
          0.44314,
          1.11306,
          0.61391,
          0.35041,
          0.08709,
          0.63069,
          1.15851,
          0.31292,
          0.34097,
          1.09426,
          0.27509,
          0.55507,
          0.55604,
          0.84731,
          0.1327,
          0.39394,
          0.42214,
          0.31995,
          0.34719,
          0.57939,
          0.27954,
          0.47155,
          0.10706,
          0.22415,
          0.32846,
          0.39499,
          0.38227,
          0.28123,
          0.74719,
          0.06831,
          1.16374,
          1.14524,
          1.18326,
          1.1269,
          1.13464,
          1.0961,
          1.02912,
          1.17278,
          1.10476,
          1.08764,
          0.99537,
          1.08383,
          1.04782,
          1.02152,
          1.08113,
          1.09774,
          1.03938,
          1.05249,
          1.16157,
          1.03999,
          0.7146,
          0.86758,
          1.08672,
          0.90587,
          0.98912,
          1.06612,
          1.00793,
          0.87114,
          1.03143,
          1.09879,
          1.02169,
          1.00508,
          1.04477,
          0.84829,
          0.92624,
          0.87964,
          1.12945,
          0.83309,
          0.87119,
          0.77866,
          0.87758,
          0.94397,
          0.98569,
          1.03302,
          1.08268,
          0.80975,
          0.88025,
          0.89521,
          1.1681,
          1.04167,
          0.85974,
          0.68655,
          1.06054,
          0.95544,
          0.83132,
          1.05261,
          1.04685,
          0.72194,
          0.83779,
          1.06411,
          1.04993,
          0.81826,
          1.05613,
          0.81255,
          1.03817,
          0.75695,
          0.95076,
          0.95025,
          0.70697,
          1.11111,
          0.72803,
          1.05163,
          0.96372,
          0.60809,
          0.87021,
          0.33613,
          0.66062,
          0.87717,
          0.87625,
          0.86216,
          0.76042,
          0.87877,
          0.79381,
          0.90836,
          0.95434,
          0.81329,
          0.64367,
          0.74173,
          0.99496,
          0.38595,
          0.93164,
          0.26135,
          0.64184,
          0.94367,
          0.78236,
          0.79117,
          0.75862,
          0.43165,
          0.75473,
          0.75602,
          1.08983,
          0.5497,
          0.64498,
          0.75596,
          0.38857,
          0.6376,
          0.69699,
          0.71629,
          0.50163,
          0.24749,
          0.628,
          0.59205,
          0.70362,
          0.62542,
          0.37932,
          0.96053,
          0.84783,
          0.29247,
          0.69981,
          0.49813,
          0.62477,
          0.7624,
          1.01413,
          0.49353,
          0.80676,
          0.19249,
          0.47799,
          0.77416,
          0.92542,
          0.84142,
          0.71478,
          0.147,
          0.81928,
          0.72368,
          0.86333,
          0.29561,
          0.89186,
          0.60323,
          0.57576,
          0.5375,
          0.66366,
          0.6053,
          0.18519,
          0.63178,
          0.63054,
          0.90981,
          0.47493,
          0.46115,
          0.77623,
          0.50353,
          0.3109,
          0.61586,
          0.10419,
          0.11037,
          0,
          0.14866,
          0.23442,
          0.79504,
          0.86303,
          0.86733,
          0.79579,
          0.81091,
          0.8276,
          0.81231,
          0.83096,
          0.8512,
          0.83121,
          0.84917,
          0.80565,
          0.779,
          0.76146,
          0.77758,
          0.81487,
          0.61415,
          0.81959,
          0.81455,
          0.84542,
          0.71143,
          0.94719,
          0.80991,
          0.81883,
          0.70835,
          0.69711,
          0.76376,
          0.72993,
          0.72183,
          0.80315,
          0.59659,
          0.83795,
          0.64915,
          0.59267,
          0.79565,
          0.71723,
          0.87896,
          0.61804,
          0.54039,
          0.50933,
          0.63569,
          0.65696,
          0.52608,
          0.61904,
          0.70367,
          0.596,
          0.62366,
          0.65213,
          0.50163,
          0.85102,
          0.68613,
          0.45569,
          0.91491,
          0.57386,
          0.52309,
          0.58991,
          0.69058,
          0.88645,
          0.4697,
          0.64674,
          0.63104,
          0.84142,
          0.79151,
          0.62994,
          0.44006,
          0.66189,
          0.52304,
          0.63952,
          0.8488,
          0.58295,
          0.67602,
          0.68098,
          0.59469,
          0.70524,
          0.95277,
          0.11466,
          0.54,
          0.64718,
          0.49374,
          0.60712,
          0.54504,
          0.47036,
          0.73561,
          0.49759,
          0.55449,
          0.6458,
          0.70766,
          0.63533,
          0.57669,
          0.59471,
          0.67608,
          0.40306,
          0.76171,
          0.79363,
          0.64738,
          0.66157,
          0.33108,
          0.59577,
          0.80029,
          0.53119,
          0.55469,
          0.38291,
          0.05108,
          0.58383,
          0.64232,
          0.23573,
          0.50073,
          0.56844,
          0.73007,
          0.52989,
          0,
          0.51076,
          0.34745,
          0.12698,
          0.34578,
          0.18611,
          0.62007,
          0.45091,
          0.3988,
          0.52116,
          0.64083,
          0.30147,
          0.58628,
          0.29681,
          0.188,
          0.64035,
          0.28212,
          0.40457,
          0.67806,
          0.28639,
          0.1595,
          0.29364,
          0.29759,
          0.3494,
          0.16347,
          0.27494,
          0.34752,
          0.29981,
          0.04476,
          0.42494,
          0.04991,
          0.26162,
          0.15781,
          0.03824,
          0.21297,
          0.19625,
          0.31048,
          0.37109,
          0.357,
          0.23165,
          0.18829,
          0.31865,
          0.21028,
          0.17344,
          0.24811,
          0.62994,
          0.15747,
          0.57941,
          0.58557,
          0.56624,
          0.59609,
          0.57104,
          0.5737,
          0.55211,
          0.58147,
          0.56837,
          0.58218,
          0.36432,
          0.54355,
          0.48163,
          0.55225,
          0.46823,
          0.53466,
          0.40425,
          0.51354,
          0.54008,
          0.5487,
          0.37709,
          0.4877,
          0.50036,
          0.37789,
          0.48927,
          0.42284,
          0.41418,
          0.56215,
          0.54388,
          0.54994,
          0.44735,
          0.46562,
          0.49553,
          0.37904,
          0.32377,
          0.56679,
          0.37545,
          0.21006,
          0.50379,
          0.52234,
          0.43166,
          0.47375,
          0.48453,
          0.19847,
          0.23391,
          0.37269,
          0.39031,
          0.46582,
          0.60848,
          0.18827,
          0.4027,
          0.51231,
          0.46761,
          0.4052,
          0.25202,
          0.32682,
          0.4519,
          0.25168,
          0.50961,
          0.18929,
          0.29091,
          0.43596,
          0.53164,
          0.37502,
          0.37408,
          0.46145,
          0.40672,
          0.27996,
          0.29507,
          0.46235,
          0.36712,
          0.41511,
          0.43597,
          0.23907,
          0.48079,
          0.56778,
          0.14396,
          0.23889,
          0.39237,
          0.36023,
          0.35327,
          0.54854,
          0.44012,
          0.46074,
          0.40212,
          0.15718,
          0.09511,
          0.15111,
          0.52259,
          0.25646,
          0.1977,
          0.14622,
          0.26228,
          0.44727,
          0.27668,
          0.55954,
          0.3913,
          0.23553,
          0.05822,
          0.43408,
          0.35972,
          0.52168,
          0.27854,
          0.26755,
          0.22544,
          0.42662,
          0.37012,
          0.17744,
          0.31866,
          0.39778,
          0.30685,
          0.24856,
          0.48614,
          0.42736,
          0.36703,
          0.42483,
          0.50817,
          0.40285,
          0.42692,
          0.18847,
          0.14037,
          0.40576,
          0.12859,
          0.40973,
          0.15602,
          0.32461,
          0.37938,
          0.31056,
          0.21219,
          0.1268,
          0.25429,
          0.4143,
          0,
          0.28098,
          0.27544,
          0.12072,
          0.44089,
          0.15412,
          0.40663,
          0.58852,
          0.00589,
          0.38041,
          0.19662,
          0.12807,
          0.3337,
          0.43653,
          0.2287,
          0.13684,
          0.3176,
          0.25748,
          0.30953,
          0.5432,
          0.39747,
          0.1643,
          0.34678,
          0.06912,
          0.0432,
          0.44453,
          0.41203,
          0.14975,
          0.35776,
          0.41004,
          0.31329,
          0.29927,
          0.41904,
          0.32331,
          0.40867,
          0.08728,
          0.21348,
          0.14868,
          0.10547,
          0.12275,
          0.28551,
          0.14166,
          0.26248,
          0.29754,
          0.35329,
          0.18355,
          0.46987,
          0.27399,
          0.11451,
          0.08423,
          0.07296,
          0.03986,
          0.35561,
          0.21394,
          0.17554,
          0.05399,
          0.17808,
          0.02833,
          0.30008,
          0.0663,
          0.48049,
          0.06137,
          0.16157,
          0.08701,
          0.12692,
          0.23669,
          0.25772,
          0.01241,
          0.08304,
          0.02947,
          0.10613,
          0.09081,
          0.16292,
          0.28333,
          0.02556,
          0.18037,
          0.10771,
          0.18985,
          0.11132,
          0.01903,
          0.03586,
          0.055,
          0.07716,
          0.07746,
          0.0182,
          0.17457,
          0.16578,
          0.03635,
          0.05292,
          0.28467,
          0.05203,
          0.10339,
          0.0889,
          0.05228,
          0.07396,
          0.00679,
          0.18519,
          0.04294,
          0.04002,
          0.31647,
          0.3118,
          0.06547,
          0.12348,
          0.00322,
          0.13297,
          0.17914,
          0.11757,
          0.02745,
          0.1616,
          0.04762,
          0.04339,
          0,
          0.12721,
          0.12372,
          0.08404,
          0.04472,
          0.1388,
          0.03061,
          0.01521,
          0.07047,
          0.11556,
          0.36794,
          0.0817,
          0.04127,
          0.13509,
          0.03285,
          0.22423,
          0.0305,
          0.06906,
          0.0557,
          0.11479,
          0.07008,
          0.10613,
          0.05301,
          0.12583,
          0.08196,
          0.13636,
          0.10398,
          0.06126,
          0.1717,
          0.08415,
          0.07964,
          0.08722,
          0.20243,
          0.10393,
          0.03616,
          0.06686,
          0.01829,
          0.0326,
          0.06075,
          0.3188,
          0.09753,
          0.11681,
          0.00615,
          0.17955,
          0.08582,
          0.07564,
          0.10039,
          0.09314,
          0.13647,
          0.14476,
          0.10769,
          0.18437,
          0.1553,
          0.08092,
          0.08434,
          0.17176,
          0.13015,
          0.04952,
          0.12533,
          0.06442,
          0.05892,
          0.07506,
          0.05099,
          0.04852,
          0.1192,
          0.50521,
          0.06681,
          0.07112,
          0.11587,
          0.17233,
          0.09419,
          0.36171,
          0.28083,
          0.47678,
          0.37895,
          0.25492,
          0.44834,
          0.47416,
          0.49401,
          0.47407,
          0.38254,
          0.32288,
          0.32865,
          0.41077,
          0.22553,
          0.22202,
          0.30452,
          0.15776,
          0.2424,
          0.44963,
          0.27571,
          0.11735,
          0.32706,
          0.50156,
          0.31595,
          0.2418,
          0.10989,
          0.09929,
          0.26591,
          0.18056,
          0.56237,
          0.15626,
          0.1216,
          0.58696,
          0.15457,
          0.25495,
          0.32388,
          0.17665,
          0.07044,
          0.28808,
          0.16665,
          0.15965,
          0.17147,
          0.31935,
          0.0425,
          0.13837,
          0.08877,
          0.41474,
          0.29773,
          0.34326,
          0.16684,
          0.10074,
          0.23684,
          0.10224,
          0.15011,
          0.19997,
          0.02736,
          0.14443,
          0.18824,
          0.21698,
          0.02025,
          0.13942,
          0.26322,
          0.25738,
          0.14527,
          0.22567,
          0.36951,
          0.17087,
          0.17445,
          0.27906,
          0.25296,
          0.12889,
          0.08423,
          0.22245,
          0.18434,
          0.40097,
          0.27225,
          0.27992,
          0.04707,
          0.56521,
          0.14262,
          0.0564,
          0.21674,
          0.04959,
          0.48546,
          0.38432,
          0.20737,
          0.29889,
          0.17191,
          0.21286,
          0.04053,
          0.099,
          0.31185,
          0.23693,
          0.11691,
          0.23507,
          0.25075,
          0.51479,
          0.03936,
          0,
          0.25998,
          0.34539,
          0.43079,
          0.23219,
          0.2044,
          0.38538,
          0.17866,
          0.3816,
          0.11154,
          0.1684,
          0.19132,
          0.23897,
          0.19589,
          0.07795,
          0.2268,
          0.29522,
          0.13656,
          0.46978,
          0.25028,
          0.81971,
          0.12706,
          0.07793,
          0.41328,
          0.20363,
          0.21203,
          0.25458,
          0.06786,
          0.12077,
          0.19103,
          0.12793,
          0.22686,
          0.18503,
          0.30968,
          0.18077,
          0.06244,
          0.21064,
          0.47958,
          0.12425,
          0.1827,
          0.20338,
          0.40339,
          0.12071,
          0.2097,
          0.25899,
          0.18667,
          0.24353,
          0.27102,
          0.09821,
          0.2204,
          0.31472,
          0.24063,
          0.29914,
          0.23552,
          0.2018,
          0.31268,
          0.17517,
          0.48397,
          0.2029,
          2.73939,
          2.69463,
          2.83137,
          2.66465,
          2.82596,
          2.70485,
          2.70749,
          2.47553,
          2.5465,
          2.54734,
          3.31029,
          2.69343,
          2.72782,
          3.35168,
          3.0076,
          2.50931,
          3.50733,
          2.61355,
          2.15988,
          2.11055,
          3.55906,
          1.99375,
          2.14999,
          2.95505,
          3.00559,
          3.12985,
          2.96211,
          2.21507,
          2.67139,
          1.99032,
          3.17471,
          2.4744,
          2.5796,
          2.61482,
          2.61523,
          1.58224,
          2.39663,
          3.40904,
          3.19863,
          3.06852,
          2.28085,
          2.27405,
          2.51394,
          2.97468,
          2.61065,
          3.22134,
          2.35384,
          2.82428,
          2.34638,
          2.34918,
          2.77366,
          3.08039,
          1.80584,
          2.49325,
          3.38007,
          2.59115,
          2.20035,
          2.35015,
          2.91635,
          2.60525,
          2.38582,
          1.93447,
          1.79522,
          2.73117,
          2.21489,
          2.20223,
          2.39374,
          2.20859,
          2.04497,
          2.16091,
          2.45184,
          1.81985,
          2.35682,
          2.52462,
          0.92614,
          3.83772,
          2.80998,
          2.29074,
          2.03171,
          2.20142,
          2.2735,
          2.23484,
          2.17087,
          1.82916,
          2.28136,
          2.27539,
          2.48406,
          2.25531,
          1.69626,
          2.94891,
          1.95473,
          3.18286,
          2.07339,
          1.53015,
          2.08947,
          1.9418,
          2.43801,
          2.68413,
          2.12944,
          2.39106,
          1.53586,
          2.08637,
          2.88586,
          2.29551,
          1.99817,
          2.58991,
          2.32694,
          2.40364,
          1.92816,
          2.60904,
          3.01402,
          1.81657,
          1.92198,
          2.5198,
          2.65614,
          1.64227,
          0.91681,
          2.18032,
          1.50655,
          1.96895,
          1.97864,
          1.88326,
          1.50066,
          2.2002,
          2.74924,
          1.87031,
          2.10681,
          1.97861,
          1.15377,
          1.9263,
          2.4427,
          2.82859,
          2.10995,
          1.45332,
          2.11087,
          2.37116,
          0.96741,
          2.25632,
          1.97478,
          1.31573,
          2.09459,
          2.09469,
          2.50929,
          2.30637,
          1.87319,
          1.51416,
          1.97295,
          2.15075,
          1.37769,
          2.23284,
          2.15604,
          0.96819,
          2.10812,
          2.14558,
          2.1354,
          0.81789,
          2.10404
         ],
         "y0": " ",
         "yaxis": "y"
        }
       ],
       "layout": {
        "boxmode": "group",
        "height": 750,
        "legend": {
         "tracegroupgap": 0
        },
        "template": {
         "data": {
          "bar": [
           {
            "error_x": {
             "color": "#2a3f5f"
            },
            "error_y": {
             "color": "#2a3f5f"
            },
            "marker": {
             "line": {
              "color": "#E5ECF6",
              "width": 0.5
             },
             "pattern": {
              "fillmode": "overlay",
              "size": 10,
              "solidity": 0.2
             }
            },
            "type": "bar"
           }
          ],
          "barpolar": [
           {
            "marker": {
             "line": {
              "color": "#E5ECF6",
              "width": 0.5
             },
             "pattern": {
              "fillmode": "overlay",
              "size": 10,
              "solidity": 0.2
             }
            },
            "type": "barpolar"
           }
          ],
          "carpet": [
           {
            "aaxis": {
             "endlinecolor": "#2a3f5f",
             "gridcolor": "white",
             "linecolor": "white",
             "minorgridcolor": "white",
             "startlinecolor": "#2a3f5f"
            },
            "baxis": {
             "endlinecolor": "#2a3f5f",
             "gridcolor": "white",
             "linecolor": "white",
             "minorgridcolor": "white",
             "startlinecolor": "#2a3f5f"
            },
            "type": "carpet"
           }
          ],
          "choropleth": [
           {
            "colorbar": {
             "outlinewidth": 0,
             "ticks": ""
            },
            "type": "choropleth"
           }
          ],
          "contour": [
           {
            "colorbar": {
             "outlinewidth": 0,
             "ticks": ""
            },
            "colorscale": [
             [
              0,
              "#0d0887"
             ],
             [
              0.1111111111111111,
              "#46039f"
             ],
             [
              0.2222222222222222,
              "#7201a8"
             ],
             [
              0.3333333333333333,
              "#9c179e"
             ],
             [
              0.4444444444444444,
              "#bd3786"
             ],
             [
              0.5555555555555556,
              "#d8576b"
             ],
             [
              0.6666666666666666,
              "#ed7953"
             ],
             [
              0.7777777777777778,
              "#fb9f3a"
             ],
             [
              0.8888888888888888,
              "#fdca26"
             ],
             [
              1,
              "#f0f921"
             ]
            ],
            "type": "contour"
           }
          ],
          "contourcarpet": [
           {
            "colorbar": {
             "outlinewidth": 0,
             "ticks": ""
            },
            "type": "contourcarpet"
           }
          ],
          "heatmap": [
           {
            "colorbar": {
             "outlinewidth": 0,
             "ticks": ""
            },
            "colorscale": [
             [
              0,
              "#0d0887"
             ],
             [
              0.1111111111111111,
              "#46039f"
             ],
             [
              0.2222222222222222,
              "#7201a8"
             ],
             [
              0.3333333333333333,
              "#9c179e"
             ],
             [
              0.4444444444444444,
              "#bd3786"
             ],
             [
              0.5555555555555556,
              "#d8576b"
             ],
             [
              0.6666666666666666,
              "#ed7953"
             ],
             [
              0.7777777777777778,
              "#fb9f3a"
             ],
             [
              0.8888888888888888,
              "#fdca26"
             ],
             [
              1,
              "#f0f921"
             ]
            ],
            "type": "heatmap"
           }
          ],
          "heatmapgl": [
           {
            "colorbar": {
             "outlinewidth": 0,
             "ticks": ""
            },
            "colorscale": [
             [
              0,
              "#0d0887"
             ],
             [
              0.1111111111111111,
              "#46039f"
             ],
             [
              0.2222222222222222,
              "#7201a8"
             ],
             [
              0.3333333333333333,
              "#9c179e"
             ],
             [
              0.4444444444444444,
              "#bd3786"
             ],
             [
              0.5555555555555556,
              "#d8576b"
             ],
             [
              0.6666666666666666,
              "#ed7953"
             ],
             [
              0.7777777777777778,
              "#fb9f3a"
             ],
             [
              0.8888888888888888,
              "#fdca26"
             ],
             [
              1,
              "#f0f921"
             ]
            ],
            "type": "heatmapgl"
           }
          ],
          "histogram": [
           {
            "marker": {
             "pattern": {
              "fillmode": "overlay",
              "size": 10,
              "solidity": 0.2
             }
            },
            "type": "histogram"
           }
          ],
          "histogram2d": [
           {
            "colorbar": {
             "outlinewidth": 0,
             "ticks": ""
            },
            "colorscale": [
             [
              0,
              "#0d0887"
             ],
             [
              0.1111111111111111,
              "#46039f"
             ],
             [
              0.2222222222222222,
              "#7201a8"
             ],
             [
              0.3333333333333333,
              "#9c179e"
             ],
             [
              0.4444444444444444,
              "#bd3786"
             ],
             [
              0.5555555555555556,
              "#d8576b"
             ],
             [
              0.6666666666666666,
              "#ed7953"
             ],
             [
              0.7777777777777778,
              "#fb9f3a"
             ],
             [
              0.8888888888888888,
              "#fdca26"
             ],
             [
              1,
              "#f0f921"
             ]
            ],
            "type": "histogram2d"
           }
          ],
          "histogram2dcontour": [
           {
            "colorbar": {
             "outlinewidth": 0,
             "ticks": ""
            },
            "colorscale": [
             [
              0,
              "#0d0887"
             ],
             [
              0.1111111111111111,
              "#46039f"
             ],
             [
              0.2222222222222222,
              "#7201a8"
             ],
             [
              0.3333333333333333,
              "#9c179e"
             ],
             [
              0.4444444444444444,
              "#bd3786"
             ],
             [
              0.5555555555555556,
              "#d8576b"
             ],
             [
              0.6666666666666666,
              "#ed7953"
             ],
             [
              0.7777777777777778,
              "#fb9f3a"
             ],
             [
              0.8888888888888888,
              "#fdca26"
             ],
             [
              1,
              "#f0f921"
             ]
            ],
            "type": "histogram2dcontour"
           }
          ],
          "mesh3d": [
           {
            "colorbar": {
             "outlinewidth": 0,
             "ticks": ""
            },
            "type": "mesh3d"
           }
          ],
          "parcoords": [
           {
            "line": {
             "colorbar": {
              "outlinewidth": 0,
              "ticks": ""
             }
            },
            "type": "parcoords"
           }
          ],
          "pie": [
           {
            "automargin": true,
            "type": "pie"
           }
          ],
          "scatter": [
           {
            "fillpattern": {
             "fillmode": "overlay",
             "size": 10,
             "solidity": 0.2
            },
            "type": "scatter"
           }
          ],
          "scatter3d": [
           {
            "line": {
             "colorbar": {
              "outlinewidth": 0,
              "ticks": ""
             }
            },
            "marker": {
             "colorbar": {
              "outlinewidth": 0,
              "ticks": ""
             }
            },
            "type": "scatter3d"
           }
          ],
          "scattercarpet": [
           {
            "marker": {
             "colorbar": {
              "outlinewidth": 0,
              "ticks": ""
             }
            },
            "type": "scattercarpet"
           }
          ],
          "scattergeo": [
           {
            "marker": {
             "colorbar": {
              "outlinewidth": 0,
              "ticks": ""
             }
            },
            "type": "scattergeo"
           }
          ],
          "scattergl": [
           {
            "marker": {
             "colorbar": {
              "outlinewidth": 0,
              "ticks": ""
             }
            },
            "type": "scattergl"
           }
          ],
          "scattermapbox": [
           {
            "marker": {
             "colorbar": {
              "outlinewidth": 0,
              "ticks": ""
             }
            },
            "type": "scattermapbox"
           }
          ],
          "scatterpolar": [
           {
            "marker": {
             "colorbar": {
              "outlinewidth": 0,
              "ticks": ""
             }
            },
            "type": "scatterpolar"
           }
          ],
          "scatterpolargl": [
           {
            "marker": {
             "colorbar": {
              "outlinewidth": 0,
              "ticks": ""
             }
            },
            "type": "scatterpolargl"
           }
          ],
          "scatterternary": [
           {
            "marker": {
             "colorbar": {
              "outlinewidth": 0,
              "ticks": ""
             }
            },
            "type": "scatterternary"
           }
          ],
          "surface": [
           {
            "colorbar": {
             "outlinewidth": 0,
             "ticks": ""
            },
            "colorscale": [
             [
              0,
              "#0d0887"
             ],
             [
              0.1111111111111111,
              "#46039f"
             ],
             [
              0.2222222222222222,
              "#7201a8"
             ],
             [
              0.3333333333333333,
              "#9c179e"
             ],
             [
              0.4444444444444444,
              "#bd3786"
             ],
             [
              0.5555555555555556,
              "#d8576b"
             ],
             [
              0.6666666666666666,
              "#ed7953"
             ],
             [
              0.7777777777777778,
              "#fb9f3a"
             ],
             [
              0.8888888888888888,
              "#fdca26"
             ],
             [
              1,
              "#f0f921"
             ]
            ],
            "type": "surface"
           }
          ],
          "table": [
           {
            "cells": {
             "fill": {
              "color": "#EBF0F8"
             },
             "line": {
              "color": "white"
             }
            },
            "header": {
             "fill": {
              "color": "#C8D4E3"
             },
             "line": {
              "color": "white"
             }
            },
            "type": "table"
           }
          ]
         },
         "layout": {
          "annotationdefaults": {
           "arrowcolor": "#2a3f5f",
           "arrowhead": 0,
           "arrowwidth": 1
          },
          "autotypenumbers": "strict",
          "coloraxis": {
           "colorbar": {
            "outlinewidth": 0,
            "ticks": ""
           }
          },
          "colorscale": {
           "diverging": [
            [
             0,
             "#8e0152"
            ],
            [
             0.1,
             "#c51b7d"
            ],
            [
             0.2,
             "#de77ae"
            ],
            [
             0.3,
             "#f1b6da"
            ],
            [
             0.4,
             "#fde0ef"
            ],
            [
             0.5,
             "#f7f7f7"
            ],
            [
             0.6,
             "#e6f5d0"
            ],
            [
             0.7,
             "#b8e186"
            ],
            [
             0.8,
             "#7fbc41"
            ],
            [
             0.9,
             "#4d9221"
            ],
            [
             1,
             "#276419"
            ]
           ],
           "sequential": [
            [
             0,
             "#0d0887"
            ],
            [
             0.1111111111111111,
             "#46039f"
            ],
            [
             0.2222222222222222,
             "#7201a8"
            ],
            [
             0.3333333333333333,
             "#9c179e"
            ],
            [
             0.4444444444444444,
             "#bd3786"
            ],
            [
             0.5555555555555556,
             "#d8576b"
            ],
            [
             0.6666666666666666,
             "#ed7953"
            ],
            [
             0.7777777777777778,
             "#fb9f3a"
            ],
            [
             0.8888888888888888,
             "#fdca26"
            ],
            [
             1,
             "#f0f921"
            ]
           ],
           "sequentialminus": [
            [
             0,
             "#0d0887"
            ],
            [
             0.1111111111111111,
             "#46039f"
            ],
            [
             0.2222222222222222,
             "#7201a8"
            ],
            [
             0.3333333333333333,
             "#9c179e"
            ],
            [
             0.4444444444444444,
             "#bd3786"
            ],
            [
             0.5555555555555556,
             "#d8576b"
            ],
            [
             0.6666666666666666,
             "#ed7953"
            ],
            [
             0.7777777777777778,
             "#fb9f3a"
            ],
            [
             0.8888888888888888,
             "#fdca26"
            ],
            [
             1,
             "#f0f921"
            ]
           ]
          },
          "colorway": [
           "#636efa",
           "#EF553B",
           "#00cc96",
           "#ab63fa",
           "#FFA15A",
           "#19d3f3",
           "#FF6692",
           "#B6E880",
           "#FF97FF",
           "#FECB52"
          ],
          "font": {
           "color": "#2a3f5f"
          },
          "geo": {
           "bgcolor": "white",
           "lakecolor": "white",
           "landcolor": "#E5ECF6",
           "showlakes": true,
           "showland": true,
           "subunitcolor": "white"
          },
          "hoverlabel": {
           "align": "left"
          },
          "hovermode": "closest",
          "mapbox": {
           "style": "light"
          },
          "paper_bgcolor": "white",
          "plot_bgcolor": "#E5ECF6",
          "polar": {
           "angularaxis": {
            "gridcolor": "white",
            "linecolor": "white",
            "ticks": ""
           },
           "bgcolor": "#E5ECF6",
           "radialaxis": {
            "gridcolor": "white",
            "linecolor": "white",
            "ticks": ""
           }
          },
          "scene": {
           "xaxis": {
            "backgroundcolor": "#E5ECF6",
            "gridcolor": "white",
            "gridwidth": 2,
            "linecolor": "white",
            "showbackground": true,
            "ticks": "",
            "zerolinecolor": "white"
           },
           "yaxis": {
            "backgroundcolor": "#E5ECF6",
            "gridcolor": "white",
            "gridwidth": 2,
            "linecolor": "white",
            "showbackground": true,
            "ticks": "",
            "zerolinecolor": "white"
           },
           "zaxis": {
            "backgroundcolor": "#E5ECF6",
            "gridcolor": "white",
            "gridwidth": 2,
            "linecolor": "white",
            "showbackground": true,
            "ticks": "",
            "zerolinecolor": "white"
           }
          },
          "shapedefaults": {
           "line": {
            "color": "#2a3f5f"
           }
          },
          "ternary": {
           "aaxis": {
            "gridcolor": "white",
            "linecolor": "white",
            "ticks": ""
           },
           "baxis": {
            "gridcolor": "white",
            "linecolor": "white",
            "ticks": ""
           },
           "bgcolor": "#E5ECF6",
           "caxis": {
            "gridcolor": "white",
            "linecolor": "white",
            "ticks": ""
           }
          },
          "title": {
           "x": 0.05
          },
          "xaxis": {
           "automargin": true,
           "gridcolor": "white",
           "linecolor": "white",
           "ticks": "",
           "title": {
            "standoff": 15
           },
           "zerolinecolor": "white",
           "zerolinewidth": 2
          },
          "yaxis": {
           "automargin": true,
           "gridcolor": "white",
           "linecolor": "white",
           "ticks": "",
           "title": {
            "standoff": 15
           },
           "zerolinecolor": "white",
           "zerolinewidth": 2
          }
         }
        },
        "title": {
         "text": "Box plot to figure out the outliers in 2016 dataset"
        },
        "width": 1200,
        "xaxis": {
         "anchor": "y",
         "domain": [
          0,
          1
         ],
         "title": {
          "text": "variable"
         }
        },
        "yaxis": {
         "anchor": "x",
         "domain": [
          0,
          1
         ],
         "title": {
          "text": "value"
         }
        }
       }
      }
     },
     "metadata": {},
     "output_type": "display_data"
    }
   ],
   "source": [
    "\n",
    "\n",
    "\n",
    "fig = px.box(data_2016[['Happiness Score','Economy (GDP per Capita)','Family',\n",
    "                            'Health (Life Expectancy)','Freedom',\n",
    "                            'Trust (Government Corruption)','Generosity','Dystopia Residual']],\n",
    "             notched=True, # used notched shape\n",
    "             title=\"Box plot to figure out the outliers in 2016 dataset\",\n",
    "             width=1200 ,height=750,\n",
    "             color_discrete_sequence=px.colors.qualitative.Bold\n",
    "            )\n",
    "fig.show()"
   ]
  },
  {
   "cell_type": "code",
   "execution_count": 91,
   "id": "690d4e54",
   "metadata": {},
   "outputs": [
    {
     "data": {
      "application/vnd.plotly.v1+json": {
       "config": {
        "plotlyServerURL": "https://plot.ly"
       },
       "data": [
        {
         "alignmentgroup": "True",
         "hovertemplate": "variable=%{x}<br>value=%{y}<extra></extra>",
         "legendgroup": "",
         "marker": {
          "color": "rgb(127, 60, 141)"
         },
         "name": "",
         "notched": true,
         "offsetgroup": "",
         "orientation": "v",
         "showlegend": false,
         "type": "box",
         "x": [
          "Economy..GDP.per.Capita.",
          "Economy..GDP.per.Capita.",
          "Economy..GDP.per.Capita.",
          "Economy..GDP.per.Capita.",
          "Economy..GDP.per.Capita.",
          "Economy..GDP.per.Capita.",
          "Economy..GDP.per.Capita.",
          "Economy..GDP.per.Capita.",
          "Economy..GDP.per.Capita.",
          "Economy..GDP.per.Capita.",
          "Economy..GDP.per.Capita.",
          "Economy..GDP.per.Capita.",
          "Economy..GDP.per.Capita.",
          "Economy..GDP.per.Capita.",
          "Economy..GDP.per.Capita.",
          "Economy..GDP.per.Capita.",
          "Economy..GDP.per.Capita.",
          "Economy..GDP.per.Capita.",
          "Economy..GDP.per.Capita.",
          "Economy..GDP.per.Capita.",
          "Economy..GDP.per.Capita.",
          "Economy..GDP.per.Capita.",
          "Economy..GDP.per.Capita.",
          "Economy..GDP.per.Capita.",
          "Economy..GDP.per.Capita.",
          "Economy..GDP.per.Capita.",
          "Economy..GDP.per.Capita.",
          "Economy..GDP.per.Capita.",
          "Economy..GDP.per.Capita.",
          "Economy..GDP.per.Capita.",
          "Economy..GDP.per.Capita.",
          "Economy..GDP.per.Capita.",
          "Economy..GDP.per.Capita.",
          "Economy..GDP.per.Capita.",
          "Economy..GDP.per.Capita.",
          "Economy..GDP.per.Capita.",
          "Economy..GDP.per.Capita.",
          "Economy..GDP.per.Capita.",
          "Economy..GDP.per.Capita.",
          "Economy..GDP.per.Capita.",
          "Economy..GDP.per.Capita.",
          "Economy..GDP.per.Capita.",
          "Economy..GDP.per.Capita.",
          "Economy..GDP.per.Capita.",
          "Economy..GDP.per.Capita.",
          "Economy..GDP.per.Capita.",
          "Economy..GDP.per.Capita.",
          "Economy..GDP.per.Capita.",
          "Economy..GDP.per.Capita.",
          "Economy..GDP.per.Capita.",
          "Economy..GDP.per.Capita.",
          "Economy..GDP.per.Capita.",
          "Economy..GDP.per.Capita.",
          "Economy..GDP.per.Capita.",
          "Economy..GDP.per.Capita.",
          "Economy..GDP.per.Capita.",
          "Economy..GDP.per.Capita.",
          "Economy..GDP.per.Capita.",
          "Economy..GDP.per.Capita.",
          "Economy..GDP.per.Capita.",
          "Economy..GDP.per.Capita.",
          "Economy..GDP.per.Capita.",
          "Economy..GDP.per.Capita.",
          "Economy..GDP.per.Capita.",
          "Economy..GDP.per.Capita.",
          "Economy..GDP.per.Capita.",
          "Economy..GDP.per.Capita.",
          "Economy..GDP.per.Capita.",
          "Economy..GDP.per.Capita.",
          "Economy..GDP.per.Capita.",
          "Economy..GDP.per.Capita.",
          "Economy..GDP.per.Capita.",
          "Economy..GDP.per.Capita.",
          "Economy..GDP.per.Capita.",
          "Economy..GDP.per.Capita.",
          "Economy..GDP.per.Capita.",
          "Economy..GDP.per.Capita.",
          "Economy..GDP.per.Capita.",
          "Economy..GDP.per.Capita.",
          "Economy..GDP.per.Capita.",
          "Economy..GDP.per.Capita.",
          "Economy..GDP.per.Capita.",
          "Economy..GDP.per.Capita.",
          "Economy..GDP.per.Capita.",
          "Economy..GDP.per.Capita.",
          "Economy..GDP.per.Capita.",
          "Economy..GDP.per.Capita.",
          "Economy..GDP.per.Capita.",
          "Economy..GDP.per.Capita.",
          "Economy..GDP.per.Capita.",
          "Economy..GDP.per.Capita.",
          "Economy..GDP.per.Capita.",
          "Economy..GDP.per.Capita.",
          "Economy..GDP.per.Capita.",
          "Economy..GDP.per.Capita.",
          "Economy..GDP.per.Capita.",
          "Economy..GDP.per.Capita.",
          "Economy..GDP.per.Capita.",
          "Economy..GDP.per.Capita.",
          "Economy..GDP.per.Capita.",
          "Economy..GDP.per.Capita.",
          "Economy..GDP.per.Capita.",
          "Economy..GDP.per.Capita.",
          "Economy..GDP.per.Capita.",
          "Economy..GDP.per.Capita.",
          "Economy..GDP.per.Capita.",
          "Economy..GDP.per.Capita.",
          "Economy..GDP.per.Capita.",
          "Economy..GDP.per.Capita.",
          "Economy..GDP.per.Capita.",
          "Economy..GDP.per.Capita.",
          "Economy..GDP.per.Capita.",
          "Economy..GDP.per.Capita.",
          "Economy..GDP.per.Capita.",
          "Economy..GDP.per.Capita.",
          "Economy..GDP.per.Capita.",
          "Economy..GDP.per.Capita.",
          "Economy..GDP.per.Capita.",
          "Economy..GDP.per.Capita.",
          "Economy..GDP.per.Capita.",
          "Economy..GDP.per.Capita.",
          "Economy..GDP.per.Capita.",
          "Economy..GDP.per.Capita.",
          "Economy..GDP.per.Capita.",
          "Economy..GDP.per.Capita.",
          "Economy..GDP.per.Capita.",
          "Economy..GDP.per.Capita.",
          "Economy..GDP.per.Capita.",
          "Economy..GDP.per.Capita.",
          "Economy..GDP.per.Capita.",
          "Economy..GDP.per.Capita.",
          "Economy..GDP.per.Capita.",
          "Economy..GDP.per.Capita.",
          "Economy..GDP.per.Capita.",
          "Economy..GDP.per.Capita.",
          "Economy..GDP.per.Capita.",
          "Economy..GDP.per.Capita.",
          "Economy..GDP.per.Capita.",
          "Economy..GDP.per.Capita.",
          "Economy..GDP.per.Capita.",
          "Economy..GDP.per.Capita.",
          "Economy..GDP.per.Capita.",
          "Economy..GDP.per.Capita.",
          "Economy..GDP.per.Capita.",
          "Economy..GDP.per.Capita.",
          "Economy..GDP.per.Capita.",
          "Economy..GDP.per.Capita.",
          "Economy..GDP.per.Capita.",
          "Economy..GDP.per.Capita.",
          "Economy..GDP.per.Capita.",
          "Economy..GDP.per.Capita.",
          "Economy..GDP.per.Capita.",
          "Economy..GDP.per.Capita.",
          "Economy..GDP.per.Capita.",
          "Economy..GDP.per.Capita.",
          "Family",
          "Family",
          "Family",
          "Family",
          "Family",
          "Family",
          "Family",
          "Family",
          "Family",
          "Family",
          "Family",
          "Family",
          "Family",
          "Family",
          "Family",
          "Family",
          "Family",
          "Family",
          "Family",
          "Family",
          "Family",
          "Family",
          "Family",
          "Family",
          "Family",
          "Family",
          "Family",
          "Family",
          "Family",
          "Family",
          "Family",
          "Family",
          "Family",
          "Family",
          "Family",
          "Family",
          "Family",
          "Family",
          "Family",
          "Family",
          "Family",
          "Family",
          "Family",
          "Family",
          "Family",
          "Family",
          "Family",
          "Family",
          "Family",
          "Family",
          "Family",
          "Family",
          "Family",
          "Family",
          "Family",
          "Family",
          "Family",
          "Family",
          "Family",
          "Family",
          "Family",
          "Family",
          "Family",
          "Family",
          "Family",
          "Family",
          "Family",
          "Family",
          "Family",
          "Family",
          "Family",
          "Family",
          "Family",
          "Family",
          "Family",
          "Family",
          "Family",
          "Family",
          "Family",
          "Family",
          "Family",
          "Family",
          "Family",
          "Family",
          "Family",
          "Family",
          "Family",
          "Family",
          "Family",
          "Family",
          "Family",
          "Family",
          "Family",
          "Family",
          "Family",
          "Family",
          "Family",
          "Family",
          "Family",
          "Family",
          "Family",
          "Family",
          "Family",
          "Family",
          "Family",
          "Family",
          "Family",
          "Family",
          "Family",
          "Family",
          "Family",
          "Family",
          "Family",
          "Family",
          "Family",
          "Family",
          "Family",
          "Family",
          "Family",
          "Family",
          "Family",
          "Family",
          "Family",
          "Family",
          "Family",
          "Family",
          "Family",
          "Family",
          "Family",
          "Family",
          "Family",
          "Family",
          "Family",
          "Family",
          "Family",
          "Family",
          "Family",
          "Family",
          "Family",
          "Family",
          "Family",
          "Family",
          "Family",
          "Family",
          "Family",
          "Family",
          "Family",
          "Family",
          "Family",
          "Family",
          "Family",
          "Family",
          "Family",
          "Family",
          "Family",
          "Health..Life.Expectancy.",
          "Health..Life.Expectancy.",
          "Health..Life.Expectancy.",
          "Health..Life.Expectancy.",
          "Health..Life.Expectancy.",
          "Health..Life.Expectancy.",
          "Health..Life.Expectancy.",
          "Health..Life.Expectancy.",
          "Health..Life.Expectancy.",
          "Health..Life.Expectancy.",
          "Health..Life.Expectancy.",
          "Health..Life.Expectancy.",
          "Health..Life.Expectancy.",
          "Health..Life.Expectancy.",
          "Health..Life.Expectancy.",
          "Health..Life.Expectancy.",
          "Health..Life.Expectancy.",
          "Health..Life.Expectancy.",
          "Health..Life.Expectancy.",
          "Health..Life.Expectancy.",
          "Health..Life.Expectancy.",
          "Health..Life.Expectancy.",
          "Health..Life.Expectancy.",
          "Health..Life.Expectancy.",
          "Health..Life.Expectancy.",
          "Health..Life.Expectancy.",
          "Health..Life.Expectancy.",
          "Health..Life.Expectancy.",
          "Health..Life.Expectancy.",
          "Health..Life.Expectancy.",
          "Health..Life.Expectancy.",
          "Health..Life.Expectancy.",
          "Health..Life.Expectancy.",
          "Health..Life.Expectancy.",
          "Health..Life.Expectancy.",
          "Health..Life.Expectancy.",
          "Health..Life.Expectancy.",
          "Health..Life.Expectancy.",
          "Health..Life.Expectancy.",
          "Health..Life.Expectancy.",
          "Health..Life.Expectancy.",
          "Health..Life.Expectancy.",
          "Health..Life.Expectancy.",
          "Health..Life.Expectancy.",
          "Health..Life.Expectancy.",
          "Health..Life.Expectancy.",
          "Health..Life.Expectancy.",
          "Health..Life.Expectancy.",
          "Health..Life.Expectancy.",
          "Health..Life.Expectancy.",
          "Health..Life.Expectancy.",
          "Health..Life.Expectancy.",
          "Health..Life.Expectancy.",
          "Health..Life.Expectancy.",
          "Health..Life.Expectancy.",
          "Health..Life.Expectancy.",
          "Health..Life.Expectancy.",
          "Health..Life.Expectancy.",
          "Health..Life.Expectancy.",
          "Health..Life.Expectancy.",
          "Health..Life.Expectancy.",
          "Health..Life.Expectancy.",
          "Health..Life.Expectancy.",
          "Health..Life.Expectancy.",
          "Health..Life.Expectancy.",
          "Health..Life.Expectancy.",
          "Health..Life.Expectancy.",
          "Health..Life.Expectancy.",
          "Health..Life.Expectancy.",
          "Health..Life.Expectancy.",
          "Health..Life.Expectancy.",
          "Health..Life.Expectancy.",
          "Health..Life.Expectancy.",
          "Health..Life.Expectancy.",
          "Health..Life.Expectancy.",
          "Health..Life.Expectancy.",
          "Health..Life.Expectancy.",
          "Health..Life.Expectancy.",
          "Health..Life.Expectancy.",
          "Health..Life.Expectancy.",
          "Health..Life.Expectancy.",
          "Health..Life.Expectancy.",
          "Health..Life.Expectancy.",
          "Health..Life.Expectancy.",
          "Health..Life.Expectancy.",
          "Health..Life.Expectancy.",
          "Health..Life.Expectancy.",
          "Health..Life.Expectancy.",
          "Health..Life.Expectancy.",
          "Health..Life.Expectancy.",
          "Health..Life.Expectancy.",
          "Health..Life.Expectancy.",
          "Health..Life.Expectancy.",
          "Health..Life.Expectancy.",
          "Health..Life.Expectancy.",
          "Health..Life.Expectancy.",
          "Health..Life.Expectancy.",
          "Health..Life.Expectancy.",
          "Health..Life.Expectancy.",
          "Health..Life.Expectancy.",
          "Health..Life.Expectancy.",
          "Health..Life.Expectancy.",
          "Health..Life.Expectancy.",
          "Health..Life.Expectancy.",
          "Health..Life.Expectancy.",
          "Health..Life.Expectancy.",
          "Health..Life.Expectancy.",
          "Health..Life.Expectancy.",
          "Health..Life.Expectancy.",
          "Health..Life.Expectancy.",
          "Health..Life.Expectancy.",
          "Health..Life.Expectancy.",
          "Health..Life.Expectancy.",
          "Health..Life.Expectancy.",
          "Health..Life.Expectancy.",
          "Health..Life.Expectancy.",
          "Health..Life.Expectancy.",
          "Health..Life.Expectancy.",
          "Health..Life.Expectancy.",
          "Health..Life.Expectancy.",
          "Health..Life.Expectancy.",
          "Health..Life.Expectancy.",
          "Health..Life.Expectancy.",
          "Health..Life.Expectancy.",
          "Health..Life.Expectancy.",
          "Health..Life.Expectancy.",
          "Health..Life.Expectancy.",
          "Health..Life.Expectancy.",
          "Health..Life.Expectancy.",
          "Health..Life.Expectancy.",
          "Health..Life.Expectancy.",
          "Health..Life.Expectancy.",
          "Health..Life.Expectancy.",
          "Health..Life.Expectancy.",
          "Health..Life.Expectancy.",
          "Health..Life.Expectancy.",
          "Health..Life.Expectancy.",
          "Health..Life.Expectancy.",
          "Health..Life.Expectancy.",
          "Health..Life.Expectancy.",
          "Health..Life.Expectancy.",
          "Health..Life.Expectancy.",
          "Health..Life.Expectancy.",
          "Health..Life.Expectancy.",
          "Health..Life.Expectancy.",
          "Health..Life.Expectancy.",
          "Health..Life.Expectancy.",
          "Health..Life.Expectancy.",
          "Health..Life.Expectancy.",
          "Health..Life.Expectancy.",
          "Health..Life.Expectancy.",
          "Health..Life.Expectancy.",
          "Health..Life.Expectancy.",
          "Health..Life.Expectancy.",
          "Health..Life.Expectancy.",
          "Freedom",
          "Freedom",
          "Freedom",
          "Freedom",
          "Freedom",
          "Freedom",
          "Freedom",
          "Freedom",
          "Freedom",
          "Freedom",
          "Freedom",
          "Freedom",
          "Freedom",
          "Freedom",
          "Freedom",
          "Freedom",
          "Freedom",
          "Freedom",
          "Freedom",
          "Freedom",
          "Freedom",
          "Freedom",
          "Freedom",
          "Freedom",
          "Freedom",
          "Freedom",
          "Freedom",
          "Freedom",
          "Freedom",
          "Freedom",
          "Freedom",
          "Freedom",
          "Freedom",
          "Freedom",
          "Freedom",
          "Freedom",
          "Freedom",
          "Freedom",
          "Freedom",
          "Freedom",
          "Freedom",
          "Freedom",
          "Freedom",
          "Freedom",
          "Freedom",
          "Freedom",
          "Freedom",
          "Freedom",
          "Freedom",
          "Freedom",
          "Freedom",
          "Freedom",
          "Freedom",
          "Freedom",
          "Freedom",
          "Freedom",
          "Freedom",
          "Freedom",
          "Freedom",
          "Freedom",
          "Freedom",
          "Freedom",
          "Freedom",
          "Freedom",
          "Freedom",
          "Freedom",
          "Freedom",
          "Freedom",
          "Freedom",
          "Freedom",
          "Freedom",
          "Freedom",
          "Freedom",
          "Freedom",
          "Freedom",
          "Freedom",
          "Freedom",
          "Freedom",
          "Freedom",
          "Freedom",
          "Freedom",
          "Freedom",
          "Freedom",
          "Freedom",
          "Freedom",
          "Freedom",
          "Freedom",
          "Freedom",
          "Freedom",
          "Freedom",
          "Freedom",
          "Freedom",
          "Freedom",
          "Freedom",
          "Freedom",
          "Freedom",
          "Freedom",
          "Freedom",
          "Freedom",
          "Freedom",
          "Freedom",
          "Freedom",
          "Freedom",
          "Freedom",
          "Freedom",
          "Freedom",
          "Freedom",
          "Freedom",
          "Freedom",
          "Freedom",
          "Freedom",
          "Freedom",
          "Freedom",
          "Freedom",
          "Freedom",
          "Freedom",
          "Freedom",
          "Freedom",
          "Freedom",
          "Freedom",
          "Freedom",
          "Freedom",
          "Freedom",
          "Freedom",
          "Freedom",
          "Freedom",
          "Freedom",
          "Freedom",
          "Freedom",
          "Freedom",
          "Freedom",
          "Freedom",
          "Freedom",
          "Freedom",
          "Freedom",
          "Freedom",
          "Freedom",
          "Freedom",
          "Freedom",
          "Freedom",
          "Freedom",
          "Freedom",
          "Freedom",
          "Freedom",
          "Freedom",
          "Freedom",
          "Freedom",
          "Freedom",
          "Freedom",
          "Freedom",
          "Freedom",
          "Freedom",
          "Freedom",
          "Freedom",
          "Freedom",
          "Generosity",
          "Generosity",
          "Generosity",
          "Generosity",
          "Generosity",
          "Generosity",
          "Generosity",
          "Generosity",
          "Generosity",
          "Generosity",
          "Generosity",
          "Generosity",
          "Generosity",
          "Generosity",
          "Generosity",
          "Generosity",
          "Generosity",
          "Generosity",
          "Generosity",
          "Generosity",
          "Generosity",
          "Generosity",
          "Generosity",
          "Generosity",
          "Generosity",
          "Generosity",
          "Generosity",
          "Generosity",
          "Generosity",
          "Generosity",
          "Generosity",
          "Generosity",
          "Generosity",
          "Generosity",
          "Generosity",
          "Generosity",
          "Generosity",
          "Generosity",
          "Generosity",
          "Generosity",
          "Generosity",
          "Generosity",
          "Generosity",
          "Generosity",
          "Generosity",
          "Generosity",
          "Generosity",
          "Generosity",
          "Generosity",
          "Generosity",
          "Generosity",
          "Generosity",
          "Generosity",
          "Generosity",
          "Generosity",
          "Generosity",
          "Generosity",
          "Generosity",
          "Generosity",
          "Generosity",
          "Generosity",
          "Generosity",
          "Generosity",
          "Generosity",
          "Generosity",
          "Generosity",
          "Generosity",
          "Generosity",
          "Generosity",
          "Generosity",
          "Generosity",
          "Generosity",
          "Generosity",
          "Generosity",
          "Generosity",
          "Generosity",
          "Generosity",
          "Generosity",
          "Generosity",
          "Generosity",
          "Generosity",
          "Generosity",
          "Generosity",
          "Generosity",
          "Generosity",
          "Generosity",
          "Generosity",
          "Generosity",
          "Generosity",
          "Generosity",
          "Generosity",
          "Generosity",
          "Generosity",
          "Generosity",
          "Generosity",
          "Generosity",
          "Generosity",
          "Generosity",
          "Generosity",
          "Generosity",
          "Generosity",
          "Generosity",
          "Generosity",
          "Generosity",
          "Generosity",
          "Generosity",
          "Generosity",
          "Generosity",
          "Generosity",
          "Generosity",
          "Generosity",
          "Generosity",
          "Generosity",
          "Generosity",
          "Generosity",
          "Generosity",
          "Generosity",
          "Generosity",
          "Generosity",
          "Generosity",
          "Generosity",
          "Generosity",
          "Generosity",
          "Generosity",
          "Generosity",
          "Generosity",
          "Generosity",
          "Generosity",
          "Generosity",
          "Generosity",
          "Generosity",
          "Generosity",
          "Generosity",
          "Generosity",
          "Generosity",
          "Generosity",
          "Generosity",
          "Generosity",
          "Generosity",
          "Generosity",
          "Generosity",
          "Generosity",
          "Generosity",
          "Generosity",
          "Generosity",
          "Generosity",
          "Generosity",
          "Generosity",
          "Generosity",
          "Generosity",
          "Generosity",
          "Generosity",
          "Generosity",
          "Generosity",
          "Generosity",
          "Trust..Government.Corruption.",
          "Trust..Government.Corruption.",
          "Trust..Government.Corruption.",
          "Trust..Government.Corruption.",
          "Trust..Government.Corruption.",
          "Trust..Government.Corruption.",
          "Trust..Government.Corruption.",
          "Trust..Government.Corruption.",
          "Trust..Government.Corruption.",
          "Trust..Government.Corruption.",
          "Trust..Government.Corruption.",
          "Trust..Government.Corruption.",
          "Trust..Government.Corruption.",
          "Trust..Government.Corruption.",
          "Trust..Government.Corruption.",
          "Trust..Government.Corruption.",
          "Trust..Government.Corruption.",
          "Trust..Government.Corruption.",
          "Trust..Government.Corruption.",
          "Trust..Government.Corruption.",
          "Trust..Government.Corruption.",
          "Trust..Government.Corruption.",
          "Trust..Government.Corruption.",
          "Trust..Government.Corruption.",
          "Trust..Government.Corruption.",
          "Trust..Government.Corruption.",
          "Trust..Government.Corruption.",
          "Trust..Government.Corruption.",
          "Trust..Government.Corruption.",
          "Trust..Government.Corruption.",
          "Trust..Government.Corruption.",
          "Trust..Government.Corruption.",
          "Trust..Government.Corruption.",
          "Trust..Government.Corruption.",
          "Trust..Government.Corruption.",
          "Trust..Government.Corruption.",
          "Trust..Government.Corruption.",
          "Trust..Government.Corruption.",
          "Trust..Government.Corruption.",
          "Trust..Government.Corruption.",
          "Trust..Government.Corruption.",
          "Trust..Government.Corruption.",
          "Trust..Government.Corruption.",
          "Trust..Government.Corruption.",
          "Trust..Government.Corruption.",
          "Trust..Government.Corruption.",
          "Trust..Government.Corruption.",
          "Trust..Government.Corruption.",
          "Trust..Government.Corruption.",
          "Trust..Government.Corruption.",
          "Trust..Government.Corruption.",
          "Trust..Government.Corruption.",
          "Trust..Government.Corruption.",
          "Trust..Government.Corruption.",
          "Trust..Government.Corruption.",
          "Trust..Government.Corruption.",
          "Trust..Government.Corruption.",
          "Trust..Government.Corruption.",
          "Trust..Government.Corruption.",
          "Trust..Government.Corruption.",
          "Trust..Government.Corruption.",
          "Trust..Government.Corruption.",
          "Trust..Government.Corruption.",
          "Trust..Government.Corruption.",
          "Trust..Government.Corruption.",
          "Trust..Government.Corruption.",
          "Trust..Government.Corruption.",
          "Trust..Government.Corruption.",
          "Trust..Government.Corruption.",
          "Trust..Government.Corruption.",
          "Trust..Government.Corruption.",
          "Trust..Government.Corruption.",
          "Trust..Government.Corruption.",
          "Trust..Government.Corruption.",
          "Trust..Government.Corruption.",
          "Trust..Government.Corruption.",
          "Trust..Government.Corruption.",
          "Trust..Government.Corruption.",
          "Trust..Government.Corruption.",
          "Trust..Government.Corruption.",
          "Trust..Government.Corruption.",
          "Trust..Government.Corruption.",
          "Trust..Government.Corruption.",
          "Trust..Government.Corruption.",
          "Trust..Government.Corruption.",
          "Trust..Government.Corruption.",
          "Trust..Government.Corruption.",
          "Trust..Government.Corruption.",
          "Trust..Government.Corruption.",
          "Trust..Government.Corruption.",
          "Trust..Government.Corruption.",
          "Trust..Government.Corruption.",
          "Trust..Government.Corruption.",
          "Trust..Government.Corruption.",
          "Trust..Government.Corruption.",
          "Trust..Government.Corruption.",
          "Trust..Government.Corruption.",
          "Trust..Government.Corruption.",
          "Trust..Government.Corruption.",
          "Trust..Government.Corruption.",
          "Trust..Government.Corruption.",
          "Trust..Government.Corruption.",
          "Trust..Government.Corruption.",
          "Trust..Government.Corruption.",
          "Trust..Government.Corruption.",
          "Trust..Government.Corruption.",
          "Trust..Government.Corruption.",
          "Trust..Government.Corruption.",
          "Trust..Government.Corruption.",
          "Trust..Government.Corruption.",
          "Trust..Government.Corruption.",
          "Trust..Government.Corruption.",
          "Trust..Government.Corruption.",
          "Trust..Government.Corruption.",
          "Trust..Government.Corruption.",
          "Trust..Government.Corruption.",
          "Trust..Government.Corruption.",
          "Trust..Government.Corruption.",
          "Trust..Government.Corruption.",
          "Trust..Government.Corruption.",
          "Trust..Government.Corruption.",
          "Trust..Government.Corruption.",
          "Trust..Government.Corruption.",
          "Trust..Government.Corruption.",
          "Trust..Government.Corruption.",
          "Trust..Government.Corruption.",
          "Trust..Government.Corruption.",
          "Trust..Government.Corruption.",
          "Trust..Government.Corruption.",
          "Trust..Government.Corruption.",
          "Trust..Government.Corruption.",
          "Trust..Government.Corruption.",
          "Trust..Government.Corruption.",
          "Trust..Government.Corruption.",
          "Trust..Government.Corruption.",
          "Trust..Government.Corruption.",
          "Trust..Government.Corruption.",
          "Trust..Government.Corruption.",
          "Trust..Government.Corruption.",
          "Trust..Government.Corruption.",
          "Trust..Government.Corruption.",
          "Trust..Government.Corruption.",
          "Trust..Government.Corruption.",
          "Trust..Government.Corruption.",
          "Trust..Government.Corruption.",
          "Trust..Government.Corruption.",
          "Trust..Government.Corruption.",
          "Trust..Government.Corruption.",
          "Trust..Government.Corruption.",
          "Trust..Government.Corruption.",
          "Trust..Government.Corruption.",
          "Trust..Government.Corruption.",
          "Trust..Government.Corruption.",
          "Trust..Government.Corruption.",
          "Trust..Government.Corruption.",
          "Dystopia.Residual",
          "Dystopia.Residual",
          "Dystopia.Residual",
          "Dystopia.Residual",
          "Dystopia.Residual",
          "Dystopia.Residual",
          "Dystopia.Residual",
          "Dystopia.Residual",
          "Dystopia.Residual",
          "Dystopia.Residual",
          "Dystopia.Residual",
          "Dystopia.Residual",
          "Dystopia.Residual",
          "Dystopia.Residual",
          "Dystopia.Residual",
          "Dystopia.Residual",
          "Dystopia.Residual",
          "Dystopia.Residual",
          "Dystopia.Residual",
          "Dystopia.Residual",
          "Dystopia.Residual",
          "Dystopia.Residual",
          "Dystopia.Residual",
          "Dystopia.Residual",
          "Dystopia.Residual",
          "Dystopia.Residual",
          "Dystopia.Residual",
          "Dystopia.Residual",
          "Dystopia.Residual",
          "Dystopia.Residual",
          "Dystopia.Residual",
          "Dystopia.Residual",
          "Dystopia.Residual",
          "Dystopia.Residual",
          "Dystopia.Residual",
          "Dystopia.Residual",
          "Dystopia.Residual",
          "Dystopia.Residual",
          "Dystopia.Residual",
          "Dystopia.Residual",
          "Dystopia.Residual",
          "Dystopia.Residual",
          "Dystopia.Residual",
          "Dystopia.Residual",
          "Dystopia.Residual",
          "Dystopia.Residual",
          "Dystopia.Residual",
          "Dystopia.Residual",
          "Dystopia.Residual",
          "Dystopia.Residual",
          "Dystopia.Residual",
          "Dystopia.Residual",
          "Dystopia.Residual",
          "Dystopia.Residual",
          "Dystopia.Residual",
          "Dystopia.Residual",
          "Dystopia.Residual",
          "Dystopia.Residual",
          "Dystopia.Residual",
          "Dystopia.Residual",
          "Dystopia.Residual",
          "Dystopia.Residual",
          "Dystopia.Residual",
          "Dystopia.Residual",
          "Dystopia.Residual",
          "Dystopia.Residual",
          "Dystopia.Residual",
          "Dystopia.Residual",
          "Dystopia.Residual",
          "Dystopia.Residual",
          "Dystopia.Residual",
          "Dystopia.Residual",
          "Dystopia.Residual",
          "Dystopia.Residual",
          "Dystopia.Residual",
          "Dystopia.Residual",
          "Dystopia.Residual",
          "Dystopia.Residual",
          "Dystopia.Residual",
          "Dystopia.Residual",
          "Dystopia.Residual",
          "Dystopia.Residual",
          "Dystopia.Residual",
          "Dystopia.Residual",
          "Dystopia.Residual",
          "Dystopia.Residual",
          "Dystopia.Residual",
          "Dystopia.Residual",
          "Dystopia.Residual",
          "Dystopia.Residual",
          "Dystopia.Residual",
          "Dystopia.Residual",
          "Dystopia.Residual",
          "Dystopia.Residual",
          "Dystopia.Residual",
          "Dystopia.Residual",
          "Dystopia.Residual",
          "Dystopia.Residual",
          "Dystopia.Residual",
          "Dystopia.Residual",
          "Dystopia.Residual",
          "Dystopia.Residual",
          "Dystopia.Residual",
          "Dystopia.Residual",
          "Dystopia.Residual",
          "Dystopia.Residual",
          "Dystopia.Residual",
          "Dystopia.Residual",
          "Dystopia.Residual",
          "Dystopia.Residual",
          "Dystopia.Residual",
          "Dystopia.Residual",
          "Dystopia.Residual",
          "Dystopia.Residual",
          "Dystopia.Residual",
          "Dystopia.Residual",
          "Dystopia.Residual",
          "Dystopia.Residual",
          "Dystopia.Residual",
          "Dystopia.Residual",
          "Dystopia.Residual",
          "Dystopia.Residual",
          "Dystopia.Residual",
          "Dystopia.Residual",
          "Dystopia.Residual",
          "Dystopia.Residual",
          "Dystopia.Residual",
          "Dystopia.Residual",
          "Dystopia.Residual",
          "Dystopia.Residual",
          "Dystopia.Residual",
          "Dystopia.Residual",
          "Dystopia.Residual",
          "Dystopia.Residual",
          "Dystopia.Residual",
          "Dystopia.Residual",
          "Dystopia.Residual",
          "Dystopia.Residual",
          "Dystopia.Residual",
          "Dystopia.Residual",
          "Dystopia.Residual",
          "Dystopia.Residual",
          "Dystopia.Residual",
          "Dystopia.Residual",
          "Dystopia.Residual",
          "Dystopia.Residual",
          "Dystopia.Residual",
          "Dystopia.Residual",
          "Dystopia.Residual",
          "Dystopia.Residual",
          "Dystopia.Residual",
          "Dystopia.Residual",
          "Dystopia.Residual",
          "Dystopia.Residual",
          "Dystopia.Residual"
         ],
         "x0": " ",
         "xaxis": "x",
         "y": [
          1.61646318435669,
          1.48238301277161,
          1.480633020401,
          1.56497955322266,
          1.44357192516327,
          1.50394463539124,
          1.47920441627502,
          1.40570604801178,
          1.49438726902008,
          1.484414935112,
          1.37538242340088,
          1.10970628261566,
          1.48709726333618,
          1.54625928401947,
          1.53570663928986,
          1.48792338371277,
          1.46378076076508,
          1.74194359779358,
          1.44163393974304,
          1.25278460979462,
          1.62634336948395,
          1.10735321044922,
          1.35268235206604,
          1.18529546260834,
          1.15318381786346,
          1.69227766990662,
          1.34327983856201,
          1.21755969524384,
          0.872001945972443,
          1.23374843597412,
          1.43092346191406,
          1.12786877155304,
          1.43362653255463,
          1.38439786434174,
          1.87076568603516,
          1.07062232494354,
          1.53062355518341,
          1.36135590076447,
          1.63295245170593,
          1.32539355754852,
          1.48841226100922,
          1.29121541976929,
          0.737299203872681,
          1.00082039833069,
          0.909784495830536,
          1.29178786277771,
          0.786441087722778,
          1.39506661891937,
          1.28177809715271,
          0.907975316047668,
          1.41691517829895,
          1.31458234786987,
          1.09186446666718,
          1.26074862480164,
          1.40167844295502,
          0.728870630264282,
          1.21768391132355,
          0.833756566047668,
          1.13077676296234,
          1.28455626964569,
          1.3469113111496,
          1.3412059545517,
          1.03522527217865,
          1.18939554691315,
          1.35593807697296,
          1.32087934017181,
          1.15655755996704,
          1.10180306434631,
          1.19827437400818,
          0.932537317276001,
          1.55167484283447,
          0.85769921541214,
          1.06931757926941,
          0.991012394428253,
          1.2860119342804,
          0.925579309463501,
          1.22255623340607,
          0.951484382152557,
          1.08116579055786,
          0.72688353061676,
          0.995538592338562,
          1.12843120098114,
          1.12112903594971,
          0.878114581108093,
          1.15360176563263,
          1.07937383651733,
          1.28948748111725,
          1.07498753070831,
          1.3151752948761,
          0.982409417629242,
          0.730573117733002,
          1.06457793712616,
          0.0226431842893362,
          0.788547575473785,
          0.783756256103516,
          0.524713635444641,
          0.885416388511658,
          0.596220076084137,
          0.479820191860199,
          1.02723586559296,
          1.05469870567322,
          1.00726580619812,
          0.716249227523804,
          0.989701807498932,
          1.1614590883255,
          0.36842092871666,
          0.564305365085602,
          1.15687310695648,
          0.996192753314972,
          0.586682975292206,
          0.964434325695038,
          0.560479462146759,
          0.234305649995804,
          0.367110550403595,
          0.479309022426605,
          0.636406779289246,
          1.10271048545837,
          1.1982102394104,
          0.339233845472336,
          1.00985014438629,
          0.900596737861633,
          0.792221248149872,
          0.648457288742065,
          0.808964252471924,
          0.950612664222717,
          0.0921023488044739,
          0.476180493831635,
          0.603048920631409,
          0.601765096187592,
          0.65951669216156,
          0.667224824428558,
          0.89465194940567,
          0.381430715322495,
          0.3502277135849,
          0.161925330758095,
          0.233442038297653,
          0.438012987375259,
          0.375846534967422,
          0.521021246910095,
          0.858428180217743,
          0.401477217674255,
          1.12209415435791,
          0.431085407733917,
          0.305808693170547,
          0.368610262870789,
          0.591683447360992,
          0.39724862575531,
          0.119041793048382,
          0.244549930095673,
          0.305444717407227,
          0.368745893239975,
          0.777153134346008,
          0.511135876178741,
          0.091622568666935,
          0,
          1.53352355957031,
          1.55112159252167,
          1.6105740070343,
          1.51691174507141,
          1.5402467250824,
          1.42893922328949,
          1.48134899139404,
          1.54819512367249,
          1.47816216945648,
          1.51004195213318,
          1.37628996372223,
          1.41640365123749,
          1.4599449634552,
          1.41992056369781,
          1.55823111534119,
          1.47252035140991,
          1.46231269836426,
          1.45758366584778,
          1.49646008014679,
          1.28402495384216,
          1.26641023159027,
          1.43130600452423,
          1.43388521671295,
          1.44045114517212,
          1.210862159729,
          1.35381436347961,
          1.48841166496277,
          1.41222786903381,
          1.25558519363403,
          1.37319254875183,
          1.38777685165405,
          1.42579245567322,
          1.38456535339355,
          1.53209090232849,
          1.27429687976837,
          1.4021829366684,
          1.28667759895325,
          1.3802285194397,
          1.25969874858856,
          1.50505924224854,
          1.32311046123505,
          1.28464603424072,
          1.28721570968628,
          1.28616881370544,
          1.18212509155273,
          1.44571197032928,
          1.54896914958954,
          1.44492328166962,
          1.46928238868713,
          1.08141779899597,
          1.43633782863617,
          1.47351610660553,
          1.1462174654007,
          1.40471494197845,
          1.12827444076538,
          1.25182557106018,
          1.15009129047394,
          1.22761905193329,
          1.49314916133881,
          1.38436901569366,
          1.18630337715149,
          1.45251882076263,
          1.21877038478851,
          1.20956099033356,
          1.13136327266693,
          1.47667109966278,
          1.44494521617889,
          1.35756433010101,
          1.33775317668915,
          1.50728487968445,
          1.26279091835022,
          1.25391757488251,
          1.25818979740143,
          1.23908889293671,
          1.34313309192657,
          1.36821806430817,
          0.96798300743103,
          1.13785350322723,
          1.16083741188049,
          0.672690689563751,
          1.27444469928741,
          1.43133759498596,
          1.23837649822235,
          0.774864435195923,
          1.15240025520325,
          1.40241670608521,
          1.23941457271576,
          1.12962424755096,
          1.36704301834106,
          1.0693359375,
          1.14394497871399,
          1.20789301395416,
          0.721151351928711,
          1.27749133110046,
          1.21577048301697,
          1.27146327495575,
          1.34012651443481,
          1.39423859119415,
          1.17928326129913,
          1.4930112361908,
          1.38478863239288,
          0.868351459503174,
          1.15564715862274,
          0.997471392154694,
          1.43437945842743,
          0.984136044979095,
          0.946018218994141,
          0.711551249027252,
          0.803685247898102,
          0.735131740570068,
          1.0984708070755,
          1.06795072555542,
          0.870701014995575,
          1.12323594093323,
          1.17969191074371,
          1.00318729877472,
          0.978613197803497,
          1.1556202173233,
          0.86466920375824,
          1.25997638702393,
          1.00748372077942,
          0.754372596740723,
          1.2720308303833,
          0.832044363021851,
          0.57061493396759,
          1.22902345657349,
          1.28147339820862,
          0.904780030250549,
          1.00623834133148,
          1.21400856971741,
          0.873664736747742,
          1.39453756809235,
          1.12982773780823,
          1.04328000545502,
          0.993025004863739,
          0.512568831443787,
          0.953855872154236,
          1.08309590816498,
          1.19009518623352,
          1.10441195964813,
          0.581543326377869,
          1.22155499458313,
          0.435299843549728,
          0.913020372390747,
          0.640449821949005,
          0.93538224697113,
          0.601323127746582,
          0.872117936611176,
          0.791244685649872,
          0.431882530450821,
          0.945707023143768,
          0.396102607250214,
          1.04198980331421,
          0.629793584346771,
          0,
          0.796666502952576,
          0.792565524578094,
          0.833552122116089,
          0.858131289482117,
          0.80915766954422,
          0.810696125030518,
          0.83455765247345,
          0.816759705543518,
          0.830875158309937,
          0.84388679265976,
          0.83840399980545,
          0.759509265422821,
          0.815328419208527,
          0.77428662776947,
          0.80978262424469,
          0.798950731754303,
          0.818091869354248,
          0.845089495182037,
          0.805335938930511,
          0.819479703903198,
          0.726798236370087,
          0.616552352905273,
          0.754444003105164,
          0.695137083530426,
          0.709978997707367,
          0.949492394924164,
          0.821944236755371,
          0.719216823577881,
          0.540239989757538,
          0.706156134605408,
          0.844465851783752,
          0.647239029407501,
          0.793984234333038,
          0.888960599899292,
          0.710098087787628,
          0.595027923583984,
          0.590148329734802,
          0.519983291625977,
          0.632105708122253,
          0.712732911109924,
          0.653133034706116,
          0.618784427642822,
          0.653095960617065,
          0.685636222362518,
          0.596018552780151,
          0.699475347995758,
          0.498272627592087,
          0.853144347667694,
          0.547349333763123,
          0.450191766023636,
          0.913475871086121,
          0.62894994020462,
          0.617584645748138,
          0.638566970825195,
          0.900214076042175,
          0.589465200901031,
          0.685158312320709,
          0.473630249500275,
          0.437726080417633,
          0.606041550636292,
          0.834647238254547,
          0.790828227996826,
          0.630166113376617,
          0.638007462024689,
          0.84471470117569,
          0.695168316364288,
          0.637714266777039,
          0.520169019699097,
          0.637605607509613,
          0.579250693321228,
          0.943062424659729,
          0.468009054660797,
          0.65078467130661,
          0.604590058326721,
          0.687763452529907,
          0.641022384166718,
          0.701288521289825,
          0.541452050209045,
          0.741415500640869,
          0.402047783136368,
          0.492345720529556,
          0.617144227027893,
          0.667464673519135,
          0.59771066904068,
          0.540775775909424,
          0.574873745441437,
          0.810198903083801,
          0.735081076622009,
          0.795843541622162,
          0.705186307430267,
          0.582569479942322,
          0.644948184490204,
          0.113989137113094,
          0.652168989181519,
          0.0569157302379608,
          0.529235124588013,
          0.495879292488098,
          0.553457796573639,
          0.504130780696869,
          0.557783484458923,
          0.187080070376396,
          0.613212049007416,
          0.565666973590851,
          0.520187258720398,
          0.708217680454254,
          0.0055647538974881,
          0.132892116904259,
          0.639333188533783,
          0.731159746646881,
          0.533241033554077,
          0.33861181139946,
          0.309988349676132,
          0.106654435396194,
          0.397522568702698,
          0.409362852573395,
          0.257835894823074,
          0.501180469989777,
          0.356578588485718,
          0.353409707546234,
          0.625130832195282,
          0.637524425983429,
          0.455427616834641,
          0.285349279642105,
          0.28995743393898,
          0.649546980857849,
          0.191407024860382,
          0.169365674257278,
          0.0486421696841717,
          0.429783403873444,
          0.290920823812485,
          0.295637726783752,
          0.575903952121735,
          0.217632606625557,
          0.215844258666039,
          0.26850500702858,
          0.315089583396912,
          0.0411347150802612,
          0.196763753890991,
          0,
          0.0498686656355858,
          0.180746778845787,
          0.341755509376526,
          0.209930211305618,
          0.375223308801651,
          0.277321130037308,
          0.310080915689468,
          0.163486003875732,
          0.229918196797371,
          0.194129139184952,
          0.247105568647385,
          0.326424807310104,
          0.50053334236145,
          0.364509284496307,
          0.151610791683197,
          0.0187726859003305,
          0.635422587394714,
          0.626006722450256,
          0.627162635326385,
          0.620070576667786,
          0.617950856685638,
          0.585384488105774,
          0.611100912094116,
          0.614062130451202,
          0.612924098968506,
          0.601607382297516,
          0.405988603830338,
          0.580131649971008,
          0.567766189575195,
          0.505740523338318,
          0.573110342025757,
          0.562511384487152,
          0.539770722389221,
          0.59662789106369,
          0.508190035820007,
          0.376895278692245,
          0.60834527015686,
          0.437453746795654,
          0.490946173667908,
          0.494519203901291,
          0.412730008363724,
          0.549840569496155,
          0.588767051696777,
          0.57939225435257,
          0.531310617923737,
          0.550026834011078,
          0.470222115516663,
          0.580200731754303,
          0.361466586589813,
          0.408781230449677,
          0.604130983352661,
          0.477487415075302,
          0.449750572443008,
          0.518630743026733,
          0.496337592601776,
          0.295817464590073,
          0.536746919155121,
          0.402264982461929,
          0.447551846504211,
          0.4551981985569,
          0.432452529668808,
          0.520342111587524,
          0.658248662948608,
          0.256450712680817,
          0.373783111572266,
          0.547509372234344,
          0.505625545978546,
          0.234231784939766,
          0.233335807919502,
          0.325707912445068,
          0.257921665906906,
          0.240729048848152,
          0.457003742456436,
          0.558732926845551,
          0.41827192902565,
          0.437454283237457,
          0.471203625202179,
          0.572575807571411,
          0.450002878904343,
          0.491247326135635,
          0.355111539363861,
          0.479131430387497,
          0.295400261878967,
          0.465733230113983,
          0.300740599632263,
          0.473507791757584,
          0.490968644618988,
          0.585214674472809,
          0.208715528249741,
          0.418421149253845,
          0.175863519310951,
          0.474307239055634,
          0.255772292613983,
          0.260287940502167,
          0.472787708044052,
          0.23521526157856,
          0.443323463201523,
          0.153997123241425,
          0.194989055395126,
          0.408158332109451,
          0.398155838251114,
          0.55258983373642,
          0.0957312509417534,
          0.288515985012054,
          0.498465299606323,
          0.204403176903725,
          0.348079860210419,
          0.325905978679657,
          0.602126955986023,
          0.571055591106415,
          0.394952565431595,
          0.471566706895828,
          0.501537680625916,
          0.454943388700485,
          0.440305948257446,
          0.394143968820572,
          0.479246735572815,
          0.289680689573288,
          0.25471106171608,
          0.282110154628754,
          0.289231717586517,
          0.318697690963745,
          0.430388748645782,
          0.249322608113289,
          0.381498634815216,
          0.478356659412384,
          0.520303547382355,
          0.452763766050339,
          0.480791091918945,
          0.514492034912109,
          0.377922266721725,
          0.461603492498398,
          0.288555532693863,
          0.312328577041626,
          0.408842742443085,
          0.561213254928589,
          0.198303267359734,
          0.469987004995346,
          0.0960980430245399,
          0.435025870800018,
          0.309410035610199,
          0.235961347818375,
          0.306613743305206,
          0.447706192731857,
          0.633375823497772,
          0.0149958552792668,
          0.423026293516159,
          0.122974775731564,
          0.443185955286026,
          0.324367851018906,
          0.36365869641304,
          0.466914653778076,
          0.16234202682972,
          0.336384207010269,
          0.390661299228668,
          0,
          0.106179520487785,
          0.505196332931519,
          0.425962775945663,
          0.189196765422821,
          0.0303698573261499,
          0.249463722109795,
          0.147062435746193,
          0.332881182432175,
          0.348587512969971,
          0.38042613863945,
          0.581843852996826,
          0.0815394446253777,
          0.390017777681351,
          0.0599007532000542,
          0.270842045545578,
          0.36201223731041,
          0.355280488729477,
          0.475540220737457,
          0.290549278259277,
          0.24548277258873,
          0.470489829778671,
          0.435539722442627,
          0.500005125999451,
          0.385399252176285,
          0.477699249982834,
          0.330082654953003,
          0.214613229036331,
          0.316472321748734,
          0.392578780651093,
          0.42785832285881,
          0.336269170045853,
          0.231503337621689,
          0.283180981874466,
          0.492774158716202,
          0.326662421226501,
          0.3609419465065,
          0.16234989464283,
          0.0881067588925362,
          0.109457060694695,
          0.120990432798862,
          0.345965981483459,
          0.574730575084686,
          0.175096929073334,
          0.283488392829895,
          0.21055693924427,
          0.129762306809425,
          0.572123110294342,
          0.258360475301743,
          0.190133571624756,
          0.330473870038986,
          0.149014472961426,
          0.147616013884544,
          0.325296461582184,
          0.228289797902107,
          0.136544480919838,
          0.172668486833572,
          0.416608929634094,
          0.301674216985703,
          0.150112465023994,
          0.0782579854130745,
          0.158465966582298,
          0.415983647108078,
          0.17278964817524,
          0.0522638224065304,
          0.240015640854836,
          0.12057276815176,
          0.010164656676352,
          0.0694366469979286,
          0.153074786067009,
          0.206674367189407,
          0.208779126405716,
          0.133519917726517,
          0.22556072473526,
          0.24992498755455,
          0.201964423060417,
          0.266845703125,
          0.242649093270302,
          0.126819714903831,
          0.360933750867844,
          0.271254301071167,
          0.0988908112049103,
          0.15513750910759,
          0.152073666453362,
          0.0466930419206619,
          0.224150657653809,
          0.374465793371201,
          0.193513423204422,
          0.220125883817673,
          0.172170460224152,
          0.0784016624093056,
          0.233818337321281,
          0.248002976179123,
          0.319931447505951,
          0.0288068410009146,
          0.315446019172668,
          0.611704587936401,
          0.0650196298956871,
          0.197911024093628,
          0.0322099551558495,
          0.0452693402767181,
          0.186967849731445,
          0,
          0.264450758695602,
          0.0951027125120163,
          0.328867495059967,
          0.236188873648643,
          0.25376096367836,
          0.291631311178207,
          0.234968051314354,
          0.230947196483612,
          0.248997643589973,
          0.474054545164108,
          0.42858037352562,
          0.394096165895462,
          0.338464230298996,
          0.139362379908562,
          0.0496933571994305,
          0.114173173904419,
          0.128631442785263,
          0.113177694380283,
          0.293040901422501,
          0.236298456788063,
          0.387242913246155,
          0.201312944293022,
          0.172255352139473,
          0.0771337449550629,
          0.444860309362411,
          0.322228103876114,
          0.838075160980225,
          0.183468893170357,
          0.249580144882202,
          0.19963726401329,
          0.0437853783369064,
          0.312650740146637,
          0.490863561630249,
          0.0834880918264389,
          0.231538489460945,
          0.201870024204254,
          0.120852127671242,
          0.0540088154375553,
          0.246455833315849,
          0.183354198932648,
          0.201237469911575,
          0.385922968387604,
          0.182317450642586,
          0.256923943758011,
          0.270061463117599,
          0.325766056776047,
          0.250864684581757,
          0.228673845529556,
          0.287170469760895,
          0.216113850474358,
          0.189143493771553,
          0.157497271895409,
          0.097926490008831,
          0.311870932579041,
          0.0993484482169151,
          0.207948461174965,
          0.208732530474663,
          0.489203780889511,
          0.104125209152699,
          0.285670816898346,
          0.26654988527298,
          0.264815092086792,
          0.196896150708199,
          0.252756029367447,
          0.493663728237152,
          0.354256361722946,
          0.204435184597969,
          0.280876487493515,
          0.315963834524155,
          0.40077006816864,
          0.153526559472084,
          0.367007285356522,
          0.38261154294014,
          0.282661825418472,
          0.287371516227722,
          0.382816702127457,
          0.384398728609085,
          0.301183730363846,
          0.0852421000599861,
          0.100106589496136,
          0.221060365438461,
          0.135638788342476,
          0.29838815331459,
          0.276731938123703,
          0.251343131065369,
          0.31883442401886,
          0.265428066253662,
          0.0822879821062088,
          0.324489563703537,
          0.111092761158943,
          0.0368729270994663,
          0.059739887714386,
          0.132774114608765,
          0.46430778503418,
          0.153066068887711,
          0.178061872720718,
          0.0772232785820961,
          0.070983923971653,
          0.172502428293228,
          0.0316127352416515,
          0.0638292357325554,
          0.0709140971302986,
          0.439299255609512,
          0.0466687418520451,
          0.27343225479126,
          0.0089648161083459,
          0.215159550309181,
          0.0242108516395092,
          0.257042169570923,
          0.0656007081270218,
          0.130687981843948,
          0.140134647488594,
          0.0899809598922729,
          0.0593078061938286,
          0.246528223156929,
          0.0280280914157629,
          0.0329628810286522,
          0.0965810716152191,
          0.163760736584663,
          0.0118656428530812,
          0.146096110343933,
          0.0738427266478539,
          0.0632826685905457,
          0.0100912861526012,
          0.00438790069893,
          0.0604777261614799,
          0.259270340204239,
          0.119282886385918,
          0.155353352427483,
          0.0451289787888527,
          0.0470490865409374,
          0.0421815551817417,
          0.0412379764020443,
          0.183248922228813,
          0.156313821673393,
          0.0926102101802826,
          0.0996715798974037,
          0.091065913438797,
          0.293933749198914,
          0.0993318930268288,
          0.0409037806093693,
          0.11980327218771,
          0.0366369374096394,
          0.0552677810192108,
          0.0431031100451946,
          0.0574716180562973,
          0.0227942746132612,
          0.124348066747189,
          0.0153171354904771,
          0.0644911229610443,
          0.0881741940975189,
          0.0877631828188896,
          0.180987507104874,
          0.113945253193378,
          0.04328977689147,
          0.037513829767704,
          0.0158694516867399,
          0,
          0.0733454525470734,
          0.0602777935564518,
          0.282410323619843,
          0.0876332372426987,
          0.0261215660721064,
          0.146377146244049,
          0.173380389809608,
          0.0394391790032387,
          0.0729755461215973,
          0.0329022891819477,
          0.0725094974040985,
          0.0867231488227844,
          0.0892826020717621,
          0.114381365478039,
          0.0110515309497714,
          0.0710951760411263,
          0.0513066314160824,
          0.048761073499918,
          0.0398642159998417,
          0.123717859387398,
          0.0931469723582268,
          0.0646413192152977,
          0.179436385631561,
          0.188816204667091,
          0.115460447967052,
          0.0782135501503944,
          0.107215754687786,
          0.0760467872023582,
          0.165455713868141,
          0.0736539661884308,
          0.0266744215041399,
          0.0922268852591515,
          0.136957004666328,
          0.0796181336045265,
          0.251666635274887,
          0.0602413564920425,
          0.104970246553421,
          0.130061775445938,
          0.0681059509515762,
          0.089847519993782,
          0.0253363698720932,
          0.0230294708162546,
          0.057069718837738,
          0.120328105986118,
          0.138572946190834,
          0.0727116540074348,
          0.0535818822681904,
          0.0953753814101219,
          0.119094640016556,
          0.0697203353047371,
          0.0611578300595284,
          0.0985831990838051,
          0.0609290152788162,
          0.0672319754958153,
          0.0998721495270729,
          0.0567674227058887,
          0.116793513298035,
          0.0389482490718365,
          0.110937617719173,
          0.0956650152802467,
          0.455220013856888,
          0.151347130537033,
          0.0660351067781448,
          0.0841479450464249,
          0.0565650761127472,
          2.27702665328979,
          2.31370735168457,
          2.32271528244019,
          2.2767162322998,
          2.4301815032959,
          2.29480409622192,
          2.18726444244385,
          2.0464563369751,
          2.09753799438477,
          2.06521081924438,
          2.80175733566284,
          2.89863920211792,
          2.1385064125061,
          2.2181134223938,
          1.77386903762817,
          2.01576995849609,
          2.12421035766602,
          1.61951208114624,
          1.70414352416992,
          2.50958585739136,
          1.734703540802,
          2.76926708221436,
          2.45186185836792,
          2.61400532722473,
          2.83715486526489,
          1.21636199951172,
          1.55686283111572,
          2.17240953445435,
          2.89389109611511,
          2.30719995498657,
          2.00595474243164,
          2.03950834274292,
          2.1266074180603,
          1.92775774002075,
          1.1454644203186,
          2.61606812477112,
          2.0654296875,
          2.05324745178223,
          1.64042520523071,
          2.09777665138245,
          1.65614938735962,
          2.00444889068604,
          2.51393055915833,
          2.29035258293152,
          2.7145938873291,
          1.79772281646729,
          1.81691360473633,
          1.81331205368042,
          2.20560741424561,
          2.63195562362671,
          1.36322355270386,
          2.22844052314758,
          2.56760382652283,
          1.99365520477295,
          1.88037800788879,
          2.80780839920044,
          2.17683148384094,
          2.44327902793884,
          1.83290982246399,
          1.78489255905151,
          1.54915761947632,
          1.31331729888916,
          2.20726943016052,
          1.6975839138031,
          1.62124919891357,
          1.35750865936279,
          1.72323298454285,
          1.83501124382019,
          1.87927794456482,
          1.6853334903717,
          0.554633140563965,
          1.97260475158691,
          1.94708442687988,
          1.79117655754089,
          1.71645927429199,
          1.61232566833496,
          1.85449242591858,
          2.01054072380066,
          1.76493859291077,
          2.79248929023743,
          1.42947697639465,
          1.78946375846863,
          1.72919154167175,
          2.45618939399719,
          1.76248168945312,
          1.31946516036987,
          1.74922156333923,
          1.69507384300232,
          1.10768270492554,
          1.89217257499695,
          2.06581115722656,
          1.6174693107605,
          3.11748456954956,
          1.46231865882874,
          2.36539053916931,
          1.84904932975769,
          1.14018440246582,
          1.53672313690186,
          1.8912410736084,
          1.11129236221313,
          1.51090860366821,
          1.89025115966797,
          1.8788902759552,
          1.70216107368469,
          0.996139287948608,
          2.66845989227295,
          2.3336455821991,
          1.49873495101929,
          1.49044156074524,
          1.97873616218567,
          1.4818902015686,
          1.6519021987915,
          2.35565090179443,
          1.11529040336609,
          1.78964614868164,
          1.82670545578003,
          1.31890726089478,
          1.32291626930237,
          2.01574373245239,
          0.419389247894287,
          1.5214991569519,
          1.5191171169281,
          1.65163731575012,
          1.72413563728333,
          1.50013780593872,
          2.22495865821838,
          1.66819095611572,
          1.84496426582336,
          1.04294109344482,
          1.68706583976746,
          1.57786750793457,
          0.814382314682007,
          1.526362657547,
          1.72721290588379,
          1.87398338317871,
          2.08178615570068,
          2.07123804092407,
          1.59797024726868,
          1.42983531951904,
          1.61448240280151,
          2.15080118179321,
          0.3779137134552,
          1.88563096523285,
          1.58461260795593,
          1.69716763496399,
          1.34560060501099,
          1.87956738471985,
          1.67328596115112,
          1.55231189727783,
          1.83722925186157,
          0.540061235427856,
          1.06157350540161,
          0.621130466461182,
          1.68302416801453,
          2.06600475311279
         ],
         "y0": " ",
         "yaxis": "y"
        }
       ],
       "layout": {
        "boxmode": "group",
        "height": 750,
        "legend": {
         "tracegroupgap": 0
        },
        "template": {
         "data": {
          "bar": [
           {
            "error_x": {
             "color": "#2a3f5f"
            },
            "error_y": {
             "color": "#2a3f5f"
            },
            "marker": {
             "line": {
              "color": "#E5ECF6",
              "width": 0.5
             },
             "pattern": {
              "fillmode": "overlay",
              "size": 10,
              "solidity": 0.2
             }
            },
            "type": "bar"
           }
          ],
          "barpolar": [
           {
            "marker": {
             "line": {
              "color": "#E5ECF6",
              "width": 0.5
             },
             "pattern": {
              "fillmode": "overlay",
              "size": 10,
              "solidity": 0.2
             }
            },
            "type": "barpolar"
           }
          ],
          "carpet": [
           {
            "aaxis": {
             "endlinecolor": "#2a3f5f",
             "gridcolor": "white",
             "linecolor": "white",
             "minorgridcolor": "white",
             "startlinecolor": "#2a3f5f"
            },
            "baxis": {
             "endlinecolor": "#2a3f5f",
             "gridcolor": "white",
             "linecolor": "white",
             "minorgridcolor": "white",
             "startlinecolor": "#2a3f5f"
            },
            "type": "carpet"
           }
          ],
          "choropleth": [
           {
            "colorbar": {
             "outlinewidth": 0,
             "ticks": ""
            },
            "type": "choropleth"
           }
          ],
          "contour": [
           {
            "colorbar": {
             "outlinewidth": 0,
             "ticks": ""
            },
            "colorscale": [
             [
              0,
              "#0d0887"
             ],
             [
              0.1111111111111111,
              "#46039f"
             ],
             [
              0.2222222222222222,
              "#7201a8"
             ],
             [
              0.3333333333333333,
              "#9c179e"
             ],
             [
              0.4444444444444444,
              "#bd3786"
             ],
             [
              0.5555555555555556,
              "#d8576b"
             ],
             [
              0.6666666666666666,
              "#ed7953"
             ],
             [
              0.7777777777777778,
              "#fb9f3a"
             ],
             [
              0.8888888888888888,
              "#fdca26"
             ],
             [
              1,
              "#f0f921"
             ]
            ],
            "type": "contour"
           }
          ],
          "contourcarpet": [
           {
            "colorbar": {
             "outlinewidth": 0,
             "ticks": ""
            },
            "type": "contourcarpet"
           }
          ],
          "heatmap": [
           {
            "colorbar": {
             "outlinewidth": 0,
             "ticks": ""
            },
            "colorscale": [
             [
              0,
              "#0d0887"
             ],
             [
              0.1111111111111111,
              "#46039f"
             ],
             [
              0.2222222222222222,
              "#7201a8"
             ],
             [
              0.3333333333333333,
              "#9c179e"
             ],
             [
              0.4444444444444444,
              "#bd3786"
             ],
             [
              0.5555555555555556,
              "#d8576b"
             ],
             [
              0.6666666666666666,
              "#ed7953"
             ],
             [
              0.7777777777777778,
              "#fb9f3a"
             ],
             [
              0.8888888888888888,
              "#fdca26"
             ],
             [
              1,
              "#f0f921"
             ]
            ],
            "type": "heatmap"
           }
          ],
          "heatmapgl": [
           {
            "colorbar": {
             "outlinewidth": 0,
             "ticks": ""
            },
            "colorscale": [
             [
              0,
              "#0d0887"
             ],
             [
              0.1111111111111111,
              "#46039f"
             ],
             [
              0.2222222222222222,
              "#7201a8"
             ],
             [
              0.3333333333333333,
              "#9c179e"
             ],
             [
              0.4444444444444444,
              "#bd3786"
             ],
             [
              0.5555555555555556,
              "#d8576b"
             ],
             [
              0.6666666666666666,
              "#ed7953"
             ],
             [
              0.7777777777777778,
              "#fb9f3a"
             ],
             [
              0.8888888888888888,
              "#fdca26"
             ],
             [
              1,
              "#f0f921"
             ]
            ],
            "type": "heatmapgl"
           }
          ],
          "histogram": [
           {
            "marker": {
             "pattern": {
              "fillmode": "overlay",
              "size": 10,
              "solidity": 0.2
             }
            },
            "type": "histogram"
           }
          ],
          "histogram2d": [
           {
            "colorbar": {
             "outlinewidth": 0,
             "ticks": ""
            },
            "colorscale": [
             [
              0,
              "#0d0887"
             ],
             [
              0.1111111111111111,
              "#46039f"
             ],
             [
              0.2222222222222222,
              "#7201a8"
             ],
             [
              0.3333333333333333,
              "#9c179e"
             ],
             [
              0.4444444444444444,
              "#bd3786"
             ],
             [
              0.5555555555555556,
              "#d8576b"
             ],
             [
              0.6666666666666666,
              "#ed7953"
             ],
             [
              0.7777777777777778,
              "#fb9f3a"
             ],
             [
              0.8888888888888888,
              "#fdca26"
             ],
             [
              1,
              "#f0f921"
             ]
            ],
            "type": "histogram2d"
           }
          ],
          "histogram2dcontour": [
           {
            "colorbar": {
             "outlinewidth": 0,
             "ticks": ""
            },
            "colorscale": [
             [
              0,
              "#0d0887"
             ],
             [
              0.1111111111111111,
              "#46039f"
             ],
             [
              0.2222222222222222,
              "#7201a8"
             ],
             [
              0.3333333333333333,
              "#9c179e"
             ],
             [
              0.4444444444444444,
              "#bd3786"
             ],
             [
              0.5555555555555556,
              "#d8576b"
             ],
             [
              0.6666666666666666,
              "#ed7953"
             ],
             [
              0.7777777777777778,
              "#fb9f3a"
             ],
             [
              0.8888888888888888,
              "#fdca26"
             ],
             [
              1,
              "#f0f921"
             ]
            ],
            "type": "histogram2dcontour"
           }
          ],
          "mesh3d": [
           {
            "colorbar": {
             "outlinewidth": 0,
             "ticks": ""
            },
            "type": "mesh3d"
           }
          ],
          "parcoords": [
           {
            "line": {
             "colorbar": {
              "outlinewidth": 0,
              "ticks": ""
             }
            },
            "type": "parcoords"
           }
          ],
          "pie": [
           {
            "automargin": true,
            "type": "pie"
           }
          ],
          "scatter": [
           {
            "fillpattern": {
             "fillmode": "overlay",
             "size": 10,
             "solidity": 0.2
            },
            "type": "scatter"
           }
          ],
          "scatter3d": [
           {
            "line": {
             "colorbar": {
              "outlinewidth": 0,
              "ticks": ""
             }
            },
            "marker": {
             "colorbar": {
              "outlinewidth": 0,
              "ticks": ""
             }
            },
            "type": "scatter3d"
           }
          ],
          "scattercarpet": [
           {
            "marker": {
             "colorbar": {
              "outlinewidth": 0,
              "ticks": ""
             }
            },
            "type": "scattercarpet"
           }
          ],
          "scattergeo": [
           {
            "marker": {
             "colorbar": {
              "outlinewidth": 0,
              "ticks": ""
             }
            },
            "type": "scattergeo"
           }
          ],
          "scattergl": [
           {
            "marker": {
             "colorbar": {
              "outlinewidth": 0,
              "ticks": ""
             }
            },
            "type": "scattergl"
           }
          ],
          "scattermapbox": [
           {
            "marker": {
             "colorbar": {
              "outlinewidth": 0,
              "ticks": ""
             }
            },
            "type": "scattermapbox"
           }
          ],
          "scatterpolar": [
           {
            "marker": {
             "colorbar": {
              "outlinewidth": 0,
              "ticks": ""
             }
            },
            "type": "scatterpolar"
           }
          ],
          "scatterpolargl": [
           {
            "marker": {
             "colorbar": {
              "outlinewidth": 0,
              "ticks": ""
             }
            },
            "type": "scatterpolargl"
           }
          ],
          "scatterternary": [
           {
            "marker": {
             "colorbar": {
              "outlinewidth": 0,
              "ticks": ""
             }
            },
            "type": "scatterternary"
           }
          ],
          "surface": [
           {
            "colorbar": {
             "outlinewidth": 0,
             "ticks": ""
            },
            "colorscale": [
             [
              0,
              "#0d0887"
             ],
             [
              0.1111111111111111,
              "#46039f"
             ],
             [
              0.2222222222222222,
              "#7201a8"
             ],
             [
              0.3333333333333333,
              "#9c179e"
             ],
             [
              0.4444444444444444,
              "#bd3786"
             ],
             [
              0.5555555555555556,
              "#d8576b"
             ],
             [
              0.6666666666666666,
              "#ed7953"
             ],
             [
              0.7777777777777778,
              "#fb9f3a"
             ],
             [
              0.8888888888888888,
              "#fdca26"
             ],
             [
              1,
              "#f0f921"
             ]
            ],
            "type": "surface"
           }
          ],
          "table": [
           {
            "cells": {
             "fill": {
              "color": "#EBF0F8"
             },
             "line": {
              "color": "white"
             }
            },
            "header": {
             "fill": {
              "color": "#C8D4E3"
             },
             "line": {
              "color": "white"
             }
            },
            "type": "table"
           }
          ]
         },
         "layout": {
          "annotationdefaults": {
           "arrowcolor": "#2a3f5f",
           "arrowhead": 0,
           "arrowwidth": 1
          },
          "autotypenumbers": "strict",
          "coloraxis": {
           "colorbar": {
            "outlinewidth": 0,
            "ticks": ""
           }
          },
          "colorscale": {
           "diverging": [
            [
             0,
             "#8e0152"
            ],
            [
             0.1,
             "#c51b7d"
            ],
            [
             0.2,
             "#de77ae"
            ],
            [
             0.3,
             "#f1b6da"
            ],
            [
             0.4,
             "#fde0ef"
            ],
            [
             0.5,
             "#f7f7f7"
            ],
            [
             0.6,
             "#e6f5d0"
            ],
            [
             0.7,
             "#b8e186"
            ],
            [
             0.8,
             "#7fbc41"
            ],
            [
             0.9,
             "#4d9221"
            ],
            [
             1,
             "#276419"
            ]
           ],
           "sequential": [
            [
             0,
             "#0d0887"
            ],
            [
             0.1111111111111111,
             "#46039f"
            ],
            [
             0.2222222222222222,
             "#7201a8"
            ],
            [
             0.3333333333333333,
             "#9c179e"
            ],
            [
             0.4444444444444444,
             "#bd3786"
            ],
            [
             0.5555555555555556,
             "#d8576b"
            ],
            [
             0.6666666666666666,
             "#ed7953"
            ],
            [
             0.7777777777777778,
             "#fb9f3a"
            ],
            [
             0.8888888888888888,
             "#fdca26"
            ],
            [
             1,
             "#f0f921"
            ]
           ],
           "sequentialminus": [
            [
             0,
             "#0d0887"
            ],
            [
             0.1111111111111111,
             "#46039f"
            ],
            [
             0.2222222222222222,
             "#7201a8"
            ],
            [
             0.3333333333333333,
             "#9c179e"
            ],
            [
             0.4444444444444444,
             "#bd3786"
            ],
            [
             0.5555555555555556,
             "#d8576b"
            ],
            [
             0.6666666666666666,
             "#ed7953"
            ],
            [
             0.7777777777777778,
             "#fb9f3a"
            ],
            [
             0.8888888888888888,
             "#fdca26"
            ],
            [
             1,
             "#f0f921"
            ]
           ]
          },
          "colorway": [
           "#636efa",
           "#EF553B",
           "#00cc96",
           "#ab63fa",
           "#FFA15A",
           "#19d3f3",
           "#FF6692",
           "#B6E880",
           "#FF97FF",
           "#FECB52"
          ],
          "font": {
           "color": "#2a3f5f"
          },
          "geo": {
           "bgcolor": "white",
           "lakecolor": "white",
           "landcolor": "#E5ECF6",
           "showlakes": true,
           "showland": true,
           "subunitcolor": "white"
          },
          "hoverlabel": {
           "align": "left"
          },
          "hovermode": "closest",
          "mapbox": {
           "style": "light"
          },
          "paper_bgcolor": "white",
          "plot_bgcolor": "#E5ECF6",
          "polar": {
           "angularaxis": {
            "gridcolor": "white",
            "linecolor": "white",
            "ticks": ""
           },
           "bgcolor": "#E5ECF6",
           "radialaxis": {
            "gridcolor": "white",
            "linecolor": "white",
            "ticks": ""
           }
          },
          "scene": {
           "xaxis": {
            "backgroundcolor": "#E5ECF6",
            "gridcolor": "white",
            "gridwidth": 2,
            "linecolor": "white",
            "showbackground": true,
            "ticks": "",
            "zerolinecolor": "white"
           },
           "yaxis": {
            "backgroundcolor": "#E5ECF6",
            "gridcolor": "white",
            "gridwidth": 2,
            "linecolor": "white",
            "showbackground": true,
            "ticks": "",
            "zerolinecolor": "white"
           },
           "zaxis": {
            "backgroundcolor": "#E5ECF6",
            "gridcolor": "white",
            "gridwidth": 2,
            "linecolor": "white",
            "showbackground": true,
            "ticks": "",
            "zerolinecolor": "white"
           }
          },
          "shapedefaults": {
           "line": {
            "color": "#2a3f5f"
           }
          },
          "ternary": {
           "aaxis": {
            "gridcolor": "white",
            "linecolor": "white",
            "ticks": ""
           },
           "baxis": {
            "gridcolor": "white",
            "linecolor": "white",
            "ticks": ""
           },
           "bgcolor": "#E5ECF6",
           "caxis": {
            "gridcolor": "white",
            "linecolor": "white",
            "ticks": ""
           }
          },
          "title": {
           "x": 0.05
          },
          "xaxis": {
           "automargin": true,
           "gridcolor": "white",
           "linecolor": "white",
           "ticks": "",
           "title": {
            "standoff": 15
           },
           "zerolinecolor": "white",
           "zerolinewidth": 2
          },
          "yaxis": {
           "automargin": true,
           "gridcolor": "white",
           "linecolor": "white",
           "ticks": "",
           "title": {
            "standoff": 15
           },
           "zerolinecolor": "white",
           "zerolinewidth": 2
          }
         }
        },
        "title": {
         "text": "Box plot to figure out the outliers in 2017 dataset"
        },
        "width": 1200,
        "xaxis": {
         "anchor": "y",
         "domain": [
          0,
          1
         ],
         "title": {
          "text": "variable"
         }
        },
        "yaxis": {
         "anchor": "x",
         "domain": [
          0,
          1
         ],
         "title": {
          "text": "value"
         }
        }
       }
      }
     },
     "metadata": {},
     "output_type": "display_data"
    }
   ],
   "source": [
    "\n",
    "\n",
    "\n",
    "fig = px.box(data_2017[[\"Economy..GDP.per.Capita.\",\"Family\",\"Health..Life.Expectancy.\",\n",
    "                        \"Freedom\",\"Generosity\",\"Trust..Government.Corruption.\",\"Dystopia.Residual\"]],\n",
    "             notched=True, # used notched shape\n",
    "             title=\"Box plot to figure out the outliers in 2017 dataset\",\n",
    "             width=1200 ,height=750,\n",
    "             color_discrete_sequence=px.colors.qualitative.Bold\n",
    "            )\n",
    "fig.show()"
   ]
  },
  {
   "cell_type": "markdown",
   "id": "d66677d3-44ad-414f-9b39-f9c1995ad043",
   "metadata": {},
   "source": [
    "### 2. Univariate Non-Graphical analysis: \n",
    "\n",
    "- Where is the center of the data? (location) --> **Measures of central tendency**\n",
    "- How much does the data vary? (scale) --> **Measure of variability**\n",
    "- What is the shape of the data? (shape) --> **Measures of variation combined with an average (measure of center) gives a good picture of the distribution of the data.**"
   ]
  },
  {
   "cell_type": "code",
   "execution_count": 81,
   "id": "201c7aae",
   "metadata": {},
   "outputs": [
    {
     "data": {
      "application/vnd.plotly.v1+json": {
       "config": {
        "plotlyServerURL": "https://plot.ly"
       },
       "data": [
        {
         "marker": {
          "color": [
           "rgb(127, 60, 141)",
           "rgb(17, 165, 121)",
           "rgb(57, 105, 172)",
           "rgb(242, 183, 1)",
           "rgb(231, 63, 116)",
           "rgb(128, 186, 90)",
           "rgb(230, 131, 16)",
           "rgb(0, 134, 149)",
           "rgb(207, 28, 144)",
           "rgb(249, 123, 114)",
           "rgb(165, 170, 153)"
          ]
         },
         "name": "2019",
         "type": "histogram",
         "x": [
          1.587,
          1.573,
          1.582,
          1.624,
          1.522,
          1.526,
          1.487,
          1.557,
          1.505,
          1.475,
          1.548,
          1.441,
          1.455,
          1.479,
          1.538,
          1.553,
          1.454,
          1.504,
          1.457,
          1.487,
          1.31,
          1.52,
          1.323,
          1.472,
          1.43,
          1.369,
          1.269,
          1.357,
          1.313,
          1.484,
          1.442,
          1.439,
          1.465,
          1.463,
          1.242,
          1.488,
          1.368,
          1.504,
          1.477,
          1.438,
          1.529,
          1.515,
          1.41,
          1.523,
          1.325,
          1.232,
          1.432,
          1.232,
          1.223,
          1.312,
          1.319,
          1.409,
          1.465,
          1.219,
          1.528,
          1.478,
          1.402,
          1.419,
          1.236,
          1.508,
          1.209,
          1.41,
          1.475,
          1.252,
          1.274,
          1.431,
          0.886,
          1.452,
          1.293,
          1.383,
          1.328,
          1.303,
          1.361,
          1.098,
          1.266,
          1.277,
          1.401,
          1.212,
          1.36,
          1.171,
          1.465,
          1.156,
          1.531,
          1.294,
          1.111,
          1.438,
          1.538,
          1.16,
          0.782,
          1.147,
          1.224,
          1.203,
          1.125,
          1.346,
          1.321,
          0.91,
          1.513,
          0.868,
          0.808,
          1.226,
          1.225,
          0.437,
          0.799,
          1.183,
          1.03,
          1.351,
          0.848,
          1.427,
          1.122,
          1.247,
          1.134,
          0.698,
          1.313,
          0.774,
          1.056,
          1.055,
          0.842,
          0.829,
          0.666,
          0.939,
          0.983,
          1.167,
          0.986,
          1,
          0.928,
          0.98,
          1.125,
          1.105,
          0.841,
          1.265,
          1.181,
          0.766,
          1.39,
          1.033,
          1.149,
          1.069,
          1.039,
          1.058,
          0.572,
          0.765,
          0.922,
          0.757,
          0.916,
          1.169,
          0.447,
          1.114,
          0.688,
          1.145,
          0.378,
          0.56,
          1.163,
          0.711,
          0.885,
          0.517,
          0,
          0.575
         ]
        },
        {
         "marker": {
          "color": [
           "rgb(127, 60, 141)",
           "rgb(17, 165, 121)",
           "rgb(57, 105, 172)",
           "rgb(242, 183, 1)",
           "rgb(231, 63, 116)",
           "rgb(128, 186, 90)",
           "rgb(230, 131, 16)",
           "rgb(0, 134, 149)",
           "rgb(207, 28, 144)",
           "rgb(249, 123, 114)",
           "rgb(165, 170, 153)"
          ]
         },
         "name": "2015",
         "type": "histogram",
         "x": [
          7.587,
          7.561,
          7.527,
          7.522,
          7.427,
          7.406,
          7.378,
          7.364,
          7.286,
          7.284,
          7.278,
          7.226,
          7.2,
          7.187,
          7.119,
          6.983,
          6.946,
          6.94,
          6.937,
          6.901,
          6.867,
          6.853,
          6.81,
          6.798,
          6.786,
          6.75,
          6.67,
          6.611,
          6.575,
          6.574,
          6.505,
          6.485,
          6.477,
          6.455,
          6.411,
          6.329,
          6.302,
          6.298,
          6.295,
          6.269,
          6.168,
          6.13,
          6.123,
          6.003,
          5.995,
          5.987,
          5.984,
          5.975,
          5.96,
          5.948,
          5.89,
          5.889,
          5.878,
          5.855,
          5.848,
          5.833,
          5.828,
          5.824,
          5.813,
          5.791,
          5.77,
          5.759,
          5.754,
          5.716,
          5.709,
          5.695,
          5.689,
          5.605,
          5.589,
          5.548,
          5.477,
          5.474,
          5.429,
          5.399,
          5.36,
          5.332,
          5.286,
          5.268,
          5.253,
          5.212,
          5.194,
          5.192,
          5.192,
          5.14,
          5.129,
          5.124,
          5.123,
          5.102,
          5.098,
          5.073,
          5.057,
          5.013,
          5.007,
          4.971,
          4.959,
          4.949,
          4.898,
          4.885,
          4.876,
          4.874,
          4.867,
          4.857,
          4.839,
          4.8,
          4.788,
          4.786,
          4.739,
          4.715,
          4.694,
          4.686,
          4.681,
          4.677,
          4.642,
          4.633,
          4.61,
          4.571,
          4.565,
          4.55,
          4.518,
          4.517,
          4.514,
          4.512,
          4.507,
          4.436,
          4.419,
          4.369,
          4.35,
          4.332,
          4.307,
          4.297,
          4.292,
          4.271,
          4.252,
          4.218,
          4.194,
          4.077,
          4.033,
          3.995,
          3.989,
          3.956,
          3.931,
          3.904,
          3.896,
          3.845,
          3.819,
          3.781,
          3.681,
          3.678,
          3.667,
          3.656,
          3.655,
          3.587,
          3.575,
          3.465,
          3.34,
          3.006,
          2.905,
          2.839
         ]
        },
        {
         "marker": {
          "color": [
           "rgb(127, 60, 141)",
           "rgb(17, 165, 121)",
           "rgb(57, 105, 172)",
           "rgb(242, 183, 1)",
           "rgb(231, 63, 116)",
           "rgb(128, 186, 90)",
           "rgb(230, 131, 16)",
           "rgb(0, 134, 149)",
           "rgb(207, 28, 144)",
           "rgb(249, 123, 114)",
           "rgb(165, 170, 153)"
          ]
         },
         "name": "2016",
         "type": "histogram",
         "x": [
          7.526,
          7.509,
          7.501,
          7.498,
          7.413,
          7.404,
          7.339,
          7.334,
          7.313,
          7.291,
          7.267,
          7.119,
          7.104,
          7.087,
          7.039,
          6.994,
          6.952,
          6.929,
          6.907,
          6.871,
          6.778,
          6.739,
          6.725,
          6.705,
          6.701,
          6.65,
          6.596,
          6.573,
          6.545,
          6.488,
          6.481,
          6.478,
          6.474,
          6.379,
          6.379,
          6.375,
          6.361,
          6.355,
          6.324,
          6.269,
          6.239,
          6.218,
          6.168,
          6.084,
          6.078,
          6.068,
          6.005,
          5.992,
          5.987,
          5.977,
          5.976,
          5.956,
          5.921,
          5.919,
          5.897,
          5.856,
          5.835,
          5.835,
          5.822,
          5.813,
          5.802,
          5.771,
          5.768,
          5.743,
          5.658,
          5.648,
          5.615,
          5.56,
          5.546,
          5.538,
          5.528,
          5.517,
          5.51,
          5.488,
          5.458,
          5.44,
          5.401,
          5.389,
          5.314,
          5.303,
          5.291,
          5.279,
          5.245,
          5.196,
          5.185,
          5.177,
          5.163,
          5.161,
          5.155,
          5.151,
          5.145,
          5.132,
          5.129,
          5.123,
          5.121,
          5.061,
          5.057,
          5.045,
          5.033,
          4.996,
          4.907,
          4.876,
          4.875,
          4.871,
          4.813,
          4.795,
          4.793,
          4.754,
          4.655,
          4.643,
          4.635,
          4.575,
          4.574,
          4.513,
          4.508,
          4.459,
          4.415,
          4.404,
          4.395,
          4.362,
          4.36,
          4.356,
          4.324,
          4.276,
          4.272,
          4.252,
          4.236,
          4.219,
          4.217,
          4.201,
          4.193,
          4.156,
          4.139,
          4.121,
          4.073,
          4.028,
          3.974,
          3.956,
          3.916,
          3.907,
          3.866,
          3.856,
          3.832,
          3.763,
          3.739,
          3.739,
          3.724,
          3.695,
          3.666,
          3.622,
          3.607,
          3.515,
          3.484,
          3.36,
          3.303,
          3.069,
          2.905
         ]
        },
        {
         "marker": {
          "color": [
           "rgb(127, 60, 141)",
           "rgb(17, 165, 121)",
           "rgb(57, 105, 172)",
           "rgb(242, 183, 1)",
           "rgb(231, 63, 116)",
           "rgb(128, 186, 90)",
           "rgb(230, 131, 16)",
           "rgb(0, 134, 149)",
           "rgb(207, 28, 144)",
           "rgb(249, 123, 114)",
           "rgb(165, 170, 153)"
          ]
         },
         "name": "2017",
         "type": "histogram",
         "x": [
          7.53700017929077,
          7.52199983596802,
          7.50400018692017,
          7.49399995803833,
          7.4689998626709,
          7.3769998550415,
          7.31599998474121,
          7.31400012969971,
          7.28399991989136,
          7.28399991989136,
          7.21299982070923,
          7.0789999961853,
          7.00600004196167,
          6.99300003051758,
          6.97700023651123,
          6.95100021362305,
          6.89099979400635,
          6.86299991607666,
          6.71400022506714,
          6.65199995040894,
          6.64799976348877,
          6.63500022888184,
          6.60900020599365,
          6.59899997711182,
          6.57800006866455,
          6.57200002670288,
          6.52699995040894,
          6.4539999961853,
          6.4539999961853,
          6.4520001411438,
          6.44199991226196,
          6.42399978637695,
          6.42199993133545,
          6.40299987792969,
          6.375,
          6.35699987411499,
          6.3439998626709,
          6.16800022125244,
          6.10500001907349,
          6.09800004959106,
          6.08699989318848,
          6.08400011062622,
          6.07100009918213,
          6.00799989700317,
          6.00299978256226,
          5.97300004959106,
          5.97100019454956,
          5.96400022506714,
          5.96299982070923,
          5.95599985122681,
          5.92000007629395,
          5.90199995040894,
          5.87200021743774,
          5.84999990463257,
          5.83799982070923,
          5.83799982070923,
          5.82499980926514,
          5.82299995422363,
          5.82200002670288,
          5.81899976730347,
          5.80999994277954,
          5.75799989700317,
          5.71500015258789,
          5.62900018692017,
          5.62099981307983,
          5.61100006103516,
          5.56899976730347,
          5.52500009536743,
          5.5,
          5.49300003051758,
          5.47200012207031,
          5.42999982833862,
          5.39499998092651,
          5.33599996566772,
          5.32399988174438,
          5.31099987030029,
          5.29300022125244,
          5.27899980545044,
          5.27299976348877,
          5.26900005340576,
          5.26200008392334,
          5.25,
          5.23699998855591,
          5.2350001335144,
          5.23400020599365,
          5.23000001907349,
          5.22700023651123,
          5.22499990463257,
          5.19500017166138,
          5.18200016021729,
          5.18100023269653,
          5.17500019073486,
          5.15100002288818,
          5.07399988174438,
          5.07399988174438,
          5.04099988937378,
          5.01100015640259,
          5.00400018692017,
          4.96199989318848,
          4.95499992370605,
          4.8289999961853,
          4.80499982833862,
          4.77500009536743,
          4.7350001335144,
          4.71400022506714,
          4.70900011062622,
          4.69500017166138,
          4.69199991226196,
          4.64400005340576,
          4.60799980163574,
          4.57399988174438,
          4.55299997329712,
          4.55000019073486,
          4.54500007629395,
          4.53499984741211,
          4.51399993896484,
          4.49700021743774,
          4.46500015258789,
          4.46000003814697,
          4.44000005722046,
          4.37599992752075,
          4.31500005722046,
          4.29199981689453,
          4.29099988937378,
          4.28599977493286,
          4.28000020980835,
          4.19000005722046,
          4.17999982833862,
          4.16800022125244,
          4.13899993896484,
          4.11999988555908,
          4.09600019454956,
          4.08099985122681,
          4.03200006484985,
          4.02799987792969,
          3.97000002861023,
          3.93600010871887,
          3.875,
          3.80800008773804,
          3.79500007629395,
          3.79399991035461,
          3.76600003242493,
          3.65700006484985,
          3.64400005340576,
          3.6029999256134,
          3.59299993515015,
          3.59100008010864,
          3.53299999237061,
          3.50699996948242,
          3.49499988555908,
          3.47099995613098,
          3.46199989318848,
          3.34899997711182,
          2.90499997138977,
          2.69300007820129
         ]
        }
       ],
       "layout": {
        "barmode": "stack",
        "template": {
         "data": {
          "bar": [
           {
            "error_x": {
             "color": "#2a3f5f"
            },
            "error_y": {
             "color": "#2a3f5f"
            },
            "marker": {
             "line": {
              "color": "#E5ECF6",
              "width": 0.5
             },
             "pattern": {
              "fillmode": "overlay",
              "size": 10,
              "solidity": 0.2
             }
            },
            "type": "bar"
           }
          ],
          "barpolar": [
           {
            "marker": {
             "line": {
              "color": "#E5ECF6",
              "width": 0.5
             },
             "pattern": {
              "fillmode": "overlay",
              "size": 10,
              "solidity": 0.2
             }
            },
            "type": "barpolar"
           }
          ],
          "carpet": [
           {
            "aaxis": {
             "endlinecolor": "#2a3f5f",
             "gridcolor": "white",
             "linecolor": "white",
             "minorgridcolor": "white",
             "startlinecolor": "#2a3f5f"
            },
            "baxis": {
             "endlinecolor": "#2a3f5f",
             "gridcolor": "white",
             "linecolor": "white",
             "minorgridcolor": "white",
             "startlinecolor": "#2a3f5f"
            },
            "type": "carpet"
           }
          ],
          "choropleth": [
           {
            "colorbar": {
             "outlinewidth": 0,
             "ticks": ""
            },
            "type": "choropleth"
           }
          ],
          "contour": [
           {
            "colorbar": {
             "outlinewidth": 0,
             "ticks": ""
            },
            "colorscale": [
             [
              0,
              "#0d0887"
             ],
             [
              0.1111111111111111,
              "#46039f"
             ],
             [
              0.2222222222222222,
              "#7201a8"
             ],
             [
              0.3333333333333333,
              "#9c179e"
             ],
             [
              0.4444444444444444,
              "#bd3786"
             ],
             [
              0.5555555555555556,
              "#d8576b"
             ],
             [
              0.6666666666666666,
              "#ed7953"
             ],
             [
              0.7777777777777778,
              "#fb9f3a"
             ],
             [
              0.8888888888888888,
              "#fdca26"
             ],
             [
              1,
              "#f0f921"
             ]
            ],
            "type": "contour"
           }
          ],
          "contourcarpet": [
           {
            "colorbar": {
             "outlinewidth": 0,
             "ticks": ""
            },
            "type": "contourcarpet"
           }
          ],
          "heatmap": [
           {
            "colorbar": {
             "outlinewidth": 0,
             "ticks": ""
            },
            "colorscale": [
             [
              0,
              "#0d0887"
             ],
             [
              0.1111111111111111,
              "#46039f"
             ],
             [
              0.2222222222222222,
              "#7201a8"
             ],
             [
              0.3333333333333333,
              "#9c179e"
             ],
             [
              0.4444444444444444,
              "#bd3786"
             ],
             [
              0.5555555555555556,
              "#d8576b"
             ],
             [
              0.6666666666666666,
              "#ed7953"
             ],
             [
              0.7777777777777778,
              "#fb9f3a"
             ],
             [
              0.8888888888888888,
              "#fdca26"
             ],
             [
              1,
              "#f0f921"
             ]
            ],
            "type": "heatmap"
           }
          ],
          "heatmapgl": [
           {
            "colorbar": {
             "outlinewidth": 0,
             "ticks": ""
            },
            "colorscale": [
             [
              0,
              "#0d0887"
             ],
             [
              0.1111111111111111,
              "#46039f"
             ],
             [
              0.2222222222222222,
              "#7201a8"
             ],
             [
              0.3333333333333333,
              "#9c179e"
             ],
             [
              0.4444444444444444,
              "#bd3786"
             ],
             [
              0.5555555555555556,
              "#d8576b"
             ],
             [
              0.6666666666666666,
              "#ed7953"
             ],
             [
              0.7777777777777778,
              "#fb9f3a"
             ],
             [
              0.8888888888888888,
              "#fdca26"
             ],
             [
              1,
              "#f0f921"
             ]
            ],
            "type": "heatmapgl"
           }
          ],
          "histogram": [
           {
            "marker": {
             "pattern": {
              "fillmode": "overlay",
              "size": 10,
              "solidity": 0.2
             }
            },
            "type": "histogram"
           }
          ],
          "histogram2d": [
           {
            "colorbar": {
             "outlinewidth": 0,
             "ticks": ""
            },
            "colorscale": [
             [
              0,
              "#0d0887"
             ],
             [
              0.1111111111111111,
              "#46039f"
             ],
             [
              0.2222222222222222,
              "#7201a8"
             ],
             [
              0.3333333333333333,
              "#9c179e"
             ],
             [
              0.4444444444444444,
              "#bd3786"
             ],
             [
              0.5555555555555556,
              "#d8576b"
             ],
             [
              0.6666666666666666,
              "#ed7953"
             ],
             [
              0.7777777777777778,
              "#fb9f3a"
             ],
             [
              0.8888888888888888,
              "#fdca26"
             ],
             [
              1,
              "#f0f921"
             ]
            ],
            "type": "histogram2d"
           }
          ],
          "histogram2dcontour": [
           {
            "colorbar": {
             "outlinewidth": 0,
             "ticks": ""
            },
            "colorscale": [
             [
              0,
              "#0d0887"
             ],
             [
              0.1111111111111111,
              "#46039f"
             ],
             [
              0.2222222222222222,
              "#7201a8"
             ],
             [
              0.3333333333333333,
              "#9c179e"
             ],
             [
              0.4444444444444444,
              "#bd3786"
             ],
             [
              0.5555555555555556,
              "#d8576b"
             ],
             [
              0.6666666666666666,
              "#ed7953"
             ],
             [
              0.7777777777777778,
              "#fb9f3a"
             ],
             [
              0.8888888888888888,
              "#fdca26"
             ],
             [
              1,
              "#f0f921"
             ]
            ],
            "type": "histogram2dcontour"
           }
          ],
          "mesh3d": [
           {
            "colorbar": {
             "outlinewidth": 0,
             "ticks": ""
            },
            "type": "mesh3d"
           }
          ],
          "parcoords": [
           {
            "line": {
             "colorbar": {
              "outlinewidth": 0,
              "ticks": ""
             }
            },
            "type": "parcoords"
           }
          ],
          "pie": [
           {
            "automargin": true,
            "type": "pie"
           }
          ],
          "scatter": [
           {
            "fillpattern": {
             "fillmode": "overlay",
             "size": 10,
             "solidity": 0.2
            },
            "type": "scatter"
           }
          ],
          "scatter3d": [
           {
            "line": {
             "colorbar": {
              "outlinewidth": 0,
              "ticks": ""
             }
            },
            "marker": {
             "colorbar": {
              "outlinewidth": 0,
              "ticks": ""
             }
            },
            "type": "scatter3d"
           }
          ],
          "scattercarpet": [
           {
            "marker": {
             "colorbar": {
              "outlinewidth": 0,
              "ticks": ""
             }
            },
            "type": "scattercarpet"
           }
          ],
          "scattergeo": [
           {
            "marker": {
             "colorbar": {
              "outlinewidth": 0,
              "ticks": ""
             }
            },
            "type": "scattergeo"
           }
          ],
          "scattergl": [
           {
            "marker": {
             "colorbar": {
              "outlinewidth": 0,
              "ticks": ""
             }
            },
            "type": "scattergl"
           }
          ],
          "scattermapbox": [
           {
            "marker": {
             "colorbar": {
              "outlinewidth": 0,
              "ticks": ""
             }
            },
            "type": "scattermapbox"
           }
          ],
          "scatterpolar": [
           {
            "marker": {
             "colorbar": {
              "outlinewidth": 0,
              "ticks": ""
             }
            },
            "type": "scatterpolar"
           }
          ],
          "scatterpolargl": [
           {
            "marker": {
             "colorbar": {
              "outlinewidth": 0,
              "ticks": ""
             }
            },
            "type": "scatterpolargl"
           }
          ],
          "scatterternary": [
           {
            "marker": {
             "colorbar": {
              "outlinewidth": 0,
              "ticks": ""
             }
            },
            "type": "scatterternary"
           }
          ],
          "surface": [
           {
            "colorbar": {
             "outlinewidth": 0,
             "ticks": ""
            },
            "colorscale": [
             [
              0,
              "#0d0887"
             ],
             [
              0.1111111111111111,
              "#46039f"
             ],
             [
              0.2222222222222222,
              "#7201a8"
             ],
             [
              0.3333333333333333,
              "#9c179e"
             ],
             [
              0.4444444444444444,
              "#bd3786"
             ],
             [
              0.5555555555555556,
              "#d8576b"
             ],
             [
              0.6666666666666666,
              "#ed7953"
             ],
             [
              0.7777777777777778,
              "#fb9f3a"
             ],
             [
              0.8888888888888888,
              "#fdca26"
             ],
             [
              1,
              "#f0f921"
             ]
            ],
            "type": "surface"
           }
          ],
          "table": [
           {
            "cells": {
             "fill": {
              "color": "#EBF0F8"
             },
             "line": {
              "color": "white"
             }
            },
            "header": {
             "fill": {
              "color": "#C8D4E3"
             },
             "line": {
              "color": "white"
             }
            },
            "type": "table"
           }
          ]
         },
         "layout": {
          "annotationdefaults": {
           "arrowcolor": "#2a3f5f",
           "arrowhead": 0,
           "arrowwidth": 1
          },
          "autotypenumbers": "strict",
          "coloraxis": {
           "colorbar": {
            "outlinewidth": 0,
            "ticks": ""
           }
          },
          "colorscale": {
           "diverging": [
            [
             0,
             "#8e0152"
            ],
            [
             0.1,
             "#c51b7d"
            ],
            [
             0.2,
             "#de77ae"
            ],
            [
             0.3,
             "#f1b6da"
            ],
            [
             0.4,
             "#fde0ef"
            ],
            [
             0.5,
             "#f7f7f7"
            ],
            [
             0.6,
             "#e6f5d0"
            ],
            [
             0.7,
             "#b8e186"
            ],
            [
             0.8,
             "#7fbc41"
            ],
            [
             0.9,
             "#4d9221"
            ],
            [
             1,
             "#276419"
            ]
           ],
           "sequential": [
            [
             0,
             "#0d0887"
            ],
            [
             0.1111111111111111,
             "#46039f"
            ],
            [
             0.2222222222222222,
             "#7201a8"
            ],
            [
             0.3333333333333333,
             "#9c179e"
            ],
            [
             0.4444444444444444,
             "#bd3786"
            ],
            [
             0.5555555555555556,
             "#d8576b"
            ],
            [
             0.6666666666666666,
             "#ed7953"
            ],
            [
             0.7777777777777778,
             "#fb9f3a"
            ],
            [
             0.8888888888888888,
             "#fdca26"
            ],
            [
             1,
             "#f0f921"
            ]
           ],
           "sequentialminus": [
            [
             0,
             "#0d0887"
            ],
            [
             0.1111111111111111,
             "#46039f"
            ],
            [
             0.2222222222222222,
             "#7201a8"
            ],
            [
             0.3333333333333333,
             "#9c179e"
            ],
            [
             0.4444444444444444,
             "#bd3786"
            ],
            [
             0.5555555555555556,
             "#d8576b"
            ],
            [
             0.6666666666666666,
             "#ed7953"
            ],
            [
             0.7777777777777778,
             "#fb9f3a"
            ],
            [
             0.8888888888888888,
             "#fdca26"
            ],
            [
             1,
             "#f0f921"
            ]
           ]
          },
          "colorway": [
           "#636efa",
           "#EF553B",
           "#00cc96",
           "#ab63fa",
           "#FFA15A",
           "#19d3f3",
           "#FF6692",
           "#B6E880",
           "#FF97FF",
           "#FECB52"
          ],
          "font": {
           "color": "#2a3f5f"
          },
          "geo": {
           "bgcolor": "white",
           "lakecolor": "white",
           "landcolor": "#E5ECF6",
           "showlakes": true,
           "showland": true,
           "subunitcolor": "white"
          },
          "hoverlabel": {
           "align": "left"
          },
          "hovermode": "closest",
          "mapbox": {
           "style": "light"
          },
          "paper_bgcolor": "white",
          "plot_bgcolor": "#E5ECF6",
          "polar": {
           "angularaxis": {
            "gridcolor": "white",
            "linecolor": "white",
            "ticks": ""
           },
           "bgcolor": "#E5ECF6",
           "radialaxis": {
            "gridcolor": "white",
            "linecolor": "white",
            "ticks": ""
           }
          },
          "scene": {
           "xaxis": {
            "backgroundcolor": "#E5ECF6",
            "gridcolor": "white",
            "gridwidth": 2,
            "linecolor": "white",
            "showbackground": true,
            "ticks": "",
            "zerolinecolor": "white"
           },
           "yaxis": {
            "backgroundcolor": "#E5ECF6",
            "gridcolor": "white",
            "gridwidth": 2,
            "linecolor": "white",
            "showbackground": true,
            "ticks": "",
            "zerolinecolor": "white"
           },
           "zaxis": {
            "backgroundcolor": "#E5ECF6",
            "gridcolor": "white",
            "gridwidth": 2,
            "linecolor": "white",
            "showbackground": true,
            "ticks": "",
            "zerolinecolor": "white"
           }
          },
          "shapedefaults": {
           "line": {
            "color": "#2a3f5f"
           }
          },
          "ternary": {
           "aaxis": {
            "gridcolor": "white",
            "linecolor": "white",
            "ticks": ""
           },
           "baxis": {
            "gridcolor": "white",
            "linecolor": "white",
            "ticks": ""
           },
           "bgcolor": "#E5ECF6",
           "caxis": {
            "gridcolor": "white",
            "linecolor": "white",
            "ticks": ""
           }
          },
          "title": {
           "x": 0.05
          },
          "xaxis": {
           "automargin": true,
           "gridcolor": "white",
           "linecolor": "white",
           "ticks": "",
           "title": {
            "standoff": 15
           },
           "zerolinecolor": "white",
           "zerolinewidth": 2
          },
          "yaxis": {
           "automargin": true,
           "gridcolor": "white",
           "linecolor": "white",
           "ticks": "",
           "title": {
            "standoff": 15
           },
           "zerolinecolor": "white",
           "zerolinewidth": 2
          }
         }
        }
       }
      }
     },
     "metadata": {},
     "output_type": "display_data"
    }
   ],
   "source": [
    "import plotly.graph_objects as go\n",
    "x0=data_2019['Social support']\n",
    "x1=data_2015['Happiness Score']\n",
    "x2=data_2016['Happiness Score']\n",
    "x3=data_2017['Happiness.Score']\n",
    "fig = go.Figure()\n",
    "fig.add_trace(go.Histogram(x=x0,marker_color=px.colors.qualitative.Bold, name='2019'))\n",
    "fig.add_trace(go.Histogram(x=x1,marker_color=px.colors.qualitative.Bold, name='2015'))\n",
    "fig.add_trace(go.Histogram(x=x2,marker_color=px.colors.qualitative.Bold, name='2016'))\n",
    "fig.add_trace(go.Histogram(x=x3,marker_color=px.colors.qualitative.Bold, name='2017'))\n",
    "\n",
    "# The two histograms are drawn on top of another\n",
    "fig.update_layout(barmode='stack')\n",
    "fig.show()"
   ]
  },
  {
   "cell_type": "markdown",
   "id": "f09bb809-0edd-432b-bf23-abd0840b3e16",
   "metadata": {},
   "source": [
    "## 4. Bivariate/Multivariate Analysis:\n",
    "\n",
    "Here, you look at the relationships between two or more variables. This can involve looking for correlations, patterns, and trends that suggest a relationship or an association.\n",
    "\n",
    "We can perform bi-variate analysis for any combination of categorical and numerical variables. The combination can be:\n",
    "| bi-variate variables   | Plot type |\n",
    "| ------------- | ------------- |\n",
    "| Categorical & Categorical| Stacked Bar Chart |\n",
    "| Categorical & numerical  | scatter plot, histogram, box plot|\n",
    "| numerical  & numerical  | Scatter plot, line chart| \n",
    "\n",
    "\n",
    "Multivariate Analysis:\n",
    "- Heat map\n",
    "- Bar Chart\n",
    "- Scatter Chart\n",
    "- Line Chart"
   ]
  },
  {
   "cell_type": "code",
   "execution_count": 84,
   "id": "3f78e270",
   "metadata": {},
   "outputs": [],
   "source": []
  },
  {
   "cell_type": "markdown",
   "id": "838f2864-ce9e-4f15-99c8-052d053154a7",
   "metadata": {},
   "source": [
    "**Categorical & Categorical --> (Stacked Column Chart)**"
   ]
  },
  {
   "cell_type": "code",
   "execution_count": null,
   "id": "73f9f2ac-8477-49ea-9c68-4fe44d4395b6",
   "metadata": {},
   "outputs": [],
   "source": []
  },
  {
   "cell_type": "markdown",
   "id": "730e088f-fe13-40da-8fbb-686f5135fa4d",
   "metadata": {},
   "source": [
    "**Categorical & numerical --> (scatter plot, histogram, box plot)**"
   ]
  },
  {
   "cell_type": "code",
   "execution_count": 130,
   "id": "1a143ac0",
   "metadata": {},
   "outputs": [
    {
     "data": {
      "application/vnd.plotly.v1+json": {
       "config": {
        "plotlyServerURL": "https://plot.ly"
       },
       "data": [
        {
         "alignmentgroup": "True",
         "hovertemplate": "Country or region=%{x}<br>Score=%{y}<extra></extra>",
         "legendgroup": "",
         "marker": {
          "color": "#636efa",
          "pattern": {
           "shape": ""
          }
         },
         "name": "",
         "offsetgroup": "",
         "orientation": "v",
         "showlegend": false,
         "textposition": "auto",
         "type": "bar",
         "x": [
          "Finland",
          "Denmark",
          "Norway",
          "Iceland",
          "Netherlands",
          "Switzerland",
          "Sweden",
          "New Zealand",
          "Canada",
          "Austria"
         ],
         "xaxis": "x",
         "y": [
          7.769,
          7.6,
          7.554,
          7.494,
          7.488,
          7.48,
          7.343,
          7.307,
          7.278,
          7.246
         ],
         "yaxis": "y"
        }
       ],
       "layout": {
        "barmode": "relative",
        "legend": {
         "tracegroupgap": 0
        },
        "template": {
         "data": {
          "bar": [
           {
            "error_x": {
             "color": "#2a3f5f"
            },
            "error_y": {
             "color": "#2a3f5f"
            },
            "marker": {
             "line": {
              "color": "#E5ECF6",
              "width": 0.5
             },
             "pattern": {
              "fillmode": "overlay",
              "size": 10,
              "solidity": 0.2
             }
            },
            "type": "bar"
           }
          ],
          "barpolar": [
           {
            "marker": {
             "line": {
              "color": "#E5ECF6",
              "width": 0.5
             },
             "pattern": {
              "fillmode": "overlay",
              "size": 10,
              "solidity": 0.2
             }
            },
            "type": "barpolar"
           }
          ],
          "carpet": [
           {
            "aaxis": {
             "endlinecolor": "#2a3f5f",
             "gridcolor": "white",
             "linecolor": "white",
             "minorgridcolor": "white",
             "startlinecolor": "#2a3f5f"
            },
            "baxis": {
             "endlinecolor": "#2a3f5f",
             "gridcolor": "white",
             "linecolor": "white",
             "minorgridcolor": "white",
             "startlinecolor": "#2a3f5f"
            },
            "type": "carpet"
           }
          ],
          "choropleth": [
           {
            "colorbar": {
             "outlinewidth": 0,
             "ticks": ""
            },
            "type": "choropleth"
           }
          ],
          "contour": [
           {
            "colorbar": {
             "outlinewidth": 0,
             "ticks": ""
            },
            "colorscale": [
             [
              0,
              "#0d0887"
             ],
             [
              0.1111111111111111,
              "#46039f"
             ],
             [
              0.2222222222222222,
              "#7201a8"
             ],
             [
              0.3333333333333333,
              "#9c179e"
             ],
             [
              0.4444444444444444,
              "#bd3786"
             ],
             [
              0.5555555555555556,
              "#d8576b"
             ],
             [
              0.6666666666666666,
              "#ed7953"
             ],
             [
              0.7777777777777778,
              "#fb9f3a"
             ],
             [
              0.8888888888888888,
              "#fdca26"
             ],
             [
              1,
              "#f0f921"
             ]
            ],
            "type": "contour"
           }
          ],
          "contourcarpet": [
           {
            "colorbar": {
             "outlinewidth": 0,
             "ticks": ""
            },
            "type": "contourcarpet"
           }
          ],
          "heatmap": [
           {
            "colorbar": {
             "outlinewidth": 0,
             "ticks": ""
            },
            "colorscale": [
             [
              0,
              "#0d0887"
             ],
             [
              0.1111111111111111,
              "#46039f"
             ],
             [
              0.2222222222222222,
              "#7201a8"
             ],
             [
              0.3333333333333333,
              "#9c179e"
             ],
             [
              0.4444444444444444,
              "#bd3786"
             ],
             [
              0.5555555555555556,
              "#d8576b"
             ],
             [
              0.6666666666666666,
              "#ed7953"
             ],
             [
              0.7777777777777778,
              "#fb9f3a"
             ],
             [
              0.8888888888888888,
              "#fdca26"
             ],
             [
              1,
              "#f0f921"
             ]
            ],
            "type": "heatmap"
           }
          ],
          "heatmapgl": [
           {
            "colorbar": {
             "outlinewidth": 0,
             "ticks": ""
            },
            "colorscale": [
             [
              0,
              "#0d0887"
             ],
             [
              0.1111111111111111,
              "#46039f"
             ],
             [
              0.2222222222222222,
              "#7201a8"
             ],
             [
              0.3333333333333333,
              "#9c179e"
             ],
             [
              0.4444444444444444,
              "#bd3786"
             ],
             [
              0.5555555555555556,
              "#d8576b"
             ],
             [
              0.6666666666666666,
              "#ed7953"
             ],
             [
              0.7777777777777778,
              "#fb9f3a"
             ],
             [
              0.8888888888888888,
              "#fdca26"
             ],
             [
              1,
              "#f0f921"
             ]
            ],
            "type": "heatmapgl"
           }
          ],
          "histogram": [
           {
            "marker": {
             "pattern": {
              "fillmode": "overlay",
              "size": 10,
              "solidity": 0.2
             }
            },
            "type": "histogram"
           }
          ],
          "histogram2d": [
           {
            "colorbar": {
             "outlinewidth": 0,
             "ticks": ""
            },
            "colorscale": [
             [
              0,
              "#0d0887"
             ],
             [
              0.1111111111111111,
              "#46039f"
             ],
             [
              0.2222222222222222,
              "#7201a8"
             ],
             [
              0.3333333333333333,
              "#9c179e"
             ],
             [
              0.4444444444444444,
              "#bd3786"
             ],
             [
              0.5555555555555556,
              "#d8576b"
             ],
             [
              0.6666666666666666,
              "#ed7953"
             ],
             [
              0.7777777777777778,
              "#fb9f3a"
             ],
             [
              0.8888888888888888,
              "#fdca26"
             ],
             [
              1,
              "#f0f921"
             ]
            ],
            "type": "histogram2d"
           }
          ],
          "histogram2dcontour": [
           {
            "colorbar": {
             "outlinewidth": 0,
             "ticks": ""
            },
            "colorscale": [
             [
              0,
              "#0d0887"
             ],
             [
              0.1111111111111111,
              "#46039f"
             ],
             [
              0.2222222222222222,
              "#7201a8"
             ],
             [
              0.3333333333333333,
              "#9c179e"
             ],
             [
              0.4444444444444444,
              "#bd3786"
             ],
             [
              0.5555555555555556,
              "#d8576b"
             ],
             [
              0.6666666666666666,
              "#ed7953"
             ],
             [
              0.7777777777777778,
              "#fb9f3a"
             ],
             [
              0.8888888888888888,
              "#fdca26"
             ],
             [
              1,
              "#f0f921"
             ]
            ],
            "type": "histogram2dcontour"
           }
          ],
          "mesh3d": [
           {
            "colorbar": {
             "outlinewidth": 0,
             "ticks": ""
            },
            "type": "mesh3d"
           }
          ],
          "parcoords": [
           {
            "line": {
             "colorbar": {
              "outlinewidth": 0,
              "ticks": ""
             }
            },
            "type": "parcoords"
           }
          ],
          "pie": [
           {
            "automargin": true,
            "type": "pie"
           }
          ],
          "scatter": [
           {
            "fillpattern": {
             "fillmode": "overlay",
             "size": 10,
             "solidity": 0.2
            },
            "type": "scatter"
           }
          ],
          "scatter3d": [
           {
            "line": {
             "colorbar": {
              "outlinewidth": 0,
              "ticks": ""
             }
            },
            "marker": {
             "colorbar": {
              "outlinewidth": 0,
              "ticks": ""
             }
            },
            "type": "scatter3d"
           }
          ],
          "scattercarpet": [
           {
            "marker": {
             "colorbar": {
              "outlinewidth": 0,
              "ticks": ""
             }
            },
            "type": "scattercarpet"
           }
          ],
          "scattergeo": [
           {
            "marker": {
             "colorbar": {
              "outlinewidth": 0,
              "ticks": ""
             }
            },
            "type": "scattergeo"
           }
          ],
          "scattergl": [
           {
            "marker": {
             "colorbar": {
              "outlinewidth": 0,
              "ticks": ""
             }
            },
            "type": "scattergl"
           }
          ],
          "scattermapbox": [
           {
            "marker": {
             "colorbar": {
              "outlinewidth": 0,
              "ticks": ""
             }
            },
            "type": "scattermapbox"
           }
          ],
          "scatterpolar": [
           {
            "marker": {
             "colorbar": {
              "outlinewidth": 0,
              "ticks": ""
             }
            },
            "type": "scatterpolar"
           }
          ],
          "scatterpolargl": [
           {
            "marker": {
             "colorbar": {
              "outlinewidth": 0,
              "ticks": ""
             }
            },
            "type": "scatterpolargl"
           }
          ],
          "scatterternary": [
           {
            "marker": {
             "colorbar": {
              "outlinewidth": 0,
              "ticks": ""
             }
            },
            "type": "scatterternary"
           }
          ],
          "surface": [
           {
            "colorbar": {
             "outlinewidth": 0,
             "ticks": ""
            },
            "colorscale": [
             [
              0,
              "#0d0887"
             ],
             [
              0.1111111111111111,
              "#46039f"
             ],
             [
              0.2222222222222222,
              "#7201a8"
             ],
             [
              0.3333333333333333,
              "#9c179e"
             ],
             [
              0.4444444444444444,
              "#bd3786"
             ],
             [
              0.5555555555555556,
              "#d8576b"
             ],
             [
              0.6666666666666666,
              "#ed7953"
             ],
             [
              0.7777777777777778,
              "#fb9f3a"
             ],
             [
              0.8888888888888888,
              "#fdca26"
             ],
             [
              1,
              "#f0f921"
             ]
            ],
            "type": "surface"
           }
          ],
          "table": [
           {
            "cells": {
             "fill": {
              "color": "#EBF0F8"
             },
             "line": {
              "color": "white"
             }
            },
            "header": {
             "fill": {
              "color": "#C8D4E3"
             },
             "line": {
              "color": "white"
             }
            },
            "type": "table"
           }
          ]
         },
         "layout": {
          "annotationdefaults": {
           "arrowcolor": "#2a3f5f",
           "arrowhead": 0,
           "arrowwidth": 1
          },
          "autotypenumbers": "strict",
          "coloraxis": {
           "colorbar": {
            "outlinewidth": 0,
            "ticks": ""
           }
          },
          "colorscale": {
           "diverging": [
            [
             0,
             "#8e0152"
            ],
            [
             0.1,
             "#c51b7d"
            ],
            [
             0.2,
             "#de77ae"
            ],
            [
             0.3,
             "#f1b6da"
            ],
            [
             0.4,
             "#fde0ef"
            ],
            [
             0.5,
             "#f7f7f7"
            ],
            [
             0.6,
             "#e6f5d0"
            ],
            [
             0.7,
             "#b8e186"
            ],
            [
             0.8,
             "#7fbc41"
            ],
            [
             0.9,
             "#4d9221"
            ],
            [
             1,
             "#276419"
            ]
           ],
           "sequential": [
            [
             0,
             "#0d0887"
            ],
            [
             0.1111111111111111,
             "#46039f"
            ],
            [
             0.2222222222222222,
             "#7201a8"
            ],
            [
             0.3333333333333333,
             "#9c179e"
            ],
            [
             0.4444444444444444,
             "#bd3786"
            ],
            [
             0.5555555555555556,
             "#d8576b"
            ],
            [
             0.6666666666666666,
             "#ed7953"
            ],
            [
             0.7777777777777778,
             "#fb9f3a"
            ],
            [
             0.8888888888888888,
             "#fdca26"
            ],
            [
             1,
             "#f0f921"
            ]
           ],
           "sequentialminus": [
            [
             0,
             "#0d0887"
            ],
            [
             0.1111111111111111,
             "#46039f"
            ],
            [
             0.2222222222222222,
             "#7201a8"
            ],
            [
             0.3333333333333333,
             "#9c179e"
            ],
            [
             0.4444444444444444,
             "#bd3786"
            ],
            [
             0.5555555555555556,
             "#d8576b"
            ],
            [
             0.6666666666666666,
             "#ed7953"
            ],
            [
             0.7777777777777778,
             "#fb9f3a"
            ],
            [
             0.8888888888888888,
             "#fdca26"
            ],
            [
             1,
             "#f0f921"
            ]
           ]
          },
          "colorway": [
           "#636efa",
           "#EF553B",
           "#00cc96",
           "#ab63fa",
           "#FFA15A",
           "#19d3f3",
           "#FF6692",
           "#B6E880",
           "#FF97FF",
           "#FECB52"
          ],
          "font": {
           "color": "#2a3f5f"
          },
          "geo": {
           "bgcolor": "white",
           "lakecolor": "white",
           "landcolor": "#E5ECF6",
           "showlakes": true,
           "showland": true,
           "subunitcolor": "white"
          },
          "hoverlabel": {
           "align": "left"
          },
          "hovermode": "closest",
          "mapbox": {
           "style": "light"
          },
          "paper_bgcolor": "white",
          "plot_bgcolor": "#E5ECF6",
          "polar": {
           "angularaxis": {
            "gridcolor": "white",
            "linecolor": "white",
            "ticks": ""
           },
           "bgcolor": "#E5ECF6",
           "radialaxis": {
            "gridcolor": "white",
            "linecolor": "white",
            "ticks": ""
           }
          },
          "scene": {
           "xaxis": {
            "backgroundcolor": "#E5ECF6",
            "gridcolor": "white",
            "gridwidth": 2,
            "linecolor": "white",
            "showbackground": true,
            "ticks": "",
            "zerolinecolor": "white"
           },
           "yaxis": {
            "backgroundcolor": "#E5ECF6",
            "gridcolor": "white",
            "gridwidth": 2,
            "linecolor": "white",
            "showbackground": true,
            "ticks": "",
            "zerolinecolor": "white"
           },
           "zaxis": {
            "backgroundcolor": "#E5ECF6",
            "gridcolor": "white",
            "gridwidth": 2,
            "linecolor": "white",
            "showbackground": true,
            "ticks": "",
            "zerolinecolor": "white"
           }
          },
          "shapedefaults": {
           "line": {
            "color": "#2a3f5f"
           }
          },
          "ternary": {
           "aaxis": {
            "gridcolor": "white",
            "linecolor": "white",
            "ticks": ""
           },
           "baxis": {
            "gridcolor": "white",
            "linecolor": "white",
            "ticks": ""
           },
           "bgcolor": "#E5ECF6",
           "caxis": {
            "gridcolor": "white",
            "linecolor": "white",
            "ticks": ""
           }
          },
          "title": {
           "x": 0.05
          },
          "xaxis": {
           "automargin": true,
           "gridcolor": "white",
           "linecolor": "white",
           "ticks": "",
           "title": {
            "standoff": 15
           },
           "zerolinecolor": "white",
           "zerolinewidth": 2
          },
          "yaxis": {
           "automargin": true,
           "gridcolor": "white",
           "linecolor": "white",
           "ticks": "",
           "title": {
            "standoff": 15
           },
           "zerolinecolor": "white",
           "zerolinewidth": 2
          }
         }
        },
        "title": {
         "text": "Top 10 happiest country in 2019"
        },
        "xaxis": {
         "anchor": "y",
         "domain": [
          0,
          1
         ],
         "title": {
          "text": "Country or region"
         }
        },
        "yaxis": {
         "anchor": "x",
         "domain": [
          0,
          1
         ],
         "title": {
          "text": "Score"
         }
        }
       }
      }
     },
     "metadata": {},
     "output_type": "display_data"
    }
   ],
   "source": [
    "top_10_data_2019 = data_2019.sort_values(by='Score', ascending=False).head(10)\n",
    "\n",
    "fig = px.bar(top_10_data_2019, x='Country or region', y='Score',color_continuous_scale=px.colors.qualitative.Bold,title='Top 10 happiest country in 2019')\n",
    "\n",
    "\n",
    "fig.show()\n"
   ]
  },
  {
   "cell_type": "code",
   "execution_count": 131,
   "id": "05803a4c",
   "metadata": {},
   "outputs": [
    {
     "data": {
      "application/vnd.plotly.v1+json": {
       "config": {
        "plotlyServerURL": "https://plot.ly"
       },
       "data": [
        {
         "alignmentgroup": "True",
         "hovertemplate": "Country=%{x}<br>Happiness.Score=%{y}<extra></extra>",
         "legendgroup": "",
         "marker": {
          "color": "#636efa",
          "pattern": {
           "shape": ""
          }
         },
         "name": "",
         "offsetgroup": "",
         "orientation": "v",
         "showlegend": false,
         "textposition": "auto",
         "type": "bar",
         "x": [
          "Norway",
          "Denmark",
          "Iceland",
          "Switzerland",
          "Finland",
          "Netherlands",
          "Canada",
          "New Zealand",
          "Australia",
          "Sweden"
         ],
         "xaxis": "x",
         "y": [
          7.53700017929077,
          7.52199983596802,
          7.50400018692017,
          7.49399995803833,
          7.4689998626709,
          7.3769998550415,
          7.31599998474121,
          7.31400012969971,
          7.28399991989136,
          7.28399991989136
         ],
         "yaxis": "y"
        }
       ],
       "layout": {
        "barmode": "relative",
        "legend": {
         "tracegroupgap": 0
        },
        "template": {
         "data": {
          "bar": [
           {
            "error_x": {
             "color": "#2a3f5f"
            },
            "error_y": {
             "color": "#2a3f5f"
            },
            "marker": {
             "line": {
              "color": "#E5ECF6",
              "width": 0.5
             },
             "pattern": {
              "fillmode": "overlay",
              "size": 10,
              "solidity": 0.2
             }
            },
            "type": "bar"
           }
          ],
          "barpolar": [
           {
            "marker": {
             "line": {
              "color": "#E5ECF6",
              "width": 0.5
             },
             "pattern": {
              "fillmode": "overlay",
              "size": 10,
              "solidity": 0.2
             }
            },
            "type": "barpolar"
           }
          ],
          "carpet": [
           {
            "aaxis": {
             "endlinecolor": "#2a3f5f",
             "gridcolor": "white",
             "linecolor": "white",
             "minorgridcolor": "white",
             "startlinecolor": "#2a3f5f"
            },
            "baxis": {
             "endlinecolor": "#2a3f5f",
             "gridcolor": "white",
             "linecolor": "white",
             "minorgridcolor": "white",
             "startlinecolor": "#2a3f5f"
            },
            "type": "carpet"
           }
          ],
          "choropleth": [
           {
            "colorbar": {
             "outlinewidth": 0,
             "ticks": ""
            },
            "type": "choropleth"
           }
          ],
          "contour": [
           {
            "colorbar": {
             "outlinewidth": 0,
             "ticks": ""
            },
            "colorscale": [
             [
              0,
              "#0d0887"
             ],
             [
              0.1111111111111111,
              "#46039f"
             ],
             [
              0.2222222222222222,
              "#7201a8"
             ],
             [
              0.3333333333333333,
              "#9c179e"
             ],
             [
              0.4444444444444444,
              "#bd3786"
             ],
             [
              0.5555555555555556,
              "#d8576b"
             ],
             [
              0.6666666666666666,
              "#ed7953"
             ],
             [
              0.7777777777777778,
              "#fb9f3a"
             ],
             [
              0.8888888888888888,
              "#fdca26"
             ],
             [
              1,
              "#f0f921"
             ]
            ],
            "type": "contour"
           }
          ],
          "contourcarpet": [
           {
            "colorbar": {
             "outlinewidth": 0,
             "ticks": ""
            },
            "type": "contourcarpet"
           }
          ],
          "heatmap": [
           {
            "colorbar": {
             "outlinewidth": 0,
             "ticks": ""
            },
            "colorscale": [
             [
              0,
              "#0d0887"
             ],
             [
              0.1111111111111111,
              "#46039f"
             ],
             [
              0.2222222222222222,
              "#7201a8"
             ],
             [
              0.3333333333333333,
              "#9c179e"
             ],
             [
              0.4444444444444444,
              "#bd3786"
             ],
             [
              0.5555555555555556,
              "#d8576b"
             ],
             [
              0.6666666666666666,
              "#ed7953"
             ],
             [
              0.7777777777777778,
              "#fb9f3a"
             ],
             [
              0.8888888888888888,
              "#fdca26"
             ],
             [
              1,
              "#f0f921"
             ]
            ],
            "type": "heatmap"
           }
          ],
          "heatmapgl": [
           {
            "colorbar": {
             "outlinewidth": 0,
             "ticks": ""
            },
            "colorscale": [
             [
              0,
              "#0d0887"
             ],
             [
              0.1111111111111111,
              "#46039f"
             ],
             [
              0.2222222222222222,
              "#7201a8"
             ],
             [
              0.3333333333333333,
              "#9c179e"
             ],
             [
              0.4444444444444444,
              "#bd3786"
             ],
             [
              0.5555555555555556,
              "#d8576b"
             ],
             [
              0.6666666666666666,
              "#ed7953"
             ],
             [
              0.7777777777777778,
              "#fb9f3a"
             ],
             [
              0.8888888888888888,
              "#fdca26"
             ],
             [
              1,
              "#f0f921"
             ]
            ],
            "type": "heatmapgl"
           }
          ],
          "histogram": [
           {
            "marker": {
             "pattern": {
              "fillmode": "overlay",
              "size": 10,
              "solidity": 0.2
             }
            },
            "type": "histogram"
           }
          ],
          "histogram2d": [
           {
            "colorbar": {
             "outlinewidth": 0,
             "ticks": ""
            },
            "colorscale": [
             [
              0,
              "#0d0887"
             ],
             [
              0.1111111111111111,
              "#46039f"
             ],
             [
              0.2222222222222222,
              "#7201a8"
             ],
             [
              0.3333333333333333,
              "#9c179e"
             ],
             [
              0.4444444444444444,
              "#bd3786"
             ],
             [
              0.5555555555555556,
              "#d8576b"
             ],
             [
              0.6666666666666666,
              "#ed7953"
             ],
             [
              0.7777777777777778,
              "#fb9f3a"
             ],
             [
              0.8888888888888888,
              "#fdca26"
             ],
             [
              1,
              "#f0f921"
             ]
            ],
            "type": "histogram2d"
           }
          ],
          "histogram2dcontour": [
           {
            "colorbar": {
             "outlinewidth": 0,
             "ticks": ""
            },
            "colorscale": [
             [
              0,
              "#0d0887"
             ],
             [
              0.1111111111111111,
              "#46039f"
             ],
             [
              0.2222222222222222,
              "#7201a8"
             ],
             [
              0.3333333333333333,
              "#9c179e"
             ],
             [
              0.4444444444444444,
              "#bd3786"
             ],
             [
              0.5555555555555556,
              "#d8576b"
             ],
             [
              0.6666666666666666,
              "#ed7953"
             ],
             [
              0.7777777777777778,
              "#fb9f3a"
             ],
             [
              0.8888888888888888,
              "#fdca26"
             ],
             [
              1,
              "#f0f921"
             ]
            ],
            "type": "histogram2dcontour"
           }
          ],
          "mesh3d": [
           {
            "colorbar": {
             "outlinewidth": 0,
             "ticks": ""
            },
            "type": "mesh3d"
           }
          ],
          "parcoords": [
           {
            "line": {
             "colorbar": {
              "outlinewidth": 0,
              "ticks": ""
             }
            },
            "type": "parcoords"
           }
          ],
          "pie": [
           {
            "automargin": true,
            "type": "pie"
           }
          ],
          "scatter": [
           {
            "fillpattern": {
             "fillmode": "overlay",
             "size": 10,
             "solidity": 0.2
            },
            "type": "scatter"
           }
          ],
          "scatter3d": [
           {
            "line": {
             "colorbar": {
              "outlinewidth": 0,
              "ticks": ""
             }
            },
            "marker": {
             "colorbar": {
              "outlinewidth": 0,
              "ticks": ""
             }
            },
            "type": "scatter3d"
           }
          ],
          "scattercarpet": [
           {
            "marker": {
             "colorbar": {
              "outlinewidth": 0,
              "ticks": ""
             }
            },
            "type": "scattercarpet"
           }
          ],
          "scattergeo": [
           {
            "marker": {
             "colorbar": {
              "outlinewidth": 0,
              "ticks": ""
             }
            },
            "type": "scattergeo"
           }
          ],
          "scattergl": [
           {
            "marker": {
             "colorbar": {
              "outlinewidth": 0,
              "ticks": ""
             }
            },
            "type": "scattergl"
           }
          ],
          "scattermapbox": [
           {
            "marker": {
             "colorbar": {
              "outlinewidth": 0,
              "ticks": ""
             }
            },
            "type": "scattermapbox"
           }
          ],
          "scatterpolar": [
           {
            "marker": {
             "colorbar": {
              "outlinewidth": 0,
              "ticks": ""
             }
            },
            "type": "scatterpolar"
           }
          ],
          "scatterpolargl": [
           {
            "marker": {
             "colorbar": {
              "outlinewidth": 0,
              "ticks": ""
             }
            },
            "type": "scatterpolargl"
           }
          ],
          "scatterternary": [
           {
            "marker": {
             "colorbar": {
              "outlinewidth": 0,
              "ticks": ""
             }
            },
            "type": "scatterternary"
           }
          ],
          "surface": [
           {
            "colorbar": {
             "outlinewidth": 0,
             "ticks": ""
            },
            "colorscale": [
             [
              0,
              "#0d0887"
             ],
             [
              0.1111111111111111,
              "#46039f"
             ],
             [
              0.2222222222222222,
              "#7201a8"
             ],
             [
              0.3333333333333333,
              "#9c179e"
             ],
             [
              0.4444444444444444,
              "#bd3786"
             ],
             [
              0.5555555555555556,
              "#d8576b"
             ],
             [
              0.6666666666666666,
              "#ed7953"
             ],
             [
              0.7777777777777778,
              "#fb9f3a"
             ],
             [
              0.8888888888888888,
              "#fdca26"
             ],
             [
              1,
              "#f0f921"
             ]
            ],
            "type": "surface"
           }
          ],
          "table": [
           {
            "cells": {
             "fill": {
              "color": "#EBF0F8"
             },
             "line": {
              "color": "white"
             }
            },
            "header": {
             "fill": {
              "color": "#C8D4E3"
             },
             "line": {
              "color": "white"
             }
            },
            "type": "table"
           }
          ]
         },
         "layout": {
          "annotationdefaults": {
           "arrowcolor": "#2a3f5f",
           "arrowhead": 0,
           "arrowwidth": 1
          },
          "autotypenumbers": "strict",
          "coloraxis": {
           "colorbar": {
            "outlinewidth": 0,
            "ticks": ""
           }
          },
          "colorscale": {
           "diverging": [
            [
             0,
             "#8e0152"
            ],
            [
             0.1,
             "#c51b7d"
            ],
            [
             0.2,
             "#de77ae"
            ],
            [
             0.3,
             "#f1b6da"
            ],
            [
             0.4,
             "#fde0ef"
            ],
            [
             0.5,
             "#f7f7f7"
            ],
            [
             0.6,
             "#e6f5d0"
            ],
            [
             0.7,
             "#b8e186"
            ],
            [
             0.8,
             "#7fbc41"
            ],
            [
             0.9,
             "#4d9221"
            ],
            [
             1,
             "#276419"
            ]
           ],
           "sequential": [
            [
             0,
             "#0d0887"
            ],
            [
             0.1111111111111111,
             "#46039f"
            ],
            [
             0.2222222222222222,
             "#7201a8"
            ],
            [
             0.3333333333333333,
             "#9c179e"
            ],
            [
             0.4444444444444444,
             "#bd3786"
            ],
            [
             0.5555555555555556,
             "#d8576b"
            ],
            [
             0.6666666666666666,
             "#ed7953"
            ],
            [
             0.7777777777777778,
             "#fb9f3a"
            ],
            [
             0.8888888888888888,
             "#fdca26"
            ],
            [
             1,
             "#f0f921"
            ]
           ],
           "sequentialminus": [
            [
             0,
             "#0d0887"
            ],
            [
             0.1111111111111111,
             "#46039f"
            ],
            [
             0.2222222222222222,
             "#7201a8"
            ],
            [
             0.3333333333333333,
             "#9c179e"
            ],
            [
             0.4444444444444444,
             "#bd3786"
            ],
            [
             0.5555555555555556,
             "#d8576b"
            ],
            [
             0.6666666666666666,
             "#ed7953"
            ],
            [
             0.7777777777777778,
             "#fb9f3a"
            ],
            [
             0.8888888888888888,
             "#fdca26"
            ],
            [
             1,
             "#f0f921"
            ]
           ]
          },
          "colorway": [
           "#636efa",
           "#EF553B",
           "#00cc96",
           "#ab63fa",
           "#FFA15A",
           "#19d3f3",
           "#FF6692",
           "#B6E880",
           "#FF97FF",
           "#FECB52"
          ],
          "font": {
           "color": "#2a3f5f"
          },
          "geo": {
           "bgcolor": "white",
           "lakecolor": "white",
           "landcolor": "#E5ECF6",
           "showlakes": true,
           "showland": true,
           "subunitcolor": "white"
          },
          "hoverlabel": {
           "align": "left"
          },
          "hovermode": "closest",
          "mapbox": {
           "style": "light"
          },
          "paper_bgcolor": "white",
          "plot_bgcolor": "#E5ECF6",
          "polar": {
           "angularaxis": {
            "gridcolor": "white",
            "linecolor": "white",
            "ticks": ""
           },
           "bgcolor": "#E5ECF6",
           "radialaxis": {
            "gridcolor": "white",
            "linecolor": "white",
            "ticks": ""
           }
          },
          "scene": {
           "xaxis": {
            "backgroundcolor": "#E5ECF6",
            "gridcolor": "white",
            "gridwidth": 2,
            "linecolor": "white",
            "showbackground": true,
            "ticks": "",
            "zerolinecolor": "white"
           },
           "yaxis": {
            "backgroundcolor": "#E5ECF6",
            "gridcolor": "white",
            "gridwidth": 2,
            "linecolor": "white",
            "showbackground": true,
            "ticks": "",
            "zerolinecolor": "white"
           },
           "zaxis": {
            "backgroundcolor": "#E5ECF6",
            "gridcolor": "white",
            "gridwidth": 2,
            "linecolor": "white",
            "showbackground": true,
            "ticks": "",
            "zerolinecolor": "white"
           }
          },
          "shapedefaults": {
           "line": {
            "color": "#2a3f5f"
           }
          },
          "ternary": {
           "aaxis": {
            "gridcolor": "white",
            "linecolor": "white",
            "ticks": ""
           },
           "baxis": {
            "gridcolor": "white",
            "linecolor": "white",
            "ticks": ""
           },
           "bgcolor": "#E5ECF6",
           "caxis": {
            "gridcolor": "white",
            "linecolor": "white",
            "ticks": ""
           }
          },
          "title": {
           "x": 0.05
          },
          "xaxis": {
           "automargin": true,
           "gridcolor": "white",
           "linecolor": "white",
           "ticks": "",
           "title": {
            "standoff": 15
           },
           "zerolinecolor": "white",
           "zerolinewidth": 2
          },
          "yaxis": {
           "automargin": true,
           "gridcolor": "white",
           "linecolor": "white",
           "ticks": "",
           "title": {
            "standoff": 15
           },
           "zerolinecolor": "white",
           "zerolinewidth": 2
          }
         }
        },
        "title": {
         "text": "Top 10 happiest country in 2017"
        },
        "xaxis": {
         "anchor": "y",
         "domain": [
          0,
          1
         ],
         "title": {
          "text": "Country"
         }
        },
        "yaxis": {
         "anchor": "x",
         "domain": [
          0,
          1
         ],
         "title": {
          "text": "Happiness.Score"
         }
        }
       }
      }
     },
     "metadata": {},
     "output_type": "display_data"
    }
   ],
   "source": [
    "top_10_data_2017  = data_2017.sort_values(by='Happiness.Score', ascending=False).head(10)\n",
    "\n",
    "\n",
    "fig = px.bar(top_10_data_2017, x='Country', y='Happiness.Score',color_continuous_scale=px.colors.qualitative.Bold,title='Top 10 happiest country in 2017')\n",
    "\n",
    "\n",
    "fig.show()\n"
   ]
  },
  {
   "cell_type": "code",
   "execution_count": 134,
   "id": "ffbeca73",
   "metadata": {},
   "outputs": [
    {
     "data": {
      "application/vnd.plotly.v1+json": {
       "config": {
        "plotlyServerURL": "https://plot.ly"
       },
       "data": [
        {
         "alignmentgroup": "True",
         "hovertemplate": "Country=%{x}<br>Happiness Score=%{y}<extra></extra>",
         "legendgroup": "",
         "marker": {
          "color": "#636efa",
          "pattern": {
           "shape": ""
          }
         },
         "name": "",
         "offsetgroup": "",
         "orientation": "v",
         "showlegend": false,
         "textposition": "auto",
         "type": "bar",
         "x": [
          "Denmark",
          "Switzerland",
          "Iceland",
          "Norway",
          "Finland",
          "Canada",
          "Netherlands",
          "New Zealand",
          "Australia",
          "Sweden"
         ],
         "xaxis": "x",
         "y": [
          7.526,
          7.509,
          7.501,
          7.498,
          7.413,
          7.404,
          7.339,
          7.334,
          7.313,
          7.291
         ],
         "yaxis": "y"
        }
       ],
       "layout": {
        "barmode": "relative",
        "legend": {
         "tracegroupgap": 0
        },
        "template": {
         "data": {
          "bar": [
           {
            "error_x": {
             "color": "#2a3f5f"
            },
            "error_y": {
             "color": "#2a3f5f"
            },
            "marker": {
             "line": {
              "color": "#E5ECF6",
              "width": 0.5
             },
             "pattern": {
              "fillmode": "overlay",
              "size": 10,
              "solidity": 0.2
             }
            },
            "type": "bar"
           }
          ],
          "barpolar": [
           {
            "marker": {
             "line": {
              "color": "#E5ECF6",
              "width": 0.5
             },
             "pattern": {
              "fillmode": "overlay",
              "size": 10,
              "solidity": 0.2
             }
            },
            "type": "barpolar"
           }
          ],
          "carpet": [
           {
            "aaxis": {
             "endlinecolor": "#2a3f5f",
             "gridcolor": "white",
             "linecolor": "white",
             "minorgridcolor": "white",
             "startlinecolor": "#2a3f5f"
            },
            "baxis": {
             "endlinecolor": "#2a3f5f",
             "gridcolor": "white",
             "linecolor": "white",
             "minorgridcolor": "white",
             "startlinecolor": "#2a3f5f"
            },
            "type": "carpet"
           }
          ],
          "choropleth": [
           {
            "colorbar": {
             "outlinewidth": 0,
             "ticks": ""
            },
            "type": "choropleth"
           }
          ],
          "contour": [
           {
            "colorbar": {
             "outlinewidth": 0,
             "ticks": ""
            },
            "colorscale": [
             [
              0,
              "#0d0887"
             ],
             [
              0.1111111111111111,
              "#46039f"
             ],
             [
              0.2222222222222222,
              "#7201a8"
             ],
             [
              0.3333333333333333,
              "#9c179e"
             ],
             [
              0.4444444444444444,
              "#bd3786"
             ],
             [
              0.5555555555555556,
              "#d8576b"
             ],
             [
              0.6666666666666666,
              "#ed7953"
             ],
             [
              0.7777777777777778,
              "#fb9f3a"
             ],
             [
              0.8888888888888888,
              "#fdca26"
             ],
             [
              1,
              "#f0f921"
             ]
            ],
            "type": "contour"
           }
          ],
          "contourcarpet": [
           {
            "colorbar": {
             "outlinewidth": 0,
             "ticks": ""
            },
            "type": "contourcarpet"
           }
          ],
          "heatmap": [
           {
            "colorbar": {
             "outlinewidth": 0,
             "ticks": ""
            },
            "colorscale": [
             [
              0,
              "#0d0887"
             ],
             [
              0.1111111111111111,
              "#46039f"
             ],
             [
              0.2222222222222222,
              "#7201a8"
             ],
             [
              0.3333333333333333,
              "#9c179e"
             ],
             [
              0.4444444444444444,
              "#bd3786"
             ],
             [
              0.5555555555555556,
              "#d8576b"
             ],
             [
              0.6666666666666666,
              "#ed7953"
             ],
             [
              0.7777777777777778,
              "#fb9f3a"
             ],
             [
              0.8888888888888888,
              "#fdca26"
             ],
             [
              1,
              "#f0f921"
             ]
            ],
            "type": "heatmap"
           }
          ],
          "heatmapgl": [
           {
            "colorbar": {
             "outlinewidth": 0,
             "ticks": ""
            },
            "colorscale": [
             [
              0,
              "#0d0887"
             ],
             [
              0.1111111111111111,
              "#46039f"
             ],
             [
              0.2222222222222222,
              "#7201a8"
             ],
             [
              0.3333333333333333,
              "#9c179e"
             ],
             [
              0.4444444444444444,
              "#bd3786"
             ],
             [
              0.5555555555555556,
              "#d8576b"
             ],
             [
              0.6666666666666666,
              "#ed7953"
             ],
             [
              0.7777777777777778,
              "#fb9f3a"
             ],
             [
              0.8888888888888888,
              "#fdca26"
             ],
             [
              1,
              "#f0f921"
             ]
            ],
            "type": "heatmapgl"
           }
          ],
          "histogram": [
           {
            "marker": {
             "pattern": {
              "fillmode": "overlay",
              "size": 10,
              "solidity": 0.2
             }
            },
            "type": "histogram"
           }
          ],
          "histogram2d": [
           {
            "colorbar": {
             "outlinewidth": 0,
             "ticks": ""
            },
            "colorscale": [
             [
              0,
              "#0d0887"
             ],
             [
              0.1111111111111111,
              "#46039f"
             ],
             [
              0.2222222222222222,
              "#7201a8"
             ],
             [
              0.3333333333333333,
              "#9c179e"
             ],
             [
              0.4444444444444444,
              "#bd3786"
             ],
             [
              0.5555555555555556,
              "#d8576b"
             ],
             [
              0.6666666666666666,
              "#ed7953"
             ],
             [
              0.7777777777777778,
              "#fb9f3a"
             ],
             [
              0.8888888888888888,
              "#fdca26"
             ],
             [
              1,
              "#f0f921"
             ]
            ],
            "type": "histogram2d"
           }
          ],
          "histogram2dcontour": [
           {
            "colorbar": {
             "outlinewidth": 0,
             "ticks": ""
            },
            "colorscale": [
             [
              0,
              "#0d0887"
             ],
             [
              0.1111111111111111,
              "#46039f"
             ],
             [
              0.2222222222222222,
              "#7201a8"
             ],
             [
              0.3333333333333333,
              "#9c179e"
             ],
             [
              0.4444444444444444,
              "#bd3786"
             ],
             [
              0.5555555555555556,
              "#d8576b"
             ],
             [
              0.6666666666666666,
              "#ed7953"
             ],
             [
              0.7777777777777778,
              "#fb9f3a"
             ],
             [
              0.8888888888888888,
              "#fdca26"
             ],
             [
              1,
              "#f0f921"
             ]
            ],
            "type": "histogram2dcontour"
           }
          ],
          "mesh3d": [
           {
            "colorbar": {
             "outlinewidth": 0,
             "ticks": ""
            },
            "type": "mesh3d"
           }
          ],
          "parcoords": [
           {
            "line": {
             "colorbar": {
              "outlinewidth": 0,
              "ticks": ""
             }
            },
            "type": "parcoords"
           }
          ],
          "pie": [
           {
            "automargin": true,
            "type": "pie"
           }
          ],
          "scatter": [
           {
            "fillpattern": {
             "fillmode": "overlay",
             "size": 10,
             "solidity": 0.2
            },
            "type": "scatter"
           }
          ],
          "scatter3d": [
           {
            "line": {
             "colorbar": {
              "outlinewidth": 0,
              "ticks": ""
             }
            },
            "marker": {
             "colorbar": {
              "outlinewidth": 0,
              "ticks": ""
             }
            },
            "type": "scatter3d"
           }
          ],
          "scattercarpet": [
           {
            "marker": {
             "colorbar": {
              "outlinewidth": 0,
              "ticks": ""
             }
            },
            "type": "scattercarpet"
           }
          ],
          "scattergeo": [
           {
            "marker": {
             "colorbar": {
              "outlinewidth": 0,
              "ticks": ""
             }
            },
            "type": "scattergeo"
           }
          ],
          "scattergl": [
           {
            "marker": {
             "colorbar": {
              "outlinewidth": 0,
              "ticks": ""
             }
            },
            "type": "scattergl"
           }
          ],
          "scattermapbox": [
           {
            "marker": {
             "colorbar": {
              "outlinewidth": 0,
              "ticks": ""
             }
            },
            "type": "scattermapbox"
           }
          ],
          "scatterpolar": [
           {
            "marker": {
             "colorbar": {
              "outlinewidth": 0,
              "ticks": ""
             }
            },
            "type": "scatterpolar"
           }
          ],
          "scatterpolargl": [
           {
            "marker": {
             "colorbar": {
              "outlinewidth": 0,
              "ticks": ""
             }
            },
            "type": "scatterpolargl"
           }
          ],
          "scatterternary": [
           {
            "marker": {
             "colorbar": {
              "outlinewidth": 0,
              "ticks": ""
             }
            },
            "type": "scatterternary"
           }
          ],
          "surface": [
           {
            "colorbar": {
             "outlinewidth": 0,
             "ticks": ""
            },
            "colorscale": [
             [
              0,
              "#0d0887"
             ],
             [
              0.1111111111111111,
              "#46039f"
             ],
             [
              0.2222222222222222,
              "#7201a8"
             ],
             [
              0.3333333333333333,
              "#9c179e"
             ],
             [
              0.4444444444444444,
              "#bd3786"
             ],
             [
              0.5555555555555556,
              "#d8576b"
             ],
             [
              0.6666666666666666,
              "#ed7953"
             ],
             [
              0.7777777777777778,
              "#fb9f3a"
             ],
             [
              0.8888888888888888,
              "#fdca26"
             ],
             [
              1,
              "#f0f921"
             ]
            ],
            "type": "surface"
           }
          ],
          "table": [
           {
            "cells": {
             "fill": {
              "color": "#EBF0F8"
             },
             "line": {
              "color": "white"
             }
            },
            "header": {
             "fill": {
              "color": "#C8D4E3"
             },
             "line": {
              "color": "white"
             }
            },
            "type": "table"
           }
          ]
         },
         "layout": {
          "annotationdefaults": {
           "arrowcolor": "#2a3f5f",
           "arrowhead": 0,
           "arrowwidth": 1
          },
          "autotypenumbers": "strict",
          "coloraxis": {
           "colorbar": {
            "outlinewidth": 0,
            "ticks": ""
           }
          },
          "colorscale": {
           "diverging": [
            [
             0,
             "#8e0152"
            ],
            [
             0.1,
             "#c51b7d"
            ],
            [
             0.2,
             "#de77ae"
            ],
            [
             0.3,
             "#f1b6da"
            ],
            [
             0.4,
             "#fde0ef"
            ],
            [
             0.5,
             "#f7f7f7"
            ],
            [
             0.6,
             "#e6f5d0"
            ],
            [
             0.7,
             "#b8e186"
            ],
            [
             0.8,
             "#7fbc41"
            ],
            [
             0.9,
             "#4d9221"
            ],
            [
             1,
             "#276419"
            ]
           ],
           "sequential": [
            [
             0,
             "#0d0887"
            ],
            [
             0.1111111111111111,
             "#46039f"
            ],
            [
             0.2222222222222222,
             "#7201a8"
            ],
            [
             0.3333333333333333,
             "#9c179e"
            ],
            [
             0.4444444444444444,
             "#bd3786"
            ],
            [
             0.5555555555555556,
             "#d8576b"
            ],
            [
             0.6666666666666666,
             "#ed7953"
            ],
            [
             0.7777777777777778,
             "#fb9f3a"
            ],
            [
             0.8888888888888888,
             "#fdca26"
            ],
            [
             1,
             "#f0f921"
            ]
           ],
           "sequentialminus": [
            [
             0,
             "#0d0887"
            ],
            [
             0.1111111111111111,
             "#46039f"
            ],
            [
             0.2222222222222222,
             "#7201a8"
            ],
            [
             0.3333333333333333,
             "#9c179e"
            ],
            [
             0.4444444444444444,
             "#bd3786"
            ],
            [
             0.5555555555555556,
             "#d8576b"
            ],
            [
             0.6666666666666666,
             "#ed7953"
            ],
            [
             0.7777777777777778,
             "#fb9f3a"
            ],
            [
             0.8888888888888888,
             "#fdca26"
            ],
            [
             1,
             "#f0f921"
            ]
           ]
          },
          "colorway": [
           "#636efa",
           "#EF553B",
           "#00cc96",
           "#ab63fa",
           "#FFA15A",
           "#19d3f3",
           "#FF6692",
           "#B6E880",
           "#FF97FF",
           "#FECB52"
          ],
          "font": {
           "color": "#2a3f5f"
          },
          "geo": {
           "bgcolor": "white",
           "lakecolor": "white",
           "landcolor": "#E5ECF6",
           "showlakes": true,
           "showland": true,
           "subunitcolor": "white"
          },
          "hoverlabel": {
           "align": "left"
          },
          "hovermode": "closest",
          "mapbox": {
           "style": "light"
          },
          "paper_bgcolor": "white",
          "plot_bgcolor": "#E5ECF6",
          "polar": {
           "angularaxis": {
            "gridcolor": "white",
            "linecolor": "white",
            "ticks": ""
           },
           "bgcolor": "#E5ECF6",
           "radialaxis": {
            "gridcolor": "white",
            "linecolor": "white",
            "ticks": ""
           }
          },
          "scene": {
           "xaxis": {
            "backgroundcolor": "#E5ECF6",
            "gridcolor": "white",
            "gridwidth": 2,
            "linecolor": "white",
            "showbackground": true,
            "ticks": "",
            "zerolinecolor": "white"
           },
           "yaxis": {
            "backgroundcolor": "#E5ECF6",
            "gridcolor": "white",
            "gridwidth": 2,
            "linecolor": "white",
            "showbackground": true,
            "ticks": "",
            "zerolinecolor": "white"
           },
           "zaxis": {
            "backgroundcolor": "#E5ECF6",
            "gridcolor": "white",
            "gridwidth": 2,
            "linecolor": "white",
            "showbackground": true,
            "ticks": "",
            "zerolinecolor": "white"
           }
          },
          "shapedefaults": {
           "line": {
            "color": "#2a3f5f"
           }
          },
          "ternary": {
           "aaxis": {
            "gridcolor": "white",
            "linecolor": "white",
            "ticks": ""
           },
           "baxis": {
            "gridcolor": "white",
            "linecolor": "white",
            "ticks": ""
           },
           "bgcolor": "#E5ECF6",
           "caxis": {
            "gridcolor": "white",
            "linecolor": "white",
            "ticks": ""
           }
          },
          "title": {
           "x": 0.05
          },
          "xaxis": {
           "automargin": true,
           "gridcolor": "white",
           "linecolor": "white",
           "ticks": "",
           "title": {
            "standoff": 15
           },
           "zerolinecolor": "white",
           "zerolinewidth": 2
          },
          "yaxis": {
           "automargin": true,
           "gridcolor": "white",
           "linecolor": "white",
           "ticks": "",
           "title": {
            "standoff": 15
           },
           "zerolinecolor": "white",
           "zerolinewidth": 2
          }
         }
        },
        "title": {
         "text": "Top 10 happiest country in 2016"
        },
        "xaxis": {
         "anchor": "y",
         "domain": [
          0,
          1
         ],
         "title": {
          "text": "Country"
         }
        },
        "yaxis": {
         "anchor": "x",
         "domain": [
          0,
          1
         ],
         "title": {
          "text": "Happiness Score"
         }
        }
       }
      }
     },
     "metadata": {},
     "output_type": "display_data"
    }
   ],
   "source": [
    "top_10_data_2016  = data_2016.sort_values(by='Happiness Score', ascending=False).head(10)\n",
    "\n",
    "\n",
    "fig = px.bar(top_10_data_2016, x='Country', y='Happiness Score',color_continuous_scale=px.colors.qualitative.Bold,title='Top 10 happiest country in 2016')\n",
    "\n",
    "\n",
    "fig.show()\n"
   ]
  },
  {
   "cell_type": "code",
   "execution_count": 136,
   "id": "ac116426",
   "metadata": {},
   "outputs": [
    {
     "data": {
      "application/vnd.plotly.v1+json": {
       "config": {
        "plotlyServerURL": "https://plot.ly"
       },
       "data": [
        {
         "alignmentgroup": "True",
         "hovertemplate": "Country=%{x}<br>Happiness Score=%{y}<extra></extra>",
         "legendgroup": "",
         "marker": {
          "color": "#636efa",
          "pattern": {
           "shape": ""
          }
         },
         "name": "",
         "offsetgroup": "",
         "orientation": "v",
         "showlegend": false,
         "textposition": "auto",
         "type": "bar",
         "x": [
          "Switzerland",
          "Iceland",
          "Denmark",
          "Norway",
          "Canada",
          "Finland",
          "Netherlands",
          "Sweden",
          "New Zealand",
          "Australia"
         ],
         "xaxis": "x",
         "y": [
          7.587,
          7.561,
          7.527,
          7.522,
          7.427,
          7.406,
          7.378,
          7.364,
          7.286,
          7.284
         ],
         "yaxis": "y"
        }
       ],
       "layout": {
        "barmode": "relative",
        "legend": {
         "tracegroupgap": 0
        },
        "template": {
         "data": {
          "bar": [
           {
            "error_x": {
             "color": "#2a3f5f"
            },
            "error_y": {
             "color": "#2a3f5f"
            },
            "marker": {
             "line": {
              "color": "#E5ECF6",
              "width": 0.5
             },
             "pattern": {
              "fillmode": "overlay",
              "size": 10,
              "solidity": 0.2
             }
            },
            "type": "bar"
           }
          ],
          "barpolar": [
           {
            "marker": {
             "line": {
              "color": "#E5ECF6",
              "width": 0.5
             },
             "pattern": {
              "fillmode": "overlay",
              "size": 10,
              "solidity": 0.2
             }
            },
            "type": "barpolar"
           }
          ],
          "carpet": [
           {
            "aaxis": {
             "endlinecolor": "#2a3f5f",
             "gridcolor": "white",
             "linecolor": "white",
             "minorgridcolor": "white",
             "startlinecolor": "#2a3f5f"
            },
            "baxis": {
             "endlinecolor": "#2a3f5f",
             "gridcolor": "white",
             "linecolor": "white",
             "minorgridcolor": "white",
             "startlinecolor": "#2a3f5f"
            },
            "type": "carpet"
           }
          ],
          "choropleth": [
           {
            "colorbar": {
             "outlinewidth": 0,
             "ticks": ""
            },
            "type": "choropleth"
           }
          ],
          "contour": [
           {
            "colorbar": {
             "outlinewidth": 0,
             "ticks": ""
            },
            "colorscale": [
             [
              0,
              "#0d0887"
             ],
             [
              0.1111111111111111,
              "#46039f"
             ],
             [
              0.2222222222222222,
              "#7201a8"
             ],
             [
              0.3333333333333333,
              "#9c179e"
             ],
             [
              0.4444444444444444,
              "#bd3786"
             ],
             [
              0.5555555555555556,
              "#d8576b"
             ],
             [
              0.6666666666666666,
              "#ed7953"
             ],
             [
              0.7777777777777778,
              "#fb9f3a"
             ],
             [
              0.8888888888888888,
              "#fdca26"
             ],
             [
              1,
              "#f0f921"
             ]
            ],
            "type": "contour"
           }
          ],
          "contourcarpet": [
           {
            "colorbar": {
             "outlinewidth": 0,
             "ticks": ""
            },
            "type": "contourcarpet"
           }
          ],
          "heatmap": [
           {
            "colorbar": {
             "outlinewidth": 0,
             "ticks": ""
            },
            "colorscale": [
             [
              0,
              "#0d0887"
             ],
             [
              0.1111111111111111,
              "#46039f"
             ],
             [
              0.2222222222222222,
              "#7201a8"
             ],
             [
              0.3333333333333333,
              "#9c179e"
             ],
             [
              0.4444444444444444,
              "#bd3786"
             ],
             [
              0.5555555555555556,
              "#d8576b"
             ],
             [
              0.6666666666666666,
              "#ed7953"
             ],
             [
              0.7777777777777778,
              "#fb9f3a"
             ],
             [
              0.8888888888888888,
              "#fdca26"
             ],
             [
              1,
              "#f0f921"
             ]
            ],
            "type": "heatmap"
           }
          ],
          "heatmapgl": [
           {
            "colorbar": {
             "outlinewidth": 0,
             "ticks": ""
            },
            "colorscale": [
             [
              0,
              "#0d0887"
             ],
             [
              0.1111111111111111,
              "#46039f"
             ],
             [
              0.2222222222222222,
              "#7201a8"
             ],
             [
              0.3333333333333333,
              "#9c179e"
             ],
             [
              0.4444444444444444,
              "#bd3786"
             ],
             [
              0.5555555555555556,
              "#d8576b"
             ],
             [
              0.6666666666666666,
              "#ed7953"
             ],
             [
              0.7777777777777778,
              "#fb9f3a"
             ],
             [
              0.8888888888888888,
              "#fdca26"
             ],
             [
              1,
              "#f0f921"
             ]
            ],
            "type": "heatmapgl"
           }
          ],
          "histogram": [
           {
            "marker": {
             "pattern": {
              "fillmode": "overlay",
              "size": 10,
              "solidity": 0.2
             }
            },
            "type": "histogram"
           }
          ],
          "histogram2d": [
           {
            "colorbar": {
             "outlinewidth": 0,
             "ticks": ""
            },
            "colorscale": [
             [
              0,
              "#0d0887"
             ],
             [
              0.1111111111111111,
              "#46039f"
             ],
             [
              0.2222222222222222,
              "#7201a8"
             ],
             [
              0.3333333333333333,
              "#9c179e"
             ],
             [
              0.4444444444444444,
              "#bd3786"
             ],
             [
              0.5555555555555556,
              "#d8576b"
             ],
             [
              0.6666666666666666,
              "#ed7953"
             ],
             [
              0.7777777777777778,
              "#fb9f3a"
             ],
             [
              0.8888888888888888,
              "#fdca26"
             ],
             [
              1,
              "#f0f921"
             ]
            ],
            "type": "histogram2d"
           }
          ],
          "histogram2dcontour": [
           {
            "colorbar": {
             "outlinewidth": 0,
             "ticks": ""
            },
            "colorscale": [
             [
              0,
              "#0d0887"
             ],
             [
              0.1111111111111111,
              "#46039f"
             ],
             [
              0.2222222222222222,
              "#7201a8"
             ],
             [
              0.3333333333333333,
              "#9c179e"
             ],
             [
              0.4444444444444444,
              "#bd3786"
             ],
             [
              0.5555555555555556,
              "#d8576b"
             ],
             [
              0.6666666666666666,
              "#ed7953"
             ],
             [
              0.7777777777777778,
              "#fb9f3a"
             ],
             [
              0.8888888888888888,
              "#fdca26"
             ],
             [
              1,
              "#f0f921"
             ]
            ],
            "type": "histogram2dcontour"
           }
          ],
          "mesh3d": [
           {
            "colorbar": {
             "outlinewidth": 0,
             "ticks": ""
            },
            "type": "mesh3d"
           }
          ],
          "parcoords": [
           {
            "line": {
             "colorbar": {
              "outlinewidth": 0,
              "ticks": ""
             }
            },
            "type": "parcoords"
           }
          ],
          "pie": [
           {
            "automargin": true,
            "type": "pie"
           }
          ],
          "scatter": [
           {
            "fillpattern": {
             "fillmode": "overlay",
             "size": 10,
             "solidity": 0.2
            },
            "type": "scatter"
           }
          ],
          "scatter3d": [
           {
            "line": {
             "colorbar": {
              "outlinewidth": 0,
              "ticks": ""
             }
            },
            "marker": {
             "colorbar": {
              "outlinewidth": 0,
              "ticks": ""
             }
            },
            "type": "scatter3d"
           }
          ],
          "scattercarpet": [
           {
            "marker": {
             "colorbar": {
              "outlinewidth": 0,
              "ticks": ""
             }
            },
            "type": "scattercarpet"
           }
          ],
          "scattergeo": [
           {
            "marker": {
             "colorbar": {
              "outlinewidth": 0,
              "ticks": ""
             }
            },
            "type": "scattergeo"
           }
          ],
          "scattergl": [
           {
            "marker": {
             "colorbar": {
              "outlinewidth": 0,
              "ticks": ""
             }
            },
            "type": "scattergl"
           }
          ],
          "scattermapbox": [
           {
            "marker": {
             "colorbar": {
              "outlinewidth": 0,
              "ticks": ""
             }
            },
            "type": "scattermapbox"
           }
          ],
          "scatterpolar": [
           {
            "marker": {
             "colorbar": {
              "outlinewidth": 0,
              "ticks": ""
             }
            },
            "type": "scatterpolar"
           }
          ],
          "scatterpolargl": [
           {
            "marker": {
             "colorbar": {
              "outlinewidth": 0,
              "ticks": ""
             }
            },
            "type": "scatterpolargl"
           }
          ],
          "scatterternary": [
           {
            "marker": {
             "colorbar": {
              "outlinewidth": 0,
              "ticks": ""
             }
            },
            "type": "scatterternary"
           }
          ],
          "surface": [
           {
            "colorbar": {
             "outlinewidth": 0,
             "ticks": ""
            },
            "colorscale": [
             [
              0,
              "#0d0887"
             ],
             [
              0.1111111111111111,
              "#46039f"
             ],
             [
              0.2222222222222222,
              "#7201a8"
             ],
             [
              0.3333333333333333,
              "#9c179e"
             ],
             [
              0.4444444444444444,
              "#bd3786"
             ],
             [
              0.5555555555555556,
              "#d8576b"
             ],
             [
              0.6666666666666666,
              "#ed7953"
             ],
             [
              0.7777777777777778,
              "#fb9f3a"
             ],
             [
              0.8888888888888888,
              "#fdca26"
             ],
             [
              1,
              "#f0f921"
             ]
            ],
            "type": "surface"
           }
          ],
          "table": [
           {
            "cells": {
             "fill": {
              "color": "#EBF0F8"
             },
             "line": {
              "color": "white"
             }
            },
            "header": {
             "fill": {
              "color": "#C8D4E3"
             },
             "line": {
              "color": "white"
             }
            },
            "type": "table"
           }
          ]
         },
         "layout": {
          "annotationdefaults": {
           "arrowcolor": "#2a3f5f",
           "arrowhead": 0,
           "arrowwidth": 1
          },
          "autotypenumbers": "strict",
          "coloraxis": {
           "colorbar": {
            "outlinewidth": 0,
            "ticks": ""
           }
          },
          "colorscale": {
           "diverging": [
            [
             0,
             "#8e0152"
            ],
            [
             0.1,
             "#c51b7d"
            ],
            [
             0.2,
             "#de77ae"
            ],
            [
             0.3,
             "#f1b6da"
            ],
            [
             0.4,
             "#fde0ef"
            ],
            [
             0.5,
             "#f7f7f7"
            ],
            [
             0.6,
             "#e6f5d0"
            ],
            [
             0.7,
             "#b8e186"
            ],
            [
             0.8,
             "#7fbc41"
            ],
            [
             0.9,
             "#4d9221"
            ],
            [
             1,
             "#276419"
            ]
           ],
           "sequential": [
            [
             0,
             "#0d0887"
            ],
            [
             0.1111111111111111,
             "#46039f"
            ],
            [
             0.2222222222222222,
             "#7201a8"
            ],
            [
             0.3333333333333333,
             "#9c179e"
            ],
            [
             0.4444444444444444,
             "#bd3786"
            ],
            [
             0.5555555555555556,
             "#d8576b"
            ],
            [
             0.6666666666666666,
             "#ed7953"
            ],
            [
             0.7777777777777778,
             "#fb9f3a"
            ],
            [
             0.8888888888888888,
             "#fdca26"
            ],
            [
             1,
             "#f0f921"
            ]
           ],
           "sequentialminus": [
            [
             0,
             "#0d0887"
            ],
            [
             0.1111111111111111,
             "#46039f"
            ],
            [
             0.2222222222222222,
             "#7201a8"
            ],
            [
             0.3333333333333333,
             "#9c179e"
            ],
            [
             0.4444444444444444,
             "#bd3786"
            ],
            [
             0.5555555555555556,
             "#d8576b"
            ],
            [
             0.6666666666666666,
             "#ed7953"
            ],
            [
             0.7777777777777778,
             "#fb9f3a"
            ],
            [
             0.8888888888888888,
             "#fdca26"
            ],
            [
             1,
             "#f0f921"
            ]
           ]
          },
          "colorway": [
           "#636efa",
           "#EF553B",
           "#00cc96",
           "#ab63fa",
           "#FFA15A",
           "#19d3f3",
           "#FF6692",
           "#B6E880",
           "#FF97FF",
           "#FECB52"
          ],
          "font": {
           "color": "#2a3f5f"
          },
          "geo": {
           "bgcolor": "white",
           "lakecolor": "white",
           "landcolor": "#E5ECF6",
           "showlakes": true,
           "showland": true,
           "subunitcolor": "white"
          },
          "hoverlabel": {
           "align": "left"
          },
          "hovermode": "closest",
          "mapbox": {
           "style": "light"
          },
          "paper_bgcolor": "white",
          "plot_bgcolor": "#E5ECF6",
          "polar": {
           "angularaxis": {
            "gridcolor": "white",
            "linecolor": "white",
            "ticks": ""
           },
           "bgcolor": "#E5ECF6",
           "radialaxis": {
            "gridcolor": "white",
            "linecolor": "white",
            "ticks": ""
           }
          },
          "scene": {
           "xaxis": {
            "backgroundcolor": "#E5ECF6",
            "gridcolor": "white",
            "gridwidth": 2,
            "linecolor": "white",
            "showbackground": true,
            "ticks": "",
            "zerolinecolor": "white"
           },
           "yaxis": {
            "backgroundcolor": "#E5ECF6",
            "gridcolor": "white",
            "gridwidth": 2,
            "linecolor": "white",
            "showbackground": true,
            "ticks": "",
            "zerolinecolor": "white"
           },
           "zaxis": {
            "backgroundcolor": "#E5ECF6",
            "gridcolor": "white",
            "gridwidth": 2,
            "linecolor": "white",
            "showbackground": true,
            "ticks": "",
            "zerolinecolor": "white"
           }
          },
          "shapedefaults": {
           "line": {
            "color": "#2a3f5f"
           }
          },
          "ternary": {
           "aaxis": {
            "gridcolor": "white",
            "linecolor": "white",
            "ticks": ""
           },
           "baxis": {
            "gridcolor": "white",
            "linecolor": "white",
            "ticks": ""
           },
           "bgcolor": "#E5ECF6",
           "caxis": {
            "gridcolor": "white",
            "linecolor": "white",
            "ticks": ""
           }
          },
          "title": {
           "x": 0.05
          },
          "xaxis": {
           "automargin": true,
           "gridcolor": "white",
           "linecolor": "white",
           "ticks": "",
           "title": {
            "standoff": 15
           },
           "zerolinecolor": "white",
           "zerolinewidth": 2
          },
          "yaxis": {
           "automargin": true,
           "gridcolor": "white",
           "linecolor": "white",
           "ticks": "",
           "title": {
            "standoff": 15
           },
           "zerolinecolor": "white",
           "zerolinewidth": 2
          }
         }
        },
        "title": {
         "text": "Top 10 happiest country in 2015"
        },
        "xaxis": {
         "anchor": "y",
         "domain": [
          0,
          1
         ],
         "title": {
          "text": "Country"
         }
        },
        "yaxis": {
         "anchor": "x",
         "domain": [
          0,
          1
         ],
         "title": {
          "text": "Happiness Score"
         }
        }
       }
      }
     },
     "metadata": {},
     "output_type": "display_data"
    }
   ],
   "source": [
    "top_10_data_2015  = data_2015.sort_values(by='Happiness Score', ascending=False).head(10)\n",
    "\n",
    "\n",
    "fig = px.bar(top_10_data_2015, x='Country', y='Happiness Score',color_continuous_scale=px.colors.qualitative.Bold,title='Top 10 happiest country in 2015')\n",
    "\n",
    "\n",
    "fig.show()\n"
   ]
  },
  {
   "cell_type": "markdown",
   "id": "20aed48d-b78e-46da-963f-e7f15e2f4dc7",
   "metadata": {},
   "source": [
    "**numerical & numerical --> (Scatter plot, line chart)**"
   ]
  },
  {
   "cell_type": "code",
   "execution_count": 114,
   "id": "3590e345-2051-4215-91ac-07d196b510ef",
   "metadata": {},
   "outputs": [
    {
     "data": {
      "application/vnd.plotly.v1+json": {
       "config": {
        "plotlyServerURL": "https://plot.ly"
       },
       "data": [
        {
         "dimensions": [
          {
           "axis": {
            "matches": true
           },
           "label": "Score",
           "values": [
            7.769,
            7.6,
            7.554,
            7.494,
            7.488,
            7.48,
            7.343,
            7.307,
            7.278,
            7.246,
            7.228,
            7.167,
            7.139,
            7.09,
            7.054,
            7.021,
            6.985,
            6.923,
            6.892,
            6.852,
            6.825,
            6.726,
            6.595,
            6.592,
            6.446,
            6.444,
            6.436,
            6.375,
            6.374,
            6.354,
            6.321,
            6.3,
            6.293,
            6.262,
            6.253,
            6.223,
            6.199,
            6.198,
            6.192,
            6.182,
            6.174,
            6.149,
            6.125,
            6.118,
            6.105,
            6.1,
            6.086,
            6.07,
            6.046,
            6.028,
            6.021,
            6.008,
            5.94,
            5.895,
            5.893,
            5.89,
            5.888,
            5.886,
            5.86,
            5.809,
            5.779,
            5.758,
            5.743,
            5.718,
            5.697,
            5.693,
            5.653,
            5.648,
            5.631,
            5.603,
            5.529,
            5.525,
            5.523,
            5.467,
            5.432,
            5.43,
            5.425,
            5.386,
            5.373,
            5.339,
            5.323,
            5.287,
            5.285,
            5.274,
            5.265,
            5.261,
            5.247,
            5.211,
            5.208,
            5.208,
            5.197,
            5.192,
            5.191,
            5.175,
            5.082,
            5.044,
            5.011,
            4.996,
            4.944,
            4.913,
            4.906,
            4.883,
            4.812,
            4.799,
            4.796,
            4.722,
            4.719,
            4.707,
            4.7,
            4.696,
            4.681,
            4.668,
            4.639,
            4.628,
            4.587,
            4.559,
            4.548,
            4.534,
            4.519,
            4.516,
            4.509,
            4.49,
            4.466,
            4.461,
            4.456,
            4.437,
            4.418,
            4.39,
            4.374,
            4.366,
            4.36,
            4.35,
            4.332,
            4.286,
            4.212,
            4.189,
            4.166,
            4.107,
            4.085,
            4.015,
            3.975,
            3.973,
            3.933,
            3.802,
            3.775,
            3.663,
            3.597,
            3.488,
            3.462,
            3.41,
            3.38,
            3.334,
            3.231,
            3.203,
            3.083,
            2.853
           ]
          },
          {
           "axis": {
            "matches": true
           },
           "label": "GDP per capita",
           "values": [
            1.34,
            1.383,
            1.488,
            1.38,
            1.396,
            1.452,
            1.387,
            1.303,
            1.365,
            1.376,
            1.372,
            1.034,
            1.276,
            1.609,
            1.333,
            1.499,
            1.373,
            1.356,
            1.433,
            1.269,
            1.503,
            1.3,
            1.07,
            1.324,
            1.368,
            1.159,
            0.8,
            1.403,
            1.684,
            1.286,
            1.149,
            1.004,
            1.124,
            1.572,
            0.794,
            1.294,
            1.362,
            1.246,
            1.231,
            1.206,
            0.745,
            1.238,
            0.985,
            1.258,
            0.694,
            0.882,
            1.092,
            1.162,
            1.263,
            0.912,
            1.5,
            1.05,
            1.187,
            1.301,
            1.237,
            0.831,
            1.12,
            1.327,
            0.642,
            1.173,
            0.776,
            1.201,
            0.855,
            1.263,
            0.96,
            1.221,
            0.677,
            1.183,
            0.807,
            1.004,
            0.685,
            1.044,
            1.051,
            0.493,
            1.155,
            1.438,
            1.015,
            0.945,
            1.183,
            1.221,
            1.067,
            1.181,
            0.948,
            0.983,
            0.696,
            0.551,
            1.052,
            1.002,
            0.801,
            1.043,
            0.987,
            0.931,
            1.029,
            0.741,
            0.813,
            0.549,
            1.092,
            0.611,
            0.569,
            0.446,
            0.837,
            0.393,
            0.673,
            1.057,
            0.764,
            0.96,
            0.947,
            0.96,
            0.574,
            0.657,
            0.45,
            0,
            0.879,
            0.138,
            0.331,
            0.85,
            1.1,
            0.38,
            0.886,
            0.308,
            0.512,
            0.57,
            0.204,
            0.921,
            0.562,
            1.043,
            0.094,
            0.385,
            0.268,
            0.949,
            0.71,
            0.35,
            0.82,
            0.336,
            0.811,
            0.332,
            0.913,
            0.578,
            0.275,
            0.755,
            0.073,
            0.274,
            0.274,
            0.489,
            0.046,
            0.366,
            0.323,
            1.041,
            0.619,
            0.191,
            0.287,
            0.359,
            0.476,
            0.35,
            0.026,
            0.306
           ]
          },
          {
           "axis": {
            "matches": true
           },
           "label": "Social support",
           "values": [
            1.587,
            1.573,
            1.582,
            1.624,
            1.522,
            1.526,
            1.487,
            1.557,
            1.505,
            1.475,
            1.548,
            1.441,
            1.455,
            1.479,
            1.538,
            1.553,
            1.454,
            1.504,
            1.457,
            1.487,
            1.31,
            1.52,
            1.323,
            1.472,
            1.43,
            1.369,
            1.269,
            1.357,
            1.313,
            1.484,
            1.442,
            1.439,
            1.465,
            1.463,
            1.242,
            1.488,
            1.368,
            1.504,
            1.477,
            1.438,
            1.529,
            1.515,
            1.41,
            1.523,
            1.325,
            1.232,
            1.432,
            1.232,
            1.223,
            1.312,
            1.319,
            1.409,
            1.465,
            1.219,
            1.528,
            1.478,
            1.402,
            1.419,
            1.236,
            1.508,
            1.209,
            1.41,
            1.475,
            1.252,
            1.274,
            1.431,
            0.886,
            1.452,
            1.293,
            1.383,
            1.328,
            1.303,
            1.361,
            1.098,
            1.266,
            1.277,
            1.401,
            1.212,
            1.36,
            1.171,
            1.465,
            1.156,
            1.531,
            1.294,
            1.111,
            1.438,
            1.538,
            1.16,
            0.782,
            1.147,
            1.224,
            1.203,
            1.125,
            1.346,
            1.321,
            0.91,
            1.513,
            0.868,
            0.808,
            1.226,
            1.225,
            0.437,
            0.799,
            1.183,
            1.03,
            1.351,
            0.848,
            1.427,
            1.122,
            1.247,
            1.134,
            0.698,
            1.313,
            0.774,
            1.056,
            1.055,
            0.842,
            0.829,
            0.666,
            0.939,
            0.983,
            1.167,
            0.986,
            1,
            0.928,
            0.98,
            1.125,
            1.105,
            0.841,
            1.265,
            1.181,
            0.766,
            1.39,
            1.033,
            1.149,
            1.069,
            1.039,
            1.058,
            0.572,
            0.765,
            0.922,
            0.757,
            0.916,
            1.169,
            0.447,
            1.114,
            0.688,
            1.145,
            0.378,
            0.56,
            1.163,
            0.711,
            0.885,
            0.517,
            0,
            0.575
           ]
          },
          {
           "axis": {
            "matches": true
           },
           "label": "Healthy life expectancy",
           "values": [
            0.986,
            0.996,
            1.028,
            1.026,
            0.999,
            1.052,
            1.009,
            1.026,
            1.039,
            1.016,
            1.036,
            0.963,
            1.029,
            1.012,
            0.996,
            0.999,
            0.987,
            0.986,
            0.874,
            0.92,
            0.825,
            0.999,
            0.861,
            1.045,
            0.914,
            0.92,
            0.746,
            0.795,
            0.871,
            1.062,
            0.91,
            0.802,
            0.891,
            1.141,
            0.789,
            1.039,
            0.871,
            0.881,
            0.713,
            0.884,
            0.756,
            0.818,
            0.841,
            0.953,
            0.835,
            0.758,
            0.881,
            0.825,
            1.042,
            0.868,
            0.808,
            0.828,
            0.812,
            1.036,
            0.874,
            0.831,
            0.798,
            1.088,
            0.828,
            0.729,
            0.706,
            0.828,
            0.777,
            1.042,
            0.854,
            0.999,
            0.535,
            0.726,
            0.657,
            0.854,
            0.739,
            0.673,
            0.871,
            0.718,
            0.914,
            1.122,
            0.779,
            0.845,
            0.808,
            0.828,
            0.789,
            0.999,
            0.667,
            0.838,
            0.245,
            0.723,
            0.657,
            0.785,
            0.782,
            0.769,
            0.815,
            0.66,
            0.893,
            0.851,
            0.604,
            0.331,
            0.815,
            0.486,
            0.232,
            0.677,
            0.815,
            0.397,
            0.508,
            0.571,
            0.551,
            0.469,
            0.874,
            0.805,
            0.637,
            0.672,
            0.571,
            0.268,
            0.477,
            0.366,
            0.38,
            0.815,
            0.785,
            0.375,
            0.752,
            0.428,
            0.581,
            0.489,
            0.39,
            0.815,
            0.723,
            0.574,
            0.357,
            0.308,
            0.242,
            0.831,
            0.555,
            0.192,
            0.739,
            0.532,
            0,
            0.443,
            0.644,
            0.426,
            0.41,
            0.588,
            0.443,
            0.505,
            0.555,
            0.168,
            0.38,
            0.433,
            0.449,
            0.538,
            0.44,
            0.495,
            0.463,
            0.614,
            0.499,
            0.361,
            0.105,
            0.295
           ]
          },
          {
           "axis": {
            "matches": true
           },
           "label": "Freedom to make life choices",
           "values": [
            0.596,
            0.592,
            0.603,
            0.591,
            0.557,
            0.572,
            0.574,
            0.585,
            0.584,
            0.532,
            0.557,
            0.558,
            0.371,
            0.526,
            0.45,
            0.516,
            0.495,
            0.473,
            0.454,
            0.457,
            0.598,
            0.564,
            0.433,
            0.436,
            0.351,
            0.357,
            0.535,
            0.439,
            0.555,
            0.362,
            0.516,
            0.39,
            0.523,
            0.556,
            0.43,
            0.231,
            0.536,
            0.334,
            0.489,
            0.483,
            0.631,
            0.291,
            0.47,
            0.564,
            0.435,
            0.489,
            0.471,
            0.462,
            0.406,
            0.498,
            0.493,
            0.557,
            0.264,
            0.159,
            0.495,
            0.49,
            0.498,
            0.445,
            0.507,
            0.41,
            0.511,
            0.199,
            0.514,
            0.417,
            0.455,
            0.508,
            0.313,
            0.334,
            0.558,
            0.282,
            0.245,
            0.416,
            0.197,
            0.389,
            0.296,
            0.44,
            0.497,
            0.212,
            0.195,
            0.508,
            0.235,
            0.067,
            0.317,
            0.345,
            0.426,
            0.508,
            0.394,
            0.086,
            0.418,
            0.351,
            0.216,
            0.491,
            0.521,
            0.543,
            0.457,
            0.381,
            0.311,
            0.381,
            0.352,
            0.439,
            0.383,
            0.349,
            0.372,
            0.295,
            0.547,
            0.389,
            0.383,
            0.154,
            0.609,
            0.225,
            0.292,
            0.559,
            0.401,
            0.318,
            0.255,
            0.283,
            0.305,
            0.332,
            0.346,
            0.382,
            0.431,
            0.066,
            0.494,
            0.167,
            0.527,
            0.241,
            0.269,
            0.327,
            0.309,
            0.47,
            0.525,
            0.174,
            0.178,
            0.344,
            0.313,
            0.356,
            0.241,
            0.431,
            0.293,
            0.498,
            0.37,
            0.142,
            0.148,
            0.359,
            0.22,
            0.361,
            0.026,
            0.455,
            0.013,
            0.443,
            0.143,
            0.555,
            0.417,
            0,
            0.225,
            0.01
           ]
          },
          {
           "axis": {
            "matches": true
           },
           "label": "Generosity",
           "values": [
            0.153,
            0.252,
            0.271,
            0.354,
            0.322,
            0.263,
            0.267,
            0.33,
            0.285,
            0.244,
            0.332,
            0.144,
            0.261,
            0.194,
            0.348,
            0.298,
            0.261,
            0.16,
            0.28,
            0.046,
            0.262,
            0.375,
            0.074,
            0.111,
            0.242,
            0.187,
            0.175,
            0.08,
            0.22,
            0.153,
            0.109,
            0.099,
            0.127,
            0.271,
            0.093,
            0.158,
            0.255,
            0.121,
            0.185,
            0.117,
            0.322,
            0.043,
            0.099,
            0.144,
            0.2,
            0.262,
            0.066,
            0.083,
            0.19,
            0.126,
            0.142,
            0.359,
            0.075,
            0.175,
            0.103,
            0.107,
            0.215,
            0.069,
            0.246,
            0.146,
            0.137,
            0.081,
            0.184,
            0.191,
            0.083,
            0.047,
            0.22,
            0.082,
            0.117,
            0.137,
            0.181,
            0.133,
            0.142,
            0.23,
            0.119,
            0.258,
            0.113,
            0.263,
            0.083,
            0.26,
            0.094,
            0,
            0.235,
            0.185,
            0.215,
            0.3,
            0.244,
            0.073,
            0.036,
            0.035,
            0.166,
            0.498,
            0.058,
            0.147,
            0.37,
            0.187,
            0.081,
            0.245,
            0.154,
            0.285,
            0.11,
            0.175,
            0.105,
            0.043,
            0.266,
            0.13,
            0.178,
            0.064,
            0.232,
            0.103,
            0.153,
            0.243,
            0.07,
            0.188,
            0.177,
            0.095,
            0.27,
            0.207,
            0.043,
            0.269,
            0.372,
            0.106,
            0.197,
            0.059,
            0.166,
            0.148,
            0.212,
            0.153,
            0.252,
            0.244,
            0.566,
            0.198,
            0.187,
            0.209,
            0.074,
            0.252,
            0.076,
            0.247,
            0.177,
            0.2,
            0.233,
            0.275,
            0.169,
            0.107,
            0.176,
            0.151,
            0.419,
            0.025,
            0.331,
            0.218,
            0.108,
            0.217,
            0.276,
            0.158,
            0.235,
            0.202
           ]
          },
          {
           "axis": {
            "matches": true
           },
           "label": "Perceptions of corruption",
           "values": [
            0.393,
            0.41,
            0.341,
            0.118,
            0.298,
            0.343,
            0.373,
            0.38,
            0.308,
            0.226,
            0.29,
            0.093,
            0.082,
            0.316,
            0.278,
            0.31,
            0.265,
            0.21,
            0.128,
            0.036,
            0.182,
            0.151,
            0.073,
            0.183,
            0.097,
            0.056,
            0.078,
            0.132,
            0.167,
            0.079,
            0.054,
            0.086,
            0.15,
            0.453,
            0.074,
            0.03,
            0.11,
            0.014,
            0.016,
            0.05,
            0.24,
            0.042,
            0.034,
            0.057,
            0.127,
            0.006,
            0.05,
            0.005,
            0.041,
            0.087,
            0.097,
            0.028,
            0.064,
            0.056,
            0.161,
            0.028,
            0.06,
            0.14,
            0.078,
            0.096,
            0.064,
            0.02,
            0.08,
            0.162,
            0.027,
            0.025,
            0.098,
            0.031,
            0.107,
            0.039,
            0,
            0.152,
            0.08,
            0.144,
            0.022,
            0.287,
            0.101,
            0.006,
            0.106,
            0.024,
            0.142,
            0.034,
            0.038,
            0.034,
            0.041,
            0.023,
            0.028,
            0.114,
            0.076,
            0.182,
            0.027,
            0.028,
            0.1,
            0.073,
            0.167,
            0.037,
            0.004,
            0.04,
            0.09,
            0.089,
            0.13,
            0.082,
            0.093,
            0.055,
            0.164,
            0.055,
            0.027,
            0.047,
            0.062,
            0.066,
            0.072,
            0.27,
            0.056,
            0.102,
            0.113,
            0.064,
            0.125,
            0.086,
            0.164,
            0.167,
            0.053,
            0.088,
            0.138,
            0.055,
            0.143,
            0.089,
            0.053,
            0.052,
            0.045,
            0.047,
            0.172,
            0.078,
            0.01,
            0.1,
            0.135,
            0.06,
            0.067,
            0.087,
            0.085,
            0.085,
            0.033,
            0.078,
            0.041,
            0.093,
            0.18,
            0.089,
            0.11,
            0.1,
            0.141,
            0.089,
            0.077,
            0.411,
            0.147,
            0.025,
            0.035,
            0.091
           ]
          }
         ],
         "hovertemplate": "%{xaxis.title.text}=%{x}<br>%{yaxis.title.text}=%{y}<extra></extra>",
         "legendgroup": "",
         "marker": {
          "color": "#636efa",
          "symbol": "circle"
         },
         "name": "",
         "showlegend": false,
         "type": "splom"
        }
       ],
       "layout": {
        "dragmode": "select",
        "legend": {
         "tracegroupgap": 0
        },
        "margin": {
         "t": 60
        },
        "template": {
         "data": {
          "bar": [
           {
            "error_x": {
             "color": "#2a3f5f"
            },
            "error_y": {
             "color": "#2a3f5f"
            },
            "marker": {
             "line": {
              "color": "#E5ECF6",
              "width": 0.5
             },
             "pattern": {
              "fillmode": "overlay",
              "size": 10,
              "solidity": 0.2
             }
            },
            "type": "bar"
           }
          ],
          "barpolar": [
           {
            "marker": {
             "line": {
              "color": "#E5ECF6",
              "width": 0.5
             },
             "pattern": {
              "fillmode": "overlay",
              "size": 10,
              "solidity": 0.2
             }
            },
            "type": "barpolar"
           }
          ],
          "carpet": [
           {
            "aaxis": {
             "endlinecolor": "#2a3f5f",
             "gridcolor": "white",
             "linecolor": "white",
             "minorgridcolor": "white",
             "startlinecolor": "#2a3f5f"
            },
            "baxis": {
             "endlinecolor": "#2a3f5f",
             "gridcolor": "white",
             "linecolor": "white",
             "minorgridcolor": "white",
             "startlinecolor": "#2a3f5f"
            },
            "type": "carpet"
           }
          ],
          "choropleth": [
           {
            "colorbar": {
             "outlinewidth": 0,
             "ticks": ""
            },
            "type": "choropleth"
           }
          ],
          "contour": [
           {
            "colorbar": {
             "outlinewidth": 0,
             "ticks": ""
            },
            "colorscale": [
             [
              0,
              "#0d0887"
             ],
             [
              0.1111111111111111,
              "#46039f"
             ],
             [
              0.2222222222222222,
              "#7201a8"
             ],
             [
              0.3333333333333333,
              "#9c179e"
             ],
             [
              0.4444444444444444,
              "#bd3786"
             ],
             [
              0.5555555555555556,
              "#d8576b"
             ],
             [
              0.6666666666666666,
              "#ed7953"
             ],
             [
              0.7777777777777778,
              "#fb9f3a"
             ],
             [
              0.8888888888888888,
              "#fdca26"
             ],
             [
              1,
              "#f0f921"
             ]
            ],
            "type": "contour"
           }
          ],
          "contourcarpet": [
           {
            "colorbar": {
             "outlinewidth": 0,
             "ticks": ""
            },
            "type": "contourcarpet"
           }
          ],
          "heatmap": [
           {
            "colorbar": {
             "outlinewidth": 0,
             "ticks": ""
            },
            "colorscale": [
             [
              0,
              "#0d0887"
             ],
             [
              0.1111111111111111,
              "#46039f"
             ],
             [
              0.2222222222222222,
              "#7201a8"
             ],
             [
              0.3333333333333333,
              "#9c179e"
             ],
             [
              0.4444444444444444,
              "#bd3786"
             ],
             [
              0.5555555555555556,
              "#d8576b"
             ],
             [
              0.6666666666666666,
              "#ed7953"
             ],
             [
              0.7777777777777778,
              "#fb9f3a"
             ],
             [
              0.8888888888888888,
              "#fdca26"
             ],
             [
              1,
              "#f0f921"
             ]
            ],
            "type": "heatmap"
           }
          ],
          "heatmapgl": [
           {
            "colorbar": {
             "outlinewidth": 0,
             "ticks": ""
            },
            "colorscale": [
             [
              0,
              "#0d0887"
             ],
             [
              0.1111111111111111,
              "#46039f"
             ],
             [
              0.2222222222222222,
              "#7201a8"
             ],
             [
              0.3333333333333333,
              "#9c179e"
             ],
             [
              0.4444444444444444,
              "#bd3786"
             ],
             [
              0.5555555555555556,
              "#d8576b"
             ],
             [
              0.6666666666666666,
              "#ed7953"
             ],
             [
              0.7777777777777778,
              "#fb9f3a"
             ],
             [
              0.8888888888888888,
              "#fdca26"
             ],
             [
              1,
              "#f0f921"
             ]
            ],
            "type": "heatmapgl"
           }
          ],
          "histogram": [
           {
            "marker": {
             "pattern": {
              "fillmode": "overlay",
              "size": 10,
              "solidity": 0.2
             }
            },
            "type": "histogram"
           }
          ],
          "histogram2d": [
           {
            "colorbar": {
             "outlinewidth": 0,
             "ticks": ""
            },
            "colorscale": [
             [
              0,
              "#0d0887"
             ],
             [
              0.1111111111111111,
              "#46039f"
             ],
             [
              0.2222222222222222,
              "#7201a8"
             ],
             [
              0.3333333333333333,
              "#9c179e"
             ],
             [
              0.4444444444444444,
              "#bd3786"
             ],
             [
              0.5555555555555556,
              "#d8576b"
             ],
             [
              0.6666666666666666,
              "#ed7953"
             ],
             [
              0.7777777777777778,
              "#fb9f3a"
             ],
             [
              0.8888888888888888,
              "#fdca26"
             ],
             [
              1,
              "#f0f921"
             ]
            ],
            "type": "histogram2d"
           }
          ],
          "histogram2dcontour": [
           {
            "colorbar": {
             "outlinewidth": 0,
             "ticks": ""
            },
            "colorscale": [
             [
              0,
              "#0d0887"
             ],
             [
              0.1111111111111111,
              "#46039f"
             ],
             [
              0.2222222222222222,
              "#7201a8"
             ],
             [
              0.3333333333333333,
              "#9c179e"
             ],
             [
              0.4444444444444444,
              "#bd3786"
             ],
             [
              0.5555555555555556,
              "#d8576b"
             ],
             [
              0.6666666666666666,
              "#ed7953"
             ],
             [
              0.7777777777777778,
              "#fb9f3a"
             ],
             [
              0.8888888888888888,
              "#fdca26"
             ],
             [
              1,
              "#f0f921"
             ]
            ],
            "type": "histogram2dcontour"
           }
          ],
          "mesh3d": [
           {
            "colorbar": {
             "outlinewidth": 0,
             "ticks": ""
            },
            "type": "mesh3d"
           }
          ],
          "parcoords": [
           {
            "line": {
             "colorbar": {
              "outlinewidth": 0,
              "ticks": ""
             }
            },
            "type": "parcoords"
           }
          ],
          "pie": [
           {
            "automargin": true,
            "type": "pie"
           }
          ],
          "scatter": [
           {
            "fillpattern": {
             "fillmode": "overlay",
             "size": 10,
             "solidity": 0.2
            },
            "type": "scatter"
           }
          ],
          "scatter3d": [
           {
            "line": {
             "colorbar": {
              "outlinewidth": 0,
              "ticks": ""
             }
            },
            "marker": {
             "colorbar": {
              "outlinewidth": 0,
              "ticks": ""
             }
            },
            "type": "scatter3d"
           }
          ],
          "scattercarpet": [
           {
            "marker": {
             "colorbar": {
              "outlinewidth": 0,
              "ticks": ""
             }
            },
            "type": "scattercarpet"
           }
          ],
          "scattergeo": [
           {
            "marker": {
             "colorbar": {
              "outlinewidth": 0,
              "ticks": ""
             }
            },
            "type": "scattergeo"
           }
          ],
          "scattergl": [
           {
            "marker": {
             "colorbar": {
              "outlinewidth": 0,
              "ticks": ""
             }
            },
            "type": "scattergl"
           }
          ],
          "scattermapbox": [
           {
            "marker": {
             "colorbar": {
              "outlinewidth": 0,
              "ticks": ""
             }
            },
            "type": "scattermapbox"
           }
          ],
          "scatterpolar": [
           {
            "marker": {
             "colorbar": {
              "outlinewidth": 0,
              "ticks": ""
             }
            },
            "type": "scatterpolar"
           }
          ],
          "scatterpolargl": [
           {
            "marker": {
             "colorbar": {
              "outlinewidth": 0,
              "ticks": ""
             }
            },
            "type": "scatterpolargl"
           }
          ],
          "scatterternary": [
           {
            "marker": {
             "colorbar": {
              "outlinewidth": 0,
              "ticks": ""
             }
            },
            "type": "scatterternary"
           }
          ],
          "surface": [
           {
            "colorbar": {
             "outlinewidth": 0,
             "ticks": ""
            },
            "colorscale": [
             [
              0,
              "#0d0887"
             ],
             [
              0.1111111111111111,
              "#46039f"
             ],
             [
              0.2222222222222222,
              "#7201a8"
             ],
             [
              0.3333333333333333,
              "#9c179e"
             ],
             [
              0.4444444444444444,
              "#bd3786"
             ],
             [
              0.5555555555555556,
              "#d8576b"
             ],
             [
              0.6666666666666666,
              "#ed7953"
             ],
             [
              0.7777777777777778,
              "#fb9f3a"
             ],
             [
              0.8888888888888888,
              "#fdca26"
             ],
             [
              1,
              "#f0f921"
             ]
            ],
            "type": "surface"
           }
          ],
          "table": [
           {
            "cells": {
             "fill": {
              "color": "#EBF0F8"
             },
             "line": {
              "color": "white"
             }
            },
            "header": {
             "fill": {
              "color": "#C8D4E3"
             },
             "line": {
              "color": "white"
             }
            },
            "type": "table"
           }
          ]
         },
         "layout": {
          "annotationdefaults": {
           "arrowcolor": "#2a3f5f",
           "arrowhead": 0,
           "arrowwidth": 1
          },
          "autotypenumbers": "strict",
          "coloraxis": {
           "colorbar": {
            "outlinewidth": 0,
            "ticks": ""
           }
          },
          "colorscale": {
           "diverging": [
            [
             0,
             "#8e0152"
            ],
            [
             0.1,
             "#c51b7d"
            ],
            [
             0.2,
             "#de77ae"
            ],
            [
             0.3,
             "#f1b6da"
            ],
            [
             0.4,
             "#fde0ef"
            ],
            [
             0.5,
             "#f7f7f7"
            ],
            [
             0.6,
             "#e6f5d0"
            ],
            [
             0.7,
             "#b8e186"
            ],
            [
             0.8,
             "#7fbc41"
            ],
            [
             0.9,
             "#4d9221"
            ],
            [
             1,
             "#276419"
            ]
           ],
           "sequential": [
            [
             0,
             "#0d0887"
            ],
            [
             0.1111111111111111,
             "#46039f"
            ],
            [
             0.2222222222222222,
             "#7201a8"
            ],
            [
             0.3333333333333333,
             "#9c179e"
            ],
            [
             0.4444444444444444,
             "#bd3786"
            ],
            [
             0.5555555555555556,
             "#d8576b"
            ],
            [
             0.6666666666666666,
             "#ed7953"
            ],
            [
             0.7777777777777778,
             "#fb9f3a"
            ],
            [
             0.8888888888888888,
             "#fdca26"
            ],
            [
             1,
             "#f0f921"
            ]
           ],
           "sequentialminus": [
            [
             0,
             "#0d0887"
            ],
            [
             0.1111111111111111,
             "#46039f"
            ],
            [
             0.2222222222222222,
             "#7201a8"
            ],
            [
             0.3333333333333333,
             "#9c179e"
            ],
            [
             0.4444444444444444,
             "#bd3786"
            ],
            [
             0.5555555555555556,
             "#d8576b"
            ],
            [
             0.6666666666666666,
             "#ed7953"
            ],
            [
             0.7777777777777778,
             "#fb9f3a"
            ],
            [
             0.8888888888888888,
             "#fdca26"
            ],
            [
             1,
             "#f0f921"
            ]
           ]
          },
          "colorway": [
           "#636efa",
           "#EF553B",
           "#00cc96",
           "#ab63fa",
           "#FFA15A",
           "#19d3f3",
           "#FF6692",
           "#B6E880",
           "#FF97FF",
           "#FECB52"
          ],
          "font": {
           "color": "#2a3f5f"
          },
          "geo": {
           "bgcolor": "white",
           "lakecolor": "white",
           "landcolor": "#E5ECF6",
           "showlakes": true,
           "showland": true,
           "subunitcolor": "white"
          },
          "hoverlabel": {
           "align": "left"
          },
          "hovermode": "closest",
          "mapbox": {
           "style": "light"
          },
          "paper_bgcolor": "white",
          "plot_bgcolor": "#E5ECF6",
          "polar": {
           "angularaxis": {
            "gridcolor": "white",
            "linecolor": "white",
            "ticks": ""
           },
           "bgcolor": "#E5ECF6",
           "radialaxis": {
            "gridcolor": "white",
            "linecolor": "white",
            "ticks": ""
           }
          },
          "scene": {
           "xaxis": {
            "backgroundcolor": "#E5ECF6",
            "gridcolor": "white",
            "gridwidth": 2,
            "linecolor": "white",
            "showbackground": true,
            "ticks": "",
            "zerolinecolor": "white"
           },
           "yaxis": {
            "backgroundcolor": "#E5ECF6",
            "gridcolor": "white",
            "gridwidth": 2,
            "linecolor": "white",
            "showbackground": true,
            "ticks": "",
            "zerolinecolor": "white"
           },
           "zaxis": {
            "backgroundcolor": "#E5ECF6",
            "gridcolor": "white",
            "gridwidth": 2,
            "linecolor": "white",
            "showbackground": true,
            "ticks": "",
            "zerolinecolor": "white"
           }
          },
          "shapedefaults": {
           "line": {
            "color": "#2a3f5f"
           }
          },
          "ternary": {
           "aaxis": {
            "gridcolor": "white",
            "linecolor": "white",
            "ticks": ""
           },
           "baxis": {
            "gridcolor": "white",
            "linecolor": "white",
            "ticks": ""
           },
           "bgcolor": "#E5ECF6",
           "caxis": {
            "gridcolor": "white",
            "linecolor": "white",
            "ticks": ""
           }
          },
          "title": {
           "x": 0.05
          },
          "xaxis": {
           "automargin": true,
           "gridcolor": "white",
           "linecolor": "white",
           "ticks": "",
           "title": {
            "standoff": 15
           },
           "zerolinecolor": "white",
           "zerolinewidth": 2
          },
          "yaxis": {
           "automargin": true,
           "gridcolor": "white",
           "linecolor": "white",
           "ticks": "",
           "title": {
            "standoff": 15
           },
           "zerolinecolor": "white",
           "zerolinewidth": 2
          }
         }
        }
       }
      }
     },
     "metadata": {},
     "output_type": "display_data"
    }
   ],
   "source": [
    "fig = px.scatter_matrix(data_2019,\n",
    "    dimensions=['Score','GDP per capita','Social support','Healthy life expectancy','Freedom to make life choices','Generosity','Perceptions of corruption'],\n",
    "    color_continuous_scale=px.colors.qualitative.Bold)\n",
    "fig.show()"
   ]
  },
  {
   "cell_type": "code",
   "execution_count": null,
   "id": "41023177-01cb-4f39-a750-12be71b13bda",
   "metadata": {},
   "outputs": [],
   "source": []
  },
  {
   "cell_type": "markdown",
   "id": "efb43b30-b1f0-48a4-a19c-195810cc8a0f",
   "metadata": {},
   "source": [
    "We could also use a correlation matrix to get more specific information about the relationship between these two variables."
   ]
  },
  {
   "cell_type": "code",
   "execution_count": 85,
   "id": "8406f58f-b825-4a15-8f6e-c68ca66bd483",
   "metadata": {},
   "outputs": [],
   "source": [
    "corr_2019 = data_2019.select_dtypes(include=np.number).corr()\n",
    "corr_2017 = data_2017.select_dtypes(include=np.number).corr()\n",
    "corr_2016 = data_2016.select_dtypes(include=np.number).corr()\n",
    "corr_2015 = data_2015.select_dtypes(include=np.number).corr()"
   ]
  },
  {
   "cell_type": "code",
   "execution_count": 104,
   "id": "57aced69",
   "metadata": {},
   "outputs": [
    {
     "data": {
      "application/vnd.plotly.v1+json": {
       "config": {
        "plotlyServerURL": "https://plot.ly"
       },
       "data": [
        {
         "coloraxis": "coloraxis",
         "hovertemplate": "x: %{x}<br>y: %{y}<br>color: %{z}<extra></extra>",
         "name": "0",
         "texttemplate": "%{z}",
         "type": "heatmap",
         "x": [
          "Overall rank",
          "Score",
          "GDP per capita",
          "Social support",
          "Healthy life expectancy",
          "Freedom to make life choices",
          "Generosity",
          "Perceptions of corruption"
         ],
         "xaxis": "x",
         "y": [
          "Overall rank",
          "Score",
          "GDP per capita",
          "Social support",
          "Healthy life expectancy",
          "Freedom to make life choices",
          "Generosity",
          "Perceptions of corruption"
         ],
         "yaxis": "y",
         "z": [
          [
           1,
           -0.9890962183233043,
           -0.8019465355862588,
           -0.7674653087738499,
           -0.7874106573506173,
           -0.5466063956173797,
           -0.04799261091107459,
           -0.35195851338710193
          ],
          [
           -0.9890962183233043,
           1,
           0.7938828678781276,
           0.7770577880638648,
           0.7798831492425834,
           0.5667418257199904,
           0.07582369490389744,
           0.3856130708664786
          ],
          [
           -0.8019465355862588,
           0.7938828678781276,
           1,
           0.7549057272454566,
           0.8354621150416075,
           0.37907907217677184,
           -0.0796623134897632,
           0.29891984568349267
          ],
          [
           -0.7674653087738499,
           0.7770577880638648,
           0.7549057272454566,
           1,
           0.7190094590308563,
           0.447333163587702,
           -0.04812645445432564,
           0.18189946470087068
          ],
          [
           -0.7874106573506173,
           0.7798831492425834,
           0.8354621150416075,
           0.7190094590308563,
           1,
           0.3903947764769577,
           -0.029510859651601263,
           0.29528281242267956
          ],
          [
           -0.5466063956173797,
           0.5667418257199904,
           0.37907907217677184,
           0.447333163587702,
           0.3903947764769577,
           1,
           0.2697418140765443,
           0.43884330641506736
          ],
          [
           -0.04799261091107459,
           0.07582369490389744,
           -0.0796623134897632,
           -0.04812645445432564,
           -0.029510859651601263,
           0.2697418140765443,
           1,
           0.32653754340500785
          ],
          [
           -0.35195851338710193,
           0.3856130708664786,
           0.29891984568349267,
           0.18189946470087068,
           0.29528281242267956,
           0.43884330641506736,
           0.32653754340500785,
           1
          ]
         ]
        }
       ],
       "layout": {
        "coloraxis": {
         "colorscale": [
          [
           0,
           "#0d0887"
          ],
          [
           0.1111111111111111,
           "#46039f"
          ],
          [
           0.2222222222222222,
           "#7201a8"
          ],
          [
           0.3333333333333333,
           "#9c179e"
          ],
          [
           0.4444444444444444,
           "#bd3786"
          ],
          [
           0.5555555555555556,
           "#d8576b"
          ],
          [
           0.6666666666666666,
           "#ed7953"
          ],
          [
           0.7777777777777778,
           "#fb9f3a"
          ],
          [
           0.8888888888888888,
           "#fdca26"
          ],
          [
           1,
           "#f0f921"
          ]
         ]
        },
        "height": 750,
        "margin": {
         "t": 60
        },
        "template": {
         "data": {
          "bar": [
           {
            "error_x": {
             "color": "#2a3f5f"
            },
            "error_y": {
             "color": "#2a3f5f"
            },
            "marker": {
             "line": {
              "color": "#E5ECF6",
              "width": 0.5
             },
             "pattern": {
              "fillmode": "overlay",
              "size": 10,
              "solidity": 0.2
             }
            },
            "type": "bar"
           }
          ],
          "barpolar": [
           {
            "marker": {
             "line": {
              "color": "#E5ECF6",
              "width": 0.5
             },
             "pattern": {
              "fillmode": "overlay",
              "size": 10,
              "solidity": 0.2
             }
            },
            "type": "barpolar"
           }
          ],
          "carpet": [
           {
            "aaxis": {
             "endlinecolor": "#2a3f5f",
             "gridcolor": "white",
             "linecolor": "white",
             "minorgridcolor": "white",
             "startlinecolor": "#2a3f5f"
            },
            "baxis": {
             "endlinecolor": "#2a3f5f",
             "gridcolor": "white",
             "linecolor": "white",
             "minorgridcolor": "white",
             "startlinecolor": "#2a3f5f"
            },
            "type": "carpet"
           }
          ],
          "choropleth": [
           {
            "colorbar": {
             "outlinewidth": 0,
             "ticks": ""
            },
            "type": "choropleth"
           }
          ],
          "contour": [
           {
            "colorbar": {
             "outlinewidth": 0,
             "ticks": ""
            },
            "colorscale": [
             [
              0,
              "#0d0887"
             ],
             [
              0.1111111111111111,
              "#46039f"
             ],
             [
              0.2222222222222222,
              "#7201a8"
             ],
             [
              0.3333333333333333,
              "#9c179e"
             ],
             [
              0.4444444444444444,
              "#bd3786"
             ],
             [
              0.5555555555555556,
              "#d8576b"
             ],
             [
              0.6666666666666666,
              "#ed7953"
             ],
             [
              0.7777777777777778,
              "#fb9f3a"
             ],
             [
              0.8888888888888888,
              "#fdca26"
             ],
             [
              1,
              "#f0f921"
             ]
            ],
            "type": "contour"
           }
          ],
          "contourcarpet": [
           {
            "colorbar": {
             "outlinewidth": 0,
             "ticks": ""
            },
            "type": "contourcarpet"
           }
          ],
          "heatmap": [
           {
            "colorbar": {
             "outlinewidth": 0,
             "ticks": ""
            },
            "colorscale": [
             [
              0,
              "#0d0887"
             ],
             [
              0.1111111111111111,
              "#46039f"
             ],
             [
              0.2222222222222222,
              "#7201a8"
             ],
             [
              0.3333333333333333,
              "#9c179e"
             ],
             [
              0.4444444444444444,
              "#bd3786"
             ],
             [
              0.5555555555555556,
              "#d8576b"
             ],
             [
              0.6666666666666666,
              "#ed7953"
             ],
             [
              0.7777777777777778,
              "#fb9f3a"
             ],
             [
              0.8888888888888888,
              "#fdca26"
             ],
             [
              1,
              "#f0f921"
             ]
            ],
            "type": "heatmap"
           }
          ],
          "heatmapgl": [
           {
            "colorbar": {
             "outlinewidth": 0,
             "ticks": ""
            },
            "colorscale": [
             [
              0,
              "#0d0887"
             ],
             [
              0.1111111111111111,
              "#46039f"
             ],
             [
              0.2222222222222222,
              "#7201a8"
             ],
             [
              0.3333333333333333,
              "#9c179e"
             ],
             [
              0.4444444444444444,
              "#bd3786"
             ],
             [
              0.5555555555555556,
              "#d8576b"
             ],
             [
              0.6666666666666666,
              "#ed7953"
             ],
             [
              0.7777777777777778,
              "#fb9f3a"
             ],
             [
              0.8888888888888888,
              "#fdca26"
             ],
             [
              1,
              "#f0f921"
             ]
            ],
            "type": "heatmapgl"
           }
          ],
          "histogram": [
           {
            "marker": {
             "pattern": {
              "fillmode": "overlay",
              "size": 10,
              "solidity": 0.2
             }
            },
            "type": "histogram"
           }
          ],
          "histogram2d": [
           {
            "colorbar": {
             "outlinewidth": 0,
             "ticks": ""
            },
            "colorscale": [
             [
              0,
              "#0d0887"
             ],
             [
              0.1111111111111111,
              "#46039f"
             ],
             [
              0.2222222222222222,
              "#7201a8"
             ],
             [
              0.3333333333333333,
              "#9c179e"
             ],
             [
              0.4444444444444444,
              "#bd3786"
             ],
             [
              0.5555555555555556,
              "#d8576b"
             ],
             [
              0.6666666666666666,
              "#ed7953"
             ],
             [
              0.7777777777777778,
              "#fb9f3a"
             ],
             [
              0.8888888888888888,
              "#fdca26"
             ],
             [
              1,
              "#f0f921"
             ]
            ],
            "type": "histogram2d"
           }
          ],
          "histogram2dcontour": [
           {
            "colorbar": {
             "outlinewidth": 0,
             "ticks": ""
            },
            "colorscale": [
             [
              0,
              "#0d0887"
             ],
             [
              0.1111111111111111,
              "#46039f"
             ],
             [
              0.2222222222222222,
              "#7201a8"
             ],
             [
              0.3333333333333333,
              "#9c179e"
             ],
             [
              0.4444444444444444,
              "#bd3786"
             ],
             [
              0.5555555555555556,
              "#d8576b"
             ],
             [
              0.6666666666666666,
              "#ed7953"
             ],
             [
              0.7777777777777778,
              "#fb9f3a"
             ],
             [
              0.8888888888888888,
              "#fdca26"
             ],
             [
              1,
              "#f0f921"
             ]
            ],
            "type": "histogram2dcontour"
           }
          ],
          "mesh3d": [
           {
            "colorbar": {
             "outlinewidth": 0,
             "ticks": ""
            },
            "type": "mesh3d"
           }
          ],
          "parcoords": [
           {
            "line": {
             "colorbar": {
              "outlinewidth": 0,
              "ticks": ""
             }
            },
            "type": "parcoords"
           }
          ],
          "pie": [
           {
            "automargin": true,
            "type": "pie"
           }
          ],
          "scatter": [
           {
            "fillpattern": {
             "fillmode": "overlay",
             "size": 10,
             "solidity": 0.2
            },
            "type": "scatter"
           }
          ],
          "scatter3d": [
           {
            "line": {
             "colorbar": {
              "outlinewidth": 0,
              "ticks": ""
             }
            },
            "marker": {
             "colorbar": {
              "outlinewidth": 0,
              "ticks": ""
             }
            },
            "type": "scatter3d"
           }
          ],
          "scattercarpet": [
           {
            "marker": {
             "colorbar": {
              "outlinewidth": 0,
              "ticks": ""
             }
            },
            "type": "scattercarpet"
           }
          ],
          "scattergeo": [
           {
            "marker": {
             "colorbar": {
              "outlinewidth": 0,
              "ticks": ""
             }
            },
            "type": "scattergeo"
           }
          ],
          "scattergl": [
           {
            "marker": {
             "colorbar": {
              "outlinewidth": 0,
              "ticks": ""
             }
            },
            "type": "scattergl"
           }
          ],
          "scattermapbox": [
           {
            "marker": {
             "colorbar": {
              "outlinewidth": 0,
              "ticks": ""
             }
            },
            "type": "scattermapbox"
           }
          ],
          "scatterpolar": [
           {
            "marker": {
             "colorbar": {
              "outlinewidth": 0,
              "ticks": ""
             }
            },
            "type": "scatterpolar"
           }
          ],
          "scatterpolargl": [
           {
            "marker": {
             "colorbar": {
              "outlinewidth": 0,
              "ticks": ""
             }
            },
            "type": "scatterpolargl"
           }
          ],
          "scatterternary": [
           {
            "marker": {
             "colorbar": {
              "outlinewidth": 0,
              "ticks": ""
             }
            },
            "type": "scatterternary"
           }
          ],
          "surface": [
           {
            "colorbar": {
             "outlinewidth": 0,
             "ticks": ""
            },
            "colorscale": [
             [
              0,
              "#0d0887"
             ],
             [
              0.1111111111111111,
              "#46039f"
             ],
             [
              0.2222222222222222,
              "#7201a8"
             ],
             [
              0.3333333333333333,
              "#9c179e"
             ],
             [
              0.4444444444444444,
              "#bd3786"
             ],
             [
              0.5555555555555556,
              "#d8576b"
             ],
             [
              0.6666666666666666,
              "#ed7953"
             ],
             [
              0.7777777777777778,
              "#fb9f3a"
             ],
             [
              0.8888888888888888,
              "#fdca26"
             ],
             [
              1,
              "#f0f921"
             ]
            ],
            "type": "surface"
           }
          ],
          "table": [
           {
            "cells": {
             "fill": {
              "color": "#EBF0F8"
             },
             "line": {
              "color": "white"
             }
            },
            "header": {
             "fill": {
              "color": "#C8D4E3"
             },
             "line": {
              "color": "white"
             }
            },
            "type": "table"
           }
          ]
         },
         "layout": {
          "annotationdefaults": {
           "arrowcolor": "#2a3f5f",
           "arrowhead": 0,
           "arrowwidth": 1
          },
          "autotypenumbers": "strict",
          "coloraxis": {
           "colorbar": {
            "outlinewidth": 0,
            "ticks": ""
           }
          },
          "colorscale": {
           "diverging": [
            [
             0,
             "#8e0152"
            ],
            [
             0.1,
             "#c51b7d"
            ],
            [
             0.2,
             "#de77ae"
            ],
            [
             0.3,
             "#f1b6da"
            ],
            [
             0.4,
             "#fde0ef"
            ],
            [
             0.5,
             "#f7f7f7"
            ],
            [
             0.6,
             "#e6f5d0"
            ],
            [
             0.7,
             "#b8e186"
            ],
            [
             0.8,
             "#7fbc41"
            ],
            [
             0.9,
             "#4d9221"
            ],
            [
             1,
             "#276419"
            ]
           ],
           "sequential": [
            [
             0,
             "#0d0887"
            ],
            [
             0.1111111111111111,
             "#46039f"
            ],
            [
             0.2222222222222222,
             "#7201a8"
            ],
            [
             0.3333333333333333,
             "#9c179e"
            ],
            [
             0.4444444444444444,
             "#bd3786"
            ],
            [
             0.5555555555555556,
             "#d8576b"
            ],
            [
             0.6666666666666666,
             "#ed7953"
            ],
            [
             0.7777777777777778,
             "#fb9f3a"
            ],
            [
             0.8888888888888888,
             "#fdca26"
            ],
            [
             1,
             "#f0f921"
            ]
           ],
           "sequentialminus": [
            [
             0,
             "#0d0887"
            ],
            [
             0.1111111111111111,
             "#46039f"
            ],
            [
             0.2222222222222222,
             "#7201a8"
            ],
            [
             0.3333333333333333,
             "#9c179e"
            ],
            [
             0.4444444444444444,
             "#bd3786"
            ],
            [
             0.5555555555555556,
             "#d8576b"
            ],
            [
             0.6666666666666666,
             "#ed7953"
            ],
            [
             0.7777777777777778,
             "#fb9f3a"
            ],
            [
             0.8888888888888888,
             "#fdca26"
            ],
            [
             1,
             "#f0f921"
            ]
           ]
          },
          "colorway": [
           "#636efa",
           "#EF553B",
           "#00cc96",
           "#ab63fa",
           "#FFA15A",
           "#19d3f3",
           "#FF6692",
           "#B6E880",
           "#FF97FF",
           "#FECB52"
          ],
          "font": {
           "color": "#2a3f5f"
          },
          "geo": {
           "bgcolor": "white",
           "lakecolor": "white",
           "landcolor": "#E5ECF6",
           "showlakes": true,
           "showland": true,
           "subunitcolor": "white"
          },
          "hoverlabel": {
           "align": "left"
          },
          "hovermode": "closest",
          "mapbox": {
           "style": "light"
          },
          "paper_bgcolor": "white",
          "plot_bgcolor": "#E5ECF6",
          "polar": {
           "angularaxis": {
            "gridcolor": "white",
            "linecolor": "white",
            "ticks": ""
           },
           "bgcolor": "#E5ECF6",
           "radialaxis": {
            "gridcolor": "white",
            "linecolor": "white",
            "ticks": ""
           }
          },
          "scene": {
           "xaxis": {
            "backgroundcolor": "#E5ECF6",
            "gridcolor": "white",
            "gridwidth": 2,
            "linecolor": "white",
            "showbackground": true,
            "ticks": "",
            "zerolinecolor": "white"
           },
           "yaxis": {
            "backgroundcolor": "#E5ECF6",
            "gridcolor": "white",
            "gridwidth": 2,
            "linecolor": "white",
            "showbackground": true,
            "ticks": "",
            "zerolinecolor": "white"
           },
           "zaxis": {
            "backgroundcolor": "#E5ECF6",
            "gridcolor": "white",
            "gridwidth": 2,
            "linecolor": "white",
            "showbackground": true,
            "ticks": "",
            "zerolinecolor": "white"
           }
          },
          "shapedefaults": {
           "line": {
            "color": "#2a3f5f"
           }
          },
          "ternary": {
           "aaxis": {
            "gridcolor": "white",
            "linecolor": "white",
            "ticks": ""
           },
           "baxis": {
            "gridcolor": "white",
            "linecolor": "white",
            "ticks": ""
           },
           "bgcolor": "#E5ECF6",
           "caxis": {
            "gridcolor": "white",
            "linecolor": "white",
            "ticks": ""
           }
          },
          "title": {
           "x": 0.05
          },
          "xaxis": {
           "automargin": true,
           "gridcolor": "white",
           "linecolor": "white",
           "ticks": "",
           "title": {
            "standoff": 15
           },
           "zerolinecolor": "white",
           "zerolinewidth": 2
          },
          "yaxis": {
           "automargin": true,
           "gridcolor": "white",
           "linecolor": "white",
           "ticks": "",
           "title": {
            "standoff": 15
           },
           "zerolinecolor": "white",
           "zerolinewidth": 2
          }
         }
        },
        "width": 1000,
        "xaxis": {
         "anchor": "y",
         "constrain": "domain",
         "domain": [
          0,
          1
         ],
         "scaleanchor": "y"
        },
        "yaxis": {
         "anchor": "x",
         "autorange": "reversed",
         "constrain": "domain",
         "domain": [
          0,
          1
         ]
        }
       }
      }
     },
     "metadata": {},
     "output_type": "display_data"
    }
   ],
   "source": [
    "fig = px.imshow(corr_2019, text_auto=True,width=1000,height=750)\n",
    "fig.show()"
   ]
  },
  {
   "cell_type": "code",
   "execution_count": 111,
   "id": "37a26d13",
   "metadata": {},
   "outputs": [
    {
     "data": {
      "application/vnd.plotly.v1+json": {
       "config": {
        "plotlyServerURL": "https://plot.ly"
       },
       "data": [
        {
         "coloraxis": "coloraxis",
         "hovertemplate": "x: %{x}<br>y: %{y}<br>color: %{z}<extra></extra>",
         "name": "0",
         "texttemplate": "%{z}",
         "type": "heatmap",
         "x": [
          "Happiness.Rank",
          "Happiness.Score",
          "Whisker.high",
          "Whisker.low",
          "Economy..GDP.per.Capita.",
          "Family",
          "Health..Life.Expectancy.",
          "Freedom",
          "Generosity",
          "Trust..Government.Corruption.",
          "Dystopia.Residual"
         ],
         "xaxis": "x",
         "y": [
          "Happiness.Rank",
          "Happiness.Score",
          "Whisker.high",
          "Whisker.low",
          "Economy..GDP.per.Capita.",
          "Family",
          "Health..Life.Expectancy.",
          "Freedom",
          "Generosity",
          "Trust..Government.Corruption.",
          "Dystopia.Residual"
         ],
         "yaxis": "y",
         "z": [
          [
           1,
           -0.9927744658907134,
           -0.993058492839789,
           -0.9915334758674776,
           -0.8132436353491986,
           -0.7367526832313127,
           -0.7807158366857987,
           -0.5516078425657571,
           -0.13261979066642146,
           -0.4058423300313603,
           -0.48450596468603413
          ],
          [
           -0.9927744658907134,
           1,
           0.99949741926203,
           0.999520408297502,
           0.8124687538866423,
           0.7527366726961483,
           0.7819506247990083,
           0.5701371935975074,
           0.1552558391127448,
           0.4290797372221719,
           0.4753551243132991
          ],
          [
           -0.993058492839789,
           0.99949741926203,
           1,
           0.9980364063333748,
           0.8118675813237913,
           0.7509342213221413,
           0.7766344970728684,
           0.5699073776245647,
           0.15546202980799498,
           0.42645891486029797,
           0.47882363355070834
          ],
          [
           -0.9915334758674776,
           0.999520408297502,
           0.9980364063333748,
           1,
           0.8122674810164625,
           0.7537668621135829,
           0.7863848549531395,
           0.5698083487319084,
           0.15490373527614476,
           0.43122349020345324,
           0.471505498235228
          ],
          [
           -0.8132436353491986,
           0.8124687538866423,
           0.8118675813237913,
           0.8122674810164625,
           1,
           0.6882963117276099,
           0.8430766397871037,
           0.3698733917973205,
           -0.019011251496023,
           0.3509440995693249,
           0.024226418990886782
          ],
          [
           -0.7367526832313127,
           0.7527366726961483,
           0.7509342213221413,
           0.7537668621135829,
           0.6882963117276099,
           1,
           0.6120800628710187,
           0.42496575623500293,
           0.05169262826093342,
           0.23184138716565872,
           0.07050575566798874
          ],
          [
           -0.7807158366857987,
           0.7819506247990083,
           0.7766344970728684,
           0.7863848549531395,
           0.8430766397871037,
           0.6120800628710187,
           1,
           0.3498267885532254,
           0.0631914908816766,
           0.2797519753008501,
           0.054963282289266294
          ],
          [
           -0.5516078425657571,
           0.5701371935975074,
           0.5699073776245647,
           0.5698083487319084,
           0.3698733917973205,
           0.42496575623500293,
           0.3498267885532254,
           1,
           0.3160827111984269,
           0.4991827884989108,
           0.08192597405187609
          ],
          [
           -0.13261979066642146,
           0.1552558391127448,
           0.15546202980799498,
           0.15490373527614476,
           -0.019011251496023,
           0.05169262826093342,
           0.0631914908816766,
           0.3160827111984269,
           1,
           0.29415945258873044,
           -0.11662673847020974
          ],
          [
           -0.4058423300313603,
           0.4290797372221719,
           0.42645891486029797,
           0.43122349020345324,
           0.3509440995693249,
           0.23184138716565872,
           0.2797519753008501,
           0.4991827884989108,
           0.29415945258873044,
           1,
           -0.022755062882931196
          ],
          [
           -0.48450596468603413,
           0.4753551243132991,
           0.47882363355070834,
           0.471505498235228,
           0.024226418990886782,
           0.07050575566798874,
           0.054963282289266294,
           0.08192597405187609,
           -0.11662673847020974,
           -0.022755062882931196,
           1
          ]
         ]
        }
       ],
       "layout": {
        "coloraxis": {
         "colorscale": [
          [
           0,
           "#0d0887"
          ],
          [
           0.1111111111111111,
           "#46039f"
          ],
          [
           0.2222222222222222,
           "#7201a8"
          ],
          [
           0.3333333333333333,
           "#9c179e"
          ],
          [
           0.4444444444444444,
           "#bd3786"
          ],
          [
           0.5555555555555556,
           "#d8576b"
          ],
          [
           0.6666666666666666,
           "#ed7953"
          ],
          [
           0.7777777777777778,
           "#fb9f3a"
          ],
          [
           0.8888888888888888,
           "#fdca26"
          ],
          [
           1,
           "#f0f921"
          ]
         ]
        },
        "height": 750,
        "margin": {
         "t": 60
        },
        "template": {
         "data": {
          "bar": [
           {
            "error_x": {
             "color": "#2a3f5f"
            },
            "error_y": {
             "color": "#2a3f5f"
            },
            "marker": {
             "line": {
              "color": "#E5ECF6",
              "width": 0.5
             },
             "pattern": {
              "fillmode": "overlay",
              "size": 10,
              "solidity": 0.2
             }
            },
            "type": "bar"
           }
          ],
          "barpolar": [
           {
            "marker": {
             "line": {
              "color": "#E5ECF6",
              "width": 0.5
             },
             "pattern": {
              "fillmode": "overlay",
              "size": 10,
              "solidity": 0.2
             }
            },
            "type": "barpolar"
           }
          ],
          "carpet": [
           {
            "aaxis": {
             "endlinecolor": "#2a3f5f",
             "gridcolor": "white",
             "linecolor": "white",
             "minorgridcolor": "white",
             "startlinecolor": "#2a3f5f"
            },
            "baxis": {
             "endlinecolor": "#2a3f5f",
             "gridcolor": "white",
             "linecolor": "white",
             "minorgridcolor": "white",
             "startlinecolor": "#2a3f5f"
            },
            "type": "carpet"
           }
          ],
          "choropleth": [
           {
            "colorbar": {
             "outlinewidth": 0,
             "ticks": ""
            },
            "type": "choropleth"
           }
          ],
          "contour": [
           {
            "colorbar": {
             "outlinewidth": 0,
             "ticks": ""
            },
            "colorscale": [
             [
              0,
              "#0d0887"
             ],
             [
              0.1111111111111111,
              "#46039f"
             ],
             [
              0.2222222222222222,
              "#7201a8"
             ],
             [
              0.3333333333333333,
              "#9c179e"
             ],
             [
              0.4444444444444444,
              "#bd3786"
             ],
             [
              0.5555555555555556,
              "#d8576b"
             ],
             [
              0.6666666666666666,
              "#ed7953"
             ],
             [
              0.7777777777777778,
              "#fb9f3a"
             ],
             [
              0.8888888888888888,
              "#fdca26"
             ],
             [
              1,
              "#f0f921"
             ]
            ],
            "type": "contour"
           }
          ],
          "contourcarpet": [
           {
            "colorbar": {
             "outlinewidth": 0,
             "ticks": ""
            },
            "type": "contourcarpet"
           }
          ],
          "heatmap": [
           {
            "colorbar": {
             "outlinewidth": 0,
             "ticks": ""
            },
            "colorscale": [
             [
              0,
              "#0d0887"
             ],
             [
              0.1111111111111111,
              "#46039f"
             ],
             [
              0.2222222222222222,
              "#7201a8"
             ],
             [
              0.3333333333333333,
              "#9c179e"
             ],
             [
              0.4444444444444444,
              "#bd3786"
             ],
             [
              0.5555555555555556,
              "#d8576b"
             ],
             [
              0.6666666666666666,
              "#ed7953"
             ],
             [
              0.7777777777777778,
              "#fb9f3a"
             ],
             [
              0.8888888888888888,
              "#fdca26"
             ],
             [
              1,
              "#f0f921"
             ]
            ],
            "type": "heatmap"
           }
          ],
          "heatmapgl": [
           {
            "colorbar": {
             "outlinewidth": 0,
             "ticks": ""
            },
            "colorscale": [
             [
              0,
              "#0d0887"
             ],
             [
              0.1111111111111111,
              "#46039f"
             ],
             [
              0.2222222222222222,
              "#7201a8"
             ],
             [
              0.3333333333333333,
              "#9c179e"
             ],
             [
              0.4444444444444444,
              "#bd3786"
             ],
             [
              0.5555555555555556,
              "#d8576b"
             ],
             [
              0.6666666666666666,
              "#ed7953"
             ],
             [
              0.7777777777777778,
              "#fb9f3a"
             ],
             [
              0.8888888888888888,
              "#fdca26"
             ],
             [
              1,
              "#f0f921"
             ]
            ],
            "type": "heatmapgl"
           }
          ],
          "histogram": [
           {
            "marker": {
             "pattern": {
              "fillmode": "overlay",
              "size": 10,
              "solidity": 0.2
             }
            },
            "type": "histogram"
           }
          ],
          "histogram2d": [
           {
            "colorbar": {
             "outlinewidth": 0,
             "ticks": ""
            },
            "colorscale": [
             [
              0,
              "#0d0887"
             ],
             [
              0.1111111111111111,
              "#46039f"
             ],
             [
              0.2222222222222222,
              "#7201a8"
             ],
             [
              0.3333333333333333,
              "#9c179e"
             ],
             [
              0.4444444444444444,
              "#bd3786"
             ],
             [
              0.5555555555555556,
              "#d8576b"
             ],
             [
              0.6666666666666666,
              "#ed7953"
             ],
             [
              0.7777777777777778,
              "#fb9f3a"
             ],
             [
              0.8888888888888888,
              "#fdca26"
             ],
             [
              1,
              "#f0f921"
             ]
            ],
            "type": "histogram2d"
           }
          ],
          "histogram2dcontour": [
           {
            "colorbar": {
             "outlinewidth": 0,
             "ticks": ""
            },
            "colorscale": [
             [
              0,
              "#0d0887"
             ],
             [
              0.1111111111111111,
              "#46039f"
             ],
             [
              0.2222222222222222,
              "#7201a8"
             ],
             [
              0.3333333333333333,
              "#9c179e"
             ],
             [
              0.4444444444444444,
              "#bd3786"
             ],
             [
              0.5555555555555556,
              "#d8576b"
             ],
             [
              0.6666666666666666,
              "#ed7953"
             ],
             [
              0.7777777777777778,
              "#fb9f3a"
             ],
             [
              0.8888888888888888,
              "#fdca26"
             ],
             [
              1,
              "#f0f921"
             ]
            ],
            "type": "histogram2dcontour"
           }
          ],
          "mesh3d": [
           {
            "colorbar": {
             "outlinewidth": 0,
             "ticks": ""
            },
            "type": "mesh3d"
           }
          ],
          "parcoords": [
           {
            "line": {
             "colorbar": {
              "outlinewidth": 0,
              "ticks": ""
             }
            },
            "type": "parcoords"
           }
          ],
          "pie": [
           {
            "automargin": true,
            "type": "pie"
           }
          ],
          "scatter": [
           {
            "fillpattern": {
             "fillmode": "overlay",
             "size": 10,
             "solidity": 0.2
            },
            "type": "scatter"
           }
          ],
          "scatter3d": [
           {
            "line": {
             "colorbar": {
              "outlinewidth": 0,
              "ticks": ""
             }
            },
            "marker": {
             "colorbar": {
              "outlinewidth": 0,
              "ticks": ""
             }
            },
            "type": "scatter3d"
           }
          ],
          "scattercarpet": [
           {
            "marker": {
             "colorbar": {
              "outlinewidth": 0,
              "ticks": ""
             }
            },
            "type": "scattercarpet"
           }
          ],
          "scattergeo": [
           {
            "marker": {
             "colorbar": {
              "outlinewidth": 0,
              "ticks": ""
             }
            },
            "type": "scattergeo"
           }
          ],
          "scattergl": [
           {
            "marker": {
             "colorbar": {
              "outlinewidth": 0,
              "ticks": ""
             }
            },
            "type": "scattergl"
           }
          ],
          "scattermapbox": [
           {
            "marker": {
             "colorbar": {
              "outlinewidth": 0,
              "ticks": ""
             }
            },
            "type": "scattermapbox"
           }
          ],
          "scatterpolar": [
           {
            "marker": {
             "colorbar": {
              "outlinewidth": 0,
              "ticks": ""
             }
            },
            "type": "scatterpolar"
           }
          ],
          "scatterpolargl": [
           {
            "marker": {
             "colorbar": {
              "outlinewidth": 0,
              "ticks": ""
             }
            },
            "type": "scatterpolargl"
           }
          ],
          "scatterternary": [
           {
            "marker": {
             "colorbar": {
              "outlinewidth": 0,
              "ticks": ""
             }
            },
            "type": "scatterternary"
           }
          ],
          "surface": [
           {
            "colorbar": {
             "outlinewidth": 0,
             "ticks": ""
            },
            "colorscale": [
             [
              0,
              "#0d0887"
             ],
             [
              0.1111111111111111,
              "#46039f"
             ],
             [
              0.2222222222222222,
              "#7201a8"
             ],
             [
              0.3333333333333333,
              "#9c179e"
             ],
             [
              0.4444444444444444,
              "#bd3786"
             ],
             [
              0.5555555555555556,
              "#d8576b"
             ],
             [
              0.6666666666666666,
              "#ed7953"
             ],
             [
              0.7777777777777778,
              "#fb9f3a"
             ],
             [
              0.8888888888888888,
              "#fdca26"
             ],
             [
              1,
              "#f0f921"
             ]
            ],
            "type": "surface"
           }
          ],
          "table": [
           {
            "cells": {
             "fill": {
              "color": "#EBF0F8"
             },
             "line": {
              "color": "white"
             }
            },
            "header": {
             "fill": {
              "color": "#C8D4E3"
             },
             "line": {
              "color": "white"
             }
            },
            "type": "table"
           }
          ]
         },
         "layout": {
          "annotationdefaults": {
           "arrowcolor": "#2a3f5f",
           "arrowhead": 0,
           "arrowwidth": 1
          },
          "autotypenumbers": "strict",
          "coloraxis": {
           "colorbar": {
            "outlinewidth": 0,
            "ticks": ""
           }
          },
          "colorscale": {
           "diverging": [
            [
             0,
             "#8e0152"
            ],
            [
             0.1,
             "#c51b7d"
            ],
            [
             0.2,
             "#de77ae"
            ],
            [
             0.3,
             "#f1b6da"
            ],
            [
             0.4,
             "#fde0ef"
            ],
            [
             0.5,
             "#f7f7f7"
            ],
            [
             0.6,
             "#e6f5d0"
            ],
            [
             0.7,
             "#b8e186"
            ],
            [
             0.8,
             "#7fbc41"
            ],
            [
             0.9,
             "#4d9221"
            ],
            [
             1,
             "#276419"
            ]
           ],
           "sequential": [
            [
             0,
             "#0d0887"
            ],
            [
             0.1111111111111111,
             "#46039f"
            ],
            [
             0.2222222222222222,
             "#7201a8"
            ],
            [
             0.3333333333333333,
             "#9c179e"
            ],
            [
             0.4444444444444444,
             "#bd3786"
            ],
            [
             0.5555555555555556,
             "#d8576b"
            ],
            [
             0.6666666666666666,
             "#ed7953"
            ],
            [
             0.7777777777777778,
             "#fb9f3a"
            ],
            [
             0.8888888888888888,
             "#fdca26"
            ],
            [
             1,
             "#f0f921"
            ]
           ],
           "sequentialminus": [
            [
             0,
             "#0d0887"
            ],
            [
             0.1111111111111111,
             "#46039f"
            ],
            [
             0.2222222222222222,
             "#7201a8"
            ],
            [
             0.3333333333333333,
             "#9c179e"
            ],
            [
             0.4444444444444444,
             "#bd3786"
            ],
            [
             0.5555555555555556,
             "#d8576b"
            ],
            [
             0.6666666666666666,
             "#ed7953"
            ],
            [
             0.7777777777777778,
             "#fb9f3a"
            ],
            [
             0.8888888888888888,
             "#fdca26"
            ],
            [
             1,
             "#f0f921"
            ]
           ]
          },
          "colorway": [
           "#636efa",
           "#EF553B",
           "#00cc96",
           "#ab63fa",
           "#FFA15A",
           "#19d3f3",
           "#FF6692",
           "#B6E880",
           "#FF97FF",
           "#FECB52"
          ],
          "font": {
           "color": "#2a3f5f"
          },
          "geo": {
           "bgcolor": "white",
           "lakecolor": "white",
           "landcolor": "#E5ECF6",
           "showlakes": true,
           "showland": true,
           "subunitcolor": "white"
          },
          "hoverlabel": {
           "align": "left"
          },
          "hovermode": "closest",
          "mapbox": {
           "style": "light"
          },
          "paper_bgcolor": "white",
          "plot_bgcolor": "#E5ECF6",
          "polar": {
           "angularaxis": {
            "gridcolor": "white",
            "linecolor": "white",
            "ticks": ""
           },
           "bgcolor": "#E5ECF6",
           "radialaxis": {
            "gridcolor": "white",
            "linecolor": "white",
            "ticks": ""
           }
          },
          "scene": {
           "xaxis": {
            "backgroundcolor": "#E5ECF6",
            "gridcolor": "white",
            "gridwidth": 2,
            "linecolor": "white",
            "showbackground": true,
            "ticks": "",
            "zerolinecolor": "white"
           },
           "yaxis": {
            "backgroundcolor": "#E5ECF6",
            "gridcolor": "white",
            "gridwidth": 2,
            "linecolor": "white",
            "showbackground": true,
            "ticks": "",
            "zerolinecolor": "white"
           },
           "zaxis": {
            "backgroundcolor": "#E5ECF6",
            "gridcolor": "white",
            "gridwidth": 2,
            "linecolor": "white",
            "showbackground": true,
            "ticks": "",
            "zerolinecolor": "white"
           }
          },
          "shapedefaults": {
           "line": {
            "color": "#2a3f5f"
           }
          },
          "ternary": {
           "aaxis": {
            "gridcolor": "white",
            "linecolor": "white",
            "ticks": ""
           },
           "baxis": {
            "gridcolor": "white",
            "linecolor": "white",
            "ticks": ""
           },
           "bgcolor": "#E5ECF6",
           "caxis": {
            "gridcolor": "white",
            "linecolor": "white",
            "ticks": ""
           }
          },
          "title": {
           "x": 0.05
          },
          "xaxis": {
           "automargin": true,
           "gridcolor": "white",
           "linecolor": "white",
           "ticks": "",
           "title": {
            "standoff": 15
           },
           "zerolinecolor": "white",
           "zerolinewidth": 2
          },
          "yaxis": {
           "automargin": true,
           "gridcolor": "white",
           "linecolor": "white",
           "ticks": "",
           "title": {
            "standoff": 15
           },
           "zerolinecolor": "white",
           "zerolinewidth": 2
          }
         }
        },
        "width": 1000,
        "xaxis": {
         "anchor": "y",
         "constrain": "domain",
         "domain": [
          0,
          1
         ],
         "scaleanchor": "y"
        },
        "yaxis": {
         "anchor": "x",
         "autorange": "reversed",
         "constrain": "domain",
         "domain": [
          0,
          1
         ]
        }
       }
      }
     },
     "metadata": {},
     "output_type": "display_data"
    }
   ],
   "source": [
    "fig = px.imshow(corr_2017, text_auto=True,width=1000,height=750)\n",
    "fig.show()"
   ]
  },
  {
   "cell_type": "code",
   "execution_count": 101,
   "id": "fd0bb500",
   "metadata": {},
   "outputs": [
    {
     "data": {
      "application/vnd.plotly.v1+json": {
       "config": {
        "plotlyServerURL": "https://plot.ly"
       },
       "data": [
        {
         "coloraxis": "coloraxis",
         "hovertemplate": "x: %{x}<br>y: %{y}<br>color: %{z}<extra></extra>",
         "name": "0",
         "texttemplate": "%{z}",
         "type": "heatmap",
         "x": [
          "Happiness Rank",
          "Happiness Score",
          "Lower Confidence Interval",
          "Upper Confidence Interval",
          "Economy (GDP per Capita)",
          "Family",
          "Health (Life Expectancy)",
          "Freedom",
          "Trust (Government Corruption)",
          "Generosity",
          "Dystopia Residual"
         ],
         "xaxis": "x",
         "y": [
          "Happiness Rank",
          "Happiness Score",
          "Lower Confidence Interval",
          "Upper Confidence Interval",
          "Economy (GDP per Capita)",
          "Family",
          "Health (Life Expectancy)",
          "Freedom",
          "Trust (Government Corruption)",
          "Generosity",
          "Dystopia Residual"
         ],
         "yaxis": "y",
         "z": [
          [
           1,
           -0.9957433909369678,
           -0.9949283766891872,
           -0.9955251141928845,
           -0.7935771153666057,
           -0.7332763455700573,
           -0.7679907812050296,
           -0.5571687096310289,
           -0.3871016397372249,
           -0.1453687806114181,
           -0.5426158003215974
          ],
          [
           -0.9957433909369678,
           1,
           0.9994848674154705,
           0.9994743415801947,
           0.7903220167261058,
           0.7392515774070013,
           0.7653843344336673,
           0.5668266730968934,
           0.40203224514729236,
           0.15684779640360766,
           0.543737614298248
          ],
          [
           -0.9949283766891872,
           0.9994848674154705,
           1,
           0.9979190127995865,
           0.7906733980741348,
           0.741522735848078,
           0.7691771729543165,
           0.5668574511493341,
           0.4048399533345709,
           0.1580247797006855,
           0.5387927233269034
          ],
          [
           -0.9955251141928845,
           0.9994743415801947,
           0.9979190127995865,
           1,
           0.7891403672040306,
           0.7361840624354186,
           0.7607523400634532,
           0.566202666865589,
           0.39877546801587355,
           0.15549478537958097,
           0.5481639931122292
          ],
          [
           -0.7935771153666057,
           0.7903220167261058,
           0.7906733980741348,
           0.7891403672040306,
           1,
           0.6695396946678732,
           0.8370672306340116,
           0.3622828494613374,
           0.29418477531252873,
           -0.025530660919213414,
           0.06862402471718768
          ],
          [
           -0.7332763455700573,
           0.7392515774070013,
           0.741522735848078,
           0.7361840624354186,
           0.6695396946678732,
           1,
           0.5883767772668261,
           0.45020820413712276,
           0.21356093757197225,
           0.08962885297244037,
           0.11967231447049563
          ],
          [
           -0.7679907812050296,
           0.7653843344336673,
           0.7691771729543165,
           0.7607523400634532,
           0.8370672306340116,
           0.5883767772668261,
           1,
           0.34119928836196795,
           0.24958328549827438,
           0.07598731312234128,
           0.1008570459593264
          ],
          [
           -0.5571687096310289,
           0.5668266730968934,
           0.5668574511493341,
           0.566202666865589,
           0.3622828494613374,
           0.45020820413712276,
           0.34119928836196795,
           1,
           0.5020539736587193,
           0.36175132859546083,
           0.09163094116342023
          ],
          [
           -0.3871016397372249,
           0.40203224514729236,
           0.4048399533345709,
           0.39877546801587355,
           0.29418477531252873,
           0.21356093757197225,
           0.24958328549827438,
           0.5020539736587193,
           1,
           0.30592986119121796,
           -0.0029093460530525855
          ],
          [
           -0.1453687806114181,
           0.15684779640360766,
           0.1580247797006855,
           0.15549478537958097,
           -0.025530660919213414,
           0.08962885297244037,
           0.07598731312234128,
           0.36175132859546083,
           0.30592986119121796,
           1,
           -0.1330014069822488
          ],
          [
           -0.5426158003215974,
           0.543737614298248,
           0.5387927233269034,
           0.5481639931122292,
           0.06862402471718768,
           0.11967231447049563,
           0.1008570459593264,
           0.09163094116342023,
           -0.0029093460530525855,
           -0.1330014069822488,
           1
          ]
         ]
        }
       ],
       "layout": {
        "coloraxis": {
         "colorscale": [
          [
           0,
           "#0d0887"
          ],
          [
           0.1111111111111111,
           "#46039f"
          ],
          [
           0.2222222222222222,
           "#7201a8"
          ],
          [
           0.3333333333333333,
           "#9c179e"
          ],
          [
           0.4444444444444444,
           "#bd3786"
          ],
          [
           0.5555555555555556,
           "#d8576b"
          ],
          [
           0.6666666666666666,
           "#ed7953"
          ],
          [
           0.7777777777777778,
           "#fb9f3a"
          ],
          [
           0.8888888888888888,
           "#fdca26"
          ],
          [
           1,
           "#f0f921"
          ]
         ]
        },
        "height": 750,
        "margin": {
         "t": 60
        },
        "template": {
         "data": {
          "bar": [
           {
            "error_x": {
             "color": "#2a3f5f"
            },
            "error_y": {
             "color": "#2a3f5f"
            },
            "marker": {
             "line": {
              "color": "#E5ECF6",
              "width": 0.5
             },
             "pattern": {
              "fillmode": "overlay",
              "size": 10,
              "solidity": 0.2
             }
            },
            "type": "bar"
           }
          ],
          "barpolar": [
           {
            "marker": {
             "line": {
              "color": "#E5ECF6",
              "width": 0.5
             },
             "pattern": {
              "fillmode": "overlay",
              "size": 10,
              "solidity": 0.2
             }
            },
            "type": "barpolar"
           }
          ],
          "carpet": [
           {
            "aaxis": {
             "endlinecolor": "#2a3f5f",
             "gridcolor": "white",
             "linecolor": "white",
             "minorgridcolor": "white",
             "startlinecolor": "#2a3f5f"
            },
            "baxis": {
             "endlinecolor": "#2a3f5f",
             "gridcolor": "white",
             "linecolor": "white",
             "minorgridcolor": "white",
             "startlinecolor": "#2a3f5f"
            },
            "type": "carpet"
           }
          ],
          "choropleth": [
           {
            "colorbar": {
             "outlinewidth": 0,
             "ticks": ""
            },
            "type": "choropleth"
           }
          ],
          "contour": [
           {
            "colorbar": {
             "outlinewidth": 0,
             "ticks": ""
            },
            "colorscale": [
             [
              0,
              "#0d0887"
             ],
             [
              0.1111111111111111,
              "#46039f"
             ],
             [
              0.2222222222222222,
              "#7201a8"
             ],
             [
              0.3333333333333333,
              "#9c179e"
             ],
             [
              0.4444444444444444,
              "#bd3786"
             ],
             [
              0.5555555555555556,
              "#d8576b"
             ],
             [
              0.6666666666666666,
              "#ed7953"
             ],
             [
              0.7777777777777778,
              "#fb9f3a"
             ],
             [
              0.8888888888888888,
              "#fdca26"
             ],
             [
              1,
              "#f0f921"
             ]
            ],
            "type": "contour"
           }
          ],
          "contourcarpet": [
           {
            "colorbar": {
             "outlinewidth": 0,
             "ticks": ""
            },
            "type": "contourcarpet"
           }
          ],
          "heatmap": [
           {
            "colorbar": {
             "outlinewidth": 0,
             "ticks": ""
            },
            "colorscale": [
             [
              0,
              "#0d0887"
             ],
             [
              0.1111111111111111,
              "#46039f"
             ],
             [
              0.2222222222222222,
              "#7201a8"
             ],
             [
              0.3333333333333333,
              "#9c179e"
             ],
             [
              0.4444444444444444,
              "#bd3786"
             ],
             [
              0.5555555555555556,
              "#d8576b"
             ],
             [
              0.6666666666666666,
              "#ed7953"
             ],
             [
              0.7777777777777778,
              "#fb9f3a"
             ],
             [
              0.8888888888888888,
              "#fdca26"
             ],
             [
              1,
              "#f0f921"
             ]
            ],
            "type": "heatmap"
           }
          ],
          "heatmapgl": [
           {
            "colorbar": {
             "outlinewidth": 0,
             "ticks": ""
            },
            "colorscale": [
             [
              0,
              "#0d0887"
             ],
             [
              0.1111111111111111,
              "#46039f"
             ],
             [
              0.2222222222222222,
              "#7201a8"
             ],
             [
              0.3333333333333333,
              "#9c179e"
             ],
             [
              0.4444444444444444,
              "#bd3786"
             ],
             [
              0.5555555555555556,
              "#d8576b"
             ],
             [
              0.6666666666666666,
              "#ed7953"
             ],
             [
              0.7777777777777778,
              "#fb9f3a"
             ],
             [
              0.8888888888888888,
              "#fdca26"
             ],
             [
              1,
              "#f0f921"
             ]
            ],
            "type": "heatmapgl"
           }
          ],
          "histogram": [
           {
            "marker": {
             "pattern": {
              "fillmode": "overlay",
              "size": 10,
              "solidity": 0.2
             }
            },
            "type": "histogram"
           }
          ],
          "histogram2d": [
           {
            "colorbar": {
             "outlinewidth": 0,
             "ticks": ""
            },
            "colorscale": [
             [
              0,
              "#0d0887"
             ],
             [
              0.1111111111111111,
              "#46039f"
             ],
             [
              0.2222222222222222,
              "#7201a8"
             ],
             [
              0.3333333333333333,
              "#9c179e"
             ],
             [
              0.4444444444444444,
              "#bd3786"
             ],
             [
              0.5555555555555556,
              "#d8576b"
             ],
             [
              0.6666666666666666,
              "#ed7953"
             ],
             [
              0.7777777777777778,
              "#fb9f3a"
             ],
             [
              0.8888888888888888,
              "#fdca26"
             ],
             [
              1,
              "#f0f921"
             ]
            ],
            "type": "histogram2d"
           }
          ],
          "histogram2dcontour": [
           {
            "colorbar": {
             "outlinewidth": 0,
             "ticks": ""
            },
            "colorscale": [
             [
              0,
              "#0d0887"
             ],
             [
              0.1111111111111111,
              "#46039f"
             ],
             [
              0.2222222222222222,
              "#7201a8"
             ],
             [
              0.3333333333333333,
              "#9c179e"
             ],
             [
              0.4444444444444444,
              "#bd3786"
             ],
             [
              0.5555555555555556,
              "#d8576b"
             ],
             [
              0.6666666666666666,
              "#ed7953"
             ],
             [
              0.7777777777777778,
              "#fb9f3a"
             ],
             [
              0.8888888888888888,
              "#fdca26"
             ],
             [
              1,
              "#f0f921"
             ]
            ],
            "type": "histogram2dcontour"
           }
          ],
          "mesh3d": [
           {
            "colorbar": {
             "outlinewidth": 0,
             "ticks": ""
            },
            "type": "mesh3d"
           }
          ],
          "parcoords": [
           {
            "line": {
             "colorbar": {
              "outlinewidth": 0,
              "ticks": ""
             }
            },
            "type": "parcoords"
           }
          ],
          "pie": [
           {
            "automargin": true,
            "type": "pie"
           }
          ],
          "scatter": [
           {
            "fillpattern": {
             "fillmode": "overlay",
             "size": 10,
             "solidity": 0.2
            },
            "type": "scatter"
           }
          ],
          "scatter3d": [
           {
            "line": {
             "colorbar": {
              "outlinewidth": 0,
              "ticks": ""
             }
            },
            "marker": {
             "colorbar": {
              "outlinewidth": 0,
              "ticks": ""
             }
            },
            "type": "scatter3d"
           }
          ],
          "scattercarpet": [
           {
            "marker": {
             "colorbar": {
              "outlinewidth": 0,
              "ticks": ""
             }
            },
            "type": "scattercarpet"
           }
          ],
          "scattergeo": [
           {
            "marker": {
             "colorbar": {
              "outlinewidth": 0,
              "ticks": ""
             }
            },
            "type": "scattergeo"
           }
          ],
          "scattergl": [
           {
            "marker": {
             "colorbar": {
              "outlinewidth": 0,
              "ticks": ""
             }
            },
            "type": "scattergl"
           }
          ],
          "scattermapbox": [
           {
            "marker": {
             "colorbar": {
              "outlinewidth": 0,
              "ticks": ""
             }
            },
            "type": "scattermapbox"
           }
          ],
          "scatterpolar": [
           {
            "marker": {
             "colorbar": {
              "outlinewidth": 0,
              "ticks": ""
             }
            },
            "type": "scatterpolar"
           }
          ],
          "scatterpolargl": [
           {
            "marker": {
             "colorbar": {
              "outlinewidth": 0,
              "ticks": ""
             }
            },
            "type": "scatterpolargl"
           }
          ],
          "scatterternary": [
           {
            "marker": {
             "colorbar": {
              "outlinewidth": 0,
              "ticks": ""
             }
            },
            "type": "scatterternary"
           }
          ],
          "surface": [
           {
            "colorbar": {
             "outlinewidth": 0,
             "ticks": ""
            },
            "colorscale": [
             [
              0,
              "#0d0887"
             ],
             [
              0.1111111111111111,
              "#46039f"
             ],
             [
              0.2222222222222222,
              "#7201a8"
             ],
             [
              0.3333333333333333,
              "#9c179e"
             ],
             [
              0.4444444444444444,
              "#bd3786"
             ],
             [
              0.5555555555555556,
              "#d8576b"
             ],
             [
              0.6666666666666666,
              "#ed7953"
             ],
             [
              0.7777777777777778,
              "#fb9f3a"
             ],
             [
              0.8888888888888888,
              "#fdca26"
             ],
             [
              1,
              "#f0f921"
             ]
            ],
            "type": "surface"
           }
          ],
          "table": [
           {
            "cells": {
             "fill": {
              "color": "#EBF0F8"
             },
             "line": {
              "color": "white"
             }
            },
            "header": {
             "fill": {
              "color": "#C8D4E3"
             },
             "line": {
              "color": "white"
             }
            },
            "type": "table"
           }
          ]
         },
         "layout": {
          "annotationdefaults": {
           "arrowcolor": "#2a3f5f",
           "arrowhead": 0,
           "arrowwidth": 1
          },
          "autotypenumbers": "strict",
          "coloraxis": {
           "colorbar": {
            "outlinewidth": 0,
            "ticks": ""
           }
          },
          "colorscale": {
           "diverging": [
            [
             0,
             "#8e0152"
            ],
            [
             0.1,
             "#c51b7d"
            ],
            [
             0.2,
             "#de77ae"
            ],
            [
             0.3,
             "#f1b6da"
            ],
            [
             0.4,
             "#fde0ef"
            ],
            [
             0.5,
             "#f7f7f7"
            ],
            [
             0.6,
             "#e6f5d0"
            ],
            [
             0.7,
             "#b8e186"
            ],
            [
             0.8,
             "#7fbc41"
            ],
            [
             0.9,
             "#4d9221"
            ],
            [
             1,
             "#276419"
            ]
           ],
           "sequential": [
            [
             0,
             "#0d0887"
            ],
            [
             0.1111111111111111,
             "#46039f"
            ],
            [
             0.2222222222222222,
             "#7201a8"
            ],
            [
             0.3333333333333333,
             "#9c179e"
            ],
            [
             0.4444444444444444,
             "#bd3786"
            ],
            [
             0.5555555555555556,
             "#d8576b"
            ],
            [
             0.6666666666666666,
             "#ed7953"
            ],
            [
             0.7777777777777778,
             "#fb9f3a"
            ],
            [
             0.8888888888888888,
             "#fdca26"
            ],
            [
             1,
             "#f0f921"
            ]
           ],
           "sequentialminus": [
            [
             0,
             "#0d0887"
            ],
            [
             0.1111111111111111,
             "#46039f"
            ],
            [
             0.2222222222222222,
             "#7201a8"
            ],
            [
             0.3333333333333333,
             "#9c179e"
            ],
            [
             0.4444444444444444,
             "#bd3786"
            ],
            [
             0.5555555555555556,
             "#d8576b"
            ],
            [
             0.6666666666666666,
             "#ed7953"
            ],
            [
             0.7777777777777778,
             "#fb9f3a"
            ],
            [
             0.8888888888888888,
             "#fdca26"
            ],
            [
             1,
             "#f0f921"
            ]
           ]
          },
          "colorway": [
           "#636efa",
           "#EF553B",
           "#00cc96",
           "#ab63fa",
           "#FFA15A",
           "#19d3f3",
           "#FF6692",
           "#B6E880",
           "#FF97FF",
           "#FECB52"
          ],
          "font": {
           "color": "#2a3f5f"
          },
          "geo": {
           "bgcolor": "white",
           "lakecolor": "white",
           "landcolor": "#E5ECF6",
           "showlakes": true,
           "showland": true,
           "subunitcolor": "white"
          },
          "hoverlabel": {
           "align": "left"
          },
          "hovermode": "closest",
          "mapbox": {
           "style": "light"
          },
          "paper_bgcolor": "white",
          "plot_bgcolor": "#E5ECF6",
          "polar": {
           "angularaxis": {
            "gridcolor": "white",
            "linecolor": "white",
            "ticks": ""
           },
           "bgcolor": "#E5ECF6",
           "radialaxis": {
            "gridcolor": "white",
            "linecolor": "white",
            "ticks": ""
           }
          },
          "scene": {
           "xaxis": {
            "backgroundcolor": "#E5ECF6",
            "gridcolor": "white",
            "gridwidth": 2,
            "linecolor": "white",
            "showbackground": true,
            "ticks": "",
            "zerolinecolor": "white"
           },
           "yaxis": {
            "backgroundcolor": "#E5ECF6",
            "gridcolor": "white",
            "gridwidth": 2,
            "linecolor": "white",
            "showbackground": true,
            "ticks": "",
            "zerolinecolor": "white"
           },
           "zaxis": {
            "backgroundcolor": "#E5ECF6",
            "gridcolor": "white",
            "gridwidth": 2,
            "linecolor": "white",
            "showbackground": true,
            "ticks": "",
            "zerolinecolor": "white"
           }
          },
          "shapedefaults": {
           "line": {
            "color": "#2a3f5f"
           }
          },
          "ternary": {
           "aaxis": {
            "gridcolor": "white",
            "linecolor": "white",
            "ticks": ""
           },
           "baxis": {
            "gridcolor": "white",
            "linecolor": "white",
            "ticks": ""
           },
           "bgcolor": "#E5ECF6",
           "caxis": {
            "gridcolor": "white",
            "linecolor": "white",
            "ticks": ""
           }
          },
          "title": {
           "x": 0.05
          },
          "xaxis": {
           "automargin": true,
           "gridcolor": "white",
           "linecolor": "white",
           "ticks": "",
           "title": {
            "standoff": 15
           },
           "zerolinecolor": "white",
           "zerolinewidth": 2
          },
          "yaxis": {
           "automargin": true,
           "gridcolor": "white",
           "linecolor": "white",
           "ticks": "",
           "title": {
            "standoff": 15
           },
           "zerolinecolor": "white",
           "zerolinewidth": 2
          }
         }
        },
        "width": 1000,
        "xaxis": {
         "anchor": "y",
         "constrain": "domain",
         "domain": [
          0,
          1
         ],
         "scaleanchor": "y"
        },
        "yaxis": {
         "anchor": "x",
         "autorange": "reversed",
         "constrain": "domain",
         "domain": [
          0,
          1
         ]
        }
       }
      }
     },
     "metadata": {},
     "output_type": "display_data"
    }
   ],
   "source": [
    "fig = px.imshow(corr_2016, text_auto=True,width=1000,height=750)\n",
    "fig.show()"
   ]
  },
  {
   "cell_type": "code",
   "execution_count": 105,
   "id": "85002fdb",
   "metadata": {},
   "outputs": [
    {
     "data": {
      "application/vnd.plotly.v1+json": {
       "config": {
        "plotlyServerURL": "https://plot.ly"
       },
       "data": [
        {
         "coloraxis": "coloraxis",
         "hovertemplate": "x: %{x}<br>y: %{y}<br>color: %{z}<extra></extra>",
         "name": "0",
         "texttemplate": "%{z}",
         "type": "heatmap",
         "x": [
          "Happiness Rank",
          "Happiness Score",
          "Economy (GDP per Capita)",
          "Family",
          "Health (Life Expectancy)",
          "Freedom",
          "Trust (Government Corruption)",
          "Generosity",
          "Dystopia Residual"
         ],
         "xaxis": "x",
         "y": [
          "Happiness Rank",
          "Happiness Score",
          "Economy (GDP per Capita)",
          "Family",
          "Health (Life Expectancy)",
          "Freedom",
          "Trust (Government Corruption)",
          "Generosity",
          "Dystopia Residual"
         ],
         "yaxis": "y",
         "z": [
          [
           1,
           -0.9921053148284925,
           -0.7852669153290183,
           -0.7336435317250529,
           -0.7356129584428032,
           -0.5568860883741894,
           -0.37231511689406366,
           -0.16014156750561243,
           -0.5219994726332529
          ],
          [
           -0.9921053148284925,
           1,
           0.7809655268660222,
           0.7406051972367849,
           0.7241995951050696,
           0.5682109041925183,
           0.39519858383691153,
           0.180318526697175,
           0.5304735177821582
          ],
          [
           -0.7852669153290183,
           0.7809655268660222,
           1,
           0.6452993885728928,
           0.816478003085699,
           0.37029970741095497,
           0.30788519824425464,
           -0.010465436736590526,
           0.04005876007678249
          ],
          [
           -0.7336435317250529,
           0.7406051972367849,
           0.6452993885728928,
           1,
           0.5311039876885534,
           0.4415182106228609,
           0.20560511187180427,
           0.08751323770262173,
           0.14811703931607959
          ],
          [
           -0.7356129584428032,
           0.7241995951050696,
           0.816478003085699,
           0.5311039876885534,
           1,
           0.36047652802960584,
           0.2483346842002369,
           0.10833521806364571,
           0.018979320254763253
          ],
          [
           -0.5568860883741894,
           0.5682109041925183,
           0.37029970741095497,
           0.4415182106228609,
           0.36047652802960584,
           1,
           0.49352351748290546,
           0.37391612557440596,
           0.0627834412074724
          ],
          [
           -0.37231511689406366,
           0.39519858383691153,
           0.30788519824425464,
           0.20560511187180427,
           0.2483346842002369,
           0.49352351748290546,
           1,
           0.27612270223810587,
           -0.03310456840262352
          ],
          [
           -0.16014156750561243,
           0.180318526697175,
           -0.010465436736590526,
           0.08751323770262173,
           0.10833521806364571,
           0.37391612557440596,
           0.27612270223810587,
           1,
           -0.10130111246108786
          ],
          [
           -0.5219994726332529,
           0.5304735177821582,
           0.04005876007678249,
           0.14811703931607959,
           0.018979320254763253,
           0.0627834412074724,
           -0.03310456840262352,
           -0.10130111246108786,
           1
          ]
         ]
        }
       ],
       "layout": {
        "coloraxis": {
         "colorscale": [
          [
           0,
           "#0d0887"
          ],
          [
           0.1111111111111111,
           "#46039f"
          ],
          [
           0.2222222222222222,
           "#7201a8"
          ],
          [
           0.3333333333333333,
           "#9c179e"
          ],
          [
           0.4444444444444444,
           "#bd3786"
          ],
          [
           0.5555555555555556,
           "#d8576b"
          ],
          [
           0.6666666666666666,
           "#ed7953"
          ],
          [
           0.7777777777777778,
           "#fb9f3a"
          ],
          [
           0.8888888888888888,
           "#fdca26"
          ],
          [
           1,
           "#f0f921"
          ]
         ]
        },
        "height": 750,
        "margin": {
         "t": 60
        },
        "template": {
         "data": {
          "bar": [
           {
            "error_x": {
             "color": "#2a3f5f"
            },
            "error_y": {
             "color": "#2a3f5f"
            },
            "marker": {
             "line": {
              "color": "#E5ECF6",
              "width": 0.5
             },
             "pattern": {
              "fillmode": "overlay",
              "size": 10,
              "solidity": 0.2
             }
            },
            "type": "bar"
           }
          ],
          "barpolar": [
           {
            "marker": {
             "line": {
              "color": "#E5ECF6",
              "width": 0.5
             },
             "pattern": {
              "fillmode": "overlay",
              "size": 10,
              "solidity": 0.2
             }
            },
            "type": "barpolar"
           }
          ],
          "carpet": [
           {
            "aaxis": {
             "endlinecolor": "#2a3f5f",
             "gridcolor": "white",
             "linecolor": "white",
             "minorgridcolor": "white",
             "startlinecolor": "#2a3f5f"
            },
            "baxis": {
             "endlinecolor": "#2a3f5f",
             "gridcolor": "white",
             "linecolor": "white",
             "minorgridcolor": "white",
             "startlinecolor": "#2a3f5f"
            },
            "type": "carpet"
           }
          ],
          "choropleth": [
           {
            "colorbar": {
             "outlinewidth": 0,
             "ticks": ""
            },
            "type": "choropleth"
           }
          ],
          "contour": [
           {
            "colorbar": {
             "outlinewidth": 0,
             "ticks": ""
            },
            "colorscale": [
             [
              0,
              "#0d0887"
             ],
             [
              0.1111111111111111,
              "#46039f"
             ],
             [
              0.2222222222222222,
              "#7201a8"
             ],
             [
              0.3333333333333333,
              "#9c179e"
             ],
             [
              0.4444444444444444,
              "#bd3786"
             ],
             [
              0.5555555555555556,
              "#d8576b"
             ],
             [
              0.6666666666666666,
              "#ed7953"
             ],
             [
              0.7777777777777778,
              "#fb9f3a"
             ],
             [
              0.8888888888888888,
              "#fdca26"
             ],
             [
              1,
              "#f0f921"
             ]
            ],
            "type": "contour"
           }
          ],
          "contourcarpet": [
           {
            "colorbar": {
             "outlinewidth": 0,
             "ticks": ""
            },
            "type": "contourcarpet"
           }
          ],
          "heatmap": [
           {
            "colorbar": {
             "outlinewidth": 0,
             "ticks": ""
            },
            "colorscale": [
             [
              0,
              "#0d0887"
             ],
             [
              0.1111111111111111,
              "#46039f"
             ],
             [
              0.2222222222222222,
              "#7201a8"
             ],
             [
              0.3333333333333333,
              "#9c179e"
             ],
             [
              0.4444444444444444,
              "#bd3786"
             ],
             [
              0.5555555555555556,
              "#d8576b"
             ],
             [
              0.6666666666666666,
              "#ed7953"
             ],
             [
              0.7777777777777778,
              "#fb9f3a"
             ],
             [
              0.8888888888888888,
              "#fdca26"
             ],
             [
              1,
              "#f0f921"
             ]
            ],
            "type": "heatmap"
           }
          ],
          "heatmapgl": [
           {
            "colorbar": {
             "outlinewidth": 0,
             "ticks": ""
            },
            "colorscale": [
             [
              0,
              "#0d0887"
             ],
             [
              0.1111111111111111,
              "#46039f"
             ],
             [
              0.2222222222222222,
              "#7201a8"
             ],
             [
              0.3333333333333333,
              "#9c179e"
             ],
             [
              0.4444444444444444,
              "#bd3786"
             ],
             [
              0.5555555555555556,
              "#d8576b"
             ],
             [
              0.6666666666666666,
              "#ed7953"
             ],
             [
              0.7777777777777778,
              "#fb9f3a"
             ],
             [
              0.8888888888888888,
              "#fdca26"
             ],
             [
              1,
              "#f0f921"
             ]
            ],
            "type": "heatmapgl"
           }
          ],
          "histogram": [
           {
            "marker": {
             "pattern": {
              "fillmode": "overlay",
              "size": 10,
              "solidity": 0.2
             }
            },
            "type": "histogram"
           }
          ],
          "histogram2d": [
           {
            "colorbar": {
             "outlinewidth": 0,
             "ticks": ""
            },
            "colorscale": [
             [
              0,
              "#0d0887"
             ],
             [
              0.1111111111111111,
              "#46039f"
             ],
             [
              0.2222222222222222,
              "#7201a8"
             ],
             [
              0.3333333333333333,
              "#9c179e"
             ],
             [
              0.4444444444444444,
              "#bd3786"
             ],
             [
              0.5555555555555556,
              "#d8576b"
             ],
             [
              0.6666666666666666,
              "#ed7953"
             ],
             [
              0.7777777777777778,
              "#fb9f3a"
             ],
             [
              0.8888888888888888,
              "#fdca26"
             ],
             [
              1,
              "#f0f921"
             ]
            ],
            "type": "histogram2d"
           }
          ],
          "histogram2dcontour": [
           {
            "colorbar": {
             "outlinewidth": 0,
             "ticks": ""
            },
            "colorscale": [
             [
              0,
              "#0d0887"
             ],
             [
              0.1111111111111111,
              "#46039f"
             ],
             [
              0.2222222222222222,
              "#7201a8"
             ],
             [
              0.3333333333333333,
              "#9c179e"
             ],
             [
              0.4444444444444444,
              "#bd3786"
             ],
             [
              0.5555555555555556,
              "#d8576b"
             ],
             [
              0.6666666666666666,
              "#ed7953"
             ],
             [
              0.7777777777777778,
              "#fb9f3a"
             ],
             [
              0.8888888888888888,
              "#fdca26"
             ],
             [
              1,
              "#f0f921"
             ]
            ],
            "type": "histogram2dcontour"
           }
          ],
          "mesh3d": [
           {
            "colorbar": {
             "outlinewidth": 0,
             "ticks": ""
            },
            "type": "mesh3d"
           }
          ],
          "parcoords": [
           {
            "line": {
             "colorbar": {
              "outlinewidth": 0,
              "ticks": ""
             }
            },
            "type": "parcoords"
           }
          ],
          "pie": [
           {
            "automargin": true,
            "type": "pie"
           }
          ],
          "scatter": [
           {
            "fillpattern": {
             "fillmode": "overlay",
             "size": 10,
             "solidity": 0.2
            },
            "type": "scatter"
           }
          ],
          "scatter3d": [
           {
            "line": {
             "colorbar": {
              "outlinewidth": 0,
              "ticks": ""
             }
            },
            "marker": {
             "colorbar": {
              "outlinewidth": 0,
              "ticks": ""
             }
            },
            "type": "scatter3d"
           }
          ],
          "scattercarpet": [
           {
            "marker": {
             "colorbar": {
              "outlinewidth": 0,
              "ticks": ""
             }
            },
            "type": "scattercarpet"
           }
          ],
          "scattergeo": [
           {
            "marker": {
             "colorbar": {
              "outlinewidth": 0,
              "ticks": ""
             }
            },
            "type": "scattergeo"
           }
          ],
          "scattergl": [
           {
            "marker": {
             "colorbar": {
              "outlinewidth": 0,
              "ticks": ""
             }
            },
            "type": "scattergl"
           }
          ],
          "scattermapbox": [
           {
            "marker": {
             "colorbar": {
              "outlinewidth": 0,
              "ticks": ""
             }
            },
            "type": "scattermapbox"
           }
          ],
          "scatterpolar": [
           {
            "marker": {
             "colorbar": {
              "outlinewidth": 0,
              "ticks": ""
             }
            },
            "type": "scatterpolar"
           }
          ],
          "scatterpolargl": [
           {
            "marker": {
             "colorbar": {
              "outlinewidth": 0,
              "ticks": ""
             }
            },
            "type": "scatterpolargl"
           }
          ],
          "scatterternary": [
           {
            "marker": {
             "colorbar": {
              "outlinewidth": 0,
              "ticks": ""
             }
            },
            "type": "scatterternary"
           }
          ],
          "surface": [
           {
            "colorbar": {
             "outlinewidth": 0,
             "ticks": ""
            },
            "colorscale": [
             [
              0,
              "#0d0887"
             ],
             [
              0.1111111111111111,
              "#46039f"
             ],
             [
              0.2222222222222222,
              "#7201a8"
             ],
             [
              0.3333333333333333,
              "#9c179e"
             ],
             [
              0.4444444444444444,
              "#bd3786"
             ],
             [
              0.5555555555555556,
              "#d8576b"
             ],
             [
              0.6666666666666666,
              "#ed7953"
             ],
             [
              0.7777777777777778,
              "#fb9f3a"
             ],
             [
              0.8888888888888888,
              "#fdca26"
             ],
             [
              1,
              "#f0f921"
             ]
            ],
            "type": "surface"
           }
          ],
          "table": [
           {
            "cells": {
             "fill": {
              "color": "#EBF0F8"
             },
             "line": {
              "color": "white"
             }
            },
            "header": {
             "fill": {
              "color": "#C8D4E3"
             },
             "line": {
              "color": "white"
             }
            },
            "type": "table"
           }
          ]
         },
         "layout": {
          "annotationdefaults": {
           "arrowcolor": "#2a3f5f",
           "arrowhead": 0,
           "arrowwidth": 1
          },
          "autotypenumbers": "strict",
          "coloraxis": {
           "colorbar": {
            "outlinewidth": 0,
            "ticks": ""
           }
          },
          "colorscale": {
           "diverging": [
            [
             0,
             "#8e0152"
            ],
            [
             0.1,
             "#c51b7d"
            ],
            [
             0.2,
             "#de77ae"
            ],
            [
             0.3,
             "#f1b6da"
            ],
            [
             0.4,
             "#fde0ef"
            ],
            [
             0.5,
             "#f7f7f7"
            ],
            [
             0.6,
             "#e6f5d0"
            ],
            [
             0.7,
             "#b8e186"
            ],
            [
             0.8,
             "#7fbc41"
            ],
            [
             0.9,
             "#4d9221"
            ],
            [
             1,
             "#276419"
            ]
           ],
           "sequential": [
            [
             0,
             "#0d0887"
            ],
            [
             0.1111111111111111,
             "#46039f"
            ],
            [
             0.2222222222222222,
             "#7201a8"
            ],
            [
             0.3333333333333333,
             "#9c179e"
            ],
            [
             0.4444444444444444,
             "#bd3786"
            ],
            [
             0.5555555555555556,
             "#d8576b"
            ],
            [
             0.6666666666666666,
             "#ed7953"
            ],
            [
             0.7777777777777778,
             "#fb9f3a"
            ],
            [
             0.8888888888888888,
             "#fdca26"
            ],
            [
             1,
             "#f0f921"
            ]
           ],
           "sequentialminus": [
            [
             0,
             "#0d0887"
            ],
            [
             0.1111111111111111,
             "#46039f"
            ],
            [
             0.2222222222222222,
             "#7201a8"
            ],
            [
             0.3333333333333333,
             "#9c179e"
            ],
            [
             0.4444444444444444,
             "#bd3786"
            ],
            [
             0.5555555555555556,
             "#d8576b"
            ],
            [
             0.6666666666666666,
             "#ed7953"
            ],
            [
             0.7777777777777778,
             "#fb9f3a"
            ],
            [
             0.8888888888888888,
             "#fdca26"
            ],
            [
             1,
             "#f0f921"
            ]
           ]
          },
          "colorway": [
           "#636efa",
           "#EF553B",
           "#00cc96",
           "#ab63fa",
           "#FFA15A",
           "#19d3f3",
           "#FF6692",
           "#B6E880",
           "#FF97FF",
           "#FECB52"
          ],
          "font": {
           "color": "#2a3f5f"
          },
          "geo": {
           "bgcolor": "white",
           "lakecolor": "white",
           "landcolor": "#E5ECF6",
           "showlakes": true,
           "showland": true,
           "subunitcolor": "white"
          },
          "hoverlabel": {
           "align": "left"
          },
          "hovermode": "closest",
          "mapbox": {
           "style": "light"
          },
          "paper_bgcolor": "white",
          "plot_bgcolor": "#E5ECF6",
          "polar": {
           "angularaxis": {
            "gridcolor": "white",
            "linecolor": "white",
            "ticks": ""
           },
           "bgcolor": "#E5ECF6",
           "radialaxis": {
            "gridcolor": "white",
            "linecolor": "white",
            "ticks": ""
           }
          },
          "scene": {
           "xaxis": {
            "backgroundcolor": "#E5ECF6",
            "gridcolor": "white",
            "gridwidth": 2,
            "linecolor": "white",
            "showbackground": true,
            "ticks": "",
            "zerolinecolor": "white"
           },
           "yaxis": {
            "backgroundcolor": "#E5ECF6",
            "gridcolor": "white",
            "gridwidth": 2,
            "linecolor": "white",
            "showbackground": true,
            "ticks": "",
            "zerolinecolor": "white"
           },
           "zaxis": {
            "backgroundcolor": "#E5ECF6",
            "gridcolor": "white",
            "gridwidth": 2,
            "linecolor": "white",
            "showbackground": true,
            "ticks": "",
            "zerolinecolor": "white"
           }
          },
          "shapedefaults": {
           "line": {
            "color": "#2a3f5f"
           }
          },
          "ternary": {
           "aaxis": {
            "gridcolor": "white",
            "linecolor": "white",
            "ticks": ""
           },
           "baxis": {
            "gridcolor": "white",
            "linecolor": "white",
            "ticks": ""
           },
           "bgcolor": "#E5ECF6",
           "caxis": {
            "gridcolor": "white",
            "linecolor": "white",
            "ticks": ""
           }
          },
          "title": {
           "x": 0.05
          },
          "xaxis": {
           "automargin": true,
           "gridcolor": "white",
           "linecolor": "white",
           "ticks": "",
           "title": {
            "standoff": 15
           },
           "zerolinecolor": "white",
           "zerolinewidth": 2
          },
          "yaxis": {
           "automargin": true,
           "gridcolor": "white",
           "linecolor": "white",
           "ticks": "",
           "title": {
            "standoff": 15
           },
           "zerolinecolor": "white",
           "zerolinewidth": 2
          }
         }
        },
        "width": 1000,
        "xaxis": {
         "anchor": "y",
         "constrain": "domain",
         "domain": [
          0,
          1
         ],
         "scaleanchor": "y"
        },
        "yaxis": {
         "anchor": "x",
         "autorange": "reversed",
         "constrain": "domain",
         "domain": [
          0,
          1
         ]
        }
       }
      }
     },
     "metadata": {},
     "output_type": "display_data"
    }
   ],
   "source": [
    "fig = px.imshow(corr_2015, text_auto=True,width=1000,height=750)\n",
    "fig.show()"
   ]
  }
 ],
 "metadata": {
  "kernelspec": {
   "display_name": "Python 3",
   "language": "python",
   "name": "python3"
  },
  "language_info": {
   "codemirror_mode": {
    "name": "ipython",
    "version": 3
   },
   "file_extension": ".py",
   "mimetype": "text/x-python",
   "name": "python",
   "nbconvert_exporter": "python",
   "pygments_lexer": "ipython3",
   "version": "3.12.0"
  }
 },
 "nbformat": 4,
 "nbformat_minor": 5
}
